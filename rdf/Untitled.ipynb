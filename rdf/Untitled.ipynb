{
 "cells": [
  {
   "cell_type": "code",
   "execution_count": 17,
   "id": "6130f2f2-ae8f-4092-8258-81c1082e86a5",
   "metadata": {},
   "outputs": [],
   "source": [
    "import pandas as pd\n",
    "from datetime import datetime\n",
    "import warnings\n",
    "warnings.filterwarnings('ignore')"
   ]
  },
  {
   "cell_type": "markdown",
   "id": "6c050b64-7325-488b-adea-858e3dbb524f",
   "metadata": {},
   "source": [
    "# Generate State file with Vaccination "
   ]
  },
  {
   "cell_type": "code",
   "execution_count": 2,
   "id": "67f5851d-4728-4be7-934b-5a9b5b556539",
   "metadata": {},
   "outputs": [],
   "source": [
    "df_state = pd.read_csv(\"/home/swiadmin/test/csv/latest/states.csv\")\n",
    "\n",
    "df_state[\"Date\"] = pd.to_datetime(df_state[\"Date\"])\n",
    "\n",
    "df_state_vacc = pd.read_csv(\"/home/swiadmin/test/csv/latest/cowin_vaccine_data_statewise.csv\")\n",
    "\n",
    "cols = ['Updated On','State','Total Doses Administered',\n",
    "        'First Dose Administered','Second Dose Administered']\n",
    "\n",
    "df_state_vacc = df_state_vacc[cols]\n",
    "\n",
    "df_state_vacc['Updated On'] = df_state_vacc['Updated On'].apply(lambda _: datetime.strptime(_,\"%d/%m/%Y\"))\n",
    "\n",
    "df_state_vacc = df_state_vacc.merge(df_state,how=\"right\",left_on=[\"Updated On\",\"State\"],right_on=[\"Date\",\"State\"])\n",
    "\n",
    "df_state_vacc[\"Vaccination3\"] = df_state_vacc[\"Total Doses Administered\"] - df_state_vacc[\"First Dose Administered\"] - df_state_vacc[\"Second Dose Administered\"]\n",
    "\n",
    "df_state_vacc = df_state_vacc.drop(['Updated On','Total Doses Administered'],axis=1)\n",
    "\n",
    "df_state_vacc = df_state_vacc.rename(columns = {\"First Dose Administered\":\"Vaccination1\",\"Second Dose Administered\":\"Vaccination2\"})\n",
    "\n",
    "df_state_vacc.to_csv(\"states_vacc.csv\")"
   ]
  },
  {
   "cell_type": "markdown",
   "id": "69f8fcb8-3aa1-446e-b508-64b81155f7cc",
   "metadata": {},
   "source": [
    "# Generate District file with vaccination"
   ]
  },
  {
   "cell_type": "code",
   "execution_count": 65,
   "id": "8fcf792d-de16-4a1e-8095-a9c42318ca19",
   "metadata": {},
   "outputs": [],
   "source": [
    "import sys\n",
    "sys.path.insert(0, '../src')\n",
    "from util import GetFileStatus,date_range"
   ]
  },
  {
   "cell_type": "code",
   "execution_count": 66,
   "id": "a6cd817b-3711-4942-ac80-6f9809762d51",
   "metadata": {},
   "outputs": [],
   "source": [
    "df_districts = pd.read_csv(\"/home/swiadmin/test/csv/latest/districts.csv\")"
   ]
  },
  {
   "cell_type": "code",
   "execution_count": 67,
   "id": "95c2670d-ec40-4918-befb-0c742becee88",
   "metadata": {},
   "outputs": [
    {
     "data": {
      "text/plain": [
       "Index(['Date', 'State', 'District', 'Confirmed', 'Recovered', 'Deceased',\n",
       "       'Other', 'Tested'],\n",
       "      dtype='object')"
      ]
     },
     "execution_count": 67,
     "metadata": {},
     "output_type": "execute_result"
    }
   ],
   "source": [
    "df_districts.columns"
   ]
  },
  {
   "cell_type": "code",
   "execution_count": 68,
   "id": "e031c8de-fc1c-45eb-a6c8-6997d7d1595e",
   "metadata": {},
   "outputs": [],
   "source": [
    "df_district_vacc = pd.read_csv(\"/home/swiadmin/test/csv/latest/cowin_vaccine_data_districtwise.csv\",header=[0,1])"
   ]
  },
  {
   "cell_type": "code",
   "execution_count": 73,
   "id": "cd40e288-fdfa-4d81-88c7-eba4d6f09f9a",
   "metadata": {},
   "outputs": [],
   "source": [
    "dateList = date_range(\"2021-11-02\",True)"
   ]
  },
  {
   "cell_type": "code",
   "execution_count": 75,
   "id": "b4feb323-7028-4daf-bde6-20d04ab9f942",
   "metadata": {},
   "outputs": [],
   "source": [
    "for date in dateList:\n",
    "    df_temp = df_district_vacc[date.date().strftime(\"%d/%m/%Y\")].merge(df_district_vacc[\"District\"],left_index=True,right_index=True)\n",
    "    # df_temp = df_temp.rename(columns={\" \",\"District\"})\n",
    "    df_district_vacc[\"District\"]\n",
    "    df_temp.rename(columns={' ':\"District\"})"
   ]
  },
  {
   "cell_type": "code",
   "execution_count": null,
   "id": "f79d6536-bae3-4ba1-9723-a857024ef1c3",
   "metadata": {},
   "outputs": [],
   "source": [
    "df_district_vacc.stack()"
   ]
  },
  {
   "cell_type": "code",
   "execution_count": null,
   "id": "917adfab-12bc-44eb-94e1-c53d8ca8cc2c",
   "metadata": {},
   "outputs": [],
   "source": []
  }
 ],
 "metadata": {
  "kernelspec": {
   "display_name": "Python 3",
   "language": "python",
   "name": "python3"
  },
  "language_info": {
   "codemirror_mode": {
    "name": "ipython",
    "version": 3
   },
   "file_extension": ".py",
   "mimetype": "text/x-python",
   "name": "python",
   "nbconvert_exporter": "python",
   "pygments_lexer": "ipython3",
   "version": "3.6.9"
  }
 },
 "nbformat": 4,
 "nbformat_minor": 5
}
