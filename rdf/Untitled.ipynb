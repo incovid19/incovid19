{
 "cells": [
  {
   "cell_type": "code",
   "execution_count": 1,
   "id": "61086075-2347-4735-bcd3-949bcbf9e0e7",
   "metadata": {},
   "outputs": [],
   "source": [
    "import pandas as pd\n",
    "from tqdm import tqdm\n",
    "from datetime import datetime,timedelta\n",
    "import inflect\n",
    "from tqdm import tqdm"
   ]
  },
  {
   "cell_type": "code",
   "execution_count": 2,
   "id": "f9471ca9-9bd9-4699-82ab-3b929de392bc",
   "metadata": {},
   "outputs": [],
   "source": [
    "def date_range(start, end):\n",
    "    r = (end+timedelta(days=1)-start).days\n",
    "    return [start+timedelta(days=i) for i in range(r)]"
   ]
  },
  {
   "cell_type": "code",
   "execution_count": 3,
   "id": "cd06d3da-25a8-45ba-b896-c1cca35bfc85",
   "metadata": {},
   "outputs": [],
   "source": [
    "start_date = \"2021-11-01\"\n",
    "end_date = \"2022-02-21\"\n",
    "end = datetime.strptime(end_date, '%Y-%m-%d')\n",
    "start = datetime.strptime(start_date, '%Y-%m-%d')\n",
    "dateList = date_range(start, end)"
   ]
  },
  {
   "cell_type": "code",
   "execution_count": 4,
   "id": "34b24cf9-7559-4c5c-8163-ab9ff499492a",
   "metadata": {},
   "outputs": [],
   "source": [
    "sources = pd.read_csv(\"sources.csv\")"
   ]
  },
  {
   "cell_type": "code",
   "execution_count": 5,
   "id": "267e6931-fb72-440c-a0d2-f1bc662cd4e5",
   "metadata": {},
   "outputs": [],
   "source": [
    "sources['Parameters'] = sources.Parameters.apply(lambda x: x[1:-1].split(','))"
   ]
  },
  {
   "cell_type": "code",
   "execution_count": 6,
   "id": "397ad7ff-a905-4447-a7bd-9e97fede53ab",
   "metadata": {},
   "outputs": [],
   "source": [
    "# sources.head()"
   ]
  },
  {
   "cell_type": "code",
   "execution_count": 7,
   "id": "b2ada9e0-179b-492b-a82a-28665516cf67",
   "metadata": {},
   "outputs": [],
   "source": [
    "Date = []\n",
    "State = []\n",
    "Parameter = []\n",
    "Source = []\n",
    "ArtifactURI = []\n",
    "ExtractTime = []\n",
    "ArtifactFileFormat = []\n",
    "# params = [\"Confirmed\",\"Recovered\",\"Deceased\",\"Others/Migrated\",\"Tested\",\"Vaccination1\",\"Vaccination2\",\"Vaccination3\"]"
   ]
  },
  {
   "cell_type": "code",
   "execution_count": 8,
   "id": "d6047f31-c8b0-4c30-a962-20e4aa216284",
   "metadata": {},
   "outputs": [],
   "source": [
    "fs = pd.read_csv(\"fileStatus.csv\")"
   ]
  },
  {
   "cell_type": "code",
   "execution_count": 9,
   "id": "5ba4d4e5-e0c0-4217-ae79-d2fbdc981550",
   "metadata": {},
   "outputs": [],
   "source": [
    "# fs[(fs[\"Date\"] == \"2021-11-01\") & (fs[\"State\"] == \"TT\")][\"myGovFlag\"].item()"
   ]
  },
  {
   "cell_type": "code",
   "execution_count": 10,
   "id": "5515ad7a-b0e3-4c2a-83ed-0038e0302aa8",
   "metadata": {},
   "outputs": [
    {
     "name": "stderr",
     "output_type": "stream",
     "text": [
      "100%|██████████| 113/113 [02:50<00:00,  1.51s/it]\n"
     ]
    }
   ],
   "source": [
    "for date in tqdm(dateList):\n",
    "    for idx in sources.index:\n",
    "        p = inflect.engine()\n",
    "        for parameter in sources[\"Parameters\"][idx]:\n",
    "            Date.append(str(date.date()))\n",
    "            State.append(sources[\"StateName\"][idx])\n",
    "            Parameter.append(parameter)\n",
    "            if sources[\"StateDataSourceType\"][idx] == \"Image(Twitter)\":\n",
    "                ArtifactURI.append(\"https://github.com/incovid19/INPUT/\"+str(date.date())+\"/\"+sources[\"StateCode\"][idx]+\".jpeg\")\n",
    "            else:\n",
    "                ArtifactURI.append(\"https://github.com/incovid19/INPUT/\"+str(date.date())+\"/\"+sources[\"StateCode\"][idx]+\".\"+sources[\"StateDataSourceType\"][idx])\n",
    "            if parameter in [\"Confirmed\",\"Recovered\",\"Deceased\",\"Others/Migrated\",\"Tested\"]:\n",
    "                try:\n",
    "                    if fs[(fs[\"Date\"] == str(date.date())) & (fs[\"State\"] == sources[\"StateCode\"][idx])][\"myGovFlag\"].item() == \"No\":\n",
    "                        if sources[\"StateDataSourceType\"][idx] == \"pdf\":\n",
    "                            if sources[\"StateCode\"][idx] == \"PB\":\n",
    "                                Source.append('https://nhm.punjab.gov.in/advertisements/Media_Bulletin/Media%20Bulletin%20COVID-19%20' + date.strftime(\"%d-%m-%Y\") + '.pdf')\n",
    "                            elif sources[\"StateCode\"][idx] == \"ML\":\n",
    "                                Source.append('https://meghalaya.gov.in/sites/default/files/announcement/Daily_Covid_' + date.strftime(\"%d_%b_%Y.pdf\"))\n",
    "                            elif sources[\"StateCode\"][idx] == \"UT\":\n",
    "                                Source.append('https://health.uk.gov.in/files/' + date.strftime(\"%Y.%m.%d_Health_Bulletin.pdf\"))\n",
    "                            elif sources[\"StateCode\"][idx] == \"WB\":\n",
    "                                url = 'https://www.wbhealth.gov.in/uploaded_files/corona/WB_DHFW_Bulletin_' + p.ordinal(\n",
    "                                        date.day).upper() + '_' + date.strftime(\"%b\").upper() + '_REPORT_FINAL.pdf'\n",
    "                                Source.append(url)\n",
    "                            elif sources[\"StateCode\"][idx] == \"TN\":\n",
    "                                url = 'https://stopcorona.tn.gov.in/wp-content/uploads/2020/03/Media-Bulletin-' + date.strftime(\n",
    "                                        \"%d-%m-%y\") + '-COVID-19.pdf'\n",
    "                                Source.append(url)\n",
    "                            elif sources[\"StateCode\"][idx] == \"HR\":\n",
    "                                url = 'http://nhmharyana.gov.in/WriteReadData/userfiles/file/CoronaVirus/Daily%20Bulletin%20of%20COVID%2019%20as%20on%20' + date.strftime(\n",
    "                                        \"%d-%m-%Y\") + '.pdf'\n",
    "                                Source.append(url)\n",
    "                            else:\n",
    "                                Source.append(sources[\"StateDataURL\"][idx])\n",
    "                        else:\n",
    "                            Source.append(sources[\"StateDataURL\"][idx])\n",
    "                    else:\n",
    "                        Source.append(\"https://www.mygov.in/covid-19\")\n",
    "                except:\n",
    "                    Source.append(\"https://www.mygov.in/covid-19\")\n",
    "            else:\n",
    "                Source.append(\"https://api.cowin.gov.in/api/v1/reports/v2/getPublicReports\")\n",
    "            df = pd.read_csv(\"../RAWCSV/\"+str(date.date())+\"/\"+sources[\"StateCode\"][idx]+\"_final.csv\")\n",
    "            ExtractTime.append(df[\"last_updated\"][0])\n",
    "            ArtifactFileFormat.append(sources[\"StateDataSourceType\"][idx])"
   ]
  },
  {
   "cell_type": "code",
   "execution_count": 11,
   "id": "373fb843-2eec-414a-b610-3d81cc496783",
   "metadata": {},
   "outputs": [],
   "source": [
    "df_rdf = pd.DataFrame(list(zip(Date,State,Parameter,Source,ArtifactURI,ExtractTime,ArtifactFileFormat)))"
   ]
  },
  {
   "cell_type": "code",
   "execution_count": 12,
   "id": "b0a41477-8f01-4862-997e-e0259a56309f",
   "metadata": {},
   "outputs": [],
   "source": [
    "df_rdf = df_rdf.rename(columns={0:\"Date\",1:\"State\",2:\"Parameter\",3:\"Source\",4:\"ArtifactURI\",5:\"ExtractTime\",6:\"ArtifactFileFormat\"})"
   ]
  },
  {
   "cell_type": "code",
   "execution_count": 13,
   "id": "702be1cc-9062-4f49-84c7-10cf761db5b9",
   "metadata": {},
   "outputs": [],
   "source": [
    "df_rdf.to_csv(\"states_rdf.csv\",index=False)"
   ]
  },
  {
   "cell_type": "code",
   "execution_count": 14,
   "id": "1484faed-1600-471f-9d44-386c3332eed3",
   "metadata": {},
   "outputs": [],
   "source": [
    "df_dist = pd.read_csv(\"../StateDistricts.csv\")"
   ]
  },
  {
   "cell_type": "code",
   "execution_count": 15,
   "id": "2b7dcb97-e571-4f39-9e47-2c29dcd73f37",
   "metadata": {},
   "outputs": [
    {
     "data": {
      "text/html": [
       "<div>\n",
       "<style scoped>\n",
       "    .dataframe tbody tr th:only-of-type {\n",
       "        vertical-align: middle;\n",
       "    }\n",
       "\n",
       "    .dataframe tbody tr th {\n",
       "        vertical-align: top;\n",
       "    }\n",
       "\n",
       "    .dataframe thead th {\n",
       "        text-align: right;\n",
       "    }\n",
       "</style>\n",
       "<table border=\"1\" class=\"dataframe\">\n",
       "  <thead>\n",
       "    <tr style=\"text-align: right;\">\n",
       "      <th></th>\n",
       "      <th>State</th>\n",
       "      <th>District</th>\n",
       "    </tr>\n",
       "  </thead>\n",
       "  <tbody>\n",
       "    <tr>\n",
       "      <th>0</th>\n",
       "      <td>Andaman and Nicobar Islands</td>\n",
       "      <td>Nicobars</td>\n",
       "    </tr>\n",
       "    <tr>\n",
       "      <th>1</th>\n",
       "      <td>Andaman and Nicobar Islands</td>\n",
       "      <td>North and Middle Andaman</td>\n",
       "    </tr>\n",
       "    <tr>\n",
       "      <th>2</th>\n",
       "      <td>Andaman and Nicobar Islands</td>\n",
       "      <td>South Andaman</td>\n",
       "    </tr>\n",
       "    <tr>\n",
       "      <th>3</th>\n",
       "      <td>Andaman and Nicobar Islands</td>\n",
       "      <td>Unknown</td>\n",
       "    </tr>\n",
       "    <tr>\n",
       "      <th>4</th>\n",
       "      <td>Andhra Pradesh</td>\n",
       "      <td>Foreign Evacuees</td>\n",
       "    </tr>\n",
       "  </tbody>\n",
       "</table>\n",
       "</div>"
      ],
      "text/plain": [
       "                         State                  District\n",
       "0  Andaman and Nicobar Islands                  Nicobars\n",
       "1  Andaman and Nicobar Islands  North and Middle Andaman\n",
       "2  Andaman and Nicobar Islands             South Andaman\n",
       "3  Andaman and Nicobar Islands                   Unknown\n",
       "4               Andhra Pradesh          Foreign Evacuees"
      ]
     },
     "execution_count": 15,
     "metadata": {},
     "output_type": "execute_result"
    }
   ],
   "source": [
    "df_dist.head()"
   ]
  },
  {
   "cell_type": "code",
   "execution_count": 16,
   "id": "8b328f57-dcc1-4d5d-af37-0986f4399751",
   "metadata": {},
   "outputs": [
    {
     "data": {
      "text/html": [
       "<div>\n",
       "<style scoped>\n",
       "    .dataframe tbody tr th:only-of-type {\n",
       "        vertical-align: middle;\n",
       "    }\n",
       "\n",
       "    .dataframe tbody tr th {\n",
       "        vertical-align: top;\n",
       "    }\n",
       "\n",
       "    .dataframe thead th {\n",
       "        text-align: right;\n",
       "    }\n",
       "</style>\n",
       "<table border=\"1\" class=\"dataframe\">\n",
       "  <thead>\n",
       "    <tr style=\"text-align: right;\">\n",
       "      <th></th>\n",
       "      <th>Date</th>\n",
       "      <th>State</th>\n",
       "      <th>Parameter</th>\n",
       "      <th>Source</th>\n",
       "      <th>ArtifactURI</th>\n",
       "      <th>ExtractTime</th>\n",
       "      <th>ArtifactFileFormat</th>\n",
       "    </tr>\n",
       "  </thead>\n",
       "  <tbody>\n",
       "    <tr>\n",
       "      <th>0</th>\n",
       "      <td>2021-11-01</td>\n",
       "      <td>India</td>\n",
       "      <td>Confirmed</td>\n",
       "      <td>https://www.mygov.in/covid-19</td>\n",
       "      <td>https://github.com/incovid19/INPUT/2021-11-01/...</td>\n",
       "      <td>2021-11-12 19:36:55.656023</td>\n",
       "      <td>html</td>\n",
       "    </tr>\n",
       "    <tr>\n",
       "      <th>1</th>\n",
       "      <td>2021-11-01</td>\n",
       "      <td>India</td>\n",
       "      <td>Recovered</td>\n",
       "      <td>https://www.mygov.in/covid-19</td>\n",
       "      <td>https://github.com/incovid19/INPUT/2021-11-01/...</td>\n",
       "      <td>2021-11-12 19:36:55.656023</td>\n",
       "      <td>html</td>\n",
       "    </tr>\n",
       "    <tr>\n",
       "      <th>2</th>\n",
       "      <td>2021-11-01</td>\n",
       "      <td>India</td>\n",
       "      <td>Deceased</td>\n",
       "      <td>https://www.mygov.in/covid-19</td>\n",
       "      <td>https://github.com/incovid19/INPUT/2021-11-01/...</td>\n",
       "      <td>2021-11-12 19:36:55.656023</td>\n",
       "      <td>html</td>\n",
       "    </tr>\n",
       "    <tr>\n",
       "      <th>3</th>\n",
       "      <td>2021-11-01</td>\n",
       "      <td>India</td>\n",
       "      <td>Others/Migrated</td>\n",
       "      <td>https://www.mygov.in/covid-19</td>\n",
       "      <td>https://github.com/incovid19/INPUT/2021-11-01/...</td>\n",
       "      <td>2021-11-12 19:36:55.656023</td>\n",
       "      <td>html</td>\n",
       "    </tr>\n",
       "    <tr>\n",
       "      <th>4</th>\n",
       "      <td>2021-11-01</td>\n",
       "      <td>India</td>\n",
       "      <td>Tested</td>\n",
       "      <td>https://www.mygov.in/covid-19</td>\n",
       "      <td>https://github.com/incovid19/INPUT/2021-11-01/...</td>\n",
       "      <td>2021-11-12 19:36:55.656023</td>\n",
       "      <td>html</td>\n",
       "    </tr>\n",
       "    <tr>\n",
       "      <th>...</th>\n",
       "      <td>...</td>\n",
       "      <td>...</td>\n",
       "      <td>...</td>\n",
       "      <td>...</td>\n",
       "      <td>...</td>\n",
       "      <td>...</td>\n",
       "      <td>...</td>\n",
       "    </tr>\n",
       "    <tr>\n",
       "      <th>33443</th>\n",
       "      <td>2022-02-21</td>\n",
       "      <td>Puducherry</td>\n",
       "      <td>Others/Migrated</td>\n",
       "      <td>https://www.mygov.in/covid-19</td>\n",
       "      <td>https://github.com/incovid19/INPUT/2022-02-21/...</td>\n",
       "      <td>2022-02-21 22:56:17.013864</td>\n",
       "      <td>Image(Twitter)</td>\n",
       "    </tr>\n",
       "    <tr>\n",
       "      <th>33444</th>\n",
       "      <td>2022-02-21</td>\n",
       "      <td>Puducherry</td>\n",
       "      <td>Tested</td>\n",
       "      <td>https://www.mygov.in/covid-19</td>\n",
       "      <td>https://github.com/incovid19/INPUT/2022-02-21/...</td>\n",
       "      <td>2022-02-21 22:56:17.013864</td>\n",
       "      <td>Image(Twitter)</td>\n",
       "    </tr>\n",
       "    <tr>\n",
       "      <th>33445</th>\n",
       "      <td>2022-02-21</td>\n",
       "      <td>Puducherry</td>\n",
       "      <td>Vaccination1</td>\n",
       "      <td>https://api.cowin.gov.in/api/v1/reports/v2/get...</td>\n",
       "      <td>https://github.com/incovid19/INPUT/2022-02-21/...</td>\n",
       "      <td>2022-02-21 22:56:17.013864</td>\n",
       "      <td>Image(Twitter)</td>\n",
       "    </tr>\n",
       "    <tr>\n",
       "      <th>33446</th>\n",
       "      <td>2022-02-21</td>\n",
       "      <td>Puducherry</td>\n",
       "      <td>Vaccination2</td>\n",
       "      <td>https://api.cowin.gov.in/api/v1/reports/v2/get...</td>\n",
       "      <td>https://github.com/incovid19/INPUT/2022-02-21/...</td>\n",
       "      <td>2022-02-21 22:56:17.013864</td>\n",
       "      <td>Image(Twitter)</td>\n",
       "    </tr>\n",
       "    <tr>\n",
       "      <th>33447</th>\n",
       "      <td>2022-02-21</td>\n",
       "      <td>Puducherry</td>\n",
       "      <td>Vaccination3</td>\n",
       "      <td>https://api.cowin.gov.in/api/v1/reports/v2/get...</td>\n",
       "      <td>https://github.com/incovid19/INPUT/2022-02-21/...</td>\n",
       "      <td>2022-02-21 22:56:17.013864</td>\n",
       "      <td>Image(Twitter)</td>\n",
       "    </tr>\n",
       "  </tbody>\n",
       "</table>\n",
       "<p>33448 rows × 7 columns</p>\n",
       "</div>"
      ],
      "text/plain": [
       "             Date       State        Parameter  \\\n",
       "0      2021-11-01       India        Confirmed   \n",
       "1      2021-11-01       India        Recovered   \n",
       "2      2021-11-01       India         Deceased   \n",
       "3      2021-11-01       India  Others/Migrated   \n",
       "4      2021-11-01       India           Tested   \n",
       "...           ...         ...              ...   \n",
       "33443  2022-02-21  Puducherry  Others/Migrated   \n",
       "33444  2022-02-21  Puducherry           Tested   \n",
       "33445  2022-02-21  Puducherry     Vaccination1   \n",
       "33446  2022-02-21  Puducherry     Vaccination2   \n",
       "33447  2022-02-21  Puducherry     Vaccination3   \n",
       "\n",
       "                                                  Source  \\\n",
       "0                          https://www.mygov.in/covid-19   \n",
       "1                          https://www.mygov.in/covid-19   \n",
       "2                          https://www.mygov.in/covid-19   \n",
       "3                          https://www.mygov.in/covid-19   \n",
       "4                          https://www.mygov.in/covid-19   \n",
       "...                                                  ...   \n",
       "33443                      https://www.mygov.in/covid-19   \n",
       "33444                      https://www.mygov.in/covid-19   \n",
       "33445  https://api.cowin.gov.in/api/v1/reports/v2/get...   \n",
       "33446  https://api.cowin.gov.in/api/v1/reports/v2/get...   \n",
       "33447  https://api.cowin.gov.in/api/v1/reports/v2/get...   \n",
       "\n",
       "                                             ArtifactURI  \\\n",
       "0      https://github.com/incovid19/INPUT/2021-11-01/...   \n",
       "1      https://github.com/incovid19/INPUT/2021-11-01/...   \n",
       "2      https://github.com/incovid19/INPUT/2021-11-01/...   \n",
       "3      https://github.com/incovid19/INPUT/2021-11-01/...   \n",
       "4      https://github.com/incovid19/INPUT/2021-11-01/...   \n",
       "...                                                  ...   \n",
       "33443  https://github.com/incovid19/INPUT/2022-02-21/...   \n",
       "33444  https://github.com/incovid19/INPUT/2022-02-21/...   \n",
       "33445  https://github.com/incovid19/INPUT/2022-02-21/...   \n",
       "33446  https://github.com/incovid19/INPUT/2022-02-21/...   \n",
       "33447  https://github.com/incovid19/INPUT/2022-02-21/...   \n",
       "\n",
       "                      ExtractTime ArtifactFileFormat  \n",
       "0      2021-11-12 19:36:55.656023               html  \n",
       "1      2021-11-12 19:36:55.656023               html  \n",
       "2      2021-11-12 19:36:55.656023               html  \n",
       "3      2021-11-12 19:36:55.656023               html  \n",
       "4      2021-11-12 19:36:55.656023               html  \n",
       "...                           ...                ...  \n",
       "33443  2022-02-21 22:56:17.013864     Image(Twitter)  \n",
       "33444  2022-02-21 22:56:17.013864     Image(Twitter)  \n",
       "33445  2022-02-21 22:56:17.013864     Image(Twitter)  \n",
       "33446  2022-02-21 22:56:17.013864     Image(Twitter)  \n",
       "33447  2022-02-21 22:56:17.013864     Image(Twitter)  \n",
       "\n",
       "[33448 rows x 7 columns]"
      ]
     },
     "execution_count": 16,
     "metadata": {},
     "output_type": "execute_result"
    }
   ],
   "source": [
    "df_rdf"
   ]
  },
  {
   "cell_type": "code",
   "execution_count": 17,
   "id": "5563d609-d3f3-4f8e-befe-5b8ac2ae3d7d",
   "metadata": {},
   "outputs": [],
   "source": [
    "df_dist.merge(df_rdf,left_on=\"State\",right_on=\"State\").to_csv(\"District_rdf.csv\",index=False)"
   ]
  },
  {
   "cell_type": "code",
   "execution_count": null,
   "id": "01559ad1-10ed-405f-8ef6-fe5167065e3f",
   "metadata": {},
   "outputs": [],
   "source": []
  }
 ],
 "metadata": {
  "kernelspec": {
   "display_name": "Python 3",
   "language": "python",
   "name": "python3"
  },
  "language_info": {
   "codemirror_mode": {
    "name": "ipython",
    "version": 3
   },
   "file_extension": ".py",
   "mimetype": "text/x-python",
   "name": "python",
   "nbconvert_exporter": "python",
   "pygments_lexer": "ipython3",
   "version": "3.6.9"
  }
 },
 "nbformat": 4,
 "nbformat_minor": 5
}
