{
 "cells": [
  {
   "cell_type": "code",
   "execution_count": 113,
   "id": "6130f2f2-ae8f-4092-8258-81c1082e86a5",
   "metadata": {},
   "outputs": [],
   "source": [
    "import warnings\n",
    "warnings.filterwarnings('ignore')\n",
    "import pandas as pd\n",
    "from datetime import datetime,timedelta\n",
    "import sys\n",
    "sys.path.insert(0, '../src')\n",
    "from util import GetFileStatus,date_range"
   ]
  },
  {
   "cell_type": "markdown",
   "id": "6c050b64-7325-488b-adea-858e3dbb524f",
   "metadata": {},
   "source": [
    "# Generate State file with Vaccination "
   ]
  },
  {
   "cell_type": "code",
   "execution_count": 2,
   "id": "67f5851d-4728-4be7-934b-5a9b5b556539",
   "metadata": {},
   "outputs": [],
   "source": [
    "df_state = pd.read_csv(\"/home/swiadmin/test/csv/latest/states.csv\")\n",
    "\n",
    "df_state[\"Date\"] = pd.to_datetime(df_state[\"Date\"])\n",
    "\n",
    "df_state_vacc = pd.read_csv(\"/home/swiadmin/test/csv/latest/cowin_vaccine_data_statewise.csv\")\n",
    "\n",
    "cols = ['Updated On','State','Total Doses Administered',\n",
    "        'First Dose Administered','Second Dose Administered']\n",
    "\n",
    "df_state_vacc = df_state_vacc[cols]\n",
    "\n",
    "df_state_vacc['Updated On'] = df_state_vacc['Updated On'].apply(lambda _: datetime.strptime(_,\"%d/%m/%Y\"))\n",
    "\n",
    "df_state_vacc = df_state_vacc.merge(df_state,how=\"right\",left_on=[\"Updated On\",\"State\"],right_on=[\"Date\",\"State\"])\n",
    "\n",
    "df_state_vacc[\"Vaccination3\"] = df_state_vacc[\"Total Doses Administered\"] - df_state_vacc[\"First Dose Administered\"] - df_state_vacc[\"Second Dose Administered\"]\n",
    "\n",
    "df_state_vacc = df_state_vacc.drop(['Updated On','Total Doses Administered'],axis=1)\n",
    "\n",
    "df_state_vacc = df_state_vacc.rename(columns = {\"First Dose Administered\":\"Vaccination1\",\"Second Dose Administered\":\"Vaccination2\"})\n",
    "\n",
    "df_state_vacc.to_csv(\"states_vacc.csv\")"
   ]
  },
  {
   "cell_type": "markdown",
   "id": "69f8fcb8-3aa1-446e-b508-64b81155f7cc",
   "metadata": {},
   "source": [
    "# Generate District file with vaccination"
   ]
  },
  {
   "cell_type": "code",
   "execution_count": 112,
   "id": "389d84de-c99b-41ab-9d14-83f3a3bbd6da",
   "metadata": {},
   "outputs": [
    {
     "name": "stdout",
     "output_type": "stream",
     "text": [
      "2022-02-25\n"
     ]
    }
   ],
   "source": [
    "df_districts = pd.read_csv(\"/home/swiadmin/test/csv/latest/districts.csv\")\n",
    "\n",
    "df_district_vacc = pd.read_csv(\"/home/swiadmin/test/csv/latest/cowin_vaccine_data_districtwise.csv\",header=[0,1])\n",
    "\n",
    "dateList = date_range(\"2021-11-01\",str(datetime.today().date()-timedelta(1)))\n",
    "\n",
    "columns = ['State','District','First Dose Administered','Second Dose Administered','Total Doses Administered']\n",
    "\n",
    "df = pd.DataFrame(columns=columns)\n",
    "for date in dateList:\n",
    "    try:\n",
    "        df_temp = df_district_vacc.loc[:,[\"State\",\"District\",date.date().strftime(\"%d/%m/%Y\")]]\n",
    "        df_temp.columns = columns\n",
    "        df_temp[\"Date\"] = str(date.date())\n",
    "        df = df.append(df_temp)\n",
    "    except:\n",
    "        print(str(date.date()))\n",
    "\n",
    "df = df_districts.merge(df,how=\"left\",left_on=[\"Date\",\"State\",\"District\"],right_on=[\"Date\",\"State\",\"District\"])\n",
    "\n",
    "df[\"Vaccination3\"] = df[\"Total Doses Administered\"] - df[\"First Dose Administered\"] - df[\"Second Dose Administered\"]\n",
    "\n",
    "df = df.drop(['Total Doses Administered'],axis=1)\n",
    "\n",
    "df = df.rename(columns = {\"First Dose Administered\":\"Vaccination1\",\"Second Dose Administered\":\"Vaccination2\"})\n",
    "\n",
    "df.to_csv(\"districts_vacc.csv\")"
   ]
  }
 ],
 "metadata": {
  "kernelspec": {
   "display_name": "Python 3",
   "language": "python",
   "name": "python3"
  },
  "language_info": {
   "codemirror_mode": {
    "name": "ipython",
    "version": 3
   },
   "file_extension": ".py",
   "mimetype": "text/x-python",
   "name": "python",
   "nbconvert_exporter": "python",
   "pygments_lexer": "ipython3",
   "version": "3.6.9"
  }
 },
 "nbformat": 4,
 "nbformat_minor": 5
}
