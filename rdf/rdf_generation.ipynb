{
 "cells": [
  {
   "cell_type": "code",
   "execution_count": 1,
   "id": "61086075-2347-4735-bcd3-949bcbf9e0e7",
   "metadata": {},
   "outputs": [],
   "source": [
    "import pandas as pd\n",
    "from tqdm import tqdm\n",
    "from datetime import datetime,timedelta\n",
    "import inflect"
   ]
  },
  {
   "cell_type": "code",
   "execution_count": 2,
   "id": "07ec0445-33fb-45df-be4d-20a11d3efb36",
   "metadata": {},
   "outputs": [
    {
     "name": "stderr",
     "output_type": "stream",
     "text": [
      "/home/swiadmin/Incovid19/incovid19/env/lib/python3.6/site-packages/fuzzywuzzy/fuzz.py:11: UserWarning: Using slow pure-python SequenceMatcher. Install python-Levenshtein to remove this warning\n",
      "  warnings.warn('Using slow pure-python SequenceMatcher. Install python-Levenshtein to remove this warning')\n"
     ]
    }
   ],
   "source": [
    "import sys\n",
    "sys.path.insert(0, '../src')\n",
    "from util import GetFileStatus,date_range"
   ]
  },
  {
   "cell_type": "code",
   "execution_count": 7,
   "id": "0f3f0dc5-23f8-4725-9bd2-be224b2c951c",
   "metadata": {},
   "outputs": [],
   "source": [
    "path = \"/home/swiadmin/Incovid19/rdf/\""
   ]
  },
  {
   "cell_type": "code",
   "execution_count": 8,
   "id": "21b27ae1-b5a2-4ce8-b316-ce46f37f042c",
   "metadata": {},
   "outputs": [],
   "source": [
    "dateList = date_range(\"2021-11-01\",str((datetime.today() - timedelta(1)).date()))"
   ]
  },
  {
   "cell_type": "code",
   "execution_count": 9,
   "id": "2a7ef412-b3d7-4940-acac-e976adede977",
   "metadata": {},
   "outputs": [],
   "source": [
    "GetFileStatus(dateList,False).to_csv(path+\"fileStatus.csv\")"
   ]
  },
  {
   "cell_type": "code",
   "execution_count": 10,
   "id": "34b24cf9-7559-4c5c-8163-ab9ff499492a",
   "metadata": {},
   "outputs": [],
   "source": [
    "sources = pd.read_csv(path+\"sources.csv\")"
   ]
  },
  {
   "cell_type": "code",
   "execution_count": 11,
   "id": "267e6931-fb72-440c-a0d2-f1bc662cd4e5",
   "metadata": {},
   "outputs": [],
   "source": [
    "sources['Parameters'] = sources.Parameters.apply(lambda x: x[1:-1].split(','))"
   ]
  },
  {
   "cell_type": "code",
   "execution_count": 12,
   "id": "397ad7ff-a905-4447-a7bd-9e97fede53ab",
   "metadata": {},
   "outputs": [],
   "source": [
    "# sources.head()"
   ]
  },
  {
   "cell_type": "code",
   "execution_count": 13,
   "id": "b2ada9e0-179b-492b-a82a-28665516cf67",
   "metadata": {},
   "outputs": [],
   "source": [
    "Date = []\n",
    "State = []\n",
    "Parameter = []\n",
    "Source = []\n",
    "ArtifactURI = []\n",
    "ExtractTime = []\n",
    "ArtifactFileFormat = []\n",
    "# params = [\"Confirmed\",\"Recovered\",\"Deceased\",\"Others/Migrated\",\"Tested\",\"Vaccination1\",\"Vaccination2\",\"Vaccination3\"]"
   ]
  },
  {
   "cell_type": "code",
   "execution_count": 14,
   "id": "d6047f31-c8b0-4c30-a962-20e4aa216284",
   "metadata": {},
   "outputs": [],
   "source": [
    "fs = pd.read_csv(path+\"fileStatus.csv\")"
   ]
  },
  {
   "cell_type": "code",
   "execution_count": 15,
   "id": "5ba4d4e5-e0c0-4217-ae79-d2fbdc981550",
   "metadata": {},
   "outputs": [],
   "source": [
    "# fs[(fs[\"Date\"] == \"2021-11-01\") & (fs[\"State\"] == \"TT\")][\"myGovFlag\"].item()"
   ]
  },
  {
   "cell_type": "code",
   "execution_count": 16,
   "id": "5515ad7a-b0e3-4c2a-83ed-0038e0302aa8",
   "metadata": {},
   "outputs": [
    {
     "name": "stderr",
     "output_type": "stream",
     "text": [
      "100%|██████████| 123/123 [03:11<00:00,  1.56s/it]\n"
     ]
    }
   ],
   "source": [
    "for date in tqdm(dateList):\n",
    "    for idx in sources.index:\n",
    "        p = inflect.engine()\n",
    "        for parameter in sources[\"Parameters\"][idx]:\n",
    "            Date.append(str(date.date()))\n",
    "            State.append(sources[\"StateName\"][idx])\n",
    "            Parameter.append(parameter)\n",
    "            # https://raw.githubusercontent.com/incovid19/incovid19/main/INPUT/2021-10-26/AP.html\n",
    "            if sources[\"StateDataSourceType\"][idx] == \"Image(Twitter)\":\n",
    "                ArtifactURI.append(\"https://raw.githubusercontent.com/incovid19/incovid19/main/INPUT/\"+str(date.date())+\"/\"+sources[\"StateCode\"][idx]+\".jpeg\")\n",
    "            else:\n",
    "                ArtifactURI.append(\"https://raw.githubusercontent.com/incovid19/incovid19/main/INPUT/\"+str(date.date())+\"/\"+sources[\"StateCode\"][idx]+\".\"+sources[\"StateDataSourceType\"][idx])\n",
    "            if parameter in [\"Confirmed\",\"Recovered\",\"Deceased\",\"Others/Migrated\",\"Tested\"]:\n",
    "                try:\n",
    "                    if fs[(fs[\"Date\"] == str(date.date())) & (fs[\"State\"] == sources[\"StateCode\"][idx])][\"myGovFlag\"].item() == \"No\":\n",
    "                        if sources[\"StateDataSourceType\"][idx] == \"pdf\":\n",
    "                            if sources[\"StateCode\"][idx] == \"PB\":\n",
    "                                Source.append('https://nhm.punjab.gov.in/advertisements/Media_Bulletin/Media%20Bulletin%20COVID-19%20' + date.strftime(\"%d-%m-%Y\") + '.pdf')\n",
    "                            elif sources[\"StateCode\"][idx] == \"ML\":\n",
    "                                Source.append('https://meghalaya.gov.in/sites/default/files/announcement/Daily_Covid_' + date.strftime(\"%d_%b_%Y.pdf\"))\n",
    "                            elif sources[\"StateCode\"][idx] == \"UT\":\n",
    "                                Source.append('https://health.uk.gov.in/files/' + date.strftime(\"%Y.%m.%d_Health_Bulletin.pdf\"))\n",
    "                            elif sources[\"StateCode\"][idx] == \"WB\":\n",
    "                                url = 'https://www.wbhealth.gov.in/uploaded_files/corona/WB_DHFW_Bulletin_' + p.ordinal(\n",
    "                                        date.day).upper() + '_' + date.strftime(\"%b\").upper() + '_REPORT_FINAL.pdf'\n",
    "                                Source.append(url)\n",
    "                            elif sources[\"StateCode\"][idx] == \"TN\":\n",
    "                                url = 'https://stopcorona.tn.gov.in/wp-content/uploads/2020/03/Media-Bulletin-' + date.strftime(\n",
    "                                        \"%d-%m-%y\") + '-COVID-19.pdf'\n",
    "                                Source.append(url)\n",
    "                            elif sources[\"StateCode\"][idx] == \"HR\":\n",
    "                                url = 'http://nhmharyana.gov.in/WriteReadData/userfiles/file/CoronaVirus/Daily%20Bulletin%20of%20COVID%2019%20as%20on%20' + date.strftime(\n",
    "                                        \"%d-%m-%Y\") + '.pdf'\n",
    "                                Source.append(url)\n",
    "                            else:\n",
    "                                Source.append(sources[\"StateDataURL\"][idx])\n",
    "                        else:\n",
    "                            Source.append(sources[\"StateDataURL\"][idx])\n",
    "                    else:\n",
    "                        Source.append(\"https://www.mygov.in/covid-19\")\n",
    "                except:\n",
    "                    Source.append(\"https://www.mygov.in/covid-19\")\n",
    "            else:\n",
    "                Source.append(\"https://api.cowin.gov.in/api/v1/reports/v2/getPublicReports\")\n",
    "            df = pd.read_csv(\"../RAWCSV/\"+str(date.date())+\"/\"+sources[\"StateCode\"][idx]+\"_final.csv\")\n",
    "            ExtractTime.append(df[\"last_updated\"][0])\n",
    "            ArtifactFileFormat.append(sources[\"StateDataSourceType\"][idx])"
   ]
  },
  {
   "cell_type": "code",
   "execution_count": 17,
   "id": "373fb843-2eec-414a-b610-3d81cc496783",
   "metadata": {},
   "outputs": [],
   "source": [
    "df_rdf = pd.DataFrame(list(zip(Date,State,Parameter,Source,ArtifactURI,ExtractTime,ArtifactFileFormat)))"
   ]
  },
  {
   "cell_type": "code",
   "execution_count": 18,
   "id": "b0a41477-8f01-4862-997e-e0259a56309f",
   "metadata": {},
   "outputs": [],
   "source": [
    "df_rdf = df_rdf.rename(columns={0:\"Date\",1:\"State\",2:\"Parameter\",3:\"Source\",4:\"ArtifactURI\",5:\"ExtractTime\",6:\"ArtifactFileFormat\"})"
   ]
  },
  {
   "cell_type": "code",
   "execution_count": 19,
   "id": "702be1cc-9062-4f49-84c7-10cf761db5b9",
   "metadata": {},
   "outputs": [],
   "source": [
    "df_rdf.to_csv(path+\"states_rdf.csv\",index=False)"
   ]
  },
  {
   "cell_type": "code",
   "execution_count": 22,
   "id": "1484faed-1600-471f-9d44-386c3332eed3",
   "metadata": {},
   "outputs": [],
   "source": [
    "df_dist = pd.read_csv(\"/home/swiadmin/Incovid19/incovid19/StateDistricts.csv\")"
   ]
  },
  {
   "cell_type": "code",
   "execution_count": 24,
   "id": "5563d609-d3f3-4f8e-befe-5b8ac2ae3d7d",
   "metadata": {},
   "outputs": [],
   "source": [
    "df_rdf_dist = df_dist.merge(df_rdf,left_on=\"State\",right_on=\"State\")\n",
    "df_rdf_dist['ArtifactURI'] = df_rdf_dist.apply(lambda x: x['Source'] if x['Parameter'] in [\"Vaccination1\",\"Vaccination2\",\"Vaccination3\"] else x['ArtifactURI'], axis=1)\n",
    "df_rdf_dist.to_csv(path+\"district_rdf.csv\",index=False)"
   ]
  },
  {
   "cell_type": "code",
   "execution_count": null,
   "id": "862f0c6d-23b8-41f1-864c-dadffe18e1c0",
   "metadata": {},
   "outputs": [],
   "source": [
    "# !scp *.csv swiadmin@captain.internal.semanticwebindia.in:/home/swiadmin/files/"
   ]
  }
 ],
 "metadata": {
  "kernelspec": {
   "display_name": "Python 3",
   "language": "python",
   "name": "python3"
  },
  "language_info": {
   "codemirror_mode": {
    "name": "ipython",
    "version": 3
   },
   "file_extension": ".py",
   "mimetype": "text/x-python",
   "name": "python",
   "nbconvert_exporter": "python",
   "pygments_lexer": "ipython3",
   "version": "3.6.9"
  }
 },
 "nbformat": 4,
 "nbformat_minor": 5
}
