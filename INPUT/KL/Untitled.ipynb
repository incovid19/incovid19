{
 "cells": [
  {
   "cell_type": "code",
   "execution_count": 1,
   "id": "0a5d83fb-8669-41eb-8b0b-1cd587ca63a6",
   "metadata": {},
   "outputs": [],
   "source": [
    "import http\n",
    "\n",
    "import requests\n",
    "import pandas as pd"
   ]
  },
  {
   "cell_type": "code",
   "execution_count": null,
   "id": "2373aefb-fcb4-49ee-9fe5-e81e57f10a8c",
   "metadata": {},
   "outputs": [],
   "source": [
    "df = pd.read_csv(\"kl_districtCode.csv\")"
   ]
  },
  {
   "cell_type": "code",
   "execution_count": 3,
   "id": "af4e1a33-46aa-4ba7-836a-2328b504abd5",
   "metadata": {},
   "outputs": [],
   "source": [
    "session = requests.Session()\n",
    "response = session.get('https://dashboard.kerala.gov.in/covid/index.php')\n",
    "\n",
    "with open('kerala-index.html', 'wb') as f:\n",
    "    f.write(response.content)"
   ]
  },
  {
   "cell_type": "code",
   "execution_count": 10,
   "id": "e52e795f-f50b-4579-8c2e-4419e5b65cb7",
   "metadata": {},
   "outputs": [
    {
     "name": "stdout",
     "output_type": "stream",
     "text": [
      "{'PHPSESSID': 'v8tapu21b2khcvl2tfjgjp7h3o'}\n"
     ]
    }
   ],
   "source": [
    "print(session.cookies.get_dict())"
   ]
  },
  {
   "cell_type": "code",
   "execution_count": 5,
   "id": "92235b8c-bc5a-45a2-848f-8daad46b5a81",
   "metadata": {},
   "outputs": [],
   "source": [
    "headers = {\n",
    "    'Referer': 'https://dashboard.kerala.gov.in/covid/index.php',\n",
    "}\n",
    "\n",
    "response = session.get('https://dashboard.kerala.gov.in/covid/dailyreporting-view-public-districtwise.php', headers=headers)\n",
    "\n",
    "with open('kerala-districts.html', 'wb') as f:\n",
    "    f.write(response.content)"
   ]
  },
  {
   "cell_type": "code",
   "execution_count": 6,
   "id": "c2d7d9c1-e767-49aa-ba24-ff9a1b3a39b8",
   "metadata": {},
   "outputs": [],
   "source": [
    "headers = {\n",
    "    'Referer': 'https://dashboard.kerala.gov.in/covid/index.php',\n",
    "}\n",
    "\n",
    "response = session.get('https://dashboard.kerala.gov.in/covid/testing-view-public.php', headers=headers)\n",
    "\n",
    "with open('kerala-testing.html', 'wb') as f:\n",
    "    f.write(response.content)"
   ]
  },
  {
   "cell_type": "code",
   "execution_count": 9,
   "id": "2642ab64-945b-49bb-ade9-12b943b26341",
   "metadata": {},
   "outputs": [
    {
     "name": "stdout",
     "output_type": "stream",
     "text": [
      "1601\n",
      "1602\n",
      "1603\n",
      "1604\n",
      "1605\n",
      "1606\n",
      "1607\n",
      "1608\n",
      "1609\n",
      "1610\n",
      "1611\n",
      "1612\n",
      "1613\n",
      "1614\n"
     ]
    }
   ],
   "source": [
    "for code in df[\"Code\"]:\n",
    "    headers = {\n",
    "        'Referer': 'https://dashboard.kerala.gov.in/covid/dailyreporting-view-public-districtwise.php',\n",
    "    }\n",
    "\n",
    "    files = {\n",
    "        'district': (None, str(code)),\n",
    "    }\n",
    "\n",
    "    response = session.post('https://dashboard.kerala.gov.in/covid/dailyreporting-view-public-districtwise.php', headers=headers, files=files)\n",
    "\n",
    "    with open('kerala-'+str(code)+'.html', 'wb') as f:\n",
    "        f.write(response.content)"
   ]
  },
  {
   "cell_type": "code",
   "execution_count": null,
   "id": "2513c55a-939f-4e80-a391-ffd5b53e0065",
   "metadata": {},
   "outputs": [],
   "source": []
  }
 ],
 "metadata": {
  "kernelspec": {
   "display_name": "Python 3",
   "language": "python",
   "name": "python3"
  },
  "language_info": {
   "codemirror_mode": {
    "name": "ipython",
    "version": 3
   },
   "file_extension": ".py",
   "mimetype": "text/x-python",
   "name": "python",
   "nbconvert_exporter": "python",
   "pygments_lexer": "ipython3",
   "version": "3.6.9"
  }
 },
 "nbformat": 4,
 "nbformat_minor": 5
}
