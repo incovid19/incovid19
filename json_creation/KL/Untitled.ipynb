{
 "cells": [
  {
   "cell_type": "code",
   "execution_count": 2,
   "id": "a73eab1f-e570-403a-b7e1-f69e210370b0",
   "metadata": {},
   "outputs": [],
   "source": [
    "import pandas as pd\n",
    "import numpy as np"
   ]
  },
  {
   "cell_type": "code",
   "execution_count": 8,
   "id": "e87ae8ee-26b8-4732-a8b7-1529a840e737",
   "metadata": {},
   "outputs": [],
   "source": [
    "kl_fileCode = pd.read_csv(\"kl_districtCode.csv\")"
   ]
  },
  {
   "cell_type": "code",
   "execution_count": 12,
   "id": "ceec4d7d-564f-4ee0-9673-cededddc63b8",
   "metadata": {},
   "outputs": [
    {
     "data": {
      "text/html": [
       "<div>\n",
       "<style scoped>\n",
       "    .dataframe tbody tr th:only-of-type {\n",
       "        vertical-align: middle;\n",
       "    }\n",
       "\n",
       "    .dataframe tbody tr th {\n",
       "        vertical-align: top;\n",
       "    }\n",
       "\n",
       "    .dataframe thead th {\n",
       "        text-align: right;\n",
       "    }\n",
       "</style>\n",
       "<table border=\"1\" class=\"dataframe\">\n",
       "  <thead>\n",
       "    <tr style=\"text-align: right;\">\n",
       "      <th></th>\n",
       "      <th>District</th>\n",
       "      <th>Code</th>\n",
       "    </tr>\n",
       "  </thead>\n",
       "  <tbody>\n",
       "    <tr>\n",
       "      <th>0</th>\n",
       "      <td>KASARGOD</td>\n",
       "      <td>1601</td>\n",
       "    </tr>\n",
       "    <tr>\n",
       "      <th>1</th>\n",
       "      <td>KANNUR</td>\n",
       "      <td>1602</td>\n",
       "    </tr>\n",
       "    <tr>\n",
       "      <th>2</th>\n",
       "      <td>WAYANAD</td>\n",
       "      <td>1603</td>\n",
       "    </tr>\n",
       "    <tr>\n",
       "      <th>3</th>\n",
       "      <td>KOZHIKODE</td>\n",
       "      <td>1604</td>\n",
       "    </tr>\n",
       "    <tr>\n",
       "      <th>4</th>\n",
       "      <td>MALAPPURAM</td>\n",
       "      <td>1605</td>\n",
       "    </tr>\n",
       "    <tr>\n",
       "      <th>5</th>\n",
       "      <td>PALAKKAD</td>\n",
       "      <td>1606</td>\n",
       "    </tr>\n",
       "    <tr>\n",
       "      <th>6</th>\n",
       "      <td>THRISSUR</td>\n",
       "      <td>1607</td>\n",
       "    </tr>\n",
       "    <tr>\n",
       "      <th>7</th>\n",
       "      <td>ERNAKULAM</td>\n",
       "      <td>1608</td>\n",
       "    </tr>\n",
       "    <tr>\n",
       "      <th>8</th>\n",
       "      <td>IDUKKI</td>\n",
       "      <td>1609</td>\n",
       "    </tr>\n",
       "    <tr>\n",
       "      <th>9</th>\n",
       "      <td>KOTTAYAM</td>\n",
       "      <td>1610</td>\n",
       "    </tr>\n",
       "    <tr>\n",
       "      <th>10</th>\n",
       "      <td>ALAPPUZHA</td>\n",
       "      <td>1611</td>\n",
       "    </tr>\n",
       "    <tr>\n",
       "      <th>11</th>\n",
       "      <td>PATHANAMTHITTA</td>\n",
       "      <td>1612</td>\n",
       "    </tr>\n",
       "    <tr>\n",
       "      <th>12</th>\n",
       "      <td>KOLLAM</td>\n",
       "      <td>1613</td>\n",
       "    </tr>\n",
       "    <tr>\n",
       "      <th>13</th>\n",
       "      <td>THIRUVANANTHAPURAM</td>\n",
       "      <td>1614</td>\n",
       "    </tr>\n",
       "  </tbody>\n",
       "</table>\n",
       "</div>"
      ],
      "text/plain": [
       "              District  Code\n",
       "0             KASARGOD  1601\n",
       "1               KANNUR  1602\n",
       "2              WAYANAD  1603\n",
       "3            KOZHIKODE  1604\n",
       "4           MALAPPURAM  1605\n",
       "5             PALAKKAD  1606\n",
       "6             THRISSUR  1607\n",
       "7            ERNAKULAM  1608\n",
       "8               IDUKKI  1609\n",
       "9             KOTTAYAM  1610\n",
       "10           ALAPPUZHA  1611\n",
       "11      PATHANAMTHITTA  1612\n",
       "12              KOLLAM  1613\n",
       "13  THIRUVANANTHAPURAM  1614"
      ]
     },
     "execution_count": 12,
     "metadata": {},
     "output_type": "execute_result"
    }
   ],
   "source": [
    "kl_fileCode"
   ]
  },
  {
   "cell_type": "code",
   "execution_count": 15,
   "id": "dd8b17be-7e20-42c8-8e89-7edd126d8271",
   "metadata": {},
   "outputs": [
    {
     "name": "stdout",
     "output_type": "stream",
     "text": [
      "1601\n",
      "1602\n",
      "1603\n",
      "1604\n",
      "1605\n",
      "1606\n",
      "1607\n",
      "1608\n",
      "1609\n",
      "1610\n",
      "1611\n",
      "1612\n",
      "1613\n",
      "1614\n"
     ]
    }
   ],
   "source": [
    "Date = \"03-05-2022\" \n",
    "for idx in kl_fileCode.index:\n",
    "    print(kl_fileCode[\"Code\"][idx])\n",
    "    DistrictData = pd.read_html('kerala-'+ kl_fileCode[\"Code\"][idx] +'.html')\n",
    "    DistrictData = DistrictData[1]"
   ]
  },
  {
   "cell_type": "code",
   "execution_count": 3,
   "id": "cc8b1a3b-ea4f-4783-b0ea-0123f342e2fc",
   "metadata": {},
   "outputs": [],
   "source": [
    "table_MN = pd.read_html('kerala-1601.html')"
   ]
  },
  {
   "cell_type": "code",
   "execution_count": 16,
   "id": "fbe9b7fe-0945-46f8-9348-e45b93a760c5",
   "metadata": {},
   "outputs": [],
   "source": [
    "table_MN = table_MN[1]"
   ]
  },
  {
   "cell_type": "code",
   "execution_count": 20,
   "id": "dcac3c4d-0b02-40ee-823f-cb98a9cf5e9a",
   "metadata": {},
   "outputs": [
    {
     "data": {
      "text/plain": [
       "Index(['Date', 'Confirmed', 'Recovered', 'Active', 'Death'], dtype='object')"
      ]
     },
     "execution_count": 20,
     "metadata": {},
     "output_type": "execute_result"
    }
   ],
   "source": [
    "table_MN[table_MN[\"Date\"] == \"03-05-2022\"].columns"
   ]
  },
  {
   "cell_type": "code",
   "execution_count": null,
   "id": "da558a6d-3cb7-4f02-b20c-5023b0b16f6e",
   "metadata": {},
   "outputs": [],
   "source": [
    "df_districts = pd.DataFrame(columns=[])"
   ]
  }
 ],
 "metadata": {
  "kernelspec": {
   "display_name": "Python 3",
   "language": "python",
   "name": "python3"
  },
  "language_info": {
   "codemirror_mode": {
    "name": "ipython",
    "version": 3
   },
   "file_extension": ".py",
   "mimetype": "text/x-python",
   "name": "python",
   "nbconvert_exporter": "python",
   "pygments_lexer": "ipython3",
   "version": "3.6.9"
  }
 },
 "nbformat": 4,
 "nbformat_minor": 5
}
