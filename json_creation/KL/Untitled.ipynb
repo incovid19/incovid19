{
 "cells": [
  {
   "cell_type": "code",
   "execution_count": 84,
   "id": "a73eab1f-e570-403a-b7e1-f69e210370b0",
   "metadata": {},
   "outputs": [],
   "source": [
    "import pandas as pd\n",
    "import numpy as np\n",
    "from datetime import datetime,timedelta, timezone\n",
    "import pytz"
   ]
  },
  {
   "cell_type": "code",
   "execution_count": 62,
   "id": "e87ae8ee-26b8-4732-a8b7-1529a840e737",
   "metadata": {},
   "outputs": [],
   "source": [
    "kl_fileCode = pd.read_csv(\"kl_districtCode.csv\")"
   ]
  },
  {
   "cell_type": "code",
   "execution_count": 63,
   "id": "ceec4d7d-564f-4ee0-9673-cededddc63b8",
   "metadata": {},
   "outputs": [],
   "source": [
    "# for idx in kl_fileCode.index:\n",
    "#     kl_fileCode[\"District\"][idx] = kl_fileCode[\"District\"][idx].capitalize()"
   ]
  },
  {
   "cell_type": "code",
   "execution_count": 64,
   "id": "37fbfae3-0742-4b3b-9bc2-1ae58c270895",
   "metadata": {},
   "outputs": [],
   "source": [
    "# kl_fileCode.to_csv(\"kl_districtCode.csv\",index=False)"
   ]
  },
  {
   "cell_type": "code",
   "execution_count": 91,
   "id": "dd8b17be-7e20-42c8-8e89-7edd126d8271",
   "metadata": {},
   "outputs": [],
   "source": [
    "Date = \"11-04-2022\" \n",
    "date = \"11-04-2022\"\n",
    "df_districts = pd.DataFrame(columns=['Date', 'District', 'Confirmed', 'Recovered', 'Active', 'Death'])\n",
    "for idx in kl_fileCode.index:\n",
    "    DistrictData = pd.read_html('kerala-'+ str(kl_fileCode[\"Code\"][idx]) +'.html')\n",
    "    DistrictData = DistrictData[1]\n",
    "    DistrictData[\"District\"] = kl_fileCode[\"District\"][idx]\n",
    "    df_districts = df_districts.append(DistrictData[DistrictData[\"Date\"] == Date])\n",
    "\n",
    "df_districts = df_districts.rename(columns={'Death':'Deceased'})\n",
    "df_districts.loc[len(df_districts.index)] = [Date,'Total', 0, 0, 0, 0] "
   ]
  },
  {
   "cell_type": "code",
   "execution_count": 92,
   "id": "2dcaa1e0-c1cd-444b-abda-1b0feb8ea783",
   "metadata": {},
   "outputs": [],
   "source": [
    "def GenerateRawCsv(StateCode,Date,df_districts,df_summary):\n",
    "    # print(df_summary['Confirmed'].values)\n",
    "    utc_dt = datetime.now(timezone.utc)\n",
    "    df = pd.DataFrame(columns=[\"Date\",\"State/UTCode\",\"District\",\"tested_last_updated_district\",\"tested_source_district\",\"notesForDistrict\",\n",
    "    \"cumulativeConfirmedNumberForDistrict\",\"cumulativeDeceasedNumberForDistrict\",\"cumulativeRecoveredNumberForDistrict\",\n",
    "    \"cumulativeTestedNumberForDistrict\",\"last_updated\",\"tested_last_updated_state\",\"tested_source_state\",\"notesForState\",\n",
    "    \"cumulativeConfirmedNumberForState\",\"cumulativeDeceasedNumberForState\",\"cumulativeRecoveredNumberForState\",\"cumulativeTestedNumberForState\"])\n",
    "\n",
    "    df['District'] = df_districts['District']\n",
    "    if \"Confirmed\" in df_districts.columns:\n",
    "        df['cumulativeConfirmedNumberForDistrict'] = df_districts['Confirmed']\n",
    "        df['cumulativeConfirmedNumberForState'] = df_summary['Confirmed']#.astype(int).sum()\n",
    "        # print(df['cumulativeConfirmedNumberForState'])\n",
    "    if \"Tested\" in df_summary.index:\n",
    "        df['cumulativeTestedNumberForState'] = df_summary['Tested'] #.astype(int).sum()\n",
    "    if \"Tested\" in df_districts.columns:\n",
    "        df['cumulativeTestedNumberForDistrict'] = df_districts['Tested']\n",
    "    df['cumulativeDeceasedNumberForDistrict'] = df_districts['Deceased']\n",
    "    df['cumulativeRecoveredNumberForDistrict'] = df_districts['Recovered']\n",
    "    # df['cumulativeOtherNumberForDistrict'] = df_districts['Other']\n",
    "    # print(Date)\n",
    "    # a=b\n",
    "    df['Date'] = Date\n",
    "    df['State/UTCode'] = StateCode\n",
    "     \n",
    "    df['cumulativeRecoveredNumberForState'] = df_summary['Recovered'] #.astype(int).sum()\n",
    "    df['cumulativeDeceasedNumberForState'] = df_summary['Deceased'] #.astype(int).sum()\n",
    "    \n",
    "    try:\n",
    "        df['cumulativeOtherNumberForDistrict'] = df_districts['Other']\n",
    "        df['notesForDistrict'] = df_districts['notesForDistrict']\n",
    "    except:\n",
    "        df['cumulativeOtherNumberForDistrict'] = 0\n",
    "    try:\n",
    "        df['cumulativeOtherNumberForState'] = df_summary['Other']\n",
    "        df['notesForState'] = df_summary['notesForState']\n",
    "    except:\n",
    "        df['cumulativeOtherNumberForState'] = 0\n",
    "    \n",
    "    IST = pytz.timezone('Asia/Kolkata')\n",
    "    df['last_updated'] = utc_dt.astimezone(IST).isoformat()\n",
    "    # print(df.head(1))\n",
    "    # a=b\n",
    "    df.to_csv(\"{}_raw.csv\".format(StateCode))"
   ]
  },
  {
   "cell_type": "code",
   "execution_count": 93,
   "id": "e4c8e813-c144-4136-9693-b0bbdd442d15",
   "metadata": {},
   "outputs": [
    {
     "name": "stderr",
     "output_type": "stream",
     "text": [
      "/home/swiadmin/Incovid19/incovid19/env/lib/python3.6/site-packages/pandas/core/series.py:4582: SettingWithCopyWarning: \n",
      "A value is trying to be set on a copy of a slice from a DataFrame\n",
      "\n",
      "See the caveats in the documentation: https://pandas.pydata.org/pandas-docs/stable/user_guide/indexing.html#returning-a-view-versus-a-copy\n",
      "  method=method,\n"
     ]
    }
   ],
   "source": [
    "updated_data_frame = df_districts\n",
    "StateCode = \"KL\"\n",
    "prevdate = str((datetime.strptime(date,\"%d-%m-%Y\")- timedelta(days=1)).date())\n",
    "# print('prevdate',prevdate ,type(prevdate))\n",
    "df_prevDay = pd.read_csv(\"../../RAWCSV/{}/{}_raw.csv\".format(prevdate,StateCode))\n",
    "# df_prevDay = pd.read_csv('../RAWCSV/{}/{}_raw.csv'.format(prevdate,StateCode))\n",
    "\n",
    "# print('base csv is', df_prevDay)\n",
    "\n",
    "for index, row in df_prevDay.iterrows():\n",
    "    District_base_col = row['District']\n",
    "    # print('District_base_col',District_base_col)\n",
    "\n",
    "    if District_base_col != \"Total\" :\n",
    "        # print(District_base_col)\n",
    "        filtered_dataframe= df_districts[df_districts['District'] == District_base_col]\n",
    "        district_index = filtered_dataframe.index[0]\n",
    "        if not filtered_dataframe.empty:\n",
    "\n",
    "            # pdf data columns\n",
    "            Confirmed_col= filtered_dataframe['Confirmed'].iloc[0]\n",
    "            Recovered_col =filtered_dataframe['Recovered'].iloc[0]\n",
    "            Deaths_col = filtered_dataframe['Deceased'].iloc[0]\n",
    "            # print(type(Confirmed_col))\n",
    "            # print('Confirmed_col',Confirmed_col, 'Recovered_col',Recovered_col,'Deaths_col',Deaths_col)\n",
    "\n",
    "            # base data columns\n",
    "            Confirmed_base_col = row['cumulativeConfirmedNumberForDistrict']\n",
    "            Recovered_base_col = row['cumulativeRecoveredNumberForDistrict']\n",
    "            Deaths_base_col = row['cumulativeDeceasedNumberForDistrict']\n",
    "            # print('Confirmed_base_col',Confirmed_base_col,'Recovered_base_col',Recovered_base_col,'Deaths_base_col',Deaths_base_col)\n",
    "\n",
    "            # addition\n",
    "\n",
    "            Confirmed_col =  Confirmed_col + Confirmed_base_col\n",
    "            Recovered_col = Recovered_col + Recovered_base_col\n",
    "            Deaths_col = Deaths_col + Deaths_base_col\n",
    "            # print('Confirmed_col',Confirmed_col,\n",
    "            # 'Recovered_col',Recovered_col,\n",
    "            # 'Deaths_col',Deaths_col)\n",
    "\n",
    "            # updating dataframe column values with addition values\n",
    "            updated_data_frame.at[district_index, 'Confirmed'] = Confirmed_col\n",
    "            updated_data_frame.at[district_index, 'Recovered'] = Recovered_col\n",
    "            updated_data_frame.at[district_index, 'Deceased'] = Deaths_col\n",
    "# print('updated_data_frame',updated_data_frame)\n",
    "\n",
    "\n",
    "# get the index of total row and set those row values to zero then update with sum values\n",
    "# finding index of total \n",
    "index_of_total = updated_data_frame[updated_data_frame['District'] == 'Total'].index[0]\n",
    "\n",
    "# set the total row values to zero\n",
    "\n",
    "updated_data_frame.at[index_of_total, 'Confirmed'] = 0\n",
    "updated_data_frame.at[index_of_total, 'Recovered'] = 0\n",
    "updated_data_frame.at[index_of_total, 'Deceased'] = 0\n",
    "\n",
    "\n",
    "# summing of all the Confirmed, Recovered, Deceased and Other Column values \n",
    "Confirmed_Sumvalue = updated_data_frame['Confirmed'].sum()\n",
    "Recovered_Sumvalue = updated_data_frame['Recovered'].sum()\n",
    "Deceased_Sumvalue = updated_data_frame['Deceased'].sum()\n",
    "\n",
    "\n",
    "# updating total row with sum of all the (C, R, D, O) column values\n",
    "updated_data_frame.at[index_of_total, 'Confirmed'] = Confirmed_Sumvalue\n",
    "updated_data_frame.at[index_of_total, 'Recovered'] = Recovered_Sumvalue\n",
    "updated_data_frame.at[index_of_total, 'Deceased'] = Deceased_Sumvalue\n",
    "\n",
    "# print('updated data frame is', updated_data_frame)\n",
    "\n",
    "df_districts = updated_data_frame\n",
    "df_summary = df_districts\n",
    "df_summary = df_summary.iloc[-1,:]\n",
    "df_districts = df_districts[:-1]\n",
    "df_json = pd.read_json(\"../../DistrictMappingMaster.json\")\n",
    "dist_map = df_json['Kerala'].to_dict()\n",
    "df_districts['District'].replace(dist_map,inplace=True)"
   ]
  },
  {
   "cell_type": "code",
   "execution_count": 94,
   "id": "c55f0e66-f19c-4dd1-a6ed-9e4efd7246f7",
   "metadata": {},
   "outputs": [
    {
     "data": {
      "text/plain": [
       "Date         11-04-2022\n",
       "District          Total\n",
       "Confirmed       6536123\n",
       "Recovered       6464775\n",
       "Active                0\n",
       "Deceased          68384\n",
       "Name: 14, dtype: object"
      ]
     },
     "execution_count": 94,
     "metadata": {},
     "output_type": "execute_result"
    }
   ],
   "source": [
    "df_summary"
   ]
  },
  {
   "cell_type": "code",
   "execution_count": 95,
   "id": "7e07a9f2-6251-496d-863b-b95df63055fc",
   "metadata": {},
   "outputs": [],
   "source": [
    "GenerateRawCsv(StateCode,Date,df_districts,df_summary)"
   ]
  },
  {
   "cell_type": "code",
   "execution_count": null,
   "id": "6a928832-338f-4db9-8a56-8d4406b80f2b",
   "metadata": {},
   "outputs": [],
   "source": []
  }
 ],
 "metadata": {
  "kernelspec": {
   "display_name": "Python 3",
   "language": "python",
   "name": "python3"
  },
  "language_info": {
   "codemirror_mode": {
    "name": "ipython",
    "version": 3
   },
   "file_extension": ".py",
   "mimetype": "text/x-python",
   "name": "python",
   "nbconvert_exporter": "python",
   "pygments_lexer": "ipython3",
   "version": "3.6.9"
  }
 },
 "nbformat": 4,
 "nbformat_minor": 5
}
