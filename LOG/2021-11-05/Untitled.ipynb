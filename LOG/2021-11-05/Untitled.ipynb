{
 "cells": [
  {
   "cell_type": "code",
   "execution_count": 1,
   "id": "682f6e19-9615-48ab-99f7-a68771784980",
   "metadata": {},
   "outputs": [],
   "source": [
    "def downloadFile(Date, StateCode, url):\n",
    "    response = requests.get(url)\n",
    "    # print(url)\n",
    "    # print(response.status_code)\n",
    "    if (response.status_code == 200) and (response.headers['content-type'] == \"application/pdf\"):\n",
    "        try:\n",
    "            # print(response.text)\n",
    "            StatusMsg(StateCode, Date, \"OK\", \"File Downloaded\", program=\"GetSource\")\n",
    "            with open(r\"../INPUT/\" + Date + \"/\" + StateCode + \".pdf\", 'wb') as f:\n",
    "                f.write(response.content)\n",
    "        except:\n",
    "            StatusMsg(StateCode, Date, \"ERR\", \"File Not Found\", program=\"GetSource\")\n",
    "    else:\n",
    "        print(\"Error\")\n",
    "        StatusMsg(StateCode, Date, \"ERR\", \"File Not Found\", program=\"GetSource\")"
   ]
  },
  {
   "cell_type": "code",
   "execution_count": 2,
   "id": "037df162-6784-4e7f-905a-2947ec79c684",
   "metadata": {},
   "outputs": [
    {
     "ename": "ModuleNotFoundError",
     "evalue": "No module named 'StatusMsg'",
     "output_type": "error",
     "traceback": [
      "\u001b[0;31m---------------------------------------------------------------------------\u001b[0m",
      "\u001b[0;31mModuleNotFoundError\u001b[0m                       Traceback (most recent call last)",
      "\u001b[0;32m<ipython-input-2-0297c79dc330>\u001b[0m in \u001b[0;36m<module>\u001b[0;34m\u001b[0m\n\u001b[1;32m      6\u001b[0m \u001b[0;32mfrom\u001b[0m \u001b[0murllib\u001b[0m\u001b[0;34m.\u001b[0m\u001b[0merror\u001b[0m \u001b[0;32mimport\u001b[0m \u001b[0mHTTPError\u001b[0m\u001b[0;34m\u001b[0m\u001b[0;34m\u001b[0m\u001b[0m\n\u001b[1;32m      7\u001b[0m \u001b[0;32mimport\u001b[0m \u001b[0murllib\u001b[0m\u001b[0;34m\u001b[0m\u001b[0;34m\u001b[0m\u001b[0m\n\u001b[0;32m----> 8\u001b[0;31m \u001b[0;32mfrom\u001b[0m \u001b[0mStatusMsg\u001b[0m \u001b[0;32mimport\u001b[0m \u001b[0mStatusMsg\u001b[0m\u001b[0;34m\u001b[0m\u001b[0;34m\u001b[0m\u001b[0m\n\u001b[0m\u001b[1;32m      9\u001b[0m \u001b[0;32mimport\u001b[0m \u001b[0minflect\u001b[0m\u001b[0;34m\u001b[0m\u001b[0;34m\u001b[0m\u001b[0m\n\u001b[1;32m     10\u001b[0m \u001b[0;32mfrom\u001b[0m \u001b[0mbs4\u001b[0m \u001b[0;32mimport\u001b[0m \u001b[0mBeautifulSoup\u001b[0m\u001b[0;34m\u001b[0m\u001b[0;34m\u001b[0m\u001b[0m\n",
      "\u001b[0;31mModuleNotFoundError\u001b[0m: No module named 'StatusMsg'"
     ]
    }
   ],
   "source": [
    "import requests\n",
    "import pandas as pd\n",
    "import ssl\n",
    "from shutil import copyfile\n",
    "from datetime import datetime, timedelta\n",
    "from urllib.error import HTTPError\n",
    "import urllib\n",
    "from StatusMsg import StatusMsg\n",
    "import inflect\n",
    "from bs4 import BeautifulSoup\n",
    "from urllib.request import urlopen\n",
    "import json\n",
    "import os"
   ]
  },
  {
   "cell_type": "code",
   "execution_count": null,
   "id": "f5daae61-a758-43c9-9801-0efa431868e4",
   "metadata": {},
   "outputs": [],
   "source": [
    "downloadFile"
   ]
  }
 ],
 "metadata": {
  "kernelspec": {
   "display_name": "Python 3",
   "language": "python",
   "name": "python3"
  },
  "language_info": {
   "codemirror_mode": {
    "name": "ipython",
    "version": 3
   },
   "file_extension": ".py",
   "mimetype": "text/x-python",
   "name": "python",
   "nbconvert_exporter": "python",
   "pygments_lexer": "ipython3",
   "version": "3.6.9"
  }
 },
 "nbformat": 4,
 "nbformat_minor": 5
}
