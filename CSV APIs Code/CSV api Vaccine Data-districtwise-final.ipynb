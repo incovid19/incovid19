{
 "cells": [
  {
   "cell_type": "code",
   "execution_count": 1,
   "metadata": {},
   "outputs": [],
   "source": [
    "import pandas as pd\n",
    "import numpy as np\n",
    "from datetime import datetime, timedelta"
   ]
  },
  {
   "cell_type": "code",
   "execution_count": 2,
   "metadata": {},
   "outputs": [],
   "source": [
    "STATE_NAMES = {\n",
    "  'AP': 'Andhra Pradesh',\n",
    "  'AR': 'Arunachal Pradesh',\n",
    "  'AS': 'Assam',\n",
    "  'BR': 'Bihar',\n",
    "  'CT': 'Chhattisgarh',\n",
    "  'GA': 'Goa',\n",
    "  'GJ': 'Gujarat',\n",
    "  'HR': 'Haryana',\n",
    "  'HP': 'Himachal Pradesh',\n",
    "  'JH': 'Jharkhand',\n",
    "  'KA': 'Karnataka',\n",
    "  'KL': 'Kerala',\n",
    "  'MP': 'Madhya Pradesh',\n",
    "  'MH': 'Maharashtra',\n",
    "  'MN': 'Manipur',\n",
    "  'ML': 'Meghalaya',\n",
    "  'MZ': 'Mizoram',\n",
    "  'NL': 'Nagaland',\n",
    "  'OR': 'Odisha',\n",
    "  'PB': 'Punjab',\n",
    "  'RJ': 'Rajasthan',\n",
    "  'SK': 'Sikkim',\n",
    "  'TN': 'Tamil Nadu',\n",
    "  'TG': 'Telangana',\n",
    "  'TR': 'Tripura',\n",
    "  'UT': 'Uttarakhand',\n",
    "  'UP': 'Uttar Pradesh',\n",
    "  'WB': 'West Bengal',\n",
    "  'AN': 'Andaman and Nicobar Islands',\n",
    "  'CH': 'Chandigarh',\n",
    "  'DN': 'Dadra and Nagar Haveli and Daman and Diu',\n",
    "  'DL': 'Delhi',\n",
    "  'JK': 'Jammu and Kashmir',\n",
    "  'LA': 'Ladakh',\n",
    "  'LD': 'Lakshadweep',\n",
    "  'PY': 'Puducherry',\n",
    "  'TT': 'India',\n",
    " # [UNASSIGNED_STATE_CODE]: 'Unassigned',\n",
    "}"
   ]
  },
  {
   "cell_type": "code",
   "execution_count": 10,
   "metadata": {},
   "outputs": [],
   "source": [
    "#Change the date here to get historical dates\n",
    "date_=datetime.strptime('2021-11-16',\"%Y-%m-%d\")\n",
    "dates_list= [date_+timedelta(days=i) for i in range(1)]"
   ]
  },
  {
   "cell_type": "code",
   "execution_count": 4,
   "metadata": {},
   "outputs": [],
   "source": [
    "source_path=\"C:/Users/sambh/Desktop/inCovid19-GITHUB/incovid19/RAWCSV\""
   ]
  },
  {
   "cell_type": "code",
   "execution_count": 11,
   "metadata": {
    "scrolled": false
   },
   "outputs": [
    {
     "name": "stdout",
     "output_type": "stream",
     "text": [
      "2021-11-16\n"
     ]
    }
   ],
   "source": [
    "for Date in dates_list:\n",
    "    if not isinstance(Date,str):\n",
    "        Date=Date.strftime(\"%Y-%m-%d\")\n",
    "    print(Date)\n",
    "    cowin_vaccine_data_districtwise_prev=pd.read_csv(\"./cowin_vaccine_data_districtwise.csv\",header=[0,1])\n",
    "    cowin_vaccine_data_districtwise_master=pd.DataFrame()\n",
    "    for state in STATE_NAMES.keys():\n",
    "        if state==\"TT\":\n",
    "            continue\n",
    "#         print(state)\n",
    "        state_=pd.read_csv(f\"{source_path}/{Date}/{state}_final.csv\")\n",
    "        state_.dropna(subset=[\"District\"],axis=0,inplace=True)\n",
    "        state_.reset_index(inplace=True,drop=True)\n",
    "        temp_state_df=pd.DataFrame()\n",
    "        temp_state_df[\"District\"]=state_[\"District\"]\n",
    "        temp_state_df[\"State_Code\"]=state\n",
    "        temp_state_df[\"State\"]=temp_state_df[\"State_Code\"].map(STATE_NAMES)\n",
    "        temp_state_df[\"District_Key\"]=temp_state_df.apply(lambda rw: rw[\"State_Code\"]+\"_\"+rw[\"District\"],axis=1)\n",
    "        temp_state_df[\"First Dose Administered\"]=state_[\"cumulativeVaccinated1NumberForDistrict\"]\n",
    "        temp_state_df[\"Second Dose Administered\"]=state_[\"cumulativeVaccinated2NumberForDistrict\"]\n",
    "        temp_state_df[\"Total Dose Administered\"]=temp_state_df[\"First Dose Administered\"]+temp_state_df[\"Second Dose Administered\"]\n",
    "        cowin_vaccine_data_districtwise_master=pd.concat([cowin_vaccine_data_districtwise_master,temp_state_df],axis=0)\n",
    "    \n",
    "    if not isinstance(Date,str):\n",
    "            Date=Date.strftime(\"%Y-%m-%d\")\n",
    "\n",
    "    columns=pd.MultiIndex.from_tuples(zip([\"State_Code\",\"State\",\n",
    "                \"District_Key\",\"District\",Date,Date,Date],\n",
    "               [\" \",\" \",\" \",\" \",\"Total Doses Administered\",\n",
    "                \"First Dose Administered\",\"Second Dose Administered\"\n",
    "               ]))\n",
    "    cowin_vaccine_data_districtwise_master.columns=columns\n",
    "    cowin_vaccine_data_districtwise_master.reset_index(inplace=True,drop=True)\n",
    "    \n",
    "    cowin_vaccine_data_districtwise_latest=pd.merge(cowin_vaccine_data_districtwise_prev,cowin_vaccine_data_districtwise_master,\n",
    "                                                   left_on=[(\"State_Code\",\" \"),(\"State\",\" \"),(\"District_Key\",\" \"),(\"District\",\" \")],\n",
    "                                                   right_on=[(\"State_Code\",\" \"),(\"State\",\" \"),(\"District_Key\",\" \"),(\"District\",\" \")],\n",
    "                                                   how=\"left\")\n",
    "    cowin_vaccine_data_districtwise_latest.to_csv(\"cowin_vaccine_data_districtwise.csv\",index=False)\n"
   ]
  }
 ],
 "metadata": {
  "kernelspec": {
   "display_name": "Python 3",
   "language": "python",
   "name": "python3"
  },
  "language_info": {
   "codemirror_mode": {
    "name": "ipython",
    "version": 3
   },
   "file_extension": ".py",
   "mimetype": "text/x-python",
   "name": "python",
   "nbconvert_exporter": "python",
   "pygments_lexer": "ipython3",
   "version": "3.8.3"
  }
 },
 "nbformat": 4,
 "nbformat_minor": 4
}
