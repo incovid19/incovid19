{
 "cells": [
  {
   "cell_type": "code",
   "execution_count": 4,
   "metadata": {},
   "outputs": [],
   "source": [
    "import pandas as pd\n",
    "import numpy as np\n",
    "from datetime import datetime, timedelta"
   ]
  },
  {
   "cell_type": "code",
   "execution_count": 5,
   "metadata": {},
   "outputs": [],
   "source": [
    "STATE_NAMES = {\n",
    "  'AP': 'Andhra Pradesh',\n",
    "  'AR': 'Arunachal Pradesh',\n",
    "  'AS': 'Assam',\n",
    "  'BR': 'Bihar',\n",
    "  'CT': 'Chhattisgarh',\n",
    "  'GA': 'Goa',\n",
    "  'GJ': 'Gujarat',\n",
    "  'HR': 'Haryana',\n",
    "  'HP': 'Himachal Pradesh',\n",
    "  'JH': 'Jharkhand',\n",
    "  'KA': 'Karnataka',\n",
    "  'KL': 'Kerala',\n",
    "  'MP': 'Madhya Pradesh',\n",
    "  'MH': 'Maharashtra',\n",
    "  'MN': 'Manipur',\n",
    "  'ML': 'Meghalaya',\n",
    "  'MZ': 'Mizoram',\n",
    "  'NL': 'Nagaland',\n",
    "  'OR': 'Odisha',\n",
    "  'PB': 'Punjab',\n",
    "  'RJ': 'Rajasthan',\n",
    "  'SK': 'Sikkim',\n",
    "  'TN': 'Tamil Nadu',\n",
    "  'TG': 'Telangana',\n",
    "  'TR': 'Tripura',\n",
    "  'UT': 'Uttarakhand',\n",
    "  'UP': 'Uttar Pradesh',\n",
    "  'WB': 'West Bengal',\n",
    "  'AN': 'Andaman and Nicobar Islands',\n",
    "  'CH': 'Chandigarh',\n",
    "  'DN': 'Dadra and Nagar Haveli and Daman and Diu',\n",
    "  'DL': 'Delhi',\n",
    "  'JK': 'Jammu and Kashmir',\n",
    "  'LA': 'Ladakh',\n",
    "  'LD': 'Lakshadweep',\n",
    "  'PY': 'Puducherry',\n",
    "  'TT': 'India',\n",
    " # [UNASSIGNED_STATE_CODE]: 'Unassigned',\n",
    "}"
   ]
  },
  {
   "cell_type": "code",
   "execution_count": 6,
   "metadata": {},
   "outputs": [],
   "source": [
    "#Change the date here to get historical dates\n",
    "date_=datetime.strptime('2021-10-31',\"%Y-%m-%d\")\n",
    "dates_list= [date_+timedelta(days=i) for i in range(25)]"
   ]
  },
  {
   "cell_type": "code",
   "execution_count": 7,
   "metadata": {},
   "outputs": [],
   "source": [
    "source_path=\"../RAWCSV\""
   ]
  },
  {
   "cell_type": "code",
   "execution_count": 8,
   "metadata": {},
   "outputs": [
    {
     "name": "stdout",
     "output_type": "stream",
     "text": [
      "2021-10-31\n"
     ]
    },
    {
     "ename": "KeyError",
     "evalue": "('State_Code', ' ')",
     "output_type": "error",
     "traceback": [
      "\u001b[0;31m---------------------------------------------------------------------------\u001b[0m",
      "\u001b[0;31mKeyError\u001b[0m                                  Traceback (most recent call last)",
      "\u001b[0;32m<ipython-input-8-e6cceacbac41>\u001b[0m in \u001b[0;36m<module>\u001b[0;34m\u001b[0m\n\u001b[1;32m     36\u001b[0m                                                    \u001b[0mleft_on\u001b[0m\u001b[0;34m=\u001b[0m\u001b[0;34m[\u001b[0m\u001b[0;34m(\u001b[0m\u001b[0;34m\"State_Code\"\u001b[0m\u001b[0;34m,\u001b[0m\u001b[0;34m\" \"\u001b[0m\u001b[0;34m)\u001b[0m\u001b[0;34m,\u001b[0m\u001b[0;34m(\u001b[0m\u001b[0;34m\"State\"\u001b[0m\u001b[0;34m,\u001b[0m\u001b[0;34m\" \"\u001b[0m\u001b[0;34m)\u001b[0m\u001b[0;34m,\u001b[0m\u001b[0;34m(\u001b[0m\u001b[0;34m\"District_Key\"\u001b[0m\u001b[0;34m,\u001b[0m\u001b[0;34m\" \"\u001b[0m\u001b[0;34m)\u001b[0m\u001b[0;34m,\u001b[0m\u001b[0;34m(\u001b[0m\u001b[0;34m\"District\"\u001b[0m\u001b[0;34m,\u001b[0m\u001b[0;34m\" \"\u001b[0m\u001b[0;34m)\u001b[0m\u001b[0;34m]\u001b[0m\u001b[0;34m,\u001b[0m\u001b[0;34m\u001b[0m\u001b[0;34m\u001b[0m\u001b[0m\n\u001b[1;32m     37\u001b[0m                                                    \u001b[0mright_on\u001b[0m\u001b[0;34m=\u001b[0m\u001b[0;34m[\u001b[0m\u001b[0;34m(\u001b[0m\u001b[0;34m\"State_Code\"\u001b[0m\u001b[0;34m,\u001b[0m\u001b[0;34m\" \"\u001b[0m\u001b[0;34m)\u001b[0m\u001b[0;34m,\u001b[0m\u001b[0;34m(\u001b[0m\u001b[0;34m\"State\"\u001b[0m\u001b[0;34m,\u001b[0m\u001b[0;34m\" \"\u001b[0m\u001b[0;34m)\u001b[0m\u001b[0;34m,\u001b[0m\u001b[0;34m(\u001b[0m\u001b[0;34m\"District_Key\"\u001b[0m\u001b[0;34m,\u001b[0m\u001b[0;34m\" \"\u001b[0m\u001b[0;34m)\u001b[0m\u001b[0;34m,\u001b[0m\u001b[0;34m(\u001b[0m\u001b[0;34m\"District\"\u001b[0m\u001b[0;34m,\u001b[0m\u001b[0;34m\" \"\u001b[0m\u001b[0;34m)\u001b[0m\u001b[0;34m]\u001b[0m\u001b[0;34m,\u001b[0m\u001b[0;34m\u001b[0m\u001b[0;34m\u001b[0m\u001b[0m\n\u001b[0;32m---> 38\u001b[0;31m                                                    how=\"left\")\n\u001b[0m\u001b[1;32m     39\u001b[0m     \u001b[0mcowin_vaccine_data_districtwise_latest\u001b[0m \u001b[0;34m=\u001b[0m \u001b[0mcowin_vaccine_data_districtwise_latest\u001b[0m\u001b[0;34m.\u001b[0m\u001b[0mdrop_duplicates\u001b[0m\u001b[0;34m(\u001b[0m\u001b[0;34m)\u001b[0m\u001b[0;34m\u001b[0m\u001b[0;34m\u001b[0m\u001b[0m\n\u001b[1;32m     40\u001b[0m     \u001b[0mcowin_vaccine_data_districtwise_latest\u001b[0m\u001b[0;34m.\u001b[0m\u001b[0mto_csv\u001b[0m\u001b[0;34m(\u001b[0m\u001b[0;34m\"/home/swiadmin/test/csv/latest/cowin_vaccine_data_districtwise.csv\"\u001b[0m\u001b[0;34m,\u001b[0m\u001b[0mindex\u001b[0m\u001b[0;34m=\u001b[0m\u001b[0;32mFalse\u001b[0m\u001b[0;34m)\u001b[0m\u001b[0;34m\u001b[0m\u001b[0;34m\u001b[0m\u001b[0m\n",
      "\u001b[0;32m~/Incovid19/incovid19/env/lib/python3.6/site-packages/pandas/core/reshape/merge.py\u001b[0m in \u001b[0;36mmerge\u001b[0;34m(left, right, how, on, left_on, right_on, left_index, right_index, sort, suffixes, copy, indicator, validate)\u001b[0m\n\u001b[1;32m     85\u001b[0m         \u001b[0mcopy\u001b[0m\u001b[0;34m=\u001b[0m\u001b[0mcopy\u001b[0m\u001b[0;34m,\u001b[0m\u001b[0;34m\u001b[0m\u001b[0;34m\u001b[0m\u001b[0m\n\u001b[1;32m     86\u001b[0m         \u001b[0mindicator\u001b[0m\u001b[0;34m=\u001b[0m\u001b[0mindicator\u001b[0m\u001b[0;34m,\u001b[0m\u001b[0;34m\u001b[0m\u001b[0;34m\u001b[0m\u001b[0m\n\u001b[0;32m---> 87\u001b[0;31m         \u001b[0mvalidate\u001b[0m\u001b[0;34m=\u001b[0m\u001b[0mvalidate\u001b[0m\u001b[0;34m,\u001b[0m\u001b[0;34m\u001b[0m\u001b[0;34m\u001b[0m\u001b[0m\n\u001b[0m\u001b[1;32m     88\u001b[0m     )\n\u001b[1;32m     89\u001b[0m     \u001b[0;32mreturn\u001b[0m \u001b[0mop\u001b[0m\u001b[0;34m.\u001b[0m\u001b[0mget_result\u001b[0m\u001b[0;34m(\u001b[0m\u001b[0;34m)\u001b[0m\u001b[0;34m\u001b[0m\u001b[0;34m\u001b[0m\u001b[0m\n",
      "\u001b[0;32m~/Incovid19/incovid19/env/lib/python3.6/site-packages/pandas/core/reshape/merge.py\u001b[0m in \u001b[0;36m__init__\u001b[0;34m(self, left, right, how, on, left_on, right_on, axis, left_index, right_index, sort, suffixes, copy, indicator, validate)\u001b[0m\n\u001b[1;32m    650\u001b[0m             \u001b[0mself\u001b[0m\u001b[0;34m.\u001b[0m\u001b[0mright_join_keys\u001b[0m\u001b[0;34m,\u001b[0m\u001b[0;34m\u001b[0m\u001b[0;34m\u001b[0m\u001b[0m\n\u001b[1;32m    651\u001b[0m             \u001b[0mself\u001b[0m\u001b[0;34m.\u001b[0m\u001b[0mjoin_names\u001b[0m\u001b[0;34m,\u001b[0m\u001b[0;34m\u001b[0m\u001b[0;34m\u001b[0m\u001b[0m\n\u001b[0;32m--> 652\u001b[0;31m         ) = self._get_merge_keys()\n\u001b[0m\u001b[1;32m    653\u001b[0m \u001b[0;34m\u001b[0m\u001b[0m\n\u001b[1;32m    654\u001b[0m         \u001b[0;31m# validate the merge keys dtypes. We may need to coerce\u001b[0m\u001b[0;34m\u001b[0m\u001b[0;34m\u001b[0m\u001b[0;34m\u001b[0m\u001b[0m\n",
      "\u001b[0;32m~/Incovid19/incovid19/env/lib/python3.6/site-packages/pandas/core/reshape/merge.py\u001b[0m in \u001b[0;36m_get_merge_keys\u001b[0;34m(self)\u001b[0m\n\u001b[1;32m   1016\u001b[0m                         \u001b[0mright_keys\u001b[0m\u001b[0;34m.\u001b[0m\u001b[0mappend\u001b[0m\u001b[0;34m(\u001b[0m\u001b[0mrk\u001b[0m\u001b[0;34m)\u001b[0m\u001b[0;34m\u001b[0m\u001b[0;34m\u001b[0m\u001b[0m\n\u001b[1;32m   1017\u001b[0m                     \u001b[0;32mif\u001b[0m \u001b[0mlk\u001b[0m \u001b[0;32mis\u001b[0m \u001b[0;32mnot\u001b[0m \u001b[0;32mNone\u001b[0m\u001b[0;34m:\u001b[0m\u001b[0;34m\u001b[0m\u001b[0;34m\u001b[0m\u001b[0m\n\u001b[0;32m-> 1018\u001b[0;31m                         \u001b[0mleft_keys\u001b[0m\u001b[0;34m.\u001b[0m\u001b[0mappend\u001b[0m\u001b[0;34m(\u001b[0m\u001b[0mleft\u001b[0m\u001b[0;34m.\u001b[0m\u001b[0m_get_label_or_level_values\u001b[0m\u001b[0;34m(\u001b[0m\u001b[0mlk\u001b[0m\u001b[0;34m)\u001b[0m\u001b[0;34m)\u001b[0m\u001b[0;34m\u001b[0m\u001b[0;34m\u001b[0m\u001b[0m\n\u001b[0m\u001b[1;32m   1019\u001b[0m                         \u001b[0mjoin_names\u001b[0m\u001b[0;34m.\u001b[0m\u001b[0mappend\u001b[0m\u001b[0;34m(\u001b[0m\u001b[0mlk\u001b[0m\u001b[0;34m)\u001b[0m\u001b[0;34m\u001b[0m\u001b[0;34m\u001b[0m\u001b[0m\n\u001b[1;32m   1020\u001b[0m                     \u001b[0;32melse\u001b[0m\u001b[0;34m:\u001b[0m\u001b[0;34m\u001b[0m\u001b[0;34m\u001b[0m\u001b[0m\n",
      "\u001b[0;32m~/Incovid19/incovid19/env/lib/python3.6/site-packages/pandas/core/generic.py\u001b[0m in \u001b[0;36m_get_label_or_level_values\u001b[0;34m(self, key, axis)\u001b[0m\n\u001b[1;32m   1561\u001b[0m             \u001b[0mvalues\u001b[0m \u001b[0;34m=\u001b[0m \u001b[0mself\u001b[0m\u001b[0;34m.\u001b[0m\u001b[0maxes\u001b[0m\u001b[0;34m[\u001b[0m\u001b[0maxis\u001b[0m\u001b[0;34m]\u001b[0m\u001b[0;34m.\u001b[0m\u001b[0mget_level_values\u001b[0m\u001b[0;34m(\u001b[0m\u001b[0mkey\u001b[0m\u001b[0;34m)\u001b[0m\u001b[0;34m.\u001b[0m\u001b[0m_values\u001b[0m\u001b[0;34m\u001b[0m\u001b[0;34m\u001b[0m\u001b[0m\n\u001b[1;32m   1562\u001b[0m         \u001b[0;32melse\u001b[0m\u001b[0;34m:\u001b[0m\u001b[0;34m\u001b[0m\u001b[0;34m\u001b[0m\u001b[0m\n\u001b[0;32m-> 1563\u001b[0;31m             \u001b[0;32mraise\u001b[0m \u001b[0mKeyError\u001b[0m\u001b[0;34m(\u001b[0m\u001b[0mkey\u001b[0m\u001b[0;34m)\u001b[0m\u001b[0;34m\u001b[0m\u001b[0;34m\u001b[0m\u001b[0m\n\u001b[0m\u001b[1;32m   1564\u001b[0m \u001b[0;34m\u001b[0m\u001b[0m\n\u001b[1;32m   1565\u001b[0m         \u001b[0;31m# Check for duplicates\u001b[0m\u001b[0;34m\u001b[0m\u001b[0;34m\u001b[0m\u001b[0;34m\u001b[0m\u001b[0m\n",
      "\u001b[0;31mKeyError\u001b[0m: ('State_Code', ' ')"
     ]
    }
   ],
   "source": [
    "for Date in dates_list:\n",
    "    if not isinstance(Date,str):\n",
    "        Date=Date.strftime(\"%Y-%m-%d\")\n",
    "    print(Date)\n",
    "    cowin_vaccine_data_districtwise_prev=pd.read_csv(\"/home/swiadmin/test/csv/latest/cowin_vaccine_data_districtwise.csv\",header=[0,1])\n",
    "    cowin_vaccine_data_districtwise_master=pd.DataFrame()\n",
    "    for state in STATE_NAMES.keys():\n",
    "        if state==\"TT\":\n",
    "            continue\n",
    "#         print(state)\n",
    "        state_=pd.read_csv(f\"{source_path}/{Date}/{state}_final.csv\")\n",
    "        state_.dropna(subset=[\"District\"],axis=0,inplace=True)\n",
    "        state_.reset_index(inplace=True,drop=True)\n",
    "        temp_state_df=pd.DataFrame()\n",
    "        temp_state_df[\"District\"]=state_[\"District\"]\n",
    "        temp_state_df[\"State_Code\"]=state\n",
    "        temp_state_df[\"State\"]=temp_state_df[\"State_Code\"].map(STATE_NAMES)\n",
    "        temp_state_df[\"District_Key\"]=temp_state_df.apply(lambda rw: rw[\"State_Code\"]+\"_\"+rw[\"District\"],axis=1)\n",
    "        temp_state_df[\"First Dose Administered\"]=state_[\"cumulativeVaccinated1NumberForDistrict\"]\n",
    "        temp_state_df[\"Second Dose Administered\"]=state_[\"cumulativeVaccinated2NumberForDistrict\"]\n",
    "        temp_state_df[\"Total Dose Administered\"]=temp_state_df[\"First Dose Administered\"]+temp_state_df[\"Second Dose Administered\"]\n",
    "        cowin_vaccine_data_districtwise_master=pd.concat([cowin_vaccine_data_districtwise_master,temp_state_df],axis=0)\n",
    "    \n",
    "    if not isinstance(Date,str):\n",
    "            Date=Date.strftime(\"%Y-%m-%d\")\n",
    "\n",
    "    columns=pd.MultiIndex.from_tuples(zip([\"State_Code\",\"State\",\n",
    "                \"District_Key\",\"District\",Date,Date,Date],\n",
    "               [\" \",\" \",\" \",\" \",\"Total Doses Administered\",\n",
    "                \"First Dose Administered\",\"Second Dose Administered\"\n",
    "               ]))\n",
    "    cowin_vaccine_data_districtwise_master.columns=columns\n",
    "    cowin_vaccine_data_districtwise_master.reset_index(inplace=True,drop=True)\n",
    "    \n",
    "    cowin_vaccine_data_districtwise_latest=pd.merge(cowin_vaccine_data_districtwise_prev,cowin_vaccine_data_districtwise_master,\n",
    "                                                   left_on=[(\"State_Code\",\" \"),(\"State\",\" \"),(\"District_Key\",\" \"),(\"District\",\" \")],\n",
    "                                                   right_on=[(\"State_Code\",\" \"),(\"State\",\" \"),(\"District_Key\",\" \"),(\"District\",\" \")],\n",
    "                                                   how=\"left\")\n",
    "    cowin_vaccine_data_districtwise_latest = cowin_vaccine_data_districtwise_latest.drop_duplicates()\n",
    "    cowin_vaccine_data_districtwise_latest.to_csv(\"/home/swiadmin/test/csv/latest/cowin_vaccine_data_districtwise.csv\",index=False)"
   ]
  },
  {
   "cell_type": "code",
   "execution_count": null,
   "metadata": {},
   "outputs": [],
   "source": []
  }
 ],
 "metadata": {
  "kernelspec": {
   "display_name": "Python 3",
   "language": "python",
   "name": "python3"
  },
  "language_info": {
   "codemirror_mode": {
    "name": "ipython",
    "version": 3
   },
   "file_extension": ".py",
   "mimetype": "text/x-python",
   "name": "python",
   "nbconvert_exporter": "python",
   "pygments_lexer": "ipython3",
   "version": "3.6.9"
  }
 },
 "nbformat": 4,
 "nbformat_minor": 4
}
