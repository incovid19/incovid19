{
 "cells": [
  {
   "cell_type": "code",
   "execution_count": 21,
   "metadata": {},
   "outputs": [],
   "source": [
    "import pandas as pd\n",
    "import numpy as np\n",
    "from datetime import datetime, timedelta"
   ]
  },
  {
   "cell_type": "code",
   "execution_count": 22,
   "metadata": {},
   "outputs": [],
   "source": [
    "STATE_NAMES = {\n",
    "  'AP': 'Andhra Pradesh',\n",
    "  'AR': 'Arunachal Pradesh',\n",
    "  'AS': 'Assam',\n",
    "  'BR': 'Bihar',\n",
    "  'CT': 'Chhattisgarh',\n",
    "  'GA': 'Goa',\n",
    "  'GJ': 'Gujarat',\n",
    "  'HR': 'Haryana',\n",
    "  'HP': 'Himachal Pradesh',\n",
    "  'JH': 'Jharkhand',\n",
    "  'KA': 'Karnataka',\n",
    "  'KL': 'Kerala',\n",
    "  'MP': 'Madhya Pradesh',\n",
    "  'MH': 'Maharashtra',\n",
    "  'MN': 'Manipur',\n",
    "  'ML': 'Meghalaya',\n",
    "  'MZ': 'Mizoram',\n",
    "  'NL': 'Nagaland',\n",
    "  'OR': 'Odisha',\n",
    "  'PB': 'Punjab',\n",
    "  'RJ': 'Rajasthan',\n",
    "  'SK': 'Sikkim',\n",
    "  'TN': 'Tamil Nadu',\n",
    "  'TG': 'Telangana',\n",
    "  'TR': 'Tripura',\n",
    "  'UT': 'Uttarakhand',\n",
    "  'UP': 'Uttar Pradesh',\n",
    "  'WB': 'West Bengal',\n",
    "  'AN': 'Andaman and Nicobar Islands',\n",
    "  'CH': 'Chandigarh',\n",
    "  'DN': 'Dadra and Nagar Haveli and Daman and Diu',\n",
    "  'DL': 'Delhi',\n",
    "  'JK': 'Jammu and Kashmir',\n",
    "  'LA': 'Ladakh',\n",
    "  'LD': 'Lakshadweep',\n",
    "  'PY': 'Puducherry',\n",
    "  'TT': 'India',\n",
    " # [UNASSIGNED_STATE_CODE]: 'Unassigned',\n",
    "}"
   ]
  },
  {
   "cell_type": "code",
   "execution_count": 43,
   "metadata": {},
   "outputs": [
    {
     "data": {
      "text/plain": [
       "[datetime.datetime(2021, 11, 1, 0, 0),\n",
       " datetime.datetime(2021, 11, 2, 0, 0),\n",
       " datetime.datetime(2021, 11, 3, 0, 0),\n",
       " datetime.datetime(2021, 11, 4, 0, 0),\n",
       " datetime.datetime(2021, 11, 5, 0, 0),\n",
       " datetime.datetime(2021, 11, 6, 0, 0),\n",
       " datetime.datetime(2021, 11, 7, 0, 0),\n",
       " datetime.datetime(2021, 11, 8, 0, 0),\n",
       " datetime.datetime(2021, 11, 9, 0, 0),\n",
       " datetime.datetime(2021, 11, 10, 0, 0),\n",
       " datetime.datetime(2021, 11, 11, 0, 0),\n",
       " datetime.datetime(2021, 11, 12, 0, 0),\n",
       " datetime.datetime(2021, 11, 13, 0, 0),\n",
       " datetime.datetime(2021, 11, 14, 0, 0),\n",
       " datetime.datetime(2021, 11, 15, 0, 0),\n",
       " datetime.datetime(2021, 11, 16, 0, 0),\n",
       " datetime.datetime(2021, 11, 17, 0, 0),\n",
       " datetime.datetime(2021, 11, 18, 0, 0),\n",
       " datetime.datetime(2021, 11, 19, 0, 0),\n",
       " datetime.datetime(2021, 11, 20, 0, 0),\n",
       " datetime.datetime(2021, 11, 21, 0, 0),\n",
       " datetime.datetime(2021, 11, 22, 0, 0),\n",
       " datetime.datetime(2021, 11, 23, 0, 0),\n",
       " datetime.datetime(2021, 11, 24, 0, 0),\n",
       " datetime.datetime(2021, 11, 25, 0, 0),\n",
       " datetime.datetime(2021, 11, 26, 0, 0),\n",
       " datetime.datetime(2021, 11, 27, 0, 0),\n",
       " datetime.datetime(2021, 11, 28, 0, 0),\n",
       " datetime.datetime(2021, 11, 29, 0, 0),\n",
       " datetime.datetime(2021, 11, 30, 0, 0),\n",
       " datetime.datetime(2021, 12, 1, 0, 0),\n",
       " datetime.datetime(2021, 12, 2, 0, 0)]"
      ]
     },
     "execution_count": 43,
     "metadata": {},
     "output_type": "execute_result"
    }
   ],
   "source": [
    "#Change the date here to get historical dates\n",
    "date_=datetime.strptime('2021-11-01',\"%Y-%m-%d\")\n",
    "dates_list= [date_+timedelta(days=i) for i in range(32)]\n",
    "dates_list"
   ]
  },
  {
   "cell_type": "code",
   "execution_count": 44,
   "metadata": {},
   "outputs": [],
   "source": [
    "source_path=\"../RAWCSV\""
   ]
  },
  {
   "cell_type": "code",
   "execution_count": 45,
   "metadata": {},
   "outputs": [
    {
     "name": "stdout",
     "output_type": "stream",
     "text": [
      "2021-11-01\n",
      "2021-11-02\n",
      "2021-11-03\n",
      "2021-11-04\n",
      "2021-11-05\n",
      "2021-11-06\n",
      "2021-11-07\n",
      "2021-11-08\n",
      "2021-11-09\n",
      "2021-11-10\n",
      "2021-11-11\n",
      "2021-11-12\n",
      "2021-11-13\n",
      "2021-11-14\n",
      "2021-11-15\n",
      "2021-11-16\n",
      "2021-11-17\n",
      "2021-11-18\n",
      "2021-11-19\n",
      "2021-11-20\n",
      "2021-11-21\n",
      "2021-11-22\n",
      "2021-11-23\n",
      "2021-11-24\n",
      "2021-11-25\n",
      "2021-11-26\n",
      "2021-11-27\n",
      "2021-11-28\n",
      "2021-11-29\n",
      "2021-11-30\n",
      "2021-12-01\n",
      "2021-12-02\n"
     ]
    }
   ],
   "source": [
    "for Date in dates_list:\n",
    "    tdate = Date\n",
    "    date=tdate.strftime(\"%d/%m/%Y\")\n",
    "    if not isinstance(Date,str):\n",
    "        Date=Date.strftime(\"%Y-%m-%d\")\n",
    "    print(Date)\n",
    "    # /home/swiadmin/test/csv/latest/\n",
    "    cowin_vaccine_data_districtwise_prev=pd.read_csv(\"/home/swiadmin/test/csv/latest/cowin_vaccine_data_districtwise.csv\",header=[0,1])\n",
    "    try:\n",
    "        cowin_vaccine_data_districtwise_prev = cowin_vaccine_data_districtwise_prev.drop([date],axis=1)\n",
    "    except:\n",
    "        pass\n",
    "    cowin_vaccine_data_districtwise_master=pd.DataFrame()\n",
    "    for state in STATE_NAMES.keys():\n",
    "        if state==\"TT\":\n",
    "            continue\n",
    "#         print(state)\n",
    "        state_=pd.read_csv(f\"{source_path}/{Date}/{state}_final.csv\")\n",
    "        state_.dropna(subset=[\"District\"],axis=0,inplace=True)\n",
    "        state_.reset_index(inplace=True,drop=True)\n",
    "        temp_state_df=pd.DataFrame()\n",
    "        temp_state_df[\"District\"]=state_[\"District\"]\n",
    "        temp_state_df[\"State_Code\"]=state\n",
    "        temp_state_df[\"State\"]=temp_state_df[\"State_Code\"].map(STATE_NAMES)\n",
    "        temp_state_df[\"District_Key\"]=temp_state_df.apply(lambda rw: rw[\"State_Code\"]+\"_\"+rw[\"District\"],axis=1)\n",
    "        temp_state_df[\"First Dose Administered\"]=state_[\"cumulativeVaccinated1NumberForDistrict\"]\n",
    "        temp_state_df[\"Second Dose Administered\"]=state_[\"cumulativeVaccinated2NumberForDistrict\"]\n",
    "        temp_state_df[\"Total Dose Administered\"]=temp_state_df[\"First Dose Administered\"]+temp_state_df[\"Second Dose Administered\"]\n",
    "        cowin_vaccine_data_districtwise_master=pd.concat([cowin_vaccine_data_districtwise_master,temp_state_df],axis=0)\n",
    "    \n",
    "    # if not isinstance(Date,str):\n",
    "    \n",
    "\n",
    "    columns=pd.MultiIndex.from_tuples(zip([\"District\",\"State_Code\",\"State\",\n",
    "                \"District_Key\",date,date,date],\n",
    "               [\" \",\" \",\" \",\" \",\"Total Doses Administered\",\n",
    "                \"First Dose Administered\",\"Second Dose Administered\"\n",
    "               ]))\n",
    "    cowin_vaccine_data_districtwise_master.columns=columns\n",
    "    cowin_vaccine_data_districtwise_master.reset_index(inplace=True,drop=True)\n",
    "    \n",
    "    cowin_vaccine_data_districtwise_latest=pd.merge(cowin_vaccine_data_districtwise_prev,cowin_vaccine_data_districtwise_master,\n",
    "                                                   left_on=[(\"State_Code\",\" \"),(\"State\",\" \"),(\"District_Key\",\" \"),(\"District\",\" \")],\n",
    "                                                   right_on=[(\"State_Code\",\" \"),(\"State\",\" \"),(\"District_Key\",\" \"),(\"District\",\" \")],\n",
    "                                                   how=\"left\")\n",
    "    cowin_vaccine_data_districtwise_latest = cowin_vaccine_data_districtwise_latest.drop_duplicates()\n",
    "    cowin_vaccine_data_districtwise_latest.to_csv(\"/home/swiadmin/test/csv/latest/cowin_vaccine_data_districtwise.csv\",index=False)"
   ]
  },
  {
   "cell_type": "code",
   "execution_count": null,
   "metadata": {},
   "outputs": [],
   "source": []
  }
 ],
 "metadata": {
  "kernelspec": {
   "display_name": "Python 3",
   "language": "python",
   "name": "python3"
  },
  "language_info": {
   "codemirror_mode": {
    "name": "ipython",
    "version": 3
   },
   "file_extension": ".py",
   "mimetype": "text/x-python",
   "name": "python",
   "nbconvert_exporter": "python",
   "pygments_lexer": "ipython3",
   "version": "3.6.9"
  }
 },
 "nbformat": 4,
 "nbformat_minor": 4
}
