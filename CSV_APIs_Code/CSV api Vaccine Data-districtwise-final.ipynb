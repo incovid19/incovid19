{
 "cells": [
  {
   "cell_type": "code",
   "execution_count": 7,
   "metadata": {},
   "outputs": [],
   "source": [
    "import pandas as pd\n",
    "import numpy as np\n",
    "from datetime import datetime, timedelta"
   ]
  },
  {
   "cell_type": "code",
   "execution_count": 8,
   "metadata": {},
   "outputs": [],
   "source": [
    "STATE_NAMES = {\n",
    "  'AP': 'Andhra Pradesh',\n",
    "  'AR': 'Arunachal Pradesh',\n",
    "  'AS': 'Assam',\n",
    "  'BR': 'Bihar',\n",
    "  'CT': 'Chhattisgarh',\n",
    "  'GA': 'Goa',\n",
    "  'GJ': 'Gujarat',\n",
    "  'HR': 'Haryana',\n",
    "  'HP': 'Himachal Pradesh',\n",
    "  'JH': 'Jharkhand',\n",
    "  'KA': 'Karnataka',\n",
    "  'KL': 'Kerala',\n",
    "  'MP': 'Madhya Pradesh',\n",
    "  'MH': 'Maharashtra',\n",
    "  'MN': 'Manipur',\n",
    "  'ML': 'Meghalaya',\n",
    "  'MZ': 'Mizoram',\n",
    "  'NL': 'Nagaland',\n",
    "  'OR': 'Odisha',\n",
    "  'PB': 'Punjab',\n",
    "  'RJ': 'Rajasthan',\n",
    "  'SK': 'Sikkim',\n",
    "  'TN': 'Tamil Nadu',\n",
    "  'TG': 'Telangana',\n",
    "  'TR': 'Tripura',\n",
    "  'UT': 'Uttarakhand',\n",
    "  'UP': 'Uttar Pradesh',\n",
    "  'WB': 'West Bengal',\n",
    "  'AN': 'Andaman and Nicobar Islands',\n",
    "  'CH': 'Chandigarh',\n",
    "  'DN': 'Dadra and Nagar Haveli and Daman and Diu',\n",
    "  'DL': 'Delhi',\n",
    "  'JK': 'Jammu and Kashmir',\n",
    "  'LA': 'Ladakh',\n",
    "  'LD': 'Lakshadweep',\n",
    "  'PY': 'Puducherry',\n",
    "  'TT': 'India',\n",
    " # [UNASSIGNED_STATE_CODE]: 'Unassigned',\n",
    "}"
   ]
  },
  {
   "cell_type": "code",
   "execution_count": 9,
   "metadata": {},
   "outputs": [
    {
     "data": {
      "text/plain": [
       "[datetime.datetime(2021, 11, 30, 0, 0)]"
      ]
     },
     "execution_count": 9,
     "metadata": {},
     "output_type": "execute_result"
    }
   ],
   "source": [
    "#Change the date here to get historical dates\n",
    "date_=datetime.strptime('2021-11-30',\"%Y-%m-%d\")\n",
    "dates_list= [date_+timedelta(days=i) for i in range(1)]\n",
    "dates_list"
   ]
  },
  {
   "cell_type": "code",
   "execution_count": 10,
   "metadata": {},
   "outputs": [],
   "source": [
    "source_path=\"../RAWCSV\""
   ]
  },
  {
   "cell_type": "code",
   "execution_count": 11,
   "metadata": {},
   "outputs": [
    {
     "name": "stdout",
     "output_type": "stream",
     "text": [
      "2021-11-30\n"
     ]
    }
   ],
   "source": [
    "for Date in dates_list:\n",
    "    if not isinstance(Date,str):\n",
    "        Date=Date.strftime(\"%Y-%m-%d\")\n",
    "    print(Date)\n",
    "    # /home/swiadmin/test/csv/latest/\n",
    "    cowin_vaccine_data_districtwise_prev=pd.read_csv(\"cowin_vaccine_data_districtwise.csv\",header=[0,1])\n",
    "    cowin_vaccine_data_districtwise_master=pd.DataFrame()\n",
    "    for state in STATE_NAMES.keys():\n",
    "        if state==\"TT\":\n",
    "            continue\n",
    "#         print(state)\n",
    "        state_=pd.read_csv(f\"{source_path}/{Date}/{state}_final.csv\")\n",
    "        state_.dropna(subset=[\"District\"],axis=0,inplace=True)\n",
    "        state_.reset_index(inplace=True,drop=True)\n",
    "        temp_state_df=pd.DataFrame()\n",
    "        temp_state_df[\"District\"]=state_[\"District\"]\n",
    "        temp_state_df[\"State_Code\"]=state\n",
    "        temp_state_df[\"State\"]=temp_state_df[\"State_Code\"].map(STATE_NAMES)\n",
    "        temp_state_df[\"District_Key\"]=temp_state_df.apply(lambda rw: rw[\"State_Code\"]+\"_\"+rw[\"District\"],axis=1)\n",
    "        temp_state_df[\"First Dose Administered\"]=state_[\"cumulativeVaccinated1NumberForDistrict\"]\n",
    "        temp_state_df[\"Second Dose Administered\"]=state_[\"cumulativeVaccinated2NumberForDistrict\"]\n",
    "        temp_state_df[\"Total Dose Administered\"]=temp_state_df[\"First Dose Administered\"]+temp_state_df[\"Second Dose Administered\"]\n",
    "        cowin_vaccine_data_districtwise_master=pd.concat([cowin_vaccine_data_districtwise_master,temp_state_df],axis=0)\n",
    "    \n",
    "    if not isinstance(Date,str):\n",
    "            Date=Date.strftime(\"%Y-%m-%d\")\n",
    "\n",
    "    columns=pd.MultiIndex.from_tuples(zip([\"State_Code\",\"State\",\n",
    "                \"District_Key\",\"District\",Date,Date,Date],\n",
    "               [\" \",\" \",\" \",\" \",\"Total Doses Administered\",\n",
    "                \"First Dose Administered\",\"Second Dose Administered\"\n",
    "               ]))\n",
    "    cowin_vaccine_data_districtwise_master.columns=columns\n",
    "    cowin_vaccine_data_districtwise_master.reset_index(inplace=True,drop=True)\n",
    "    \n",
    "    cowin_vaccine_data_districtwise_latest=pd.merge(cowin_vaccine_data_districtwise_prev,cowin_vaccine_data_districtwise_master,\n",
    "                                                   left_on=[(\"State_Code\",\" \"),(\"State\",\" \"),(\"District_Key\",\" \"),(\"District\",\" \")],\n",
    "                                                   right_on=[(\"State_Code\",\" \"),(\"State\",\" \"),(\"District_Key\",\" \"),(\"District\",\" \")],\n",
    "                                                   how=\"left\")\n",
    "    cowin_vaccine_data_districtwise_latest = cowin_vaccine_data_districtwise_latest.drop_duplicates()\n",
    "    cowin_vaccine_data_districtwise_latest.to_csv(\"cowin_vaccine_data_districtwise.csv\",index=False)"
   ]
  },
  {
   "cell_type": "code",
   "execution_count": 12,
   "metadata": {},
   "outputs": [
    {
     "data": {
      "text/html": [
       "<div>\n",
       "<style scoped>\n",
       "    .dataframe tbody tr th:only-of-type {\n",
       "        vertical-align: middle;\n",
       "    }\n",
       "\n",
       "    .dataframe tbody tr th {\n",
       "        vertical-align: top;\n",
       "    }\n",
       "\n",
       "    .dataframe thead th {\n",
       "        text-align: right;\n",
       "    }\n",
       "</style>\n",
       "<table border=\"1\" class=\"dataframe\">\n",
       "  <thead>\n",
       "    <tr style=\"text-align: right;\">\n",
       "      <th></th>\n",
       "      <th>District</th>\n",
       "      <th>State_Code</th>\n",
       "      <th>State</th>\n",
       "      <th>District_Key</th>\n",
       "      <th>First Dose Administered</th>\n",
       "      <th>Second Dose Administered</th>\n",
       "      <th>Total Dose Administered</th>\n",
       "    </tr>\n",
       "  </thead>\n",
       "  <tbody>\n",
       "    <tr>\n",
       "      <th>0</th>\n",
       "      <td>Karaikal</td>\n",
       "      <td>PY</td>\n",
       "      <td>Puducherry</td>\n",
       "      <td>PY_Karaikal</td>\n",
       "      <td>116158</td>\n",
       "      <td>73031</td>\n",
       "      <td>189189</td>\n",
       "    </tr>\n",
       "    <tr>\n",
       "      <th>1</th>\n",
       "      <td>Mahe</td>\n",
       "      <td>PY</td>\n",
       "      <td>Puducherry</td>\n",
       "      <td>PY_Mahe</td>\n",
       "      <td>34435</td>\n",
       "      <td>29992</td>\n",
       "      <td>64427</td>\n",
       "    </tr>\n",
       "    <tr>\n",
       "      <th>2</th>\n",
       "      <td>Puducherry</td>\n",
       "      <td>PY</td>\n",
       "      <td>Puducherry</td>\n",
       "      <td>PY_Puducherry</td>\n",
       "      <td>585408</td>\n",
       "      <td>351891</td>\n",
       "      <td>937299</td>\n",
       "    </tr>\n",
       "    <tr>\n",
       "      <th>3</th>\n",
       "      <td>Unknown</td>\n",
       "      <td>PY</td>\n",
       "      <td>Puducherry</td>\n",
       "      <td>PY_Unknown</td>\n",
       "      <td>0</td>\n",
       "      <td>0</td>\n",
       "      <td>0</td>\n",
       "    </tr>\n",
       "    <tr>\n",
       "      <th>4</th>\n",
       "      <td>Yanam</td>\n",
       "      <td>PY</td>\n",
       "      <td>Puducherry</td>\n",
       "      <td>PY_Yanam</td>\n",
       "      <td>31368</td>\n",
       "      <td>19402</td>\n",
       "      <td>50770</td>\n",
       "    </tr>\n",
       "  </tbody>\n",
       "</table>\n",
       "</div>"
      ],
      "text/plain": [
       "     District State_Code       State   District_Key  First Dose Administered  \\\n",
       "0    Karaikal         PY  Puducherry    PY_Karaikal                   116158   \n",
       "1        Mahe         PY  Puducherry        PY_Mahe                    34435   \n",
       "2  Puducherry         PY  Puducherry  PY_Puducherry                   585408   \n",
       "3     Unknown         PY  Puducherry     PY_Unknown                        0   \n",
       "4       Yanam         PY  Puducherry       PY_Yanam                    31368   \n",
       "\n",
       "   Second Dose Administered  Total Dose Administered  \n",
       "0                     73031                   189189  \n",
       "1                     29992                    64427  \n",
       "2                    351891                   937299  \n",
       "3                         0                        0  \n",
       "4                     19402                    50770  "
      ]
     },
     "execution_count": 12,
     "metadata": {},
     "output_type": "execute_result"
    }
   ],
   "source": [
    "temp_state_df"
   ]
  },
  {
   "cell_type": "code",
   "execution_count": null,
   "metadata": {},
   "outputs": [],
   "source": []
  }
 ],
 "metadata": {
  "kernelspec": {
   "display_name": "Python 3",
   "language": "python",
   "name": "python3"
  },
  "language_info": {
   "codemirror_mode": {
    "name": "ipython",
    "version": 3
   },
   "file_extension": ".py",
   "mimetype": "text/x-python",
   "name": "python",
   "nbconvert_exporter": "python",
   "pygments_lexer": "ipython3",
   "version": "3.6.9"
  }
 },
 "nbformat": 4,
 "nbformat_minor": 4
}
