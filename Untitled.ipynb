{
 "cells": [
  {
   "cell_type": "code",
   "execution_count": 1,
   "id": "4c900ac6-3f4f-4958-8b11-44a5e7dad75b",
   "metadata": {},
   "outputs": [],
   "source": [
    "# import OS module\n",
    "import pandas as pd\n",
    "import os\n",
    "# Get the list of all files and directories\n",
    "Date = \"2021-11-31\"\n",
    "path = \"New Raw/\" + Date\n",
    "dir_list = os.listdir(path)"
   ]
  },
  {
   "cell_type": "code",
   "execution_count": 4,
   "id": "7b6726c5-382d-4805-85be-8f7257978622",
   "metadata": {},
   "outputs": [
    {
     "name": "stdout",
     "output_type": "stream",
     "text": [
      "LA_final.csv\n",
      "SK_final.csv\n",
      "MH_final.csv\n",
      "TN_final.csv\n",
      "NL_final.csv\n",
      "MZ_final.csv\n",
      "MN_final.csv\n",
      "GA_final.csv\n",
      "UT_final.csv\n",
      "JK_final.csv\n",
      "TG_final.csv\n",
      "TR_final.csv\n",
      "JH_final.csv\n",
      "ML_final.csv\n",
      "TT_final.csv\n",
      "KL_final.csv\n",
      "AR_final.csv\n",
      "AP_final.csv\n",
      "MP_final.csv\n",
      "DL_final.csv\n",
      ".ipynb_checkpoints\n",
      "DN_final.csv\n",
      "UP_final.csv\n",
      "PB_final.csv\n",
      "LD_final.csv\n",
      "BR_final.csv\n",
      "KA_final.csv\n",
      "AN_final.csv\n",
      "CH_final.csv\n",
      "RJ_final.csv\n",
      "HR_final.csv\n",
      "AS_final.csv\n",
      "HP_final.csv\n",
      "WB_final.csv\n",
      "CT_final.csv\n",
      "GJ_final.csv\n"
     ]
    }
   ],
   "source": [
    "for file in dir_list:\n",
    "    print(file)\n",
    "    if file.split(\".\")[-1] == \"csv\":\n",
    "        df = pd.read_csv(\"New Raw/\"+Date+\"/\"+str(file))\n",
    "        df[\"Date\"] = Date\n",
    "        df.to_csv(\"New Raw/\"+Date+\"/\"+str(file))"
   ]
  },
  {
   "cell_type": "code",
   "execution_count": 79,
   "id": "bb865ae4-07fe-41c9-9e76-792ce87ca30d",
   "metadata": {},
   "outputs": [],
   "source": [
    "import json\n",
    "import time\n",
    "from datetime import datetime\n",
    "    \n",
    "    \n",
    "def removeLogging(date):\n",
    "    loggingsFile = 'log.json'\n",
    "\n",
    "    with open(loggingsFile) as f:\n",
    "        data = json.load(f)\n",
    "        #data = []\n",
    "\n",
    "    data = list(filter(lambda i: i['timestamp'] != time.mktime(datetime.strptime(date,'%Y-%m-%d').timetuple())), data)\n",
    "\n",
    "    with open(loggingsFile, 'w') as f:\n",
    "        json.dump(data, f)"
   ]
  },
  {
   "cell_type": "code",
   "execution_count": 77,
   "id": "98f3007b-df3b-46d2-b294-a8f8582f440c",
   "metadata": {},
   "outputs": [],
   "source": [
    "with open(\"log.json\") as f:\n",
    "    data = json.load(f)"
   ]
  },
  {
   "cell_type": "code",
   "execution_count": 80,
   "id": "eba639e0-4de1-4ced-9bf1-eea9993cb2ef",
   "metadata": {},
   "outputs": [
    {
     "ename": "TypeError",
     "evalue": "filter expected 2 arguments, got 1",
     "output_type": "error",
     "traceback": [
      "\u001b[0;31m---------------------------------------------------------------------------\u001b[0m",
      "\u001b[0;31mTypeError\u001b[0m                                 Traceback (most recent call last)",
      "\u001b[0;32m<ipython-input-80-25863917eaa9>\u001b[0m in \u001b[0;36m<module>\u001b[0;34m\u001b[0m\n\u001b[0;32m----> 1\u001b[0;31m \u001b[0mremoveLogging\u001b[0m\u001b[0;34m(\u001b[0m\u001b[0;34m\"2021-12-10\"\u001b[0m\u001b[0;34m)\u001b[0m\u001b[0;34m\u001b[0m\u001b[0;34m\u001b[0m\u001b[0m\n\u001b[0m",
      "\u001b[0;32m<ipython-input-79-c09506a2c5f0>\u001b[0m in \u001b[0;36mremoveLogging\u001b[0;34m(date)\u001b[0m\n\u001b[1;32m     11\u001b[0m         \u001b[0;31m#data = []\u001b[0m\u001b[0;34m\u001b[0m\u001b[0;34m\u001b[0m\u001b[0;34m\u001b[0m\u001b[0m\n\u001b[1;32m     12\u001b[0m \u001b[0;34m\u001b[0m\u001b[0m\n\u001b[0;32m---> 13\u001b[0;31m     \u001b[0mdata\u001b[0m \u001b[0;34m=\u001b[0m \u001b[0mlist\u001b[0m\u001b[0;34m(\u001b[0m\u001b[0mfilter\u001b[0m\u001b[0;34m(\u001b[0m\u001b[0;32mlambda\u001b[0m \u001b[0mi\u001b[0m\u001b[0;34m:\u001b[0m \u001b[0mi\u001b[0m\u001b[0;34m[\u001b[0m\u001b[0;34m'timestamp'\u001b[0m\u001b[0;34m]\u001b[0m \u001b[0;34m!=\u001b[0m \u001b[0mtime\u001b[0m\u001b[0;34m.\u001b[0m\u001b[0mmktime\u001b[0m\u001b[0;34m(\u001b[0m\u001b[0mdatetime\u001b[0m\u001b[0;34m.\u001b[0m\u001b[0mstrptime\u001b[0m\u001b[0;34m(\u001b[0m\u001b[0mdate\u001b[0m\u001b[0;34m,\u001b[0m\u001b[0;34m'%Y-%m-%d'\u001b[0m\u001b[0;34m)\u001b[0m\u001b[0;34m.\u001b[0m\u001b[0mtimetuple\u001b[0m\u001b[0;34m(\u001b[0m\u001b[0;34m)\u001b[0m\u001b[0;34m)\u001b[0m\u001b[0;34m)\u001b[0m\u001b[0;34m,\u001b[0m \u001b[0mdata\u001b[0m\u001b[0;34m)\u001b[0m\u001b[0;34m\u001b[0m\u001b[0;34m\u001b[0m\u001b[0m\n\u001b[0m\u001b[1;32m     14\u001b[0m \u001b[0;34m\u001b[0m\u001b[0m\n\u001b[1;32m     15\u001b[0m     \u001b[0;32mwith\u001b[0m \u001b[0mopen\u001b[0m\u001b[0;34m(\u001b[0m\u001b[0mloggingsFile\u001b[0m\u001b[0;34m,\u001b[0m \u001b[0;34m'w'\u001b[0m\u001b[0;34m)\u001b[0m \u001b[0;32mas\u001b[0m \u001b[0mf\u001b[0m\u001b[0;34m:\u001b[0m\u001b[0;34m\u001b[0m\u001b[0;34m\u001b[0m\u001b[0m\n",
      "\u001b[0;31mTypeError\u001b[0m: filter expected 2 arguments, got 1"
     ]
    }
   ],
   "source": [
    "removeLogging(\"2021-12-10\")"
   ]
  },
  {
   "cell_type": "code",
   "execution_count": 78,
   "id": "585b4948-4cbb-48ce-9a03-c801f342481a",
   "metadata": {},
   "outputs": [
    {
     "data": {
      "text/plain": [
       "[]"
      ]
     },
     "execution_count": 78,
     "metadata": {},
     "output_type": "execute_result"
    }
   ],
   "source": [
    "data"
   ]
  },
  {
   "cell_type": "code",
   "execution_count": 1,
   "id": "267ec978-9e15-4203-8c31-a79bd1aae277",
   "metadata": {},
   "outputs": [],
   "source": [
    "from datetime import datetime, timedelta\n",
    "import os\n",
    "import pandas as pd\n",
    "\n",
    "def date_range_list(start, end):\n",
    "    r = (end+timedelta(days=1)-start).days\n",
    "    return [start+timedelta(days=i) for i in range(r)]\n",
    " \n",
    "def date_range(start_date,end_date):\n",
    "    end = datetime.strptime(end_date, '%Y-%m-%d')\n",
    "    start = datetime.strptime(start_date, '%Y-%m-%d')\n",
    "    dateList = date_range_list(start, end)\n",
    "    return dateList\n",
    "\n",
    "dateList = date_range(\"2021-10-31\",\"2022-02-10\")\n",
    "\n",
    "Date = []\n",
    "STATE = []\n",
    "INPUT = []\n",
    "RAW = []\n",
    "\n",
    "states = [\"PB\"]\n",
    "\n",
    "for date in dateList:\n",
    "    for state in states:\n",
    "        STATE.append(state)\n",
    "        path = \"INPUT/\"+str(date.date())+\"/\"\n",
    "        Date.append(str(date.date()))\n",
    "        dir_list = os.listdir(path)\n",
    "        if \"{}.pdf\".format(state) in dir_list:\n",
    "            INPUT.append(\"Yes\")\n",
    "        else:\n",
    "            INPUT.append(\"No\")\n",
    "        path = \"RAWCSV/\"+str(date.date())+\"/\"\n",
    "        dir_list = os.listdir(path)\n",
    "        if \"{}_raw.csv\".format(state) in dir_list:\n",
    "            RAW.append(\"Yes\")\n",
    "        else:\n",
    "            RAW.append(\"No\")\n",
    "        \n",
    "pd.DataFrame(list(zip(Date,STATE,INPUT,RAW)),columns=[\"Date\",\"State\",\"Input\",\"raw\"]).to_csv(\"fileStatus.csv\",index=False)"
   ]
  },
  {
   "cell_type": "code",
   "execution_count": 29,
   "id": "8422ff0b-84c4-439c-833f-0c947274f96e",
   "metadata": {},
   "outputs": [],
   "source": [
    "#Update Derived values ()\n",
    "#Json - match totals\n",
    "#"
   ]
  },
  {
   "cell_type": "code",
   "execution_count": 11,
   "id": "7a23b061-9906-4901-bc97-3cca02b1fbc7",
   "metadata": {},
   "outputs": [],
   "source": [
    "# for date in dateList:\n",
    "#     print(str(date.date()))\n",
    "#     hp_df = pd.read_csv(\"RAWCSV/\"+str(date.date())+\"/HP_final.csv\")\n",
    "#     hp_df['cumulativeOtherNumberForState'] = None\n",
    "#     hp_df['cumulativeOtherNumberForDistrict'] = None\n",
    "#     hp_df['notesForState'] = None\n",
    "#     hp_df['notesForDistrict'] = None\n",
    "#     # hp_df['7DmaOtherForDistrict'] = None\n",
    "    \n",
    "#     hp_df.to_csv(\"RAWCSV/\"+str(date.date())+\"/HP_final.csv\")"
   ]
  },
  {
   "cell_type": "code",
   "execution_count": null,
   "id": "6b858c74-213f-4da5-8bcd-75b343edc579",
   "metadata": {},
   "outputs": [],
   "source": []
  }
 ],
 "metadata": {
  "kernelspec": {
   "display_name": "Python 3",
   "language": "python",
   "name": "python3"
  },
  "language_info": {
   "codemirror_mode": {
    "name": "ipython",
    "version": 3
   },
   "file_extension": ".py",
   "mimetype": "text/x-python",
   "name": "python",
   "nbconvert_exporter": "python",
   "pygments_lexer": "ipython3",
   "version": "3.6.9"
  }
 },
 "nbformat": 4,
 "nbformat_minor": 5
}
