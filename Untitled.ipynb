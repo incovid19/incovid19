{
 "cells": [
  {
   "cell_type": "code",
   "execution_count": 1,
   "id": "4c900ac6-3f4f-4958-8b11-44a5e7dad75b",
   "metadata": {},
   "outputs": [],
   "source": [
    "# import OS module\n",
    "import pandas as pd\n",
    "import os\n",
    "# Get the list of all files and directories\n",
    "Date = \"2021-11-31\"\n",
    "path = \"New Raw/\" + Date\n",
    "dir_list = os.listdir(path)"
   ]
  },
  {
   "cell_type": "code",
   "execution_count": 4,
   "id": "7b6726c5-382d-4805-85be-8f7257978622",
   "metadata": {},
   "outputs": [
    {
     "name": "stdout",
     "output_type": "stream",
     "text": [
      "LA_final.csv\n",
      "SK_final.csv\n",
      "MH_final.csv\n",
      "TN_final.csv\n",
      "NL_final.csv\n",
      "MZ_final.csv\n",
      "MN_final.csv\n",
      "GA_final.csv\n",
      "UT_final.csv\n",
      "JK_final.csv\n",
      "TG_final.csv\n",
      "TR_final.csv\n",
      "JH_final.csv\n",
      "ML_final.csv\n",
      "TT_final.csv\n",
      "KL_final.csv\n",
      "AR_final.csv\n",
      "AP_final.csv\n",
      "MP_final.csv\n",
      "DL_final.csv\n",
      ".ipynb_checkpoints\n",
      "DN_final.csv\n",
      "UP_final.csv\n",
      "PB_final.csv\n",
      "LD_final.csv\n",
      "BR_final.csv\n",
      "KA_final.csv\n",
      "AN_final.csv\n",
      "CH_final.csv\n",
      "RJ_final.csv\n",
      "HR_final.csv\n",
      "AS_final.csv\n",
      "HP_final.csv\n",
      "WB_final.csv\n",
      "CT_final.csv\n",
      "GJ_final.csv\n"
     ]
    }
   ],
   "source": [
    "for file in dir_list:\n",
    "    print(file)\n",
    "    if file.split(\".\")[-1] == \"csv\":\n",
    "        df = pd.read_csv(\"New Raw/\"+Date+\"/\"+str(file))\n",
    "        df[\"Date\"] = Date\n",
    "        df.to_csv(\"New Raw/\"+Date+\"/\"+str(file))"
   ]
  },
  {
   "cell_type": "code",
   "execution_count": null,
   "id": "bb865ae4-07fe-41c9-9e76-792ce87ca30d",
   "metadata": {},
   "outputs": [],
   "source": []
  }
 ],
 "metadata": {
  "kernelspec": {
   "display_name": "Python 3",
   "language": "python",
   "name": "python3"
  },
  "language_info": {
   "codemirror_mode": {
    "name": "ipython",
    "version": 3
   },
   "file_extension": ".py",
   "mimetype": "text/x-python",
   "name": "python",
   "nbconvert_exporter": "python",
   "pygments_lexer": "ipython3",
   "version": "3.6.9"
  }
 },
 "nbformat": 4,
 "nbformat_minor": 5
}
