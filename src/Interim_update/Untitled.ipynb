{
 "cells": [
  {
   "cell_type": "code",
   "execution_count": 9,
   "id": "c172e85e-08b8-479d-8098-a9241ac6a941",
   "metadata": {},
   "outputs": [],
   "source": [
    "import os\n",
    "import datetime\n",
    "import timedelta\n",
    "import pandas as pd\n",
    "import urllib.request, json\n",
    "from UpdateDerivedValues import updateDerivedValues\n",
    "# updateDerivedValues\n",
    "\n",
    "\n",
    "date = (datetime.datetime.now() - timedelta.Timedelta(days=1)).date()\n",
    "# present = datetime.datetime.now().date()\n",
    "\n",
    "folders = [\"INPUT\",\"RAWCSV\",\"LOG\"]\n",
    "for folder in folders:\n",
    "    if not os.path.isdir(os.path.join(\"..\",\"..\",folder,str(date))):\n",
    "        os.mkdir(os.path.join(\"..\",\"..\",folder,str(date)))\n",
    "        print(\"Created\")"
   ]
  },
  {
   "cell_type": "code",
   "execution_count": 10,
   "id": "35b54017-b457-49a8-8929-65ab4313d201",
   "metadata": {},
   "outputs": [],
   "source": [
    "source = pd.read_csv(\"../../sources.csv\")"
   ]
  },
  {
   "cell_type": "code",
   "execution_count": 11,
   "id": "bb30e399-12f6-409c-b4a2-928858d600f6",
   "metadata": {},
   "outputs": [],
   "source": [
    "def getPreviousRawFile(date,state):\n",
    "    prevDate = date - timedelta.Timedelta(days=1)\n",
    "    try:\n",
    "        state_df = pd.read_csv(\"../../RAWCSV/\"+str(prevDate)+\"/\"+state+\"_final.csv\")\n",
    "    except:\n",
    "        state_df = getPreviousRawFile(prevDate,state)\n",
    "    return state_df"
   ]
  },
  {
   "cell_type": "code",
   "execution_count": 12,
   "id": "1adb4543-f690-4739-8444-18ab479b74a4",
   "metadata": {},
   "outputs": [
    {
     "name": "stdout",
     "output_type": "stream",
     "text": [
      "Other States population numbers not found\n",
      "Other Countries population numbers not found\n",
      "Running 7DMA for AP\n",
      "Other\n",
      "Kra Daadi population numbers not found\n",
      "Lepa Rada population numbers not found\n",
      "Pakke Kessang population numbers not found\n",
      "Running 7DMA for AR\n",
      "Other\n",
      "Running 7DMA for BR\n",
      "Other\n",
      "Gaurela Pendra Marwahi population numbers not found\n",
      "Other State population numbers not found\n",
      "Running 7DMA for CT\n",
      "Other\n"
     ]
    },
    {
     "name": "stderr",
     "output_type": "stream",
     "text": [
      "/home/swiadmin/Incovid19/incovid19/src/Interim_update/get7DMA.py:81: SettingWithCopyWarning: \n",
      "A value is trying to be set on a copy of a slice from a DataFrame\n",
      "\n",
      "See the caveats in the documentation: https://pandas.pydata.org/pandas-docs/stable/user_guide/indexing.html#returning-a-view-versus-a-copy\n",
      "  df['7DmaTestedForDistrict'][df['District'] != 'Unknown'] = test_df['7DmaTestedForDistrict'][test_df['District'] != 'Unknown']\n"
     ]
    },
    {
     "name": "stdout",
     "output_type": "stream",
     "text": [
      "Running 7DMA for HR\n",
      "Other\n",
      "Running 7DMA for HP\n",
      "Other\n",
      "Other State population numbers not found\n",
      "Running 7DMA for KA\n",
      "Other\n",
      "Running 7DMA for KL\n",
      "Other\n",
      "Kangpokpi population numbers not found\n",
      "Noney population numbers not found\n",
      "Tengnoupal population numbers not found\n",
      "Running 7DMA for MN\n",
      "Other\n",
      "Ri-Bhoi population numbers not found\n",
      "Running 7DMA for ML\n",
      "Other\n",
      "Running 7DMA for OR\n",
      "Other\n",
      "Other State population numbers not found\n",
      "Running 7DMA for RJ\n",
      "Other\n",
      "Running 7DMA for TN\n",
      "Other\n",
      "Running 7DMA for UT\n",
      "Other\n",
      "Other State population numbers not found\n",
      "Running 7DMA for WB\n",
      "Other\n",
      "Running 7DMA for JK\n",
      "Other\n",
      "Running 7DMA for PY\n",
      "Other\n"
     ]
    }
   ],
   "source": [
    "path = \"../../RAWCSV/\"+str(date)+\"/\"\n",
    "dir_list = os.listdir(path)\n",
    "for state in source[\"StateCode\"]:\n",
    "    if state != \"TT\":\n",
    "        if state+\"_raw.csv\" not in dir_list:\n",
    "            df = getPreviousRawFile(date,state)\n",
    "            df[\"Date\"] = str(date)\n",
    "            df.to_csv(path+state+\"_final.csv\",index=False)\n",
    "        else:\n",
    "            updateDerivedValues(state,str(date))"
   ]
  },
  {
   "cell_type": "code",
   "execution_count": 13,
   "id": "13a84cf0-54ca-4f87-aab8-4fcf0eda4811",
   "metadata": {},
   "outputs": [],
   "source": [
    "df_intTT = pd.read_csv(path+\"TT_raw.csv\")"
   ]
  },
  {
   "cell_type": "code",
   "execution_count": 14,
   "id": "72f07000-de23-4a52-b356-6e9e4ce8b24c",
   "metadata": {},
   "outputs": [],
   "source": [
    "df_intTT[\"Date\"] = str(date)\n",
    "df_intTT[\"tested_source_state\"] = \"https://www.icmr.gov.in/\""
   ]
  },
  {
   "cell_type": "code",
   "execution_count": 15,
   "id": "3726b138-2bf6-41ec-b269-cf6e1960392c",
   "metadata": {},
   "outputs": [
    {
     "name": "stderr",
     "output_type": "stream",
     "text": [
      "/home/swiadmin/Incovid19/incovid19/env/lib/python3.6/site-packages/ipykernel_launcher.py:6: SettingWithCopyWarning: \n",
      "A value is trying to be set on a copy of a slice from a DataFrame\n",
      "\n",
      "See the caveats in the documentation: https://pandas.pydata.org/pandas-docs/stable/user_guide/indexing.html#returning-a-view-versus-a-copy\n",
      "  \n"
     ]
    }
   ],
   "source": [
    "value = [\"Confirmed\",\"Deceased\",\"Recovered\"]\n",
    "for idx in df_intTT.index:\n",
    "    stateCode = source[source['StateName'] == df_intTT[\"District\"][idx]][\"StateCode\"].item()\n",
    "    df_state = pd.read_csv(path + stateCode + \"_final.csv\")\n",
    "    for val in value:\n",
    "        df_intTT[\"cumulative{}NumberForDistrict\".format(val)][idx] = df_state[\"cumulative{}NumberForState\".format(val)][0]\n",
    "        \n",
    "for val in value:\n",
    "    df_intTT[\"cumulative{}NumberForState\".format(val)] = df_intTT[\"cumulative{}NumberForDistrict\".format(val)].sum()"
   ]
  },
  {
   "cell_type": "code",
   "execution_count": 16,
   "id": "cf4fdac9-3136-4b7d-b979-2d98762c4a30",
   "metadata": {},
   "outputs": [],
   "source": [
    "def addVaccination(df,date):\n",
    "    # df = df.drop(['cumulativeVaccinatedNumberForDistrict', 'cumulativeVaccinated1NumberForDistrict', 'cumulativeVaccinated2NumberForDistrict'], axis=1)\n",
    "    with urllib.request.urlopen(\"https://api.cowin.gov.in/api/v1/reports/v2/getPublicReports?date=\"+str(date)) as url:\n",
    "        data = json.loads(url.read().decode())\n",
    "    df[\"cumulativeVaccinated1NumberForState\"] = data[\"topBlock\"][\"vaccination\"][\"tot_dose_1\"]\n",
    "    df[\"cumulativeVaccinated2NumberForState\"] = data[\"topBlock\"][\"vaccination\"][\"tot_dose_2\"]\n",
    "    df[\"cumulativeVaccinatedNumberForState\"] = data[\"topBlock\"][\"vaccination\"][\"total_doses\"]\n",
    "    states = []\n",
    "    vaccinated = []\n",
    "    vaccinated1 = []\n",
    "    vaccinated2 = []\n",
    "    for sta in data['getBeneficiariesGroupBy']:\n",
    "        if (sta['title'].lower() == \"dadra and nagar haveli\") or (sta['title'].lower() == \"daman and diu\"):\n",
    "            states.append('Dadra and Nagar Haveli and Daman and Diu')\n",
    "        else:\n",
    "            states.append(sta['title'])\n",
    "        vaccinated.append(sta['total'])\n",
    "        vaccinated1.append(sta['partial_vaccinated'])\n",
    "        vaccinated2.append(sta['totally_vaccinated'])\n",
    "    VAC_df = pd.DataFrame(list(zip(states,vaccinated,vaccinated1,vaccinated2))).groupby(0, as_index=False).sum()\n",
    "    VAC_df = VAC_df.rename(columns={0:\"District\",1:\"cumulativeVaccinatedNumberForDistrict\",2:\"cumulativeVaccinated1NumberForDistrict\",3:\"cumulativeVaccinated2NumberForDistrict\",})\n",
    "    df = df.merge(VAC_df,how=\"left\",on=\"District\")\n",
    "    return df"
   ]
  },
  {
   "cell_type": "code",
   "execution_count": 17,
   "id": "f4842043-44f1-4e8a-9ba8-4c47f50de42e",
   "metadata": {},
   "outputs": [],
   "source": [
    "df_intTT = addVaccination(df_intTT,date)"
   ]
  },
  {
   "cell_type": "code",
   "execution_count": 18,
   "id": "721783ea-5d20-4909-9ed1-bdf372a22a8a",
   "metadata": {},
   "outputs": [],
   "source": [
    "def getDeltaValues(df,date):\n",
    "    prevDate = date - timedelta.Timedelta(days=1)\n",
    "    cs = pd.read_csv(\"../../RAWCSV/\"+str(date)+\"/TT_final.csv\")\n",
    "    df[\"deltaConfirmedForState\"] = df[\"cumulativeConfirmedNumberForState\"] - cs[\"cumulativeConfirmedNumberForState\"][0]\n",
    "    df[\"deltaDeceasedForState\"] = df[\"cumulativeDeceasedNumberForState\"] - cs[\"cumulativeDeceasedNumberForState\"][0]\n",
    "    df[\"deltaRecoveredForState\"] = df[\"cumulativeRecoveredNumberForState\"] - cs[\"cumulativeRecoveredNumberForState\"][0]\n",
    "    df[\"deltaTestedForState\"] = df[\"cumulativeTestedNumberForState\"] - cs[\"cumulativeTestedNumberForState\"][0]\n",
    "    return df"
   ]
  },
  {
   "cell_type": "code",
   "execution_count": 19,
   "id": "8046502f-4d25-4014-bab5-a4c2070018b0",
   "metadata": {},
   "outputs": [],
   "source": [
    "df_intTT = getDeltaValues(df_intTT,date)"
   ]
  },
  {
   "cell_type": "code",
   "execution_count": 20,
   "id": "dc9f66af-95c7-4510-99a8-bfd070aa009a",
   "metadata": {},
   "outputs": [],
   "source": [
    "#Delta Vacc"
   ]
  },
  {
   "cell_type": "code",
   "execution_count": 21,
   "id": "5de61539-8705-4eb2-a45f-a538d7f254a9",
   "metadata": {},
   "outputs": [],
   "source": [
    "import urllib.request, json \n",
    "with urllib.request.urlopen(\"https://api.cowin.gov.in/api/v1/reports/v2/getPublicReports?date=\"+str(date)) as url:\n",
    "    data = json.loads(url.read().decode())"
   ]
  },
  {
   "cell_type": "code",
   "execution_count": 22,
   "id": "2a516828-20d8-42fb-bad1-986fdfbecb20",
   "metadata": {},
   "outputs": [],
   "source": [
    "states = []\n",
    "vaccinated = []\n",
    "vaccinated1 = []\n",
    "vaccinated2 = []\n",
    "for sta in data['getBeneficiariesGroupBy']:\n",
    "    if (sta['title'].lower() == \"dadra and nagar haveli\") or (sta['title'].lower() == \"daman and diu\"):\n",
    "        states.append('Dadra and Nagar Haveli and Daman and Diu')\n",
    "    else:\n",
    "        states.append(sta['title'])\n",
    "    vaccinated.append(sta['total'])\n",
    "    vaccinated1.append(sta['partial_vaccinated'])\n",
    "    vaccinated2.append(sta['totally_vaccinated'])"
   ]
  },
  {
   "cell_type": "code",
   "execution_count": 23,
   "id": "69da56d8-fd83-4548-ba38-e1180e38fc86",
   "metadata": {},
   "outputs": [],
   "source": [
    "prevdayVACC_df = pd.DataFrame(list(zip(states,vaccinated,vaccinated1,vaccinated2))).groupby(0, as_index=False).sum()"
   ]
  },
  {
   "cell_type": "code",
   "execution_count": 24,
   "id": "ea9ebd12-cfd8-4346-a571-ca9ad2351e9b",
   "metadata": {},
   "outputs": [],
   "source": [
    "prevdayVACC_df = prevdayVACC_df.rename(columns={0:\"District\",1:\"cumulativeVaccinatedNumberForDistrict\",2:\"cumulativeVaccinated1NumberForDistrict\",3:\"cumulativeVaccinated2NumberForDistrict\",})"
   ]
  },
  {
   "cell_type": "code",
   "execution_count": 25,
   "id": "74944586-5bfe-4d35-b7b5-2914bb3369a8",
   "metadata": {},
   "outputs": [
    {
     "name": "stderr",
     "output_type": "stream",
     "text": [
      "/home/swiadmin/Incovid19/incovid19/env/lib/python3.6/site-packages/ipykernel_launcher.py:5: SettingWithCopyWarning: \n",
      "A value is trying to be set on a copy of a slice from a DataFrame\n",
      "\n",
      "See the caveats in the documentation: https://pandas.pydata.org/pandas-docs/stable/user_guide/indexing.html#returning-a-view-versus-a-copy\n",
      "  \"\"\"\n"
     ]
    }
   ],
   "source": [
    "lst = [\"Vaccinated1\",\"Vaccinated2\"]\n",
    "for val in lst:\n",
    "    df_intTT[\"delta{}ForDistrict\".format(val)] = None\n",
    "    for idx in df_intTT.index:\n",
    "        df_intTT[\"delta{}ForDistrict\".format(val)][idx] = df_intTT[\"cumulative{}NumberForDistrict\".format(val)][idx] - prevdayVACC_df[prevdayVACC_df[\"District\"] == df_intTT[\"District\"][idx]][\"cumulative{}NumberForDistrict\".format(val)].item()"
   ]
  },
  {
   "cell_type": "code",
   "execution_count": 26,
   "id": "f6ebdb51-8ad8-4a7f-995e-85d9ab9d8ee0",
   "metadata": {},
   "outputs": [],
   "source": [
    "cs = pd.read_csv(\"../../RAWCSV/\"+str(date)+\"/TT_final.csv\")\n",
    "states_df = cs[[\"Date\",\"District\",\"cumulativeConfirmedNumberForDistrict\",\"cumulativeRecoveredNumberForDistrict\",\"cumulativeDeceasedNumberForDistrict\"]]"
   ]
  },
  {
   "cell_type": "code",
   "execution_count": 27,
   "id": "cbd67a8d-0f1a-4724-a0a1-51383e8f5652",
   "metadata": {},
   "outputs": [
    {
     "name": "stderr",
     "output_type": "stream",
     "text": [
      "/home/swiadmin/Incovid19/incovid19/env/lib/python3.6/site-packages/ipykernel_launcher.py:5: SettingWithCopyWarning: \n",
      "A value is trying to be set on a copy of a slice from a DataFrame\n",
      "\n",
      "See the caveats in the documentation: https://pandas.pydata.org/pandas-docs/stable/user_guide/indexing.html#returning-a-view-versus-a-copy\n",
      "  \"\"\"\n"
     ]
    }
   ],
   "source": [
    "lst = [\"Confirmed\",\"Recovered\",\"Deceased\"]\n",
    "for val in lst:\n",
    "    df_intTT[\"delta{}ForDistrict\".format(val)] = None\n",
    "    for idx in df_intTT.index:\n",
    "        df_intTT[\"delta{}ForDistrict\".format(val)][idx] = int(df_intTT[\"cumulative{}NumberForDistrict\".format(val)][idx]) - int(states_df[(states_df[\"District\"] == df_intTT[\"District\"][idx]) & (states_df[\"Date\"] == str(date))][\"cumulative{}NumberForDistrict\".format(val)].item())"
   ]
  },
  {
   "cell_type": "code",
   "execution_count": 28,
   "id": "04623562-3ae2-4086-a66c-0fec48503b3b",
   "metadata": {},
   "outputs": [
    {
     "name": "stderr",
     "output_type": "stream",
     "text": [
      "/home/swiadmin/Incovid19/incovid19/env/lib/python3.6/site-packages/ipykernel_launcher.py:5: SettingWithCopyWarning: \n",
      "A value is trying to be set on a copy of a slice from a DataFrame\n",
      "\n",
      "See the caveats in the documentation: https://pandas.pydata.org/pandas-docs/stable/user_guide/indexing.html#returning-a-view-versus-a-copy\n",
      "  \"\"\"\n"
     ]
    }
   ],
   "source": [
    "lst = [\"Vaccinated1\",\"Vaccinated2\"]\n",
    "for val in lst:\n",
    "    df_intTT[\"delta{}ForDistrict\".format(val)] = None\n",
    "    for idx in df_intTT.index:\n",
    "        df_intTT[\"delta{}ForDistrict\".format(val)][idx] = df_intTT[\"cumulative{}NumberForDistrict\".format(val)][idx] - prevdayVACC_df[prevdayVACC_df[\"District\"] == df_intTT[\"District\"][idx]][\"cumulative{}NumberForDistrict\".format(val)].item()"
   ]
  },
  {
   "cell_type": "code",
   "execution_count": 29,
   "id": "5f29de30-2b00-4312-963b-e97326239d6d",
   "metadata": {},
   "outputs": [],
   "source": [
    "df_intTT[\"7DmaTestedForState\"] = None\n",
    "df_intTT[\"delta21_14confirmedForState\"] = None"
   ]
  },
  {
   "cell_type": "code",
   "execution_count": 30,
   "id": "4501862b-72bb-4922-a3a2-1474689f41e3",
   "metadata": {},
   "outputs": [],
   "source": [
    "population = pd.read_csv(\"../../CSV/StatePopulation.csv\")"
   ]
  },
  {
   "cell_type": "code",
   "execution_count": 31,
   "id": "cdc58888-adc5-4c63-9455-a73cd8b72d5e",
   "metadata": {},
   "outputs": [],
   "source": [
    "population = population.merge(source,how=\"left\",left_on = \"State\", right_on = \"StateCode\")"
   ]
  },
  {
   "cell_type": "code",
   "execution_count": 32,
   "id": "9654c8fb-a69c-48bf-a639-08615810a0ad",
   "metadata": {},
   "outputs": [],
   "source": [
    "df_intTT[\"statePopulation\"] = population[population[\"StateName\"] == \"India\"][\"StatePop\"].item()"
   ]
  },
  {
   "cell_type": "code",
   "execution_count": 33,
   "id": "7f2dd539-3e4b-4547-adca-3bfda8835f06",
   "metadata": {},
   "outputs": [],
   "source": [
    "df_intTT = df_intTT.merge(population[[\"StateName\",\"StatePop\"]],how=\"left\",left_on = \"District\", right_on = \"StateName\")"
   ]
  },
  {
   "cell_type": "code",
   "execution_count": 34,
   "id": "40bf462c-a403-4822-bef6-ca143cce087b",
   "metadata": {},
   "outputs": [],
   "source": [
    "df_intTT = df_intTT.rename(columns={\"StatePop\":\"districtPopulation\"})"
   ]
  },
  {
   "cell_type": "code",
   "execution_count": 35,
   "id": "920cc32c-8585-4760-9ae3-80dda6bd9345",
   "metadata": {},
   "outputs": [],
   "source": [
    "df_intTT.to_csv(\"../../RAWCSV/\"+str(date)+\"/TTint_final.csv\",index=False)"
   ]
  },
  {
   "cell_type": "code",
   "execution_count": 36,
   "id": "58dc447a-52f7-478e-9621-fac2cd3c6803",
   "metadata": {},
   "outputs": [],
   "source": [
    "from get7DMA import get_7dma_state\n",
    "get_7dma_state(\"TT\", str(date))"
   ]
  },
  {
   "cell_type": "code",
   "execution_count": 38,
   "id": "de1eb9b6-3486-40f3-a4ac-56dd4e1b8821",
   "metadata": {},
   "outputs": [],
   "source": [
    "from BlanketUpdate import CreateJson,ts_json,ts_state_all"
   ]
  },
  {
   "cell_type": "code",
   "execution_count": 41,
   "id": "0e050ea9-4d8b-4fb0-9b6c-a8ec9b78fcec",
   "metadata": {},
   "outputs": [],
   "source": [
    "CreateJson(str(date))\n",
    "ts_json(\"../../json_creation/Updated/data-\"+str(date)+\".min.json\")\n",
    "ts_state_all(\"../../json_creation/Updated/data-\"+str(date)+\".min.json\")"
   ]
  },
  {
   "cell_type": "code",
   "execution_count": null,
   "id": "87e42f74-83b0-4803-9867-1c36741860fc",
   "metadata": {},
   "outputs": [],
   "source": [
    "# AP\n",
    "case1 : AP.raw is present >> run update derived value >> log.json\n",
    "\n",
    "case2 : No AP.raw >> AP_final(Prev Day) and change date >> Do not run(Updatederived Value)\n",
    "\n",
    "#TT_int\n",
    "for all state files:\n",
    "    for a state > Confirmed >> TT_raw_int(District Level)[Recoved,D,T,v1,v2] \n",
    "    \n",
    "StateTotal == sum(DistrictCount)[C,R,D,T,V1,V2]\n",
    "\n",
    "(TT_final_int)Delta = TT_raw_int - TT_final(day-1)\n",
    "\n",
    "7dma(TT_final_int,interim = True)\n",
    "\n",
    "JSON Creations"
   ]
  }
 ],
 "metadata": {
  "kernelspec": {
   "display_name": "Python 3",
   "language": "python",
   "name": "python3"
  },
  "language_info": {
   "codemirror_mode": {
    "name": "ipython",
    "version": 3
   },
   "file_extension": ".py",
   "mimetype": "text/x-python",
   "name": "python",
   "nbconvert_exporter": "python",
   "pygments_lexer": "ipython3",
   "version": "3.6.9"
  }
 },
 "nbformat": 4,
 "nbformat_minor": 5
}
