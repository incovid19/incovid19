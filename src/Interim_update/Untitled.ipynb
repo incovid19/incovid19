{
 "cells": [
  {
   "cell_type": "code",
   "execution_count": 1,
   "id": "c172e85e-08b8-479d-8098-a9241ac6a941",
   "metadata": {},
   "outputs": [],
   "source": [
    "import os\n",
    "import datetime\n",
    "import timedelta\n",
    "import pandas as pd\n",
    "import urllib.request, json\n",
    "from UpdateDerivedValues import updateDerivedValues\n",
    "# updateDerivedValues\n",
    "\n",
    "\n",
    "date = (datetime.datetime.now() - timedelta.Timedelta(days=0)).date()\n",
    "# present = datetime.datetime.now().date()\n",
    "\n",
    "folders = [\"INPUT\",\"RAWCSV\",\"LOG\"]\n",
    "for folder in folders:\n",
    "    if not os.path.isdir(os.path.join(\"..\",\"..\",folder,str(date))):\n",
    "        os.mkdir(os.path.join(\"..\",\"..\",folder,str(date)))\n",
    "        print(\"Created\")"
   ]
  },
  {
   "cell_type": "code",
   "execution_count": 2,
   "id": "35b54017-b457-49a8-8929-65ab4313d201",
   "metadata": {},
   "outputs": [],
   "source": [
    "source = pd.read_csv(\"../../sources.csv\")"
   ]
  },
  {
   "cell_type": "code",
   "execution_count": 3,
   "id": "bb30e399-12f6-409c-b4a2-928858d600f6",
   "metadata": {},
   "outputs": [],
   "source": [
    "def getPreviousRawFile(date,state):\n",
    "    prevDate = date - timedelta.Timedelta(days=1)\n",
    "    try:\n",
    "        state_df = pd.read_csv(\"../../RAWCSV/\"+str(prevDate)+\"/\"+state+\"_final.csv\")\n",
    "    except:\n",
    "        state_df = getPreviousRawFile(prevDate,state)\n",
    "    return state_df"
   ]
  },
  {
   "cell_type": "code",
   "execution_count": 5,
   "id": "1adb4543-f690-4739-8444-18ab479b74a4",
   "metadata": {},
   "outputs": [
    {
     "name": "stdout",
     "output_type": "stream",
     "text": [
      "Other States population numbers not found\n",
      "Other Countries population numbers not found\n"
     ]
    },
    {
     "name": "stderr",
     "output_type": "stream",
     "text": [
      "/home/swiadmin/Incovid19/incovid19/src/Interim_update/UpdateDerivedValues.py:379: SettingWithCopyWarning: \n",
      "A value is trying to be set on a copy of a slice from a DataFrame\n",
      "\n",
      "See the caveats in the documentation: https://pandas.pydata.org/pandas-docs/stable/user_guide/indexing.html#returning-a-view-versus-a-copy\n",
      "  state_raw_csv[\"delta{}ForDistrict\".format(val)][idx] = value\n",
      "/home/swiadmin/Incovid19/incovid19/src/Interim_update/UpdateDerivedValues.py:381: SettingWithCopyWarning: \n",
      "A value is trying to be set on a copy of a slice from a DataFrame\n",
      "\n",
      "See the caveats in the documentation: https://pandas.pydata.org/pandas-docs/stable/user_guide/indexing.html#returning-a-view-versus-a-copy\n",
      "  state_raw_csv[\"delta{}ForDistrict\".format(val)][idx] = None\n"
     ]
    },
    {
     "name": "stdout",
     "output_type": "stream",
     "text": [
      "Running 7DMA for AP\n",
      "Running 7DMA for BR\n",
      "14  Mahindergarh population numbers not found\n",
      "Running 7DMA for HR\n",
      "Running 7DMA for HP\n"
     ]
    },
    {
     "name": "stderr",
     "output_type": "stream",
     "text": [
      "/home/swiadmin/Incovid19/incovid19/src/Interim_update/get7DMA.py:78: SettingWithCopyWarning: \n",
      "A value is trying to be set on a copy of a slice from a DataFrame\n",
      "\n",
      "See the caveats in the documentation: https://pandas.pydata.org/pandas-docs/stable/user_guide/indexing.html#returning-a-view-versus-a-copy\n",
      "  df['7DmaTestedForDistrict'][df['District'] != 'Unknown'] = test_df['7DmaTestedForDistrict'][test_df['District'] != 'Unknown']\n"
     ]
    },
    {
     "name": "stdout",
     "output_type": "stream",
     "text": [
      "Other State population numbers not found\n",
      "Running 7DMA for KA\n",
      "Running 7DMA for KL\n",
      "Running 7DMA for OR\n",
      "Running 7DMA for TN\n",
      "Running 7DMA for JK\n",
      "Running 7DMA for PY\n"
     ]
    }
   ],
   "source": [
    "path = \"../../RAWCSV/\"+str(date)+\"/\"\n",
    "dir_list = os.listdir(path)\n",
    "for state in source[\"StateCode\"]:\n",
    "    if state != \"TT\":\n",
    "        if state+\"_raw.csv\" not in dir_list:\n",
    "            df = getPreviousRawFile(date,state)\n",
    "            df[\"Date\"] = str(date)\n",
    "            df.to_csv(path+state+\"_final.csv\",index=False)\n",
    "        else:\n",
    "            updateDerivedValues(state,str(date))"
   ]
  },
  {
   "cell_type": "code",
   "execution_count": 26,
   "id": "13a84cf0-54ca-4f87-aab8-4fcf0eda4811",
   "metadata": {},
   "outputs": [],
   "source": [
    "df_intTT = pd.read_csv(path+\"TT_raw.csv\")"
   ]
  },
  {
   "cell_type": "code",
   "execution_count": 27,
   "id": "72f07000-de23-4a52-b356-6e9e4ce8b24c",
   "metadata": {},
   "outputs": [],
   "source": [
    "df_intTT[\"Date\"] = str(date)\n",
    "df_intTT[\"tested_source_state\"] = \"https://www.icmr.gov.in/\""
   ]
  },
  {
   "cell_type": "code",
   "execution_count": 28,
   "id": "3726b138-2bf6-41ec-b269-cf6e1960392c",
   "metadata": {},
   "outputs": [
    {
     "name": "stderr",
     "output_type": "stream",
     "text": [
      "/home/swiadmin/Incovid19/incovid19/env/lib/python3.6/site-packages/ipykernel_launcher.py:6: SettingWithCopyWarning: \n",
      "A value is trying to be set on a copy of a slice from a DataFrame\n",
      "\n",
      "See the caveats in the documentation: https://pandas.pydata.org/pandas-docs/stable/user_guide/indexing.html#returning-a-view-versus-a-copy\n",
      "  \n"
     ]
    }
   ],
   "source": [
    "value = [\"Confirmed\",\"Deceased\",\"Recovered\"]\n",
    "for idx in df_intTT.index:\n",
    "    stateCode = source[source['StateName'] == df_intTT[\"District\"][idx]][\"StateCode\"].item()\n",
    "    df_state = pd.read_csv(path + stateCode + \"_final.csv\")\n",
    "    for val in value:\n",
    "        df_intTT[\"cumulative{}NumberForDistrict\".format(val)][idx] = df_state[\"cumulative{}NumberForState\".format(val)][0]\n",
    "        \n",
    "for val in value:\n",
    "    df_intTT[\"cumulative{}NumberForState\".format(val)] = df_intTT[\"cumulative{}NumberForDistrict\".format(val)].sum()"
   ]
  },
  {
   "cell_type": "code",
   "execution_count": 29,
   "id": "cf4fdac9-3136-4b7d-b979-2d98762c4a30",
   "metadata": {},
   "outputs": [],
   "source": [
    "def addVaccination(df,date):\n",
    "    # df = df.drop(['cumulativeVaccinatedNumberForDistrict', 'cumulativeVaccinated1NumberForDistrict', 'cumulativeVaccinated2NumberForDistrict'], axis=1)\n",
    "    with urllib.request.urlopen(\"https://api.cowin.gov.in/api/v1/reports/v2/getPublicReports?date=\"+str(date)) as url:\n",
    "        data = json.loads(url.read().decode())\n",
    "    df[\"cumulativeVaccinated1NumberForState\"] = data[\"topBlock\"][\"vaccination\"][\"tot_dose_1\"]\n",
    "    df[\"cumulativeVaccinated2NumberForState\"] = data[\"topBlock\"][\"vaccination\"][\"tot_dose_2\"]\n",
    "    df[\"cumulativeVaccinatedNumberForState\"] = data[\"topBlock\"][\"vaccination\"][\"total_doses\"]\n",
    "    states = []\n",
    "    vaccinated = []\n",
    "    vaccinated1 = []\n",
    "    vaccinated2 = []\n",
    "    for sta in data['getBeneficiariesGroupBy']:\n",
    "        if (sta['title'].lower() == \"dadra and nagar haveli\") or (sta['title'].lower() == \"daman and diu\"):\n",
    "            states.append('Dadra and Nagar Haveli and Daman and Diu')\n",
    "        else:\n",
    "            states.append(sta['title'])\n",
    "        vaccinated.append(sta['total'])\n",
    "        vaccinated1.append(sta['partial_vaccinated'])\n",
    "        vaccinated2.append(sta['totally_vaccinated'])\n",
    "    VAC_df = pd.DataFrame(list(zip(states,vaccinated,vaccinated1,vaccinated2))).groupby(0, as_index=False).sum()\n",
    "    VAC_df = VAC_df.rename(columns={0:\"District\",1:\"cumulativeVaccinatedNumberForDistrict\",2:\"cumulativeVaccinated1NumberForDistrict\",3:\"cumulativeVaccinated2NumberForDistrict\",})\n",
    "    df = df.merge(VAC_df,how=\"left\",on=\"District\")\n",
    "    return df"
   ]
  },
  {
   "cell_type": "code",
   "execution_count": 30,
   "id": "f4842043-44f1-4e8a-9ba8-4c47f50de42e",
   "metadata": {},
   "outputs": [],
   "source": [
    "df_intTT = addVaccination(df_intTT,date)"
   ]
  },
  {
   "cell_type": "code",
   "execution_count": 31,
   "id": "721783ea-5d20-4909-9ed1-bdf372a22a8a",
   "metadata": {},
   "outputs": [],
   "source": [
    "def getDeltaValues(df,date):\n",
    "    prevDate = date - timedelta.Timedelta(days=1)\n",
    "    cs = pd.read_csv(\"../../RAWCSV/\"+str(date)+\"/TT_final.csv\")\n",
    "    df[\"deltaConfirmedForState\"] = df[\"cumulativeConfirmedNumberForState\"] - cs[\"cumulativeConfirmedNumberForState\"][0]\n",
    "    df[\"deltaDeceasedForState\"] = df[\"cumulativeDeceasedNumberForState\"] - cs[\"cumulativeDeceasedNumberForState\"][0]\n",
    "    df[\"deltaRecoveredForState\"] = df[\"cumulativeRecoveredNumberForState\"] - cs[\"cumulativeRecoveredNumberForState\"][0]\n",
    "    df[\"deltaTestedForState\"] = df[\"cumulativeTestedNumberForState\"] - cs[\"cumulativeTestedNumberForState\"][0]\n",
    "    return df"
   ]
  },
  {
   "cell_type": "code",
   "execution_count": 32,
   "id": "8046502f-4d25-4014-bab5-a4c2070018b0",
   "metadata": {},
   "outputs": [],
   "source": [
    "df_intTT = getDeltaValues(df_intTT,date)"
   ]
  },
  {
   "cell_type": "code",
   "execution_count": 39,
   "id": "c43c7d04-e0f8-48aa-a744-723f8924308b",
   "metadata": {},
   "outputs": [
    {
     "data": {
      "text/plain": [
       "473620"
      ]
     },
     "execution_count": 39,
     "metadata": {},
     "output_type": "execute_result"
    }
   ],
   "source": [
    "df_intTT[\"cumulativeDeceasedNumberForDistrict\"].sum()"
   ]
  },
  {
   "cell_type": "code",
   "execution_count": 37,
   "id": "a4ffa93e-9a82-43e6-a1c2-ccbb85bc95bc",
   "metadata": {},
   "outputs": [
    {
     "data": {
      "text/html": [
       "<div>\n",
       "<style scoped>\n",
       "    .dataframe tbody tr th:only-of-type {\n",
       "        vertical-align: middle;\n",
       "    }\n",
       "\n",
       "    .dataframe tbody tr th {\n",
       "        vertical-align: top;\n",
       "    }\n",
       "\n",
       "    .dataframe thead th {\n",
       "        text-align: right;\n",
       "    }\n",
       "</style>\n",
       "<table border=\"1\" class=\"dataframe\">\n",
       "  <thead>\n",
       "    <tr style=\"text-align: right;\">\n",
       "      <th></th>\n",
       "      <th>District</th>\n",
       "      <th>cumulativeDeceasedNumberForDistrict</th>\n",
       "    </tr>\n",
       "  </thead>\n",
       "  <tbody>\n",
       "    <tr>\n",
       "      <th>0</th>\n",
       "      <td>Andaman and Nicobar Islands</td>\n",
       "      <td>129</td>\n",
       "    </tr>\n",
       "    <tr>\n",
       "      <th>1</th>\n",
       "      <td>Andhra Pradesh</td>\n",
       "      <td>14505</td>\n",
       "    </tr>\n",
       "    <tr>\n",
       "      <th>2</th>\n",
       "      <td>Arunachal Pradesh</td>\n",
       "      <td>282</td>\n",
       "    </tr>\n",
       "    <tr>\n",
       "      <th>3</th>\n",
       "      <td>Assam</td>\n",
       "      <td>6183</td>\n",
       "    </tr>\n",
       "    <tr>\n",
       "      <th>4</th>\n",
       "      <td>Bihar</td>\n",
       "      <td>1211</td>\n",
       "    </tr>\n",
       "    <tr>\n",
       "      <th>5</th>\n",
       "      <td>Chandigarh</td>\n",
       "      <td>1081</td>\n",
       "    </tr>\n",
       "    <tr>\n",
       "      <th>6</th>\n",
       "      <td>Chhattisgarh</td>\n",
       "      <td>13619</td>\n",
       "    </tr>\n",
       "    <tr>\n",
       "      <th>7</th>\n",
       "      <td>Dadra and Nagar Haveli and Daman and Diu</td>\n",
       "      <td>4</td>\n",
       "    </tr>\n",
       "    <tr>\n",
       "      <th>8</th>\n",
       "      <td>Delhi</td>\n",
       "      <td>25177</td>\n",
       "    </tr>\n",
       "    <tr>\n",
       "      <th>9</th>\n",
       "      <td>Goa</td>\n",
       "      <td>3533</td>\n",
       "    </tr>\n",
       "    <tr>\n",
       "      <th>10</th>\n",
       "      <td>Gujarat</td>\n",
       "      <td>10127</td>\n",
       "    </tr>\n",
       "    <tr>\n",
       "      <th>11</th>\n",
       "      <td>Haryana</td>\n",
       "      <td>10080</td>\n",
       "    </tr>\n",
       "    <tr>\n",
       "      <th>12</th>\n",
       "      <td>Himachal Pradesh</td>\n",
       "      <td>3867</td>\n",
       "    </tr>\n",
       "    <tr>\n",
       "      <th>13</th>\n",
       "      <td>Jammu and Kashmir</td>\n",
       "      <td>4546</td>\n",
       "    </tr>\n",
       "    <tr>\n",
       "      <th>14</th>\n",
       "      <td>Jharkhand</td>\n",
       "      <td>5172</td>\n",
       "    </tr>\n",
       "    <tr>\n",
       "      <th>15</th>\n",
       "      <td>Karnataka</td>\n",
       "      <td>38379</td>\n",
       "    </tr>\n",
       "    <tr>\n",
       "      <th>16</th>\n",
       "      <td>Kerala</td>\n",
       "      <td>50051</td>\n",
       "    </tr>\n",
       "    <tr>\n",
       "      <th>17</th>\n",
       "      <td>Ladakh</td>\n",
       "      <td>222</td>\n",
       "    </tr>\n",
       "    <tr>\n",
       "      <th>18</th>\n",
       "      <td>Lakshadweep</td>\n",
       "      <td>51</td>\n",
       "    </tr>\n",
       "    <tr>\n",
       "      <th>19</th>\n",
       "      <td>Maharashtra</td>\n",
       "      <td>141647</td>\n",
       "    </tr>\n",
       "    <tr>\n",
       "      <th>20</th>\n",
       "      <td>Manipur</td>\n",
       "      <td>2011</td>\n",
       "    </tr>\n",
       "    <tr>\n",
       "      <th>21</th>\n",
       "      <td>Meghalaya</td>\n",
       "      <td>1487</td>\n",
       "    </tr>\n",
       "    <tr>\n",
       "      <th>22</th>\n",
       "      <td>Mizoram</td>\n",
       "      <td>562</td>\n",
       "    </tr>\n",
       "    <tr>\n",
       "      <th>23</th>\n",
       "      <td>Madhya Pradesh</td>\n",
       "      <td>10538</td>\n",
       "    </tr>\n",
       "    <tr>\n",
       "      <th>24</th>\n",
       "      <td>Nagaland</td>\n",
       "      <td>703</td>\n",
       "    </tr>\n",
       "    <tr>\n",
       "      <th>25</th>\n",
       "      <td>Odisha</td>\n",
       "      <td>8469</td>\n",
       "    </tr>\n",
       "    <tr>\n",
       "      <th>26</th>\n",
       "      <td>Puducherry</td>\n",
       "      <td>1882</td>\n",
       "    </tr>\n",
       "    <tr>\n",
       "      <th>27</th>\n",
       "      <td>Punjab</td>\n",
       "      <td>16683</td>\n",
       "    </tr>\n",
       "    <tr>\n",
       "      <th>28</th>\n",
       "      <td>Rajasthan</td>\n",
       "      <td>8974</td>\n",
       "    </tr>\n",
       "    <tr>\n",
       "      <th>29</th>\n",
       "      <td>Sikkim</td>\n",
       "      <td>410</td>\n",
       "    </tr>\n",
       "    <tr>\n",
       "      <th>30</th>\n",
       "      <td>Tamil Nadu</td>\n",
       "      <td>36886</td>\n",
       "    </tr>\n",
       "    <tr>\n",
       "      <th>31</th>\n",
       "      <td>Telangana</td>\n",
       "      <td>4043</td>\n",
       "    </tr>\n",
       "    <tr>\n",
       "      <th>32</th>\n",
       "      <td>Tripura</td>\n",
       "      <td>828</td>\n",
       "    </tr>\n",
       "    <tr>\n",
       "      <th>33</th>\n",
       "      <td>Uttar Pradesh</td>\n",
       "      <td>22932</td>\n",
       "    </tr>\n",
       "    <tr>\n",
       "      <th>34</th>\n",
       "      <td>Uttarakhand</td>\n",
       "      <td>7429</td>\n",
       "    </tr>\n",
       "    <tr>\n",
       "      <th>35</th>\n",
       "      <td>West Bengal</td>\n",
       "      <td>19917</td>\n",
       "    </tr>\n",
       "  </tbody>\n",
       "</table>\n",
       "</div>"
      ],
      "text/plain": [
       "                                    District  \\\n",
       "0                Andaman and Nicobar Islands   \n",
       "1                             Andhra Pradesh   \n",
       "2                          Arunachal Pradesh   \n",
       "3                                      Assam   \n",
       "4                                      Bihar   \n",
       "5                                 Chandigarh   \n",
       "6                               Chhattisgarh   \n",
       "7   Dadra and Nagar Haveli and Daman and Diu   \n",
       "8                                      Delhi   \n",
       "9                                        Goa   \n",
       "10                                   Gujarat   \n",
       "11                                   Haryana   \n",
       "12                          Himachal Pradesh   \n",
       "13                         Jammu and Kashmir   \n",
       "14                                 Jharkhand   \n",
       "15                                 Karnataka   \n",
       "16                                    Kerala   \n",
       "17                                    Ladakh   \n",
       "18                               Lakshadweep   \n",
       "19                               Maharashtra   \n",
       "20                                   Manipur   \n",
       "21                                 Meghalaya   \n",
       "22                                   Mizoram   \n",
       "23                            Madhya Pradesh   \n",
       "24                                  Nagaland   \n",
       "25                                    Odisha   \n",
       "26                                Puducherry   \n",
       "27                                    Punjab   \n",
       "28                                 Rajasthan   \n",
       "29                                    Sikkim   \n",
       "30                                Tamil Nadu   \n",
       "31                                 Telangana   \n",
       "32                                   Tripura   \n",
       "33                             Uttar Pradesh   \n",
       "34                               Uttarakhand   \n",
       "35                               West Bengal   \n",
       "\n",
       "    cumulativeDeceasedNumberForDistrict  \n",
       "0                                   129  \n",
       "1                                 14505  \n",
       "2                                   282  \n",
       "3                                  6183  \n",
       "4                                  1211  \n",
       "5                                  1081  \n",
       "6                                 13619  \n",
       "7                                     4  \n",
       "8                                 25177  \n",
       "9                                  3533  \n",
       "10                                10127  \n",
       "11                                10080  \n",
       "12                                 3867  \n",
       "13                                 4546  \n",
       "14                                 5172  \n",
       "15                                38379  \n",
       "16                                50051  \n",
       "17                                  222  \n",
       "18                                   51  \n",
       "19                               141647  \n",
       "20                                 2011  \n",
       "21                                 1487  \n",
       "22                                  562  \n",
       "23                                10538  \n",
       "24                                  703  \n",
       "25                                 8469  \n",
       "26                                 1882  \n",
       "27                                16683  \n",
       "28                                 8974  \n",
       "29                                  410  \n",
       "30                                36886  \n",
       "31                                 4043  \n",
       "32                                  828  \n",
       "33                                22932  \n",
       "34                                 7429  \n",
       "35                                19917  "
      ]
     },
     "execution_count": 37,
     "metadata": {},
     "output_type": "execute_result"
    }
   ],
   "source": [
    "df_intTT[[\"District\",\"cumulativeDeceasedNumberForDistrict\"]]"
   ]
  },
  {
   "cell_type": "code",
   "execution_count": null,
   "id": "87e42f74-83b0-4803-9867-1c36741860fc",
   "metadata": {},
   "outputs": [],
   "source": [
    "# AP\n",
    "case1 : AP.raw is present >> run update derived value >> log.json\n",
    "\n",
    "case2 : No AP.raw >> AP_final(Prev Day) and change date >> Do not run(Updatederived Value)\n",
    "\n",
    "#TT_int\n",
    "for all state files:\n",
    "    for a state > Confirmed >> TT_raw_int(District Level)[Recoved,D,T,v1,v2] \n",
    "    \n",
    "StateTotal == sum(DistrictCount)[C,R,D,T,V1,V2]\n",
    "\n",
    "(TT_final_int)Delta = TT_raw_int - TT_final(day-1)\n",
    "\n",
    "7dma(TT_final_int,interim = True)\n",
    "\n",
    "JSON Creations"
   ]
  },
  {
   "cell_type": "code",
   "execution_count": 1,
   "id": "d7518e02-58c5-4ba1-8ec5-e1de9dc8c694",
   "metadata": {},
   "outputs": [
    {
     "name": "stdout",
     "output_type": "stream",
     "text": [
      "Other State population numbers not found\n"
     ]
    },
    {
     "name": "stderr",
     "output_type": "stream",
     "text": [
      "/home/swiadmin/Incovid19/incovid19/src/Interim_update/UpdateDerivedValues.py:379: SettingWithCopyWarning: \n",
      "A value is trying to be set on a copy of a slice from a DataFrame\n",
      "\n",
      "See the caveats in the documentation: https://pandas.pydata.org/pandas-docs/stable/user_guide/indexing.html#returning-a-view-versus-a-copy\n",
      "  state_raw_csv[\"delta{}ForDistrict\".format(val)][idx] = value\n",
      "/home/swiadmin/Incovid19/incovid19/src/Interim_update/UpdateDerivedValues.py:381: SettingWithCopyWarning: \n",
      "A value is trying to be set on a copy of a slice from a DataFrame\n",
      "\n",
      "See the caveats in the documentation: https://pandas.pydata.org/pandas-docs/stable/user_guide/indexing.html#returning-a-view-versus-a-copy\n",
      "  state_raw_csv[\"delta{}ForDistrict\".format(val)][idx] = None\n"
     ]
    },
    {
     "name": "stdout",
     "output_type": "stream",
     "text": [
      "Running 7DMA for KA\n"
     ]
    },
    {
     "name": "stderr",
     "output_type": "stream",
     "text": [
      "/home/swiadmin/Incovid19/incovid19/src/Interim_update/get7DMA.py:78: SettingWithCopyWarning: \n",
      "A value is trying to be set on a copy of a slice from a DataFrame\n",
      "\n",
      "See the caveats in the documentation: https://pandas.pydata.org/pandas-docs/stable/user_guide/indexing.html#returning-a-view-versus-a-copy\n",
      "  df['7DmaTestedForDistrict'][df['District'] != 'Unknown'] = test_df['7DmaTestedForDistrict'][test_df['District'] != 'Unknown']\n"
     ]
    }
   ],
   "source": []
  },
  {
   "cell_type": "code",
   "execution_count": null,
   "id": "65ee9022-7be7-43a6-97ea-8ff637cd2b88",
   "metadata": {},
   "outputs": [],
   "source": []
  }
 ],
 "metadata": {
  "kernelspec": {
   "display_name": "Python 3",
   "language": "python",
   "name": "python3"
  },
  "language_info": {
   "codemirror_mode": {
    "name": "ipython",
    "version": 3
   },
   "file_extension": ".py",
   "mimetype": "text/x-python",
   "name": "python",
   "nbconvert_exporter": "python",
   "pygments_lexer": "ipython3",
   "version": "3.6.9"
  }
 },
 "nbformat": 4,
 "nbformat_minor": 5
}
