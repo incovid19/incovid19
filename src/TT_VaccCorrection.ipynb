{
 "cells": [
  {
   "cell_type": "code",
   "execution_count": 8,
   "id": "241c1590-bbbe-4538-b162-b590c0f2ef5a",
   "metadata": {},
   "outputs": [],
   "source": [
    "import pandas as pd  \n",
    "from datetime import datetime,timedelta\n",
    "from tqdm import tqdm"
   ]
  },
  {
   "cell_type": "code",
   "execution_count": 9,
   "id": "06f36167-f8b8-4725-b1e9-afea657d3a47",
   "metadata": {},
   "outputs": [],
   "source": [
    "def correctVaccTT(date,state):\n",
    "    pdate = str((datetime.strptime(date, '%Y-%m-%d')-timedelta(1)).date())\n",
    "    df = pd.read_csv(\"../RAWCSV/\"+date+\"/\"+state+\"_final.csv\")\n",
    "    prev_df = pd.read_csv(\"../RAWCSV/\"+pdate+\"/\"+state+\"_final.csv\")\n",
    "    if df[\"District\"].equals(prev_df[\"District\"]):\n",
    "        df[\"deltaVaccinated1ForDistrict\"] = df[\"cumulativeVaccinated1NumberForDistrict\"]-prev_df[\"cumulativeVaccinated1NumberForDistrict\"]\n",
    "        df[\"deltaVaccinated2ForDistrict\"] = df[\"cumulativeVaccinated2NumberForDistrict\"]-prev_df[\"cumulativeVaccinated2NumberForDistrict\"]\n",
    "        # df[\"deltaVaccinated1ForState\"] = df[\"cumulativeVaccinated1NumberForState\"]-prev_df[\"cumulativeVaccinated1NumberForState\"]\n",
    "        # df[\"deltaVaccinated2ForState\"] = df[\"cumulativeVaccinated2NumberForState\"]-prev_df[\"cumulativeVaccinated2NumberForState\"]\n",
    "        # print(date)\n",
    "        # print(state)\n",
    "    df.to_csv(\"../RAWCSV/\"+date+\"/\"+state+\"_final.csv\")"
   ]
  },
  {
   "cell_type": "code",
   "execution_count": 10,
   "id": "48f8c61f-aafb-4e65-9753-99b5601bc202",
   "metadata": {},
   "outputs": [],
   "source": [
    "states = [\"AR\",\"GJ\",\"KA\",\"LD\",\"MZ\",\"RJ\",\"TN\",\"WB\"]"
   ]
  },
  {
   "cell_type": "code",
   "execution_count": 11,
   "id": "846408a6-3563-4694-bc9a-897cf10b6787",
   "metadata": {},
   "outputs": [],
   "source": [
    "# date = \"2021-10-31\"\n",
    "# correctVaccTT(date,\"AR\")"
   ]
  },
  {
   "cell_type": "code",
   "execution_count": 12,
   "id": "3f2fca31-8096-4fbd-bfcb-3fe5a5cc3a91",
   "metadata": {},
   "outputs": [],
   "source": [
    "# import datetime\n",
    " \n",
    "def date_range(start, end):\n",
    "    r = (end+timedelta(days=1)-start).days\n",
    "    return [start+timedelta(days=i) for i in range(r)]\n",
    " \n",
    "\n",
    "start_date = \"2021-10-31\"\n",
    "end_date = \"2021-12-04\"\n",
    "end = datetime.strptime(end_date, '%Y-%m-%d')\n",
    "start = datetime.strptime(start_date, '%Y-%m-%d')\n",
    "dateList = date_range(start, end)"
   ]
  },
  {
   "cell_type": "code",
   "execution_count": 13,
   "id": "3dfd0404-d364-445f-b3e3-40d246d2d0f3",
   "metadata": {},
   "outputs": [
    {
     "data": {
      "text/plain": [
       "[datetime.datetime(2021, 10, 31, 0, 0),\n",
       " datetime.datetime(2021, 11, 1, 0, 0),\n",
       " datetime.datetime(2021, 11, 2, 0, 0),\n",
       " datetime.datetime(2021, 11, 3, 0, 0),\n",
       " datetime.datetime(2021, 11, 4, 0, 0),\n",
       " datetime.datetime(2021, 11, 5, 0, 0),\n",
       " datetime.datetime(2021, 11, 6, 0, 0),\n",
       " datetime.datetime(2021, 11, 7, 0, 0),\n",
       " datetime.datetime(2021, 11, 8, 0, 0),\n",
       " datetime.datetime(2021, 11, 9, 0, 0),\n",
       " datetime.datetime(2021, 11, 10, 0, 0),\n",
       " datetime.datetime(2021, 11, 11, 0, 0),\n",
       " datetime.datetime(2021, 11, 12, 0, 0),\n",
       " datetime.datetime(2021, 11, 13, 0, 0),\n",
       " datetime.datetime(2021, 11, 14, 0, 0),\n",
       " datetime.datetime(2021, 11, 15, 0, 0),\n",
       " datetime.datetime(2021, 11, 16, 0, 0),\n",
       " datetime.datetime(2021, 11, 17, 0, 0),\n",
       " datetime.datetime(2021, 11, 18, 0, 0),\n",
       " datetime.datetime(2021, 11, 19, 0, 0),\n",
       " datetime.datetime(2021, 11, 20, 0, 0),\n",
       " datetime.datetime(2021, 11, 21, 0, 0),\n",
       " datetime.datetime(2021, 11, 22, 0, 0),\n",
       " datetime.datetime(2021, 11, 23, 0, 0),\n",
       " datetime.datetime(2021, 11, 24, 0, 0),\n",
       " datetime.datetime(2021, 11, 25, 0, 0),\n",
       " datetime.datetime(2021, 11, 26, 0, 0),\n",
       " datetime.datetime(2021, 11, 27, 0, 0),\n",
       " datetime.datetime(2021, 11, 28, 0, 0),\n",
       " datetime.datetime(2021, 11, 29, 0, 0),\n",
       " datetime.datetime(2021, 11, 30, 0, 0),\n",
       " datetime.datetime(2021, 12, 1, 0, 0),\n",
       " datetime.datetime(2021, 12, 2, 0, 0),\n",
       " datetime.datetime(2021, 12, 3, 0, 0),\n",
       " datetime.datetime(2021, 12, 4, 0, 0)]"
      ]
     },
     "execution_count": 13,
     "metadata": {},
     "output_type": "execute_result"
    }
   ],
   "source": [
    "dateList"
   ]
  },
  {
   "cell_type": "code",
   "execution_count": 14,
   "id": "1959cd20-b51b-466d-8402-19532767dfb7",
   "metadata": {},
   "outputs": [
    {
     "name": "stderr",
     "output_type": "stream",
     "text": [
      "100%|██████████| 35/35 [00:00<00:00, 85.48it/s]\n",
      "100%|██████████| 35/35 [00:00<00:00, 89.21it/s]\n",
      "100%|██████████| 35/35 [00:00<00:00, 78.59it/s]\n",
      "100%|██████████| 35/35 [00:00<00:00, 94.41it/s]\n",
      "100%|██████████| 35/35 [00:00<00:00, 98.44it/s]\n",
      "100%|██████████| 35/35 [00:00<00:00, 84.78it/s]\n",
      "100%|██████████| 35/35 [00:00<00:00, 87.70it/s]\n",
      "100%|██████████| 35/35 [00:00<00:00, 95.47it/s]\n"
     ]
    }
   ],
   "source": [
    "for state in states:\n",
    "    for date in tqdm(dateList):\n",
    "        correctVaccTT(str(date.date()),state)"
   ]
  },
  {
   "cell_type": "code",
   "execution_count": 15,
   "id": "2255c6fa-5105-4310-84fb-f653c9391888",
   "metadata": {},
   "outputs": [
    {
     "name": "stdout",
     "output_type": "stream",
     "text": [
      "Sun Dec  5 22:04:51 IST 2021\n"
     ]
    }
   ],
   "source": [
    "!date"
   ]
  },
  {
   "cell_type": "code",
   "execution_count": null,
   "id": "2834bd5a-c110-470c-ad2a-aa7419493099",
   "metadata": {},
   "outputs": [],
   "source": []
  }
 ],
 "metadata": {
  "kernelspec": {
   "display_name": "Python 3",
   "language": "python",
   "name": "python3"
  },
  "language_info": {
   "codemirror_mode": {
    "name": "ipython",
    "version": 3
   },
   "file_extension": ".py",
   "mimetype": "text/x-python",
   "name": "python",
   "nbconvert_exporter": "python",
   "pygments_lexer": "ipython3",
   "version": "3.6.9"
  }
 },
 "nbformat": 4,
 "nbformat_minor": 5
}
