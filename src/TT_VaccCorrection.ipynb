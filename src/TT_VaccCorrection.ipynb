{
 "cells": [
  {
   "cell_type": "code",
   "execution_count": 112,
   "id": "241c1590-bbbe-4538-b162-b590c0f2ef5a",
   "metadata": {},
   "outputs": [],
   "source": [
    "import pandas as pd  \n",
    "from datetime import datetime,timedelta"
   ]
  },
  {
   "cell_type": "code",
   "execution_count": 90,
   "id": "06f36167-f8b8-4725-b1e9-afea657d3a47",
   "metadata": {},
   "outputs": [],
   "source": [
    "def correctVaccTT(date):\n",
    "    pdate = str((datetime.strptime(date, '%Y-%m-%d')-timedelta(1)).date())\n",
    "    df = pd.read_csv(\"../RAWCSV/\"+date+\"/TT_final.csv\")\n",
    "    prev_df = pd.read_csv(\"../RAWCSV/\"+pdate+\"/TT_final.csv\")\n",
    "    if df[\"District\"].equals(prev_df[\"District\"]):\n",
    "        df[\"deltaVaccinated1ForDistrict\"] = df[\"cumulativeVaccinated1NumberForDistrict\"]-prev_df[\"cumulativeVaccinated1NumberForDistrict\"]\n",
    "        df[\"deltaVaccinated2ForDistrict\"] = df[\"cumulativeVaccinated2NumberForDistrict\"]-prev_df[\"cumulativeVaccinated2NumberForDistrict\"]\n",
    "        df[\"deltaVaccinated1ForState\"] = df[\"cumulativeVaccinated1NumberForState\"]-prev_df[\"cumulativeVaccinated1NumberForState\"]\n",
    "        df[\"deltaVaccinated2ForState\"] = df[\"cumulativeVaccinated2NumberForState\"]-prev_df[\"cumulativeVaccinated2NumberForState\"]\n",
    "    df.to_csv(\"../RAWCSV/\"+date+\"/TT_final.csv\")\n"
   ]
  },
  {
   "cell_type": "code",
   "execution_count": 91,
   "id": "846408a6-3563-4694-bc9a-897cf10b6787",
   "metadata": {},
   "outputs": [],
   "source": [
    "# dates \n",
    "# date = \"2021-11-06\"\n",
    "# correctVaccTT(date)"
   ]
  },
  {
   "cell_type": "code",
   "execution_count": 116,
   "id": "3f2fca31-8096-4fbd-bfcb-3fe5a5cc3a91",
   "metadata": {},
   "outputs": [],
   "source": [
    "# import datetime\n",
    " \n",
    "def date_range(start, end):\n",
    "    r = (end+timedelta(days=1)-start).days\n",
    "    return [start+timedelta(days=i) for i in range(r)]\n",
    " \n",
    "\n",
    "start_date = \"2021-11-06\"\n",
    "end_date = \"2021-11-23\"\n",
    "end = datetime.strptime(end_date, '%Y-%m-%d')\n",
    "start = datetime.strptime(start_date, '%Y-%m-%d')\n",
    "dateList = date_range(start, end)"
   ]
  },
  {
   "cell_type": "code",
   "execution_count": 121,
   "id": "1959cd20-b51b-466d-8402-19532767dfb7",
   "metadata": {},
   "outputs": [
    {
     "name": "stdout",
     "output_type": "stream",
     "text": [
      "2021-11-06\n",
      "2021-11-07\n",
      "2021-11-08\n",
      "2021-11-09\n",
      "2021-11-10\n",
      "2021-11-11\n",
      "2021-11-12\n",
      "2021-11-13\n",
      "2021-11-14\n",
      "2021-11-15\n",
      "2021-11-16\n",
      "2021-11-17\n",
      "2021-11-18\n",
      "2021-11-19\n",
      "2021-11-20\n",
      "2021-11-21\n",
      "2021-11-22\n",
      "2021-11-23\n"
     ]
    }
   ],
   "source": [
    "for date in dateList:\n",
    "    correctVaccTT(str(date.date()))"
   ]
  }
 ],
 "metadata": {
  "kernelspec": {
   "display_name": "Python 3",
   "language": "python",
   "name": "python3"
  },
  "language_info": {
   "codemirror_mode": {
    "name": "ipython",
    "version": 3
   },
   "file_extension": ".py",
   "mimetype": "text/x-python",
   "name": "python",
   "nbconvert_exporter": "python",
   "pygments_lexer": "ipython3",
   "version": "3.6.4"
  }
 },
 "nbformat": 4,
 "nbformat_minor": 5
}
