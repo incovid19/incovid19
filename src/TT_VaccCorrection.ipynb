{
 "cells": [
  {
   "cell_type": "code",
   "execution_count": 4,
   "id": "241c1590-bbbe-4538-b162-b590c0f2ef5a",
   "metadata": {},
   "outputs": [],
   "source": [
    "import pandas as pd  \n",
    "from datetime import datetime,timedelta"
   ]
  },
  {
   "cell_type": "code",
   "execution_count": 9,
   "id": "06f36167-f8b8-4725-b1e9-afea657d3a47",
   "metadata": {},
   "outputs": [],
   "source": [
    "def correctVaccTT(date):\n",
    "    pdate = str((datetime.strptime(date, '%Y-%m-%d')-timedelta(1)).date())\n",
    "    df = pd.read_csv(\"../RAWCSV/\"+date+\"/TT_final.csv\")\n",
    "    prev_df = pd.read_csv(\"../RAWCSV/\"+pdate+\"/TT_final.csv\")\n",
    "    if df[\"District\"].equals(prev_df[\"District\"]):\n",
    "        df[\"deltaVaccinated1ForDistrict\"] = df[\"cumulativeVaccinated1NumberForDistrict\"]-prev_df[\"cumulativeVaccinated1NumberForDistrict\"]\n",
    "        df[\"deltaVaccinated2ForDistrict\"] = df[\"cumulativeVaccinated2NumberForDistrict\"]-prev_df[\"cumulativeVaccinated2NumberForDistrict\"]\n",
    "        df[\"deltaVaccinated1ForState\"] = df[\"cumulativeVaccinated1NumberForState\"]-prev_df[\"cumulativeVaccinated1NumberForState\"]\n",
    "        df[\"deltaVaccinated2ForState\"] = df[\"cumulativeVaccinated2NumberForState\"]-prev_df[\"cumulativeVaccinated2NumberForState\"]\n",
    "        print(date)\n",
    "    df.to_csv(\"../RAWCSV/\"+date+\"/TT_final.csv\")"
   ]
  },
  {
   "cell_type": "code",
   "execution_count": 7,
   "id": "846408a6-3563-4694-bc9a-897cf10b6787",
   "metadata": {},
   "outputs": [],
   "source": [
    "date = \"2021-10-31\"\n",
    "correctVaccTT(date)"
   ]
  },
  {
   "cell_type": "code",
   "execution_count": 10,
   "id": "3f2fca31-8096-4fbd-bfcb-3fe5a5cc3a91",
   "metadata": {},
   "outputs": [],
   "source": [
    "# import datetime\n",
    " \n",
    "def date_range(start, end):\n",
    "    r = (end+timedelta(days=1)-start).days\n",
    "    return [start+timedelta(days=i) for i in range(r)]\n",
    " \n",
    "\n",
    "start_date = \"2021-11-01\"\n",
    "end_date = \"2021-11-23\"\n",
    "end = datetime.strptime(end_date, '%Y-%m-%d')\n",
    "start = datetime.strptime(start_date, '%Y-%m-%d')\n",
    "dateList = date_range(start, end)"
   ]
  },
  {
   "cell_type": "code",
   "execution_count": 11,
   "id": "3dfd0404-d364-445f-b3e3-40d246d2d0f3",
   "metadata": {},
   "outputs": [
    {
     "data": {
      "text/plain": [
       "[datetime.datetime(2021, 11, 1, 0, 0),\n",
       " datetime.datetime(2021, 11, 2, 0, 0),\n",
       " datetime.datetime(2021, 11, 3, 0, 0),\n",
       " datetime.datetime(2021, 11, 4, 0, 0),\n",
       " datetime.datetime(2021, 11, 5, 0, 0),\n",
       " datetime.datetime(2021, 11, 6, 0, 0),\n",
       " datetime.datetime(2021, 11, 7, 0, 0),\n",
       " datetime.datetime(2021, 11, 8, 0, 0),\n",
       " datetime.datetime(2021, 11, 9, 0, 0),\n",
       " datetime.datetime(2021, 11, 10, 0, 0),\n",
       " datetime.datetime(2021, 11, 11, 0, 0),\n",
       " datetime.datetime(2021, 11, 12, 0, 0),\n",
       " datetime.datetime(2021, 11, 13, 0, 0),\n",
       " datetime.datetime(2021, 11, 14, 0, 0),\n",
       " datetime.datetime(2021, 11, 15, 0, 0),\n",
       " datetime.datetime(2021, 11, 16, 0, 0),\n",
       " datetime.datetime(2021, 11, 17, 0, 0),\n",
       " datetime.datetime(2021, 11, 18, 0, 0),\n",
       " datetime.datetime(2021, 11, 19, 0, 0),\n",
       " datetime.datetime(2021, 11, 20, 0, 0),\n",
       " datetime.datetime(2021, 11, 21, 0, 0),\n",
       " datetime.datetime(2021, 11, 22, 0, 0),\n",
       " datetime.datetime(2021, 11, 23, 0, 0)]"
      ]
     },
     "execution_count": 11,
     "metadata": {},
     "output_type": "execute_result"
    }
   ],
   "source": [
    "dateList"
   ]
  },
  {
   "cell_type": "code",
   "execution_count": 12,
   "id": "1959cd20-b51b-466d-8402-19532767dfb7",
   "metadata": {},
   "outputs": [
    {
     "name": "stdout",
     "output_type": "stream",
     "text": [
      "2021-11-01\n",
      "2021-11-02\n",
      "2021-11-03\n",
      "2021-11-04\n",
      "2021-11-05\n",
      "2021-11-06\n",
      "2021-11-07\n",
      "2021-11-08\n",
      "2021-11-09\n",
      "2021-11-10\n",
      "2021-11-11\n",
      "2021-11-12\n",
      "2021-11-13\n",
      "2021-11-14\n",
      "2021-11-15\n",
      "2021-11-16\n",
      "2021-11-17\n",
      "2021-11-18\n",
      "2021-11-19\n",
      "2021-11-20\n",
      "2021-11-21\n",
      "2021-11-22\n",
      "2021-11-23\n"
     ]
    }
   ],
   "source": [
    "for date in dateList:\n",
    "    correctVaccTT(str(date.date()))"
   ]
  },
  {
   "cell_type": "code",
   "execution_count": 13,
   "id": "2255c6fa-5105-4310-84fb-f653c9391888",
   "metadata": {},
   "outputs": [
    {
     "name": "stdout",
     "output_type": "stream",
     "text": [
      "Thu Nov 25 22:07:00 IST 2021\n"
     ]
    }
   ],
   "source": [
    "!date"
   ]
  },
  {
   "cell_type": "code",
   "execution_count": null,
   "id": "2834bd5a-c110-470c-ad2a-aa7419493099",
   "metadata": {},
   "outputs": [],
   "source": []
  }
 ],
 "metadata": {
  "kernelspec": {
   "display_name": "Python 3",
   "language": "python",
   "name": "python3"
  },
  "language_info": {
   "codemirror_mode": {
    "name": "ipython",
    "version": 3
   },
   "file_extension": ".py",
   "mimetype": "text/x-python",
   "name": "python",
   "nbconvert_exporter": "python",
   "pygments_lexer": "ipython3",
   "version": "3.6.9"
  }
 },
 "nbformat": 4,
 "nbformat_minor": 5
}
