{
 "cells": [
  {
   "cell_type": "code",
   "execution_count": 1,
   "id": "241c1590-bbbe-4538-b162-b590c0f2ef5a",
   "metadata": {},
   "outputs": [],
   "source": [
    "import pandas as pd  \n",
    "from datetime import datetime,timedelta\n",
    "from tqdm import tqdm"
   ]
  },
  {
   "cell_type": "code",
   "execution_count": 2,
   "id": "af295184-28f3-41be-b5e0-134b6bc493a2",
   "metadata": {},
   "outputs": [],
   "source": [
    "source = pd.read_csv(\"../sources.csv\") "
   ]
  },
  {
   "cell_type": "code",
   "execution_count": 3,
   "id": "ae627fbd-30b9-4185-a4f3-44e6d07c2b77",
   "metadata": {},
   "outputs": [],
   "source": [
    "def date_range(start, end):\n",
    "    r = (end+timedelta(days=1)-start).days\n",
    "    return [start+timedelta(days=i) for i in range(r)]\n",
    " \n",
    "start_date = \"2021-10-31\"\n",
    "end_date = \"2022-01-17\"\n",
    "end = datetime.strptime(end_date, '%Y-%m-%d')\n",
    "start = datetime.strptime(start_date, '%Y-%m-%d')\n",
    "dateList = date_range(start, end)"
   ]
  },
  {
   "cell_type": "code",
   "execution_count": 7,
   "id": "0ff32896-090a-42cc-8499-95fc04acdbbf",
   "metadata": {},
   "outputs": [],
   "source": [
    "for state in source[\"StateCode\"]:\n",
    "    # if state not in [\"KA\",\"MH\",\"TR\",\"NL\",\"HP\",\"UT\"]:\n",
    "    for date in dateList:\n",
    "        df = pd.read_csv(\"../RAWCSV/\"+str(date.date())+\"/\"+state+\"_final.csv\")\n",
    "        df[\"cumulativeVaccinated3NumberForDistrict\"] = 0\n",
    "        # df[\"7DmaOtherForDistrict\"] = 0\n",
    "        df.to_csv(\"../RAWCSV/\"+str(date.date())+\"/\"+state+\"_final.csv\")"
   ]
  },
  {
   "cell_type": "code",
   "execution_count": 23,
   "id": "27659181-2bdd-46ba-893e-26fd1b10778f",
   "metadata": {},
   "outputs": [],
   "source": [
    "State = []\n",
    "Date = []\n",
    "for state in source[\"StateCode\"]:\n",
    "    for date in dateList:\n",
    "        try:\n",
    "            day14 = date - timedelta(days=14)\n",
    "            day21 = date - timedelta(days=21)\n",
    "            df_14 = pd.read_csv(\"../RAWCSV/\"+str(day14.date())+\"/\"+state+\"_final.csv\")\n",
    "            df_21 = pd.read_csv(\"../RAWCSV/\"+str(day21.date())+\"/\"+state+\"_final.csv\")\n",
    "            df = pd.read_csv(\"../RAWCSV/\"+str(date.date())+\"/\"+state+\"_final.csv\")\n",
    "            df[\"delta21_14confirmedForState\"] = df_14[\"cumulativeConfirmedNumberForState\"] - df_21[\"cumulativeConfirmedNumberForState\"]\n",
    "            df[\"delta21_14confirmedForDistrict\"] = df_14[\"cumulativeConfirmedNumberForDistrict\"] - df_21[\"cumulativeConfirmedNumberForDistrict\"]\n",
    "            df.to_csv(\"../RAWCSV/\"+str(date.date())+\"/\"+state+\"_final.csv\")\n",
    "        except:\n",
    "            Date.append(str(date.date())) \n",
    "            State.append(state)"
   ]
  },
  {
   "cell_type": "code",
   "execution_count": 24,
   "id": "68a38b8c-244b-4ce8-ab11-0b36e9ee6a76",
   "metadata": {},
   "outputs": [],
   "source": [
    "pd.DataFrame(list(zip(Date,State))).to_csv(\"test.csv\")"
   ]
  },
  {
   "cell_type": "markdown",
   "id": "776c32d3-2504-42cc-a2a7-423a461c0bd3",
   "metadata": {},
   "source": [
    "## Extract Tested Data To a single File KA_tested"
   ]
  },
  {
   "cell_type": "code",
   "execution_count": 3,
   "id": "25790e4f-d1a0-4428-a111-1cd8f226107a",
   "metadata": {},
   "outputs": [],
   "source": [
    "def date_range(start, end):\n",
    "    r = (end+timedelta(days=1)-start).days\n",
    "    return [start+timedelta(days=i) for i in range(r)]\n",
    " \n",
    "start_date = \"2021-10-31\"\n",
    "end_date = \"2022-01-20\"\n",
    "end = datetime.strptime(end_date, '%Y-%m-%d')\n",
    "start = datetime.strptime(start_date, '%Y-%m-%d')\n",
    "dateList = date_range(start, end)"
   ]
  },
  {
   "cell_type": "code",
   "execution_count": 12,
   "id": "b19cbb6f-01ab-4972-bae0-5bea0b0c7fa1",
   "metadata": {},
   "outputs": [],
   "source": [
    "DATE = []\n",
    "Cummulative_Tested = []\n",
    "for date in dateList:\n",
    "    df = pd.read_csv(\"../RAWCSV/\"+str(date.date())+\"/KA_final.csv\")\n",
    "    Cummulative_Tested.append(df[\"cumulativeTestedNumberForState\"][0])\n",
    "    DATE.append(str(date.date()))"
   ]
  },
  {
   "cell_type": "code",
   "execution_count": 16,
   "id": "a9e36e05-d109-4e2a-a7fd-a4e30dad2537",
   "metadata": {},
   "outputs": [],
   "source": [
    "df = pd.DataFrame(list(zip(DATE,Cummulative_Tested)),columns = [\"Date\",\"Cumulative_Tested\"])"
   ]
  },
  {
   "cell_type": "code",
   "execution_count": 17,
   "id": "3cbc96fa-a801-4d95-9a28-a87b36831a9c",
   "metadata": {},
   "outputs": [],
   "source": [
    "df.to_csv(\"../INPUT/KA_Tested.csv\",index=False)"
   ]
  },
  {
   "cell_type": "code",
   "execution_count": 11,
   "id": "69e5dbb7-39d9-4339-87be-611ae746dc9b",
   "metadata": {},
   "outputs": [
    {
     "data": {
      "text/plain": [
       "59864983"
      ]
     },
     "execution_count": 11,
     "metadata": {},
     "output_type": "execute_result"
    }
   ],
   "source": [
    "df[\"cumulativeTestedNumberForState\"][0]"
   ]
  },
  {
   "cell_type": "code",
   "execution_count": 26,
   "id": "09c20200-3607-4821-8633-c3d3c3306355",
   "metadata": {},
   "outputs": [
    {
     "data": {
      "text/plain": [
       "52847392.0"
      ]
     },
     "execution_count": 26,
     "metadata": {},
     "output_type": "execute_result"
    }
   ],
   "source": [
    "df_addTest = pd.read_csv(\"../INPUT/KA_Tested.csv\")\n",
    "df[df[\"Date\"] == \"2021-11-24\"][\"Cumulative_Tested\"].item()"
   ]
  },
  {
   "cell_type": "markdown",
   "id": "4ceb8bf0-7d4f-4c9a-b8f7-6ed335ba5ed4",
   "metadata": {},
   "source": [
    "# Vaccination Correction"
   ]
  },
  {
   "cell_type": "code",
   "execution_count": 9,
   "id": "06f36167-f8b8-4725-b1e9-afea657d3a47",
   "metadata": {},
   "outputs": [],
   "source": [
    "def correctVaccTT(date,state):\n",
    "    pdate = str((datetime.strptime(date, '%Y-%m-%d')-timedelta(1)).date())\n",
    "    df = pd.read_csv(\"../RAWCSV/\"+date+\"/\"+state+\"_final.csv\")\n",
    "    prev_df = pd.read_csv(\"../RAWCSV/\"+pdate+\"/\"+state+\"_final.csv\")\n",
    "    if df[\"District\"].equals(prev_df[\"District\"]):\n",
    "        df[\"deltaVaccinated1ForDistrict\"] = df[\"cumulativeVaccinated1NumberForDistrict\"]-prev_df[\"cumulativeVaccinated1NumberForDistrict\"]\n",
    "        df[\"deltaVaccinated2ForDistrict\"] = df[\"cumulativeVaccinated2NumberForDistrict\"]-prev_df[\"cumulativeVaccinated2NumberForDistrict\"]\n",
    "        # df[\"deltaVaccinated1ForState\"] = df[\"cumulativeVaccinated1NumberForState\"]-prev_df[\"cumulativeVaccinated1NumberForState\"]\n",
    "        # df[\"deltaVaccinated2ForState\"] = df[\"cumulativeVaccinated2NumberForState\"]-prev_df[\"cumulativeVaccinated2NumberForState\"]\n",
    "        # print(date)\n",
    "        # print(state)\n",
    "    df.to_csv(\"../RAWCSV/\"+date+\"/\"+state+\"_final.csv\")"
   ]
  },
  {
   "cell_type": "code",
   "execution_count": 10,
   "id": "48f8c61f-aafb-4e65-9753-99b5601bc202",
   "metadata": {},
   "outputs": [],
   "source": [
    "states = [\"AR\",\"GJ\",\"KA\",\"LD\",\"MZ\",\"RJ\",\"TN\",\"WB\"]"
   ]
  },
  {
   "cell_type": "code",
   "execution_count": 11,
   "id": "846408a6-3563-4694-bc9a-897cf10b6787",
   "metadata": {},
   "outputs": [],
   "source": [
    "# date = \"2021-10-31\"\n",
    "# correctVaccTT(date,\"AR\")"
   ]
  },
  {
   "cell_type": "code",
   "execution_count": 12,
   "id": "3f2fca31-8096-4fbd-bfcb-3fe5a5cc3a91",
   "metadata": {},
   "outputs": [],
   "source": [
    "# import datetime\n",
    " \n"
   ]
  },
  {
   "cell_type": "code",
   "execution_count": 13,
   "id": "3dfd0404-d364-445f-b3e3-40d246d2d0f3",
   "metadata": {},
   "outputs": [
    {
     "data": {
      "text/plain": [
       "[datetime.datetime(2021, 10, 31, 0, 0),\n",
       " datetime.datetime(2021, 11, 1, 0, 0),\n",
       " datetime.datetime(2021, 11, 2, 0, 0),\n",
       " datetime.datetime(2021, 11, 3, 0, 0),\n",
       " datetime.datetime(2021, 11, 4, 0, 0),\n",
       " datetime.datetime(2021, 11, 5, 0, 0),\n",
       " datetime.datetime(2021, 11, 6, 0, 0),\n",
       " datetime.datetime(2021, 11, 7, 0, 0),\n",
       " datetime.datetime(2021, 11, 8, 0, 0),\n",
       " datetime.datetime(2021, 11, 9, 0, 0),\n",
       " datetime.datetime(2021, 11, 10, 0, 0),\n",
       " datetime.datetime(2021, 11, 11, 0, 0),\n",
       " datetime.datetime(2021, 11, 12, 0, 0),\n",
       " datetime.datetime(2021, 11, 13, 0, 0),\n",
       " datetime.datetime(2021, 11, 14, 0, 0),\n",
       " datetime.datetime(2021, 11, 15, 0, 0),\n",
       " datetime.datetime(2021, 11, 16, 0, 0),\n",
       " datetime.datetime(2021, 11, 17, 0, 0),\n",
       " datetime.datetime(2021, 11, 18, 0, 0),\n",
       " datetime.datetime(2021, 11, 19, 0, 0),\n",
       " datetime.datetime(2021, 11, 20, 0, 0),\n",
       " datetime.datetime(2021, 11, 21, 0, 0),\n",
       " datetime.datetime(2021, 11, 22, 0, 0),\n",
       " datetime.datetime(2021, 11, 23, 0, 0),\n",
       " datetime.datetime(2021, 11, 24, 0, 0),\n",
       " datetime.datetime(2021, 11, 25, 0, 0),\n",
       " datetime.datetime(2021, 11, 26, 0, 0),\n",
       " datetime.datetime(2021, 11, 27, 0, 0),\n",
       " datetime.datetime(2021, 11, 28, 0, 0),\n",
       " datetime.datetime(2021, 11, 29, 0, 0),\n",
       " datetime.datetime(2021, 11, 30, 0, 0),\n",
       " datetime.datetime(2021, 12, 1, 0, 0),\n",
       " datetime.datetime(2021, 12, 2, 0, 0),\n",
       " datetime.datetime(2021, 12, 3, 0, 0),\n",
       " datetime.datetime(2021, 12, 4, 0, 0)]"
      ]
     },
     "execution_count": 13,
     "metadata": {},
     "output_type": "execute_result"
    }
   ],
   "source": [
    "dateList"
   ]
  },
  {
   "cell_type": "code",
   "execution_count": 14,
   "id": "1959cd20-b51b-466d-8402-19532767dfb7",
   "metadata": {},
   "outputs": [
    {
     "name": "stderr",
     "output_type": "stream",
     "text": [
      "100%|██████████| 35/35 [00:00<00:00, 85.48it/s]\n",
      "100%|██████████| 35/35 [00:00<00:00, 89.21it/s]\n",
      "100%|██████████| 35/35 [00:00<00:00, 78.59it/s]\n",
      "100%|██████████| 35/35 [00:00<00:00, 94.41it/s]\n",
      "100%|██████████| 35/35 [00:00<00:00, 98.44it/s]\n",
      "100%|██████████| 35/35 [00:00<00:00, 84.78it/s]\n",
      "100%|██████████| 35/35 [00:00<00:00, 87.70it/s]\n",
      "100%|██████████| 35/35 [00:00<00:00, 95.47it/s]\n"
     ]
    }
   ],
   "source": [
    "for state in states:\n",
    "    for date in tqdm(dateList):\n",
    "        correctVaccTT(str(date.date()),state)"
   ]
  },
  {
   "cell_type": "code",
   "execution_count": 15,
   "id": "2255c6fa-5105-4310-84fb-f653c9391888",
   "metadata": {},
   "outputs": [
    {
     "name": "stdout",
     "output_type": "stream",
     "text": [
      "Sun Dec  5 22:04:51 IST 2021\n"
     ]
    }
   ],
   "source": [
    "!date"
   ]
  },
  {
   "cell_type": "markdown",
   "id": "3e2ca43c-1504-4f20-a2f6-10f32b106d23",
   "metadata": {},
   "source": [
    "# Delhi Testing data Update"
   ]
  },
  {
   "cell_type": "code",
   "execution_count": 1,
   "id": "4fad7d30-e9bf-43fd-9bfe-f7d488a368ff",
   "metadata": {},
   "outputs": [],
   "source": [
    "import pandas as pd"
   ]
  },
  {
   "cell_type": "code",
   "execution_count": 3,
   "id": "5f8707a8-5b7b-45b8-8e8c-f7aee0e086cd",
   "metadata": {},
   "outputs": [],
   "source": [
    "df = pd.read_csv(\"DL_Tested.csv\")"
   ]
  },
  {
   "cell_type": "code",
   "execution_count": 16,
   "id": "275e5629-e603-4f25-a502-26f32f7dc7eb",
   "metadata": {},
   "outputs": [
    {
     "name": "stderr",
     "output_type": "stream",
     "text": [
      "100%|██████████| 60/60 [00:00<00:00, 240.45it/s]\n"
     ]
    }
   ],
   "source": [
    "for idx in tqdm(df.index):\n",
    "    date = datetime.strptime(df[\"Date\"][idx], '%Y-%m-%d')\n",
    "    state_df = pd.read_csv(\"../RAWCSV/\"+df[\"Date\"][idx]+\"/myGov/DL_raw.csv\")\n",
    "    state_df[\"cumulativeTestedNumberForState\"] = df[\"Cumulative_Tested\"][idx]\n",
    "    state_df.to_csv(\"../RAWCSV/\"+df[\"Date\"][idx]+\"/myGov/DL_raw.csv\")"
   ]
  },
  {
   "cell_type": "code",
   "execution_count": 15,
   "id": "4078496f-97be-48d4-82b2-84b72b9f792b",
   "metadata": {},
   "outputs": [
    {
     "data": {
      "text/html": [
       "<div>\n",
       "<style scoped>\n",
       "    .dataframe tbody tr th:only-of-type {\n",
       "        vertical-align: middle;\n",
       "    }\n",
       "\n",
       "    .dataframe tbody tr th {\n",
       "        vertical-align: top;\n",
       "    }\n",
       "\n",
       "    .dataframe thead th {\n",
       "        text-align: right;\n",
       "    }\n",
       "</style>\n",
       "<table border=\"1\" class=\"dataframe\">\n",
       "  <thead>\n",
       "    <tr style=\"text-align: right;\">\n",
       "      <th></th>\n",
       "      <th>Unnamed: 0</th>\n",
       "      <th>Date</th>\n",
       "      <th>State/UTCode</th>\n",
       "      <th>District</th>\n",
       "      <th>tested_last_updated_district</th>\n",
       "      <th>tested_source_district</th>\n",
       "      <th>notesForDistrict</th>\n",
       "      <th>cumulativeConfirmedNumberForDistrict</th>\n",
       "      <th>cumulativeDeceasedNumberForDistrict</th>\n",
       "      <th>cumulativeRecoveredNumberForDistrict</th>\n",
       "      <th>cumulativeTestedNumberForDistrict</th>\n",
       "      <th>last_updated</th>\n",
       "      <th>tested_last_updated_state</th>\n",
       "      <th>tested_source_state</th>\n",
       "      <th>notesForState</th>\n",
       "      <th>cumulativeConfirmedNumberForState</th>\n",
       "      <th>cumulativeDeceasedNumberForState</th>\n",
       "      <th>cumulativeRecoveredNumberForState</th>\n",
       "      <th>cumulativeTestedNumberForState</th>\n",
       "    </tr>\n",
       "  </thead>\n",
       "  <tbody>\n",
       "    <tr>\n",
       "      <th>0</th>\n",
       "      <td>0</td>\n",
       "      <td>2021-12-29</td>\n",
       "      <td>DL</td>\n",
       "      <td>Central Delhi</td>\n",
       "      <td>NaN</td>\n",
       "      <td>NaN</td>\n",
       "      <td>NaN</td>\n",
       "      <td>NaN</td>\n",
       "      <td>NaN</td>\n",
       "      <td>NaN</td>\n",
       "      <td>NaN</td>\n",
       "      <td>2021-12-30 12:43:11.607822</td>\n",
       "      <td>NaN</td>\n",
       "      <td>NaN</td>\n",
       "      <td>NaN</td>\n",
       "      <td>1445102</td>\n",
       "      <td>25107</td>\n",
       "      <td>1417804</td>\n",
       "      <td>32575392</td>\n",
       "    </tr>\n",
       "    <tr>\n",
       "      <th>1</th>\n",
       "      <td>1</td>\n",
       "      <td>2021-12-29</td>\n",
       "      <td>DL</td>\n",
       "      <td>East Delhi</td>\n",
       "      <td>NaN</td>\n",
       "      <td>NaN</td>\n",
       "      <td>NaN</td>\n",
       "      <td>NaN</td>\n",
       "      <td>NaN</td>\n",
       "      <td>NaN</td>\n",
       "      <td>NaN</td>\n",
       "      <td>2021-12-30 12:43:11.607822</td>\n",
       "      <td>NaN</td>\n",
       "      <td>NaN</td>\n",
       "      <td>NaN</td>\n",
       "      <td>1445102</td>\n",
       "      <td>25107</td>\n",
       "      <td>1417804</td>\n",
       "      <td>32575392</td>\n",
       "    </tr>\n",
       "    <tr>\n",
       "      <th>2</th>\n",
       "      <td>2</td>\n",
       "      <td>2021-12-29</td>\n",
       "      <td>DL</td>\n",
       "      <td>New Delhi</td>\n",
       "      <td>NaN</td>\n",
       "      <td>NaN</td>\n",
       "      <td>NaN</td>\n",
       "      <td>NaN</td>\n",
       "      <td>NaN</td>\n",
       "      <td>NaN</td>\n",
       "      <td>NaN</td>\n",
       "      <td>2021-12-30 12:43:11.607822</td>\n",
       "      <td>NaN</td>\n",
       "      <td>NaN</td>\n",
       "      <td>NaN</td>\n",
       "      <td>1445102</td>\n",
       "      <td>25107</td>\n",
       "      <td>1417804</td>\n",
       "      <td>32575392</td>\n",
       "    </tr>\n",
       "    <tr>\n",
       "      <th>3</th>\n",
       "      <td>3</td>\n",
       "      <td>2021-12-29</td>\n",
       "      <td>DL</td>\n",
       "      <td>North Delhi</td>\n",
       "      <td>NaN</td>\n",
       "      <td>NaN</td>\n",
       "      <td>NaN</td>\n",
       "      <td>NaN</td>\n",
       "      <td>NaN</td>\n",
       "      <td>NaN</td>\n",
       "      <td>NaN</td>\n",
       "      <td>2021-12-30 12:43:11.607822</td>\n",
       "      <td>NaN</td>\n",
       "      <td>NaN</td>\n",
       "      <td>NaN</td>\n",
       "      <td>1445102</td>\n",
       "      <td>25107</td>\n",
       "      <td>1417804</td>\n",
       "      <td>32575392</td>\n",
       "    </tr>\n",
       "    <tr>\n",
       "      <th>4</th>\n",
       "      <td>4</td>\n",
       "      <td>2021-12-29</td>\n",
       "      <td>DL</td>\n",
       "      <td>North East Delhi</td>\n",
       "      <td>NaN</td>\n",
       "      <td>NaN</td>\n",
       "      <td>NaN</td>\n",
       "      <td>NaN</td>\n",
       "      <td>NaN</td>\n",
       "      <td>NaN</td>\n",
       "      <td>NaN</td>\n",
       "      <td>2021-12-30 12:43:11.607822</td>\n",
       "      <td>NaN</td>\n",
       "      <td>NaN</td>\n",
       "      <td>NaN</td>\n",
       "      <td>1445102</td>\n",
       "      <td>25107</td>\n",
       "      <td>1417804</td>\n",
       "      <td>32575392</td>\n",
       "    </tr>\n",
       "  </tbody>\n",
       "</table>\n",
       "</div>"
      ],
      "text/plain": [
       "   Unnamed: 0        Date State/UTCode          District  \\\n",
       "0           0  2021-12-29           DL     Central Delhi   \n",
       "1           1  2021-12-29           DL        East Delhi   \n",
       "2           2  2021-12-29           DL         New Delhi   \n",
       "3           3  2021-12-29           DL       North Delhi   \n",
       "4           4  2021-12-29           DL  North East Delhi   \n",
       "\n",
       "   tested_last_updated_district  tested_source_district  notesForDistrict  \\\n",
       "0                           NaN                     NaN               NaN   \n",
       "1                           NaN                     NaN               NaN   \n",
       "2                           NaN                     NaN               NaN   \n",
       "3                           NaN                     NaN               NaN   \n",
       "4                           NaN                     NaN               NaN   \n",
       "\n",
       "   cumulativeConfirmedNumberForDistrict  cumulativeDeceasedNumberForDistrict  \\\n",
       "0                                   NaN                                  NaN   \n",
       "1                                   NaN                                  NaN   \n",
       "2                                   NaN                                  NaN   \n",
       "3                                   NaN                                  NaN   \n",
       "4                                   NaN                                  NaN   \n",
       "\n",
       "   cumulativeRecoveredNumberForDistrict  cumulativeTestedNumberForDistrict  \\\n",
       "0                                   NaN                                NaN   \n",
       "1                                   NaN                                NaN   \n",
       "2                                   NaN                                NaN   \n",
       "3                                   NaN                                NaN   \n",
       "4                                   NaN                                NaN   \n",
       "\n",
       "                 last_updated  tested_last_updated_state  tested_source_state  \\\n",
       "0  2021-12-30 12:43:11.607822                        NaN                  NaN   \n",
       "1  2021-12-30 12:43:11.607822                        NaN                  NaN   \n",
       "2  2021-12-30 12:43:11.607822                        NaN                  NaN   \n",
       "3  2021-12-30 12:43:11.607822                        NaN                  NaN   \n",
       "4  2021-12-30 12:43:11.607822                        NaN                  NaN   \n",
       "\n",
       "   notesForState  cumulativeConfirmedNumberForState  \\\n",
       "0            NaN                            1445102   \n",
       "1            NaN                            1445102   \n",
       "2            NaN                            1445102   \n",
       "3            NaN                            1445102   \n",
       "4            NaN                            1445102   \n",
       "\n",
       "   cumulativeDeceasedNumberForState  cumulativeRecoveredNumberForState  \\\n",
       "0                             25107                            1417804   \n",
       "1                             25107                            1417804   \n",
       "2                             25107                            1417804   \n",
       "3                             25107                            1417804   \n",
       "4                             25107                            1417804   \n",
       "\n",
       "   cumulativeTestedNumberForState  \n",
       "0                        32575392  \n",
       "1                        32575392  \n",
       "2                        32575392  \n",
       "3                        32575392  \n",
       "4                        32575392  "
      ]
     },
     "execution_count": 15,
     "metadata": {},
     "output_type": "execute_result"
    }
   ],
   "source": [
    "state_df.head()"
   ]
  },
  {
   "cell_type": "code",
   "execution_count": 12,
   "id": "37c69c53-1d70-4a3c-a618-7ac95f1b2083",
   "metadata": {},
   "outputs": [
    {
     "data": {
      "text/plain": [
       "Index(['Date', 'Cumulative_Tested'], dtype='object')"
      ]
     },
     "execution_count": 12,
     "metadata": {},
     "output_type": "execute_result"
    }
   ],
   "source": [
    "df.columns"
   ]
  },
  {
   "cell_type": "code",
   "execution_count": null,
   "id": "d74bc7ee-75eb-4b9f-b2d9-971f3671bd95",
   "metadata": {},
   "outputs": [],
   "source": []
  }
 ],
 "metadata": {
  "kernelspec": {
   "display_name": "Python 3",
   "language": "python",
   "name": "python3"
  },
  "language_info": {
   "codemirror_mode": {
    "name": "ipython",
    "version": 3
   },
   "file_extension": ".py",
   "mimetype": "text/x-python",
   "name": "python",
   "nbconvert_exporter": "python",
   "pygments_lexer": "ipython3",
   "version": "3.6.9"
  }
 },
 "nbformat": 4,
 "nbformat_minor": 5
}
