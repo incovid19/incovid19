{
 "cells": [
  {
   "cell_type": "code",
   "execution_count": 1,
   "id": "b36571fd-096d-4543-8e51-5e9690324fe2",
   "metadata": {},
   "outputs": [],
   "source": [
    "import pandas as pd\n",
    "from bs4 import BeautifulSoup\n",
    "import urllib.request\n",
    "from StatusMsg import StatusMsg\n",
    "import json\n",
    "import os\n",
    "import io\n",
    "import datetime\n",
    "import timedelta"
   ]
  },
  {
   "cell_type": "code",
   "execution_count": 2,
   "id": "9a9b537b-eb58-45df-b7fa-665d550024a1",
   "metadata": {},
   "outputs": [],
   "source": [
    "def india(state,date):\n",
    "    # URL = \"https://www.mygov.in/corona-data/covid19-statewise-status/\"\n",
    "    # file_name, headers = urllib.request.urlretrieve(URL)\n",
    "    soup = BeautifulSoup(open(\"../INPUT/\"+date+\"/TT_State.html\", encoding=\"utf8\"), \"html.parser\")\n",
    "\n",
    "    # sum_URL = \"https://www.mygov.in/covid-19\"\n",
    "    # sum_file_name, sum_headers = urllib.request.urlretrieve(sum_URL)\n",
    "    sum_soup = BeautifulSoup(open(\"../INPUT/\"+date+\"/TT.html\", encoding=\"utf8\"), \"html.parser\")\n",
    "\n",
    "    STATES = soup.find_all(\"div\", {\"class\": \"field field-name-field-select-state field-type-list-text field-label-above\"})\n",
    "    CONFIRMED = soup.find_all(\"div\", {\"class\": \"field field-name-field-total-confirmed-indians field-type-number-integer field-label-above\"})\n",
    "    CURED_DISCHARGED = soup.find_all(\"div\", {\"class\": \"field field-name-field-cured field-type-number-integer field-label-above\"})\n",
    "    DEATH = soup.find_all(\"div\", {\"class\": \"field field-name-field-deaths field-type-number-integer field-label-above\"})\n",
    "\n",
    "    states = []\n",
    "    for val in STATES:\n",
    "        states.append(str(val.getText()).split(\":\")[1].lstrip().replace(\"Telengana\", \"Telangana\").replace('Andaman And Nicobar', 'Andaman and Nicobar Islands').replace('Andaman and Nicobar','Andaman and Nicobar Islands'))\n",
    "\n",
    "    confirmed = []\n",
    "    for val in CONFIRMED:\n",
    "        confirmed.append(str(val.getText()).split(\":\")[1].lstrip())\n",
    "\n",
    "    cured = []\n",
    "    for val in CURED_DISCHARGED:\n",
    "        cured.append(str(val.getText()).split(\":\")[1].lstrip())\n",
    "\n",
    "    death = []\n",
    "    for val in DEATH:\n",
    "        death.append(str(val.getText()).split(\":\")[1].lstrip())\n",
    "\n",
    "    states_data = pd.DataFrame(list(zip(states, confirmed, cured, death)))\n",
    "\n",
    "    final_df_col = [\n",
    "        'Date', 'State/UTCode', 'District', 'tested_last_updated_district', 'tested_source_district',\n",
    "        'notesForDistrict', 'cumulativeConfirmedNumberForDistrict', 'cumulativeDeceasedNumberForDistrict',\n",
    "        'cumulativeRecoveredNumberForDistrict', 'cumulativeTestedNumberForDistrict',\n",
    "        'cumulativeVaccinatedNumberForDistrict', 'last_updated', 'tested_last_updated_state', 'tested_source_state',\n",
    "        'notesForState', 'cumulativeConfirmedNumberForState', 'cumulativeDeceasedNumberForState',\n",
    "        'cumulativeRecoveredNumberForState', 'cumulativeTestedNumberForState', 'cumulativeVaccinatedNumberForState'\n",
    "    ]\n",
    "\n",
    "    states_data = states_data.rename(\n",
    "        columns={0: \"District\", 1: \"cumulativeConfirmedNumberForDistrict\", 2: \"cumulativeRecoveredNumberForDistrict\",\n",
    "                 3: \"cumulativeDeceasedNumberForDistrict\"})\n",
    "\n",
    "    states_data[\"Date\"] = date#str(datetime.datetime.now().date())\n",
    "\n",
    "    states_data[\"State/UTCode\"] = state\n",
    "\n",
    "    states_data['cumulativeConfirmedNumberForState'] = int(\n",
    "        sum_soup.findAll(\"div\", {\"class\": \"t_case\"})[0].findAll(\"span\", {\"class\": \"icount\"})[0].getText().replace(\n",
    "            \",\", \"\"))\n",
    "\n",
    "    states_data['cumulativeDeceasedNumberForState'] = int(\n",
    "        sum_soup.findAll(\"div\", {\"class\": \"death_case\"})[0].findAll(\"span\", {\"class\": \"icount\"})[0].getText().replace(\n",
    "            \",\", \"\"))\n",
    "\n",
    "    states_data['cumulativeRecoveredNumberForState'] = int(\n",
    "        sum_soup.findAll(\"div\", {\"class\": \"discharge\"})[0].findAll(\"span\", {\"class\": \"icount\"})[0].getText().replace(\n",
    "            \",\", \"\"))\n",
    "    \n",
    "    \n",
    "    states_data[\"last_updated\"] = str(datetime.datetime.now())\n",
    "\n",
    "    states_data['cumulativeTestedNumberForState'] = int(\n",
    "        sum_soup.findAll(\"div\", {\"class\": \"testing_result\"})[0].findAll(\"strong\")[0].getText().replace(\",\", \"\"))\n",
    "    \n",
    "    \n",
    "    states_data['tested_last_updated_state'] = sum_soup.findAll(\n",
    "        \"div\", {\"class\": \"test_title\"})[0].getText().strip().split(\"up to \")[-1]\n",
    "    \n",
    "    states_data['deltaTestedForState'] = int(\n",
    "        sum_soup.findAll(\"div\", {\"class\": \"testing_sample\"})[0].findAll(\"strong\")[0].getText().replace(\",\", \"\"))\n",
    "    \n",
    "    for vcount in sum_soup.findAll(\"div\", {\"class\": \"total-vcount\"}):\n",
    "        if 'yday' not in vcount.attrs['class']:\n",
    "            states_data['cumulativeVaccinatedNumberForState'] = int(vcount.findAll(\"strong\")[0].getText().replace(\",\", \"\"))\n",
    "\n",
    "    # states_data = states_data.reindex(columns=final_df_col)\n",
    "    return states_data"
   ]
  },
  {
   "cell_type": "code",
   "execution_count": 5,
   "id": "ec3ead84-9019-4ad5-a270-2d164119e202",
   "metadata": {},
   "outputs": [
    {
     "name": "stdout",
     "output_type": "stream",
     "text": [
      "2022-03-02\n",
      "2022-03-01\n"
     ]
    }
   ],
   "source": [
    "today = (datetime.datetime.now() - timedelta.Timedelta(days=0)).date()\n",
    "pDate = (datetime.datetime.now() - timedelta.Timedelta(days=1)).date()\n",
    "cowinDate = (datetime.datetime.now() - timedelta.Timedelta(days=2)).date()\n",
    "print(str(today))\n",
    "print(str(pDate))\n",
    "\n",
    "# today = \"2022-02-09\"\n",
    "# pDate = \"2022-02-08\"\n",
    "TT_df = india(\"TT\",str(today))\n",
    "\n",
    "# ASHA .. For Running previous dates\n",
    "# date_time_str = '2021/11/06'\n",
    "# date_time_obj = datetime.datetime.strptime(date_time_str, '%Y/%m/%d')\n",
    "# print(str(date_time_obj.date()))\n",
    "# today = (date_time_obj - timedelta.Timedelta(days=0)).date()\n",
    "# pDate = (date_time_obj - timedelta.Timedelta(days=1)).date()\n",
    "# print(str(today))\n",
    "# print(str(pDate))\n",
    "# TT_df = india(\"TT\",str(today))\n",
    "# ASHA .. For Running previous dates\n",
    "\n"
   ]
  },
  {
   "cell_type": "code",
   "execution_count": 6,
   "id": "985d6d21-2e61-4957-9a40-2cd84aa484fd",
   "metadata": {},
   "outputs": [],
   "source": [
    "if not os.path.isdir(os.path.join(\"..\",\"RAWCSV\",str(pDate),\"myGov\")):\n",
    "    os.mkdir(os.path.join(\"..\",\"RAWCSV\",str(pDate),\"myGov\"))\n",
    "    print(\"Created\")"
   ]
  },
  {
   "cell_type": "code",
   "execution_count": 7,
   "id": "2504c93a-f69e-47d7-8d88-5fea3d3d35a9",
   "metadata": {},
   "outputs": [
    {
     "name": "stdout",
     "output_type": "stream",
     "text": [
      "AP\n"
     ]
    },
    {
     "ename": "FileNotFoundError",
     "evalue": "[Errno 2] No such file or directory: '../RAWCSV/2022-03-02/TT_raw.csv'",
     "output_type": "error",
     "traceback": [
      "\u001b[0;31m---------------------------------------------------------------------------\u001b[0m",
      "\u001b[0;31mFileNotFoundError\u001b[0m                         Traceback (most recent call last)",
      "\u001b[0;32m<ipython-input-7-20b8e8d660ad>\u001b[0m in \u001b[0;36m<module>\u001b[0;34m\u001b[0m\n\u001b[1;32m     14\u001b[0m                 \u001b[0mtemp_df\u001b[0m \u001b[0;34m=\u001b[0m \u001b[0mExtractStateMyGov\u001b[0m\u001b[0;34m(\u001b[0m\u001b[0msource\u001b[0m\u001b[0;34m[\u001b[0m\u001b[0;34m\"StateCode\"\u001b[0m\u001b[0;34m]\u001b[0m\u001b[0;34m[\u001b[0m\u001b[0midx\u001b[0m\u001b[0;34m]\u001b[0m\u001b[0;34m,\u001b[0m\u001b[0mstr\u001b[0m\u001b[0;34m(\u001b[0m\u001b[0mtoday\u001b[0m\u001b[0;34m)\u001b[0m\u001b[0;34m)\u001b[0m\u001b[0;34m\u001b[0m\u001b[0;34m\u001b[0m\u001b[0m\n\u001b[1;32m     15\u001b[0m         \u001b[0;32melse\u001b[0m\u001b[0;34m:\u001b[0m\u001b[0;34m\u001b[0m\u001b[0;34m\u001b[0m\u001b[0m\n\u001b[0;32m---> 16\u001b[0;31m             \u001b[0mtemp_df\u001b[0m \u001b[0;34m=\u001b[0m \u001b[0mExtractStateMyGov\u001b[0m\u001b[0;34m(\u001b[0m\u001b[0msource\u001b[0m\u001b[0;34m[\u001b[0m\u001b[0;34m\"StateCode\"\u001b[0m\u001b[0;34m]\u001b[0m\u001b[0;34m[\u001b[0m\u001b[0midx\u001b[0m\u001b[0;34m]\u001b[0m\u001b[0;34m,\u001b[0m\u001b[0mstr\u001b[0m\u001b[0;34m(\u001b[0m\u001b[0mtoday\u001b[0m\u001b[0;34m)\u001b[0m\u001b[0;34m,\u001b[0m \u001b[0mno_source\u001b[0m \u001b[0;34m=\u001b[0m \u001b[0;32mTrue\u001b[0m\u001b[0;34m)\u001b[0m\u001b[0;34m\u001b[0m\u001b[0;34m\u001b[0m\u001b[0m\n\u001b[0m\u001b[1;32m     17\u001b[0m         \u001b[0mtemp_df\u001b[0m\u001b[0;34m[\u001b[0m\u001b[0;34m\"Date\"\u001b[0m\u001b[0;34m]\u001b[0m \u001b[0;34m=\u001b[0m \u001b[0mpDate\u001b[0m\u001b[0;34m\u001b[0m\u001b[0;34m\u001b[0m\u001b[0m\n\u001b[1;32m     18\u001b[0m         \u001b[0;32mif\u001b[0m \u001b[0msource\u001b[0m\u001b[0;34m[\u001b[0m\u001b[0;34m\"StateCode\"\u001b[0m\u001b[0;34m]\u001b[0m\u001b[0;34m[\u001b[0m\u001b[0midx\u001b[0m\u001b[0;34m]\u001b[0m \u001b[0;34m==\u001b[0m \u001b[0;34m\"PB\"\u001b[0m\u001b[0;34m:\u001b[0m\u001b[0;34m\u001b[0m\u001b[0;34m\u001b[0m\u001b[0m\n",
      "\u001b[0;32m~/Incovid19/incovid19/src/ExtractStateMyGov.py\u001b[0m in \u001b[0;36mExtractStateMyGov\u001b[0;34m(state, date, no_source)\u001b[0m\n\u001b[1;32m     55\u001b[0m             \u001b[0;34m\"cumulativeRecoveredNumberForDistrict\"\u001b[0m\u001b[0;34m,\u001b[0m\u001b[0;34m\u001b[0m\u001b[0;34m\u001b[0m\u001b[0m\n\u001b[1;32m     56\u001b[0m             \u001b[0;34m\"cumulativeTestedNumberForState\"\u001b[0m\u001b[0;34m,\u001b[0m\u001b[0;34m\u001b[0m\u001b[0;34m\u001b[0m\u001b[0m\n\u001b[0;32m---> 57\u001b[0;31m             \u001b[0;34m\"last_updated\"\u001b[0m\u001b[0;34m,\u001b[0m\u001b[0;34m\u001b[0m\u001b[0;34m\u001b[0m\u001b[0m\n\u001b[0m\u001b[1;32m     58\u001b[0m         ]\n\u001b[1;32m     59\u001b[0m     )\n",
      "\u001b[0;32m~/Incovid19/incovid19/env/lib/python3.6/site-packages/pandas/io/parsers.py\u001b[0m in \u001b[0;36mread_csv\u001b[0;34m(filepath_or_buffer, sep, delimiter, header, names, index_col, usecols, squeeze, prefix, mangle_dupe_cols, dtype, engine, converters, true_values, false_values, skipinitialspace, skiprows, skipfooter, nrows, na_values, keep_default_na, na_filter, verbose, skip_blank_lines, parse_dates, infer_datetime_format, keep_date_col, date_parser, dayfirst, cache_dates, iterator, chunksize, compression, thousands, decimal, lineterminator, quotechar, quoting, doublequote, escapechar, comment, encoding, dialect, error_bad_lines, warn_bad_lines, delim_whitespace, low_memory, memory_map, float_precision)\u001b[0m\n\u001b[1;32m    686\u001b[0m     )\n\u001b[1;32m    687\u001b[0m \u001b[0;34m\u001b[0m\u001b[0m\n\u001b[0;32m--> 688\u001b[0;31m     \u001b[0;32mreturn\u001b[0m \u001b[0m_read\u001b[0m\u001b[0;34m(\u001b[0m\u001b[0mfilepath_or_buffer\u001b[0m\u001b[0;34m,\u001b[0m \u001b[0mkwds\u001b[0m\u001b[0;34m)\u001b[0m\u001b[0;34m\u001b[0m\u001b[0;34m\u001b[0m\u001b[0m\n\u001b[0m\u001b[1;32m    689\u001b[0m \u001b[0;34m\u001b[0m\u001b[0m\n\u001b[1;32m    690\u001b[0m \u001b[0;34m\u001b[0m\u001b[0m\n",
      "\u001b[0;32m~/Incovid19/incovid19/env/lib/python3.6/site-packages/pandas/io/parsers.py\u001b[0m in \u001b[0;36m_read\u001b[0;34m(filepath_or_buffer, kwds)\u001b[0m\n\u001b[1;32m    452\u001b[0m \u001b[0;34m\u001b[0m\u001b[0m\n\u001b[1;32m    453\u001b[0m     \u001b[0;31m# Create the parser.\u001b[0m\u001b[0;34m\u001b[0m\u001b[0;34m\u001b[0m\u001b[0;34m\u001b[0m\u001b[0m\n\u001b[0;32m--> 454\u001b[0;31m     \u001b[0mparser\u001b[0m \u001b[0;34m=\u001b[0m \u001b[0mTextFileReader\u001b[0m\u001b[0;34m(\u001b[0m\u001b[0mfp_or_buf\u001b[0m\u001b[0;34m,\u001b[0m \u001b[0;34m**\u001b[0m\u001b[0mkwds\u001b[0m\u001b[0;34m)\u001b[0m\u001b[0;34m\u001b[0m\u001b[0;34m\u001b[0m\u001b[0m\n\u001b[0m\u001b[1;32m    455\u001b[0m \u001b[0;34m\u001b[0m\u001b[0m\n\u001b[1;32m    456\u001b[0m     \u001b[0;32mif\u001b[0m \u001b[0mchunksize\u001b[0m \u001b[0;32mor\u001b[0m \u001b[0miterator\u001b[0m\u001b[0;34m:\u001b[0m\u001b[0;34m\u001b[0m\u001b[0;34m\u001b[0m\u001b[0m\n",
      "\u001b[0;32m~/Incovid19/incovid19/env/lib/python3.6/site-packages/pandas/io/parsers.py\u001b[0m in \u001b[0;36m__init__\u001b[0;34m(self, f, engine, **kwds)\u001b[0m\n\u001b[1;32m    946\u001b[0m             \u001b[0mself\u001b[0m\u001b[0;34m.\u001b[0m\u001b[0moptions\u001b[0m\u001b[0;34m[\u001b[0m\u001b[0;34m\"has_index_names\"\u001b[0m\u001b[0;34m]\u001b[0m \u001b[0;34m=\u001b[0m \u001b[0mkwds\u001b[0m\u001b[0;34m[\u001b[0m\u001b[0;34m\"has_index_names\"\u001b[0m\u001b[0;34m]\u001b[0m\u001b[0;34m\u001b[0m\u001b[0;34m\u001b[0m\u001b[0m\n\u001b[1;32m    947\u001b[0m \u001b[0;34m\u001b[0m\u001b[0m\n\u001b[0;32m--> 948\u001b[0;31m         \u001b[0mself\u001b[0m\u001b[0;34m.\u001b[0m\u001b[0m_make_engine\u001b[0m\u001b[0;34m(\u001b[0m\u001b[0mself\u001b[0m\u001b[0;34m.\u001b[0m\u001b[0mengine\u001b[0m\u001b[0;34m)\u001b[0m\u001b[0;34m\u001b[0m\u001b[0;34m\u001b[0m\u001b[0m\n\u001b[0m\u001b[1;32m    949\u001b[0m \u001b[0;34m\u001b[0m\u001b[0m\n\u001b[1;32m    950\u001b[0m     \u001b[0;32mdef\u001b[0m \u001b[0mclose\u001b[0m\u001b[0;34m(\u001b[0m\u001b[0mself\u001b[0m\u001b[0;34m)\u001b[0m\u001b[0;34m:\u001b[0m\u001b[0;34m\u001b[0m\u001b[0;34m\u001b[0m\u001b[0m\n",
      "\u001b[0;32m~/Incovid19/incovid19/env/lib/python3.6/site-packages/pandas/io/parsers.py\u001b[0m in \u001b[0;36m_make_engine\u001b[0;34m(self, engine)\u001b[0m\n\u001b[1;32m   1178\u001b[0m     \u001b[0;32mdef\u001b[0m \u001b[0m_make_engine\u001b[0m\u001b[0;34m(\u001b[0m\u001b[0mself\u001b[0m\u001b[0;34m,\u001b[0m \u001b[0mengine\u001b[0m\u001b[0;34m=\u001b[0m\u001b[0;34m\"c\"\u001b[0m\u001b[0;34m)\u001b[0m\u001b[0;34m:\u001b[0m\u001b[0;34m\u001b[0m\u001b[0;34m\u001b[0m\u001b[0m\n\u001b[1;32m   1179\u001b[0m         \u001b[0;32mif\u001b[0m \u001b[0mengine\u001b[0m \u001b[0;34m==\u001b[0m \u001b[0;34m\"c\"\u001b[0m\u001b[0;34m:\u001b[0m\u001b[0;34m\u001b[0m\u001b[0;34m\u001b[0m\u001b[0m\n\u001b[0;32m-> 1180\u001b[0;31m             \u001b[0mself\u001b[0m\u001b[0;34m.\u001b[0m\u001b[0m_engine\u001b[0m \u001b[0;34m=\u001b[0m \u001b[0mCParserWrapper\u001b[0m\u001b[0;34m(\u001b[0m\u001b[0mself\u001b[0m\u001b[0;34m.\u001b[0m\u001b[0mf\u001b[0m\u001b[0;34m,\u001b[0m \u001b[0;34m**\u001b[0m\u001b[0mself\u001b[0m\u001b[0;34m.\u001b[0m\u001b[0moptions\u001b[0m\u001b[0;34m)\u001b[0m\u001b[0;34m\u001b[0m\u001b[0;34m\u001b[0m\u001b[0m\n\u001b[0m\u001b[1;32m   1181\u001b[0m         \u001b[0;32melse\u001b[0m\u001b[0;34m:\u001b[0m\u001b[0;34m\u001b[0m\u001b[0;34m\u001b[0m\u001b[0m\n\u001b[1;32m   1182\u001b[0m             \u001b[0;32mif\u001b[0m \u001b[0mengine\u001b[0m \u001b[0;34m==\u001b[0m \u001b[0;34m\"python\"\u001b[0m\u001b[0;34m:\u001b[0m\u001b[0;34m\u001b[0m\u001b[0;34m\u001b[0m\u001b[0m\n",
      "\u001b[0;32m~/Incovid19/incovid19/env/lib/python3.6/site-packages/pandas/io/parsers.py\u001b[0m in \u001b[0;36m__init__\u001b[0;34m(self, src, **kwds)\u001b[0m\n\u001b[1;32m   2008\u001b[0m         \u001b[0mkwds\u001b[0m\u001b[0;34m[\u001b[0m\u001b[0;34m\"usecols\"\u001b[0m\u001b[0;34m]\u001b[0m \u001b[0;34m=\u001b[0m \u001b[0mself\u001b[0m\u001b[0;34m.\u001b[0m\u001b[0musecols\u001b[0m\u001b[0;34m\u001b[0m\u001b[0;34m\u001b[0m\u001b[0m\n\u001b[1;32m   2009\u001b[0m \u001b[0;34m\u001b[0m\u001b[0m\n\u001b[0;32m-> 2010\u001b[0;31m         \u001b[0mself\u001b[0m\u001b[0;34m.\u001b[0m\u001b[0m_reader\u001b[0m \u001b[0;34m=\u001b[0m \u001b[0mparsers\u001b[0m\u001b[0;34m.\u001b[0m\u001b[0mTextReader\u001b[0m\u001b[0;34m(\u001b[0m\u001b[0msrc\u001b[0m\u001b[0;34m,\u001b[0m \u001b[0;34m**\u001b[0m\u001b[0mkwds\u001b[0m\u001b[0;34m)\u001b[0m\u001b[0;34m\u001b[0m\u001b[0;34m\u001b[0m\u001b[0m\n\u001b[0m\u001b[1;32m   2011\u001b[0m         \u001b[0mself\u001b[0m\u001b[0;34m.\u001b[0m\u001b[0munnamed_cols\u001b[0m \u001b[0;34m=\u001b[0m \u001b[0mself\u001b[0m\u001b[0;34m.\u001b[0m\u001b[0m_reader\u001b[0m\u001b[0;34m.\u001b[0m\u001b[0munnamed_cols\u001b[0m\u001b[0;34m\u001b[0m\u001b[0;34m\u001b[0m\u001b[0m\n\u001b[1;32m   2012\u001b[0m \u001b[0;34m\u001b[0m\u001b[0m\n",
      "\u001b[0;32mpandas/_libs/parsers.pyx\u001b[0m in \u001b[0;36mpandas._libs.parsers.TextReader.__cinit__\u001b[0;34m()\u001b[0m\n",
      "\u001b[0;32mpandas/_libs/parsers.pyx\u001b[0m in \u001b[0;36mpandas._libs.parsers.TextReader._setup_parser_source\u001b[0;34m()\u001b[0m\n",
      "\u001b[0;31mFileNotFoundError\u001b[0m: [Errno 2] No such file or directory: '../RAWCSV/2022-03-02/TT_raw.csv'"
     ]
    }
   ],
   "source": [
    "#mygov of prevDate\n",
    "from ExtractStateMyGov import ExtractStateMyGov\n",
    "source = pd.read_csv(r\"../sources.csv\")\n",
    "for idx in source.index:\n",
    "    if source[\"StateCode\"][idx] != \"TT\":\n",
    "        \n",
    "        print(source[\"StateCode\"][idx])\n",
    "        if source[\"myGov\"][idx] == \"yes\":\n",
    "            if source[\"StateCode\"][idx] == \"DL\":\n",
    "                temp_df = ExtractStateMyGov(source[\"StateCode\"][idx],str(today))\n",
    "                df_addTest = pd.read_csv(\"../INPUT/DL_Tested.csv\")\n",
    "                temp_df['cumulativeTestedNumberForState'] = df_addTest[df_addTest[\"Date\"] == str(pDate)][\"Cumulative_Tested\"].item()\n",
    "            else:\n",
    "                temp_df = ExtractStateMyGov(source[\"StateCode\"][idx],str(today))\n",
    "        else:\n",
    "            temp_df = ExtractStateMyGov(source[\"StateCode\"][idx],str(today), no_source = True)\n",
    "        temp_df[\"Date\"] = pDate\n",
    "        if source[\"StateCode\"][idx] == \"PB\":\n",
    "            temp_df.to_csv(os.path.join(\"..\",\"RAWCSV\",str(pDate),\"myGov\",source[\"StateCode\"][idx]+\"_raw.csv\"))"
   ]
  },
  {
   "cell_type": "code",
   "execution_count": 6,
   "id": "9b76c994-3bea-440d-8f0c-07b016d0789f",
   "metadata": {},
   "outputs": [],
   "source": [
    "# TT_df = pd.read_csv(\"../RAWCSV/2021-10-31/TT_raw.csv\")"
   ]
  },
  {
   "cell_type": "code",
   "execution_count": 7,
   "id": "5dbcb47b-064e-49e8-a78c-50d48fa1ab95",
   "metadata": {},
   "outputs": [],
   "source": [
    "TT_df = TT_df.dropna(1)"
   ]
  },
  {
   "cell_type": "code",
   "execution_count": 8,
   "id": "e4beadad-89f0-4487-b180-b3b7dcfe9fb1",
   "metadata": {},
   "outputs": [],
   "source": [
    "import urllib.request, json \n",
    "with urllib.request.urlopen(\"https://api.cowin.gov.in/api/v1/reports/v2/getPublicReports?date=\"+str(pDate)) as url:\n",
    "    data = json.loads(url.read().decode())"
   ]
  },
  {
   "cell_type": "code",
   "execution_count": 9,
   "id": "1b98a83a-7cd0-4764-b5e7-85aa40f85056",
   "metadata": {},
   "outputs": [],
   "source": [
    "#pDate\n",
    "#tot_pd\n",
    "#precaution_dose\n",
    "# data"
   ]
  },
  {
   "cell_type": "code",
   "execution_count": 10,
   "id": "64a42bff-6d2e-44bc-9f19-d34eb94835be",
   "metadata": {},
   "outputs": [],
   "source": [
    "TT_df[\"cumulativeVaccinated1NumberForState\"] = data[\"topBlock\"][\"vaccination\"][\"tot_dose_1\"]\n",
    "TT_df[\"cumulativeVaccinated2NumberForState\"] = data[\"topBlock\"][\"vaccination\"][\"tot_dose_2\"]\n",
    "TT_df[\"cumulativeVaccinated3NumberForState\"] = data[\"topBlock\"][\"vaccination\"][\"tot_pd\"]\n",
    "TT_df[\"cumulativeVaccinatedNumberForState\"] = data[\"topBlock\"][\"vaccination\"][\"total_doses\"]"
   ]
  },
  {
   "cell_type": "code",
   "execution_count": 11,
   "id": "da6997e8-c602-43c2-9919-3e8a6aaeda5f",
   "metadata": {},
   "outputs": [
    {
     "name": "stdout",
     "output_type": "stream",
     "text": [
      "951230957\n",
      "730559808\n",
      "14141706\n",
      "1695932471\n"
     ]
    }
   ],
   "source": [
    "print(TT_df[\"cumulativeVaccinated1NumberForState\"][0])\n",
    "print(TT_df[\"cumulativeVaccinated2NumberForState\"][0])\n",
    "print(TT_df[\"cumulativeVaccinated3NumberForState\"][0])\n",
    "print(TT_df[\"cumulativeVaccinatedNumberForState\"][0])"
   ]
  },
  {
   "cell_type": "code",
   "execution_count": 12,
   "id": "3ebd5932-8706-42d5-858d-2caf9affdd5a",
   "metadata": {},
   "outputs": [],
   "source": [
    "states = []\n",
    "vaccinated = []\n",
    "vaccinated1 = []\n",
    "vaccinated2 = []\n",
    "vaccinated3 = []\n",
    "for sta in data['getBeneficiariesGroupBy']:\n",
    "    if (sta['title'].lower() == \"dadra and nagar haveli\") or (sta['title'].lower() == \"daman and diu\"):\n",
    "        states.append('Dadra and Nagar Haveli and Daman and Diu')\n",
    "    else:\n",
    "        states.append(sta['title'])\n",
    "    vaccinated.append(sta['total'])\n",
    "    vaccinated1.append(sta['partial_vaccinated'])\n",
    "    vaccinated2.append(sta['totally_vaccinated'])\n",
    "    vaccinated3.append(sta['precaution_dose'])"
   ]
  },
  {
   "cell_type": "code",
   "execution_count": 13,
   "id": "818d3f38-2105-423c-a38e-9506dc3ef065",
   "metadata": {},
   "outputs": [],
   "source": [
    "VAC_df = pd.DataFrame(list(zip(states,vaccinated,vaccinated1,vaccinated2,vaccinated3))).groupby(0, as_index=False).sum()"
   ]
  },
  {
   "cell_type": "code",
   "execution_count": 14,
   "id": "060872a3-0bc5-4b56-bada-b577c235fd50",
   "metadata": {},
   "outputs": [],
   "source": [
    "VAC_df = VAC_df.rename(columns={0:\"District\",1:\"cumulativeVaccinatedNumberForDistrict\",2:\"cumulativeVaccinated1NumberForDistrict\",3:\"cumulativeVaccinated2NumberForDistrict\",4:\"cumulativeVaccinated3NumberForDistrict\"})"
   ]
  },
  {
   "cell_type": "code",
   "execution_count": 15,
   "id": "4548275c-85fe-4578-b16d-9c6ffcfa18c2",
   "metadata": {},
   "outputs": [],
   "source": [
    "TT_df = TT_df.merge(VAC_df,how=\"left\",on=\"District\")"
   ]
  },
  {
   "cell_type": "code",
   "execution_count": 16,
   "id": "91c77a7e-769d-417f-a542-be3a269c7539",
   "metadata": {},
   "outputs": [],
   "source": [
    "TT_df[\"tested_source_state\"] = \"https://www.icmr.gov.in/\""
   ]
  },
  {
   "cell_type": "code",
   "execution_count": 17,
   "id": "d9346907-5506-4be6-b741-838d2d9bf97a",
   "metadata": {},
   "outputs": [],
   "source": [
    "# TT_df.to_csv(\"TT_test.csv\")"
   ]
  },
  {
   "cell_type": "code",
   "execution_count": 18,
   "id": "95b24f03-1941-48c3-9349-bb6ee61d1e87",
   "metadata": {},
   "outputs": [],
   "source": [
    "TT_df[\"tested_last_updated_state\"] = str(datetime.datetime.strptime(TT_df[\"tested_last_updated_state\"][0] , '%b %d, %Y'))"
   ]
  },
  {
   "cell_type": "markdown",
   "id": "119c3a29-887d-4413-bb26-5b9ca44418d5",
   "metadata": {},
   "source": [
    "# Generate TT_final"
   ]
  },
  {
   "cell_type": "code",
   "execution_count": 19,
   "id": "83bc0414-a808-4626-8e23-88dedc1c638e",
   "metadata": {},
   "outputs": [],
   "source": [
    "# cs = pd.read_csv(\"case_time_series.csv\")"
   ]
  },
  {
   "cell_type": "code",
   "execution_count": 20,
   "id": "a6e33cc1-76aa-4f42-90f5-4b11866bf70f",
   "metadata": {},
   "outputs": [],
   "source": [
    "# cs.columns"
   ]
  },
  {
   "cell_type": "code",
   "execution_count": 21,
   "id": "85c36201-8d8a-4267-90af-68c0b3246709",
   "metadata": {},
   "outputs": [],
   "source": [
    "# cs.tail()"
   ]
  },
  {
   "cell_type": "code",
   "execution_count": 22,
   "id": "c618b502-aff9-4c7b-8d13-6eea15c2d837",
   "metadata": {},
   "outputs": [],
   "source": [
    "# import timedelta\n",
    "# delta_date = str((datetime.datetime.now() - timedelta.Timedelta(days=1)).date())"
   ]
  },
  {
   "cell_type": "code",
   "execution_count": 23,
   "id": "9689f9a3-7b53-48d9-b4c0-8748d131a1fa",
   "metadata": {},
   "outputs": [],
   "source": [
    "delta_date = str(pDate)"
   ]
  },
  {
   "cell_type": "code",
   "execution_count": 24,
   "id": "07322783-bb7d-4a05-a2af-b8b82966c272",
   "metadata": {},
   "outputs": [
    {
     "data": {
      "text/plain": [
       "'2022-02-06'"
      ]
     },
     "execution_count": 24,
     "metadata": {},
     "output_type": "execute_result"
    }
   ],
   "source": [
    "delta_date"
   ]
  },
  {
   "cell_type": "code",
   "execution_count": 25,
   "id": "6040efca-eca4-4289-ad53-f20c03f350b3",
   "metadata": {},
   "outputs": [],
   "source": [
    "# ind = cs[cs['Date_YMD']==delta_date].index[0]"
   ]
  },
  {
   "cell_type": "markdown",
   "id": "ed4cca8f-c723-428e-a5a4-8c369ed504b5",
   "metadata": {},
   "source": [
    "# Integrate is CS only"
   ]
  },
  {
   "cell_type": "code",
   "execution_count": 26,
   "id": "3a2e5111-c87f-49d4-9374-133af742de9b",
   "metadata": {},
   "outputs": [],
   "source": [
    "# states_df = pd.read_csv(\"states.csv\")"
   ]
  },
  {
   "cell_type": "code",
   "execution_count": 27,
   "id": "1ad21163-a991-43a1-b815-e9ca6b0a2b4d",
   "metadata": {},
   "outputs": [],
   "source": [
    "# cs = states_df"
   ]
  },
  {
   "cell_type": "code",
   "execution_count": 28,
   "id": "c3c12c0b-476d-4934-9db9-13a121f84f4b",
   "metadata": {},
   "outputs": [],
   "source": [
    "# ind = cs[(cs['Date']==delta_date) & (cs[\"State\"] == \"India\")].index[0]"
   ]
  },
  {
   "cell_type": "code",
   "execution_count": 29,
   "id": "6a42dddd-584a-4783-a5ac-b54e9e0af269",
   "metadata": {},
   "outputs": [],
   "source": [
    "# ind"
   ]
  },
  {
   "cell_type": "markdown",
   "id": "f6b3f8ec-243f-4d8c-8d60-e2d5f10294c6",
   "metadata": {},
   "source": [
    "# Reading from Raw"
   ]
  },
  {
   "cell_type": "code",
   "execution_count": 30,
   "id": "c2f24adb-ffb9-425a-a009-dfcca9d34181",
   "metadata": {},
   "outputs": [],
   "source": [
    "cs = pd.read_csv(\"../RAWCSV/\"+delta_date+\"/TT_final.csv\")"
   ]
  },
  {
   "cell_type": "code",
   "execution_count": 31,
   "id": "50de5363-0b74-4bff-907f-d9c6ce44d6ae",
   "metadata": {},
   "outputs": [],
   "source": [
    "# cs.columns"
   ]
  },
  {
   "cell_type": "code",
   "execution_count": 32,
   "id": "1b7b8b7c-fd72-4e6e-b780-832c1e547596",
   "metadata": {},
   "outputs": [],
   "source": [
    "# TT_df[\"deltaConfirmedForState\"] = TT_df[\"cumulativeConfirmedNumberForState\"] - cs[\"Confirmed\"][ind]\n",
    "# TT_df[\"deltaDeceasedForState\"] = TT_df[\"cumulativeDeceasedNumberForState\"] - cs[\"Deceased\"][ind]\n",
    "# TT_df[\"deltaRecoveredForState\"] = TT_df[\"cumulativeRecoveredNumberForState\"] - cs[\"Recovered\"][ind]\n",
    "TT_df[\"deltaConfirmedForState\"] = TT_df[\"cumulativeConfirmedNumberForState\"] - cs[\"cumulativeConfirmedNumberForState\"][0]\n",
    "TT_df[\"deltaDeceasedForState\"] = TT_df[\"cumulativeDeceasedNumberForState\"] - cs[\"cumulativeDeceasedNumberForState\"][0]\n",
    "TT_df[\"deltaRecoveredForState\"] = TT_df[\"cumulativeRecoveredNumberForState\"] - cs[\"cumulativeRecoveredNumberForState\"][0]\n",
    "TT_df[\"deltaTestedForState\"] = TT_df[\"cumulativeTestedNumberForState\"] - cs[\"cumulativeTestedNumberForState\"][0]"
   ]
  },
  {
   "cell_type": "code",
   "execution_count": 33,
   "id": "e50ee26a-0656-495d-b61a-486cd444bea4",
   "metadata": {},
   "outputs": [
    {
     "data": {
      "text/plain": [
       "'2022-02-06'"
      ]
     },
     "execution_count": 33,
     "metadata": {},
     "output_type": "execute_result"
    }
   ],
   "source": [
    "delta_date"
   ]
  },
  {
   "cell_type": "code",
   "execution_count": 34,
   "id": "2f6366ba-24c4-4d98-853c-52296544df12",
   "metadata": {},
   "outputs": [],
   "source": [
    "import urllib.request, json \n",
    "with urllib.request.urlopen(\"https://api.cowin.gov.in/api/v1/reports/v2/getPublicReports?date=\"+str(cowinDate)) as url:\n",
    "    data = json.loads(url.read().decode())"
   ]
  },
  {
   "cell_type": "code",
   "execution_count": 35,
   "id": "086ff5d2-0854-4c56-bd59-18a072d8cc12",
   "metadata": {},
   "outputs": [],
   "source": [
    "# TT_df[\"cumulativeVaccinated1NumberForState\"] = data[\"topBlock\"][\"vaccination\"][\"tot_dose_1\"]\n",
    "# TT_df[\"cumulativeVaccinated2NumberForState\"] = data[\"topBlock\"][\"vaccination\"][\"tot_dose_2\"]\n",
    "# TT_df[\"cumulativeVaccinatedNumberForState\"] = data[\"topBlock\"][\"vaccination\"][\"total_doses\"]"
   ]
  },
  {
   "cell_type": "code",
   "execution_count": 36,
   "id": "330971a4-5d46-4a96-87e6-0321905a168e",
   "metadata": {},
   "outputs": [
    {
     "name": "stdout",
     "output_type": "stream",
     "text": [
      "14033897\n",
      "729524600\n",
      "950644009\n",
      "1694202506\n"
     ]
    }
   ],
   "source": [
    "print(data[\"topBlock\"][\"vaccination\"][\"tot_pd\"])\n",
    "print(data[\"topBlock\"][\"vaccination\"][\"tot_dose_2\"])\n",
    "print(data[\"topBlock\"][\"vaccination\"][\"tot_dose_1\"])\n",
    "print(data[\"topBlock\"][\"vaccination\"][\"total_doses\"])"
   ]
  },
  {
   "cell_type": "code",
   "execution_count": 37,
   "id": "7b30260a-b121-4e0e-acf4-f6cd1f310386",
   "metadata": {},
   "outputs": [],
   "source": [
    "TT_df[\"deltaVaccinated3ForState\"] = TT_df[\"cumulativeVaccinated3NumberForState\"] - data[\"topBlock\"][\"vaccination\"][\"tot_pd\"]\n",
    "TT_df[\"deltaVaccinated2ForState\"] = TT_df[\"cumulativeVaccinated2NumberForState\"] - data[\"topBlock\"][\"vaccination\"][\"tot_dose_2\"]\n",
    "TT_df[\"deltaVaccinated1ForState\"] = TT_df[\"cumulativeVaccinated1NumberForState\"] - data[\"topBlock\"][\"vaccination\"][\"tot_dose_1\"]\n",
    "TT_df[\"deltaVaccinatedForState\"] = TT_df[\"cumulativeVaccinatedNumberForState\"] - data[\"topBlock\"][\"vaccination\"][\"total_doses\"]"
   ]
  },
  {
   "cell_type": "code",
   "execution_count": 38,
   "id": "31a7f180-375e-4091-96ba-cbb29b296d68",
   "metadata": {},
   "outputs": [
    {
     "name": "stdout",
     "output_type": "stream",
     "text": [
      "107809\n",
      "586948\n",
      "1035208\n",
      "1729965\n"
     ]
    }
   ],
   "source": [
    "print(TT_df[\"deltaVaccinated3ForState\"][0])\n",
    "print(TT_df[\"deltaVaccinated1ForState\"][0])\n",
    "print(TT_df[\"deltaVaccinated2ForState\"][0])\n",
    "print(TT_df[\"deltaVaccinatedForState\"][0])"
   ]
  },
  {
   "cell_type": "code",
   "execution_count": 39,
   "id": "51bf31af-d67d-4bed-96fd-6ea771f15162",
   "metadata": {},
   "outputs": [],
   "source": [
    "# TT_df[\"deltaVaccinatedForState\"]"
   ]
  },
  {
   "cell_type": "code",
   "execution_count": 40,
   "id": "9b9bb496-ca6b-4c94-b5ac-2869131b32e5",
   "metadata": {},
   "outputs": [],
   "source": [
    "states = []\n",
    "vaccinated = []\n",
    "vaccinated1 = []\n",
    "vaccinated2 = []\n",
    "vaccinated3 = []\n",
    "for sta in data['getBeneficiariesGroupBy']:\n",
    "    if (sta['title'].lower() == \"dadra and nagar haveli\") or (sta['title'].lower() == \"daman and diu\"):\n",
    "        states.append('Dadra and Nagar Haveli and Daman and Diu')\n",
    "    else:\n",
    "        states.append(sta['title'])\n",
    "    vaccinated.append(sta['total'])\n",
    "    vaccinated1.append(sta['partial_vaccinated'])\n",
    "    vaccinated2.append(sta['totally_vaccinated'])\n",
    "    vaccinated3.append(sta['precaution_dose'])"
   ]
  },
  {
   "cell_type": "code",
   "execution_count": 41,
   "id": "e369db44-5a3b-44a0-8bb0-5854dcbd4613",
   "metadata": {},
   "outputs": [],
   "source": [
    "prevdayVACC_df = pd.DataFrame(list(zip(states,vaccinated,vaccinated1,vaccinated2,vaccinated3))).groupby(0, as_index=False).sum()"
   ]
  },
  {
   "cell_type": "code",
   "execution_count": 42,
   "id": "cccd4309-3395-4382-8ee9-367891b251ce",
   "metadata": {},
   "outputs": [],
   "source": [
    "prevdayVACC_df = prevdayVACC_df.rename(columns={0:\"District\",1:\"cumulativeVaccinatedNumberForDistrict\",2:\"cumulativeVaccinated1NumberForDistrict\",3:\"cumulativeVaccinated2NumberForDistrict\",4:\"cumulativeVaccinated3NumberForDistrict\"})"
   ]
  },
  {
   "cell_type": "code",
   "execution_count": 43,
   "id": "a8725760-80e8-4139-90b3-163dda394497",
   "metadata": {},
   "outputs": [
    {
     "name": "stderr",
     "output_type": "stream",
     "text": [
      "/home/swiadmin/Incovid19/incovid19/env/lib/python3.6/site-packages/ipykernel_launcher.py:5: SettingWithCopyWarning: \n",
      "A value is trying to be set on a copy of a slice from a DataFrame\n",
      "\n",
      "See the caveats in the documentation: https://pandas.pydata.org/pandas-docs/stable/user_guide/indexing.html#returning-a-view-versus-a-copy\n",
      "  \"\"\"\n"
     ]
    }
   ],
   "source": [
    "lst = [\"Vaccinated1\",\"Vaccinated2\",\"Vaccinated3\",\"Vaccinated\"]\n",
    "for val in lst:\n",
    "    TT_df[\"delta{}ForDistrict\".format(val)] = None\n",
    "    for idx in TT_df.index:\n",
    "        TT_df[\"delta{}ForDistrict\".format(val)][idx] = TT_df[\"cumulative{}NumberForDistrict\".format(val)][idx] - prevdayVACC_df[prevdayVACC_df[\"District\"] == TT_df[\"District\"][idx]][\"cumulative{}NumberForDistrict\".format(val)].item()"
   ]
  },
  {
   "cell_type": "code",
   "execution_count": 44,
   "id": "c51071da-cfa0-4b07-aea0-89f6595c4e02",
   "metadata": {},
   "outputs": [],
   "source": [
    "# states_df = pd.read_csv(\"states.csv\")"
   ]
  },
  {
   "cell_type": "markdown",
   "id": "80b55cd2-877b-4aac-b0ee-e3decf9e2863",
   "metadata": {},
   "source": [
    "# No reading states"
   ]
  },
  {
   "cell_type": "code",
   "execution_count": 45,
   "id": "08a15bc8-3c1c-4664-8d1e-e26c8c9c50ee",
   "metadata": {},
   "outputs": [],
   "source": [
    "states_df = cs[[\"Date\",\"District\",\"cumulativeConfirmedNumberForDistrict\",\"cumulativeRecoveredNumberForDistrict\",\"cumulativeDeceasedNumberForDistrict\"]]"
   ]
  },
  {
   "cell_type": "code",
   "execution_count": 46,
   "id": "d901e4e9-968b-4359-a844-b6b70872f078",
   "metadata": {},
   "outputs": [],
   "source": [
    "# states_df"
   ]
  },
  {
   "cell_type": "code",
   "execution_count": 47,
   "id": "77ee9041-1e02-437d-83c1-e805b81e4307",
   "metadata": {},
   "outputs": [
    {
     "name": "stderr",
     "output_type": "stream",
     "text": [
      "/home/swiadmin/Incovid19/incovid19/env/lib/python3.6/site-packages/ipykernel_launcher.py:8: SettingWithCopyWarning: \n",
      "A value is trying to be set on a copy of a slice from a DataFrame\n",
      "\n",
      "See the caveats in the documentation: https://pandas.pydata.org/pandas-docs/stable/user_guide/indexing.html#returning-a-view-versus-a-copy\n",
      "  \n"
     ]
    }
   ],
   "source": [
    "# deltaConfirmedForDistrict\",\n",
    "#                  \"deltaDeceasedForDistrict\",\n",
    "#                  \"deltaRecoveredForDistrict\",\n",
    "lst = [\"Confirmed\",\"Recovered\",\"Deceased\"]\n",
    "for val in lst:\n",
    "    TT_df[\"delta{}ForDistrict\".format(val)] = None\n",
    "    for idx in TT_df.index:\n",
    "        TT_df[\"delta{}ForDistrict\".format(val)][idx] = int(TT_df[\"cumulative{}NumberForDistrict\".format(val)][idx]) - int(states_df[(states_df[\"District\"] == TT_df[\"District\"][idx]) & (states_df[\"Date\"] == delta_date)][\"cumulative{}NumberForDistrict\".format(val)].item())"
   ]
  },
  {
   "cell_type": "code",
   "execution_count": 48,
   "id": "c3f630de-dab5-4e80-b5af-2213810f9bff",
   "metadata": {},
   "outputs": [
    {
     "data": {
      "text/plain": [
       "'2022-02-06'"
      ]
     },
     "execution_count": 48,
     "metadata": {},
     "output_type": "execute_result"
    }
   ],
   "source": [
    "delta_date"
   ]
  },
  {
   "cell_type": "code",
   "execution_count": 49,
   "id": "17d41187-1d6b-421b-aca3-0e555a0c1f27",
   "metadata": {},
   "outputs": [
    {
     "name": "stderr",
     "output_type": "stream",
     "text": [
      "/home/swiadmin/Incovid19/incovid19/env/lib/python3.6/site-packages/ipykernel_launcher.py:5: SettingWithCopyWarning: \n",
      "A value is trying to be set on a copy of a slice from a DataFrame\n",
      "\n",
      "See the caveats in the documentation: https://pandas.pydata.org/pandas-docs/stable/user_guide/indexing.html#returning-a-view-versus-a-copy\n",
      "  \"\"\"\n"
     ]
    }
   ],
   "source": [
    "lst = [\"Vaccinated1\",\"Vaccinated2\",\"Vaccinated3\",\"Vaccinated\"]\n",
    "for val in lst:\n",
    "    TT_df[\"delta{}ForDistrict\".format(val)] = None\n",
    "    for idx in TT_df.index:\n",
    "        TT_df[\"delta{}ForDistrict\".format(val)][idx] = TT_df[\"cumulative{}NumberForDistrict\".format(val)][idx] - prevdayVACC_df[prevdayVACC_df[\"District\"] == TT_df[\"District\"][idx]][\"cumulative{}NumberForDistrict\".format(val)].item()"
   ]
  },
  {
   "cell_type": "code",
   "execution_count": 50,
   "id": "bbb857a6-9436-4b4d-a921-ccb80e32732b",
   "metadata": {},
   "outputs": [],
   "source": [
    "# TT_df 7dma Cummulative"
   ]
  },
  {
   "cell_type": "code",
   "execution_count": 51,
   "id": "38199ceb-ffa2-4278-bce4-3e4b5329c723",
   "metadata": {},
   "outputs": [
    {
     "data": {
      "text/html": [
       "<div>\n",
       "<style scoped>\n",
       "    .dataframe tbody tr th:only-of-type {\n",
       "        vertical-align: middle;\n",
       "    }\n",
       "\n",
       "    .dataframe tbody tr th {\n",
       "        vertical-align: top;\n",
       "    }\n",
       "\n",
       "    .dataframe thead th {\n",
       "        text-align: right;\n",
       "    }\n",
       "</style>\n",
       "<table border=\"1\" class=\"dataframe\">\n",
       "  <thead>\n",
       "    <tr style=\"text-align: right;\">\n",
       "      <th></th>\n",
       "      <th>Unnamed: 0</th>\n",
       "      <th>District</th>\n",
       "      <th>cumulativeConfirmedNumberForDistrict</th>\n",
       "      <th>cumulativeRecoveredNumberForDistrict</th>\n",
       "      <th>cumulativeDeceasedNumberForDistrict</th>\n",
       "      <th>Date</th>\n",
       "      <th>State/UTCode</th>\n",
       "      <th>cumulativeConfirmedNumberForState</th>\n",
       "      <th>cumulativeDeceasedNumberForState</th>\n",
       "      <th>cumulativeRecoveredNumberForState</th>\n",
       "      <th>last_updated</th>\n",
       "      <th>cumulativeTestedNumberForState</th>\n",
       "      <th>tested_last_updated_state</th>\n",
       "      <th>deltaTestedForState</th>\n",
       "      <th>cumulativeVaccinatedNumberForState</th>\n",
       "      <th>cumulativeVaccinated1NumberForState</th>\n",
       "      <th>cumulativeVaccinated2NumberForState</th>\n",
       "      <th>cumulativeVaccinated3NumberForState</th>\n",
       "      <th>cumulativeVaccinatedNumberForDistrict</th>\n",
       "      <th>cumulativeVaccinated1NumberForDistrict</th>\n",
       "      <th>cumulativeVaccinated2NumberForDistrict</th>\n",
       "      <th>cumulativeVaccinated3NumberForDistrict</th>\n",
       "      <th>tested_source_state</th>\n",
       "      <th>deltaConfirmedForState</th>\n",
       "      <th>deltaDeceasedForState</th>\n",
       "      <th>deltaRecoveredForState</th>\n",
       "      <th>deltaVaccinated3ForState</th>\n",
       "      <th>deltaVaccinated2ForState</th>\n",
       "      <th>deltaVaccinated1ForState</th>\n",
       "      <th>deltaVaccinatedForState</th>\n",
       "      <th>deltaVaccinated1ForDistrict</th>\n",
       "      <th>deltaVaccinated2ForDistrict</th>\n",
       "      <th>deltaVaccinated3ForDistrict</th>\n",
       "      <th>deltaVaccinatedForDistrict</th>\n",
       "      <th>deltaConfirmedForDistrict</th>\n",
       "      <th>deltaRecoveredForDistrict</th>\n",
       "      <th>deltaDeceasedForDistrict</th>\n",
       "      <th>7DmaTestedForState</th>\n",
       "      <th>delta21_14confirmedForState</th>\n",
       "      <th>statePopulation</th>\n",
       "      <th>StateName</th>\n",
       "      <th>districtPopulation</th>\n",
       "    </tr>\n",
       "  </thead>\n",
       "  <tbody>\n",
       "    <tr>\n",
       "      <th>31</th>\n",
       "      <td>31</td>\n",
       "      <td>Telangana</td>\n",
       "      <td>776313</td>\n",
       "      <td>742988</td>\n",
       "      <td>4099</td>\n",
       "      <td>2022-02-06</td>\n",
       "      <td>TT</td>\n",
       "      <td>42188138</td>\n",
       "      <td>501979</td>\n",
       "      <td>40461148</td>\n",
       "      <td>2022-02-06 12:50:07.101646</td>\n",
       "      <td>740187141</td>\n",
       "      <td>2022-02-05 00:00:00</td>\n",
       "      <td>2254908</td>\n",
       "      <td>1694202506</td>\n",
       "      <td>950644009</td>\n",
       "      <td>729524600</td>\n",
       "      <td>14033897</td>\n",
       "      <td>55183940</td>\n",
       "      <td>30445572</td>\n",
       "      <td>24417785</td>\n",
       "      <td>320583</td>\n",
       "      <td>https://www.icmr.gov.in/</td>\n",
       "      <td>107474</td>\n",
       "      <td>865</td>\n",
       "      <td>213246</td>\n",
       "      <td>332423</td>\n",
       "      <td>3278557</td>\n",
       "      <td>1286480</td>\n",
       "      <td>4897460</td>\n",
       "      <td>29688</td>\n",
       "      <td>134109</td>\n",
       "      <td>8899</td>\n",
       "      <td>172696</td>\n",
       "      <td>2098</td>\n",
       "      <td>3801</td>\n",
       "      <td>2</td>\n",
       "      <td>NaN</td>\n",
       "      <td>NaN</td>\n",
       "      <td>1332900000</td>\n",
       "      <td>Telangana</td>\n",
       "      <td>37220000</td>\n",
       "    </tr>\n",
       "    <tr>\n",
       "      <th>32</th>\n",
       "      <td>32</td>\n",
       "      <td>Tripura</td>\n",
       "      <td>100650</td>\n",
       "      <td>98847</td>\n",
       "      <td>916</td>\n",
       "      <td>2022-02-06</td>\n",
       "      <td>TT</td>\n",
       "      <td>42188138</td>\n",
       "      <td>501979</td>\n",
       "      <td>40461148</td>\n",
       "      <td>2022-02-06 12:50:07.101646</td>\n",
       "      <td>740187141</td>\n",
       "      <td>2022-02-05 00:00:00</td>\n",
       "      <td>2254908</td>\n",
       "      <td>1694202506</td>\n",
       "      <td>950644009</td>\n",
       "      <td>729524600</td>\n",
       "      <td>14033897</td>\n",
       "      <td>5004025</td>\n",
       "      <td>2752968</td>\n",
       "      <td>2201049</td>\n",
       "      <td>50008</td>\n",
       "      <td>https://www.icmr.gov.in/</td>\n",
       "      <td>107474</td>\n",
       "      <td>865</td>\n",
       "      <td>213246</td>\n",
       "      <td>332423</td>\n",
       "      <td>3278557</td>\n",
       "      <td>1286480</td>\n",
       "      <td>4897460</td>\n",
       "      <td>74</td>\n",
       "      <td>320</td>\n",
       "      <td>10</td>\n",
       "      <td>404</td>\n",
       "      <td>13</td>\n",
       "      <td>310</td>\n",
       "      <td>0</td>\n",
       "      <td>NaN</td>\n",
       "      <td>NaN</td>\n",
       "      <td>1332900000</td>\n",
       "      <td>Tripura</td>\n",
       "      <td>3992000</td>\n",
       "    </tr>\n",
       "    <tr>\n",
       "      <th>33</th>\n",
       "      <td>33</td>\n",
       "      <td>Uttar Pradesh</td>\n",
       "      <td>2041743</td>\n",
       "      <td>1985926</td>\n",
       "      <td>23303</td>\n",
       "      <td>2022-02-06</td>\n",
       "      <td>TT</td>\n",
       "      <td>42188138</td>\n",
       "      <td>501979</td>\n",
       "      <td>40461148</td>\n",
       "      <td>2022-02-06 12:50:07.101646</td>\n",
       "      <td>740187141</td>\n",
       "      <td>2022-02-05 00:00:00</td>\n",
       "      <td>2254908</td>\n",
       "      <td>1694202506</td>\n",
       "      <td>950644009</td>\n",
       "      <td>729524600</td>\n",
       "      <td>14033897</td>\n",
       "      <td>268691858</td>\n",
       "      <td>159972957</td>\n",
       "      <td>107019431</td>\n",
       "      <td>1699470</td>\n",
       "      <td>https://www.icmr.gov.in/</td>\n",
       "      <td>107474</td>\n",
       "      <td>865</td>\n",
       "      <td>213246</td>\n",
       "      <td>332423</td>\n",
       "      <td>3278557</td>\n",
       "      <td>1286480</td>\n",
       "      <td>4897460</td>\n",
       "      <td>516156</td>\n",
       "      <td>657655</td>\n",
       "      <td>45046</td>\n",
       "      <td>1218857</td>\n",
       "      <td>3521</td>\n",
       "      <td>7401</td>\n",
       "      <td>17</td>\n",
       "      <td>NaN</td>\n",
       "      <td>NaN</td>\n",
       "      <td>1332900000</td>\n",
       "      <td>Uttar Pradesh</td>\n",
       "      <td>224979000</td>\n",
       "    </tr>\n",
       "    <tr>\n",
       "      <th>34</th>\n",
       "      <td>34</td>\n",
       "      <td>Uttarakhand</td>\n",
       "      <td>428954</td>\n",
       "      <td>404065</td>\n",
       "      <td>7609</td>\n",
       "      <td>2022-02-06</td>\n",
       "      <td>TT</td>\n",
       "      <td>42188138</td>\n",
       "      <td>501979</td>\n",
       "      <td>40461148</td>\n",
       "      <td>2022-02-06 12:50:07.101646</td>\n",
       "      <td>740187141</td>\n",
       "      <td>2022-02-05 00:00:00</td>\n",
       "      <td>2254908</td>\n",
       "      <td>1694202506</td>\n",
       "      <td>950644009</td>\n",
       "      <td>729524600</td>\n",
       "      <td>14033897</td>\n",
       "      <td>16411075</td>\n",
       "      <td>8501589</td>\n",
       "      <td>7609641</td>\n",
       "      <td>299845</td>\n",
       "      <td>https://www.icmr.gov.in/</td>\n",
       "      <td>107474</td>\n",
       "      <td>865</td>\n",
       "      <td>213246</td>\n",
       "      <td>332423</td>\n",
       "      <td>3278557</td>\n",
       "      <td>1286480</td>\n",
       "      <td>4897460</td>\n",
       "      <td>5101</td>\n",
       "      <td>26952</td>\n",
       "      <td>10006</td>\n",
       "      <td>42059</td>\n",
       "      <td>844</td>\n",
       "      <td>4909</td>\n",
       "      <td>13</td>\n",
       "      <td>NaN</td>\n",
       "      <td>NaN</td>\n",
       "      <td>1332900000</td>\n",
       "      <td>Uttarakhand</td>\n",
       "      <td>11141000</td>\n",
       "    </tr>\n",
       "    <tr>\n",
       "      <th>35</th>\n",
       "      <td>35</td>\n",
       "      <td>West Bengal</td>\n",
       "      <td>2005037</td>\n",
       "      <td>1964972</td>\n",
       "      <td>20789</td>\n",
       "      <td>2022-02-06</td>\n",
       "      <td>TT</td>\n",
       "      <td>42188138</td>\n",
       "      <td>501979</td>\n",
       "      <td>40461148</td>\n",
       "      <td>2022-02-06 12:50:07.101646</td>\n",
       "      <td>740187141</td>\n",
       "      <td>2022-02-05 00:00:00</td>\n",
       "      <td>2254908</td>\n",
       "      <td>1694202506</td>\n",
       "      <td>950644009</td>\n",
       "      <td>729524600</td>\n",
       "      <td>14033897</td>\n",
       "      <td>123628642</td>\n",
       "      <td>69512400</td>\n",
       "      <td>53011542</td>\n",
       "      <td>1104700</td>\n",
       "      <td>https://www.icmr.gov.in/</td>\n",
       "      <td>107474</td>\n",
       "      <td>865</td>\n",
       "      <td>213246</td>\n",
       "      <td>332423</td>\n",
       "      <td>3278557</td>\n",
       "      <td>1286480</td>\n",
       "      <td>4897460</td>\n",
       "      <td>2040</td>\n",
       "      <td>20643</td>\n",
       "      <td>4596</td>\n",
       "      <td>27279</td>\n",
       "      <td>1345</td>\n",
       "      <td>2251</td>\n",
       "      <td>31</td>\n",
       "      <td>NaN</td>\n",
       "      <td>NaN</td>\n",
       "      <td>1332900000</td>\n",
       "      <td>West Bengal</td>\n",
       "      <td>96906000</td>\n",
       "    </tr>\n",
       "  </tbody>\n",
       "</table>\n",
       "</div>"
      ],
      "text/plain": [
       "    Unnamed: 0       District  cumulativeConfirmedNumberForDistrict  \\\n",
       "31          31      Telangana                                776313   \n",
       "32          32        Tripura                                100650   \n",
       "33          33  Uttar Pradesh                               2041743   \n",
       "34          34    Uttarakhand                                428954   \n",
       "35          35    West Bengal                               2005037   \n",
       "\n",
       "    cumulativeRecoveredNumberForDistrict  cumulativeDeceasedNumberForDistrict  \\\n",
       "31                                742988                                 4099   \n",
       "32                                 98847                                  916   \n",
       "33                               1985926                                23303   \n",
       "34                                404065                                 7609   \n",
       "35                               1964972                                20789   \n",
       "\n",
       "          Date State/UTCode  cumulativeConfirmedNumberForState  \\\n",
       "31  2022-02-06           TT                           42188138   \n",
       "32  2022-02-06           TT                           42188138   \n",
       "33  2022-02-06           TT                           42188138   \n",
       "34  2022-02-06           TT                           42188138   \n",
       "35  2022-02-06           TT                           42188138   \n",
       "\n",
       "    cumulativeDeceasedNumberForState  cumulativeRecoveredNumberForState  \\\n",
       "31                            501979                           40461148   \n",
       "32                            501979                           40461148   \n",
       "33                            501979                           40461148   \n",
       "34                            501979                           40461148   \n",
       "35                            501979                           40461148   \n",
       "\n",
       "                  last_updated  cumulativeTestedNumberForState  \\\n",
       "31  2022-02-06 12:50:07.101646                       740187141   \n",
       "32  2022-02-06 12:50:07.101646                       740187141   \n",
       "33  2022-02-06 12:50:07.101646                       740187141   \n",
       "34  2022-02-06 12:50:07.101646                       740187141   \n",
       "35  2022-02-06 12:50:07.101646                       740187141   \n",
       "\n",
       "   tested_last_updated_state  deltaTestedForState  \\\n",
       "31       2022-02-05 00:00:00              2254908   \n",
       "32       2022-02-05 00:00:00              2254908   \n",
       "33       2022-02-05 00:00:00              2254908   \n",
       "34       2022-02-05 00:00:00              2254908   \n",
       "35       2022-02-05 00:00:00              2254908   \n",
       "\n",
       "    cumulativeVaccinatedNumberForState  cumulativeVaccinated1NumberForState  \\\n",
       "31                          1694202506                            950644009   \n",
       "32                          1694202506                            950644009   \n",
       "33                          1694202506                            950644009   \n",
       "34                          1694202506                            950644009   \n",
       "35                          1694202506                            950644009   \n",
       "\n",
       "    cumulativeVaccinated2NumberForState  cumulativeVaccinated3NumberForState  \\\n",
       "31                            729524600                             14033897   \n",
       "32                            729524600                             14033897   \n",
       "33                            729524600                             14033897   \n",
       "34                            729524600                             14033897   \n",
       "35                            729524600                             14033897   \n",
       "\n",
       "    cumulativeVaccinatedNumberForDistrict  \\\n",
       "31                               55183940   \n",
       "32                                5004025   \n",
       "33                              268691858   \n",
       "34                               16411075   \n",
       "35                              123628642   \n",
       "\n",
       "    cumulativeVaccinated1NumberForDistrict  \\\n",
       "31                                30445572   \n",
       "32                                 2752968   \n",
       "33                               159972957   \n",
       "34                                 8501589   \n",
       "35                                69512400   \n",
       "\n",
       "    cumulativeVaccinated2NumberForDistrict  \\\n",
       "31                                24417785   \n",
       "32                                 2201049   \n",
       "33                               107019431   \n",
       "34                                 7609641   \n",
       "35                                53011542   \n",
       "\n",
       "    cumulativeVaccinated3NumberForDistrict       tested_source_state  \\\n",
       "31                                  320583  https://www.icmr.gov.in/   \n",
       "32                                   50008  https://www.icmr.gov.in/   \n",
       "33                                 1699470  https://www.icmr.gov.in/   \n",
       "34                                  299845  https://www.icmr.gov.in/   \n",
       "35                                 1104700  https://www.icmr.gov.in/   \n",
       "\n",
       "    deltaConfirmedForState  deltaDeceasedForState  deltaRecoveredForState  \\\n",
       "31                  107474                    865                  213246   \n",
       "32                  107474                    865                  213246   \n",
       "33                  107474                    865                  213246   \n",
       "34                  107474                    865                  213246   \n",
       "35                  107474                    865                  213246   \n",
       "\n",
       "    deltaVaccinated3ForState  deltaVaccinated2ForState  \\\n",
       "31                    332423                   3278557   \n",
       "32                    332423                   3278557   \n",
       "33                    332423                   3278557   \n",
       "34                    332423                   3278557   \n",
       "35                    332423                   3278557   \n",
       "\n",
       "    deltaVaccinated1ForState  deltaVaccinatedForState  \\\n",
       "31                   1286480                  4897460   \n",
       "32                   1286480                  4897460   \n",
       "33                   1286480                  4897460   \n",
       "34                   1286480                  4897460   \n",
       "35                   1286480                  4897460   \n",
       "\n",
       "    deltaVaccinated1ForDistrict  deltaVaccinated2ForDistrict  \\\n",
       "31                        29688                       134109   \n",
       "32                           74                          320   \n",
       "33                       516156                       657655   \n",
       "34                         5101                        26952   \n",
       "35                         2040                        20643   \n",
       "\n",
       "    deltaVaccinated3ForDistrict  deltaVaccinatedForDistrict  \\\n",
       "31                         8899                      172696   \n",
       "32                           10                         404   \n",
       "33                        45046                     1218857   \n",
       "34                        10006                       42059   \n",
       "35                         4596                       27279   \n",
       "\n",
       "    deltaConfirmedForDistrict  deltaRecoveredForDistrict  \\\n",
       "31                       2098                       3801   \n",
       "32                         13                        310   \n",
       "33                       3521                       7401   \n",
       "34                        844                       4909   \n",
       "35                       1345                       2251   \n",
       "\n",
       "    deltaDeceasedForDistrict  7DmaTestedForState  delta21_14confirmedForState  \\\n",
       "31                         2                 NaN                          NaN   \n",
       "32                         0                 NaN                          NaN   \n",
       "33                        17                 NaN                          NaN   \n",
       "34                        13                 NaN                          NaN   \n",
       "35                        31                 NaN                          NaN   \n",
       "\n",
       "    statePopulation      StateName  districtPopulation  \n",
       "31       1332900000      Telangana            37220000  \n",
       "32       1332900000        Tripura             3992000  \n",
       "33       1332900000  Uttar Pradesh           224979000  \n",
       "34       1332900000    Uttarakhand            11141000  \n",
       "35       1332900000    West Bengal            96906000  "
      ]
     },
     "execution_count": 51,
     "metadata": {},
     "output_type": "execute_result"
    }
   ],
   "source": [
    "cs.tail()"
   ]
  },
  {
   "cell_type": "code",
   "execution_count": 52,
   "id": "83ccfc0f-72bb-4f46-a738-ba74dc1e0810",
   "metadata": {},
   "outputs": [],
   "source": [
    "# cs = pd.read_csv(\"case_time_series.csv\")"
   ]
  },
  {
   "cell_type": "code",
   "execution_count": 53,
   "id": "d3dc90fd-c1c0-4cbf-b2f2-e7dd1ca4accb",
   "metadata": {},
   "outputs": [],
   "source": [
    "# states_df = pd.read_csv(\"states.csv\")"
   ]
  },
  {
   "cell_type": "markdown",
   "id": "3d01a079-6eed-4840-9a88-6b1acc2c38ca",
   "metadata": {},
   "source": [
    "# Remenber to read CS and states"
   ]
  },
  {
   "cell_type": "code",
   "execution_count": 54,
   "id": "3b30ff9d-ad31-4369-a3aa-d125b2c4f777",
   "metadata": {},
   "outputs": [],
   "source": [
    "# from datetime import datetime, timedelta\n",
    "# lst = [\"Confirmed\",\"Recovered\",\"Deceased\"]\n",
    "# for val in lst:\n",
    "#     value = 0\n",
    "#     for i in range(7):\n",
    "#         if i == 0:\n",
    "#             value = TT_df[\"cumulative{}NumberForState\".format(val)]\n",
    "#         else:\n",
    "#             prev_date=datetime.strptime(\"2021-10-31\",\"%Y-%m-%d\")+timedelta(days=(-1*i))\n",
    "#             ind = cs[cs['Date_YMD']==str(prev_date.date())].index[0]\n",
    "#             value =+ cs[\"Total {}\".format(val)][ind]\n",
    "#     TT_df[\"7Dma{}ForState\".format(val)] = value/7"
   ]
  },
  {
   "cell_type": "code",
   "execution_count": 55,
   "id": "de163a63-3e3d-482b-b892-45cb08fc53df",
   "metadata": {},
   "outputs": [],
   "source": [
    "# import urllib.request, json \n",
    "# va1 = 0\n",
    "# va2 = 0\n",
    "# va = 0\n",
    "# for i in range(7):\n",
    "#     prev_date=datetime.strptime(\"2021-10-31\",\"%Y-%m-%d\")+timedelta(days=(-1*i))\n",
    "#     with urllib.request.urlopen(\"https://api.cowin.gov.in/api/v1/reports/v2/getPublicReports?date=\"+str(prev_date.date())) as url:\n",
    "#         data = json.loads(url.read().decode())\n",
    "#         va1 += data[\"topBlock\"][\"vaccination\"][\"tot_dose_1\"]\n",
    "#         va2 += data[\"topBlock\"][\"vaccination\"][\"tot_dose_2\"]\n",
    "#         va += data[\"topBlock\"][\"vaccination\"][\"total_doses\"]\n"
   ]
  },
  {
   "cell_type": "code",
   "execution_count": 56,
   "id": "b0fe59c2-e12f-4427-a6ea-7a4dfb8e45ff",
   "metadata": {},
   "outputs": [],
   "source": [
    "# TT_df[\"7DmaVaccinated1ForState\"] = va1\n",
    "# TT_df[\"7DmaVaccinated2ForState\"] = va2\n",
    "# TT_df[\"7DmaVaccinatedForState\"] = va"
   ]
  },
  {
   "cell_type": "code",
   "execution_count": 57,
   "id": "55144170-f1b3-40e2-b23e-91f6e13e0564",
   "metadata": {},
   "outputs": [],
   "source": [
    "# 7dma District"
   ]
  },
  {
   "cell_type": "code",
   "execution_count": 58,
   "id": "16557304-89e8-43a9-b805-d6a8e6ea3885",
   "metadata": {},
   "outputs": [],
   "source": [
    "# lst = [\"Confirmed\",\"Recovered\",\"Deceased\"]\n",
    "# for val in lst:\n",
    "#     value = 0\n",
    "#     for idx in TT_df.index:\n",
    "#         for i in range(7):\n",
    "#             if i == 0:\n",
    "#                 value = int(TT_df[\"cumulative{}NumberForDistrict\".format(val)][0])\n",
    "#             else:\n",
    "#                 prev_date=datetime.strptime(\"2021-10-31\",\"%Y-%m-%d\")+timedelta(days=(-1*i))\n",
    "#                 value += int(states_df[(states_df[\"State\"] == TT_df[\"District\"][idx]) & (states_df[\"Date\"] == str(prev_date.date()))]['{}'.format(val)].item())\n",
    "#     TT_df[\"7Dma{}ForDistrict\".format(val)] = value/7          "
   ]
  },
  {
   "cell_type": "code",
   "execution_count": 59,
   "id": "5d317871-5b50-4d9b-9fda-3641f802bd11",
   "metadata": {},
   "outputs": [],
   "source": [
    "# cowin = pd.read_csv(\"cowin_vaccine_data_statewise.csv\")"
   ]
  },
  {
   "cell_type": "code",
   "execution_count": 60,
   "id": "9dc5c3e8-6df7-4490-9f9a-1f35d0308410",
   "metadata": {},
   "outputs": [],
   "source": [
    "# va1 = 0\n",
    "# va2 = 0\n",
    "# va = 0\n",
    "# TT_df[\"7DmaVaccinatedForDistrict\"] = 0\n",
    "# TT_df[\"7DmaVaccinated1ForDistrict\"] = 0\n",
    "# TT_df[\"7DmaVaccinated2ForDistrict\"] = 0\n",
    "# for idx in TT_df.index:\n",
    "#     for i in range(7):\n",
    "#         if i == 0:\n",
    "#             va = int(TT_df[\"cumulativeVaccinatedNumberForDistrict\"][idx])\n",
    "#             va1 = int(TT_df[\"cumulativeVaccinated1NumberForDistrict\"][idx])\n",
    "#             va2 = int(TT_df[\"cumulativeVaccinated2NumberForDistrict\"][idx])\n",
    "#         else:\n",
    "#             prev_date=datetime.strptime(\"2021/10/31\",\"%Y/%m/%d\")+timedelta(days=(-1*i))\n",
    "#             va += int(cowin[(cowin[\"Updated On\"] ==  prev_date.strftime('%d/%m/%Y')) & (cowin[\"State\"] == TT_df[\"District\"][idx])][\"Total Doses Administered\"].item())\n",
    "#             va1 += int(cowin[(cowin[\"Updated On\"] ==  prev_date.strftime('%d/%m/%Y')) & (cowin[\"State\"] == TT_df[\"District\"][idx])][\"First Dose Administered\"].item())\n",
    "#             va2 += int(cowin[(cowin[\"Updated On\"] ==  prev_date.strftime('%d/%m/%Y')) & (cowin[\"State\"] == TT_df[\"District\"][idx])][\"Second Dose Administered\"].item())\n",
    "# TT_df[\"7DmaVaccinatedForDistrict\"][idx] = va/7\n",
    "# TT_df[\"7DmaVaccinated1ForDistrict\"][idx] = va1/7\n",
    "# TT_df[\"7DmaVaccinated2ForDistrict\"][idx] = va2/7"
   ]
  },
  {
   "cell_type": "code",
   "execution_count": 61,
   "id": "e5a38965-912f-437e-b807-6716f6ce2471",
   "metadata": {},
   "outputs": [],
   "source": [
    "TT_df[\"7DmaTestedForState\"] = None\n",
    "TT_df[\"delta21_14confirmedForState\"] = None"
   ]
  },
  {
   "cell_type": "code",
   "execution_count": 62,
   "id": "66a730c2-dcfa-419f-88ed-25ee8bcb8d88",
   "metadata": {},
   "outputs": [],
   "source": [
    "population = pd.read_csv(\"../CSV/StatePopulation.csv\")"
   ]
  },
  {
   "cell_type": "code",
   "execution_count": 63,
   "id": "035dc0bf-b0cd-484e-b019-553d99d0139e",
   "metadata": {},
   "outputs": [],
   "source": [
    "sources = pd.read_csv(\"../sources.csv\")"
   ]
  },
  {
   "cell_type": "code",
   "execution_count": 64,
   "id": "398aefc6-cceb-48b8-bf9e-28e8ddaa2c07",
   "metadata": {},
   "outputs": [],
   "source": [
    "population = population.merge(sources,how=\"left\",left_on = \"State\", right_on = \"StateCode\")"
   ]
  },
  {
   "cell_type": "code",
   "execution_count": 65,
   "id": "db6b6da7-0ddd-441a-bde3-79bb83e22de9",
   "metadata": {},
   "outputs": [],
   "source": [
    "# population"
   ]
  },
  {
   "cell_type": "code",
   "execution_count": 66,
   "id": "1c7668a8-946b-491f-91dd-a366247298af",
   "metadata": {},
   "outputs": [],
   "source": [
    "# population[[\"StateName\",\"StatePop\"]]"
   ]
  },
  {
   "cell_type": "code",
   "execution_count": 67,
   "id": "dfb73898-f154-4419-8715-91bac110bc1f",
   "metadata": {},
   "outputs": [],
   "source": [
    "TT_df[\"statePopulation\"] = population[population[\"StateName\"] == \"India\"][\"StatePop\"].item()"
   ]
  },
  {
   "cell_type": "code",
   "execution_count": 68,
   "id": "b574ca0d-025c-4789-bf75-2ebb8bc3a7e7",
   "metadata": {},
   "outputs": [],
   "source": [
    "# TT_df"
   ]
  },
  {
   "cell_type": "code",
   "execution_count": 69,
   "id": "2ac62a7a-010a-458a-bff8-c8fc93c6cf83",
   "metadata": {},
   "outputs": [],
   "source": [
    "TT_df = TT_df.merge(population[[\"StateName\",\"StatePop\"]],how=\"left\",left_on = \"District\", right_on = \"StateName\")"
   ]
  },
  {
   "cell_type": "code",
   "execution_count": 70,
   "id": "3ae9ae2e-2fd0-40f8-a580-8e6deef04710",
   "metadata": {},
   "outputs": [],
   "source": [
    "TT_df = TT_df.rename(columns={\"StatePop\":\"districtPopulation\"})"
   ]
  },
  {
   "cell_type": "code",
   "execution_count": 71,
   "id": "878458d3-55ff-4204-94fb-b6d192c728af",
   "metadata": {},
   "outputs": [
    {
     "data": {
      "text/plain": [
       "datetime.date(2022, 2, 7)"
      ]
     },
     "execution_count": 71,
     "metadata": {},
     "output_type": "execute_result"
    }
   ],
   "source": [
    "today"
   ]
  },
  {
   "cell_type": "code",
   "execution_count": 72,
   "id": "988362c5-cb1b-42ac-b177-cc30ad0515b6",
   "metadata": {},
   "outputs": [],
   "source": [
    "TT_df[\"Date\"] = str(today)"
   ]
  },
  {
   "cell_type": "code",
   "execution_count": 73,
   "id": "ae2da421-9f84-40ce-a822-a8b7ea2c8d1d",
   "metadata": {},
   "outputs": [],
   "source": [
    "TT_df.to_csv('../RAWCSV/'+str(today)+'/TT_final.csv')"
   ]
  },
  {
   "cell_type": "code",
   "execution_count": 74,
   "id": "91e33424-837a-43d2-8488-abd17ca7a545",
   "metadata": {},
   "outputs": [],
   "source": [
    "TT_df.to_csv('../RAWCSV/'+str(today)+'/TT_final-'+str(today)+'.csv')"
   ]
  },
  {
   "cell_type": "code",
   "execution_count": 75,
   "id": "79c67c36-d21a-4ee5-8958-efdae5295d66",
   "metadata": {},
   "outputs": [],
   "source": [
    "TT_df[\"Date\"] = str(pDate)"
   ]
  },
  {
   "cell_type": "code",
   "execution_count": 76,
   "id": "b63a00f2-8911-45b5-9613-bc910651337c",
   "metadata": {},
   "outputs": [],
   "source": [
    "TT_df.to_csv('../RAWCSV/'+str(pDate)+'/TT_final.csv')"
   ]
  },
  {
   "cell_type": "markdown",
   "id": "f9a4b699-ac65-49ad-a5a0-8f46287230c3",
   "metadata": {},
   "source": [
    "# Stop Here"
   ]
  }
 ],
 "metadata": {
  "kernelspec": {
   "display_name": "Python 3",
   "language": "python",
   "name": "python3"
  },
  "language_info": {
   "codemirror_mode": {
    "name": "ipython",
    "version": 3
   },
   "file_extension": ".py",
   "mimetype": "text/x-python",
   "name": "python",
   "nbconvert_exporter": "python",
   "pygments_lexer": "ipython3",
   "version": "3.6.9"
  }
 },
 "nbformat": 4,
 "nbformat_minor": 5
}
