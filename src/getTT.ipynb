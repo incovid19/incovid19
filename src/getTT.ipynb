{
 "cells": [
  {
   "cell_type": "code",
   "execution_count": 76,
   "id": "b36571fd-096d-4543-8e51-5e9690324fe2",
   "metadata": {},
   "outputs": [],
   "source": [
    "import pandas as pd\n",
    "from bs4 import BeautifulSoup\n",
    "import urllib.request\n",
    "from StatusMsg import StatusMsg\n",
    "import json\n",
    "import os\n",
    "import io\n",
    "import datetime\n",
    "import timedelta"
   ]
  },
  {
   "cell_type": "code",
   "execution_count": 77,
   "id": "9a9b537b-eb58-45df-b7fa-665d550024a1",
   "metadata": {},
   "outputs": [],
   "source": [
    "def india(state,date):\n",
    "    # URL = \"https://www.mygov.in/corona-data/covid19-statewise-status/\"\n",
    "    # file_name, headers = urllib.request.urlretrieve(URL)\n",
    "    soup = BeautifulSoup(open(\"../INPUT/\"+date+\"/TT_State.html\", encoding=\"utf8\"), \"html.parser\")\n",
    "\n",
    "    # sum_URL = \"https://www.mygov.in/covid-19\"\n",
    "    # sum_file_name, sum_headers = urllib.request.urlretrieve(sum_URL)\n",
    "    sum_soup = BeautifulSoup(open(\"../INPUT/\"+date+\"/TT.html\", encoding=\"utf8\"), \"html.parser\")\n",
    "\n",
    "    STATES = soup.find_all(\"div\", {\"class\": \"field field-name-field-select-state field-type-list-text field-label-above\"})\n",
    "    CONFIRMED = soup.find_all(\"div\", {\"class\": \"field field-name-field-total-confirmed-indians field-type-number-integer field-label-above\"})\n",
    "    CURED_DISCHARGED = soup.find_all(\"div\", {\"class\": \"field field-name-field-cured field-type-number-integer field-label-above\"})\n",
    "    DEATH = soup.find_all(\"div\", {\"class\": \"field field-name-field-deaths field-type-number-integer field-label-above\"})\n",
    "\n",
    "    states = []\n",
    "    for val in STATES:\n",
    "        states.append(str(val.getText()).split(\":\")[1].lstrip().replace(\"Telengana\", \"Telangana\").replace('Andaman And Nicobar', 'Andaman and Nicobar Islands').replace('Andaman and Nicobar','Andaman and Nicobar Islands'))\n",
    "\n",
    "    confirmed = []\n",
    "    for val in CONFIRMED:\n",
    "        confirmed.append(str(val.getText()).split(\":\")[1].lstrip())\n",
    "\n",
    "    cured = []\n",
    "    for val in CURED_DISCHARGED:\n",
    "        cured.append(str(val.getText()).split(\":\")[1].lstrip())\n",
    "\n",
    "    death = []\n",
    "    for val in DEATH:\n",
    "        death.append(str(val.getText()).split(\":\")[1].lstrip())\n",
    "\n",
    "    states_data = pd.DataFrame(list(zip(states, confirmed, cured, death)))\n",
    "\n",
    "    final_df_col = [\n",
    "        'Date', 'State/UTCode', 'District', 'tested_last_updated_district', 'tested_source_district',\n",
    "        'notesForDistrict', 'cumulativeConfirmedNumberForDistrict', 'cumulativeDeceasedNumberForDistrict',\n",
    "        'cumulativeRecoveredNumberForDistrict', 'cumulativeTestedNumberForDistrict',\n",
    "        'cumulativeVaccinatedNumberForDistrict', 'last_updated', 'tested_last_updated_state', 'tested_source_state',\n",
    "        'notesForState', 'cumulativeConfirmedNumberForState', 'cumulativeDeceasedNumberForState',\n",
    "        'cumulativeRecoveredNumberForState', 'cumulativeTestedNumberForState', 'cumulativeVaccinatedNumberForState'\n",
    "    ]\n",
    "\n",
    "    states_data = states_data.rename(\n",
    "        columns={0: \"District\", 1: \"cumulativeConfirmedNumberForDistrict\", 2: \"cumulativeRecoveredNumberForDistrict\",\n",
    "                 3: \"cumulativeDeceasedNumberForDistrict\"})\n",
    "\n",
    "    states_data[\"Date\"] = date#str(datetime.datetime.now().date())\n",
    "\n",
    "    states_data[\"State/UTCode\"] = state\n",
    "\n",
    "    states_data['cumulativeConfirmedNumberForState'] = int(\n",
    "        sum_soup.findAll(\"div\", {\"class\": \"t_case\"})[0].findAll(\"span\", {\"class\": \"icount\"})[0].getText().replace(\n",
    "            \",\", \"\"))\n",
    "\n",
    "    states_data['cumulativeDeceasedNumberForState'] = int(\n",
    "        sum_soup.findAll(\"div\", {\"class\": \"death_case\"})[0].findAll(\"span\", {\"class\": \"icount\"})[0].getText().replace(\n",
    "            \",\", \"\"))\n",
    "\n",
    "    states_data['cumulativeRecoveredNumberForState'] = int(\n",
    "        sum_soup.findAll(\"div\", {\"class\": \"discharge\"})[0].findAll(\"span\", {\"class\": \"icount\"})[0].getText().replace(\n",
    "            \",\", \"\"))\n",
    "    \n",
    "    \n",
    "    states_data[\"last_updated\"] = str(datetime.datetime.now())\n",
    "\n",
    "    states_data['cumulativeTestedNumberForState'] = int(\n",
    "        sum_soup.findAll(\"div\", {\"class\": \"testing_result\"})[0].findAll(\"strong\")[0].getText().replace(\",\", \"\"))\n",
    "    \n",
    "    \n",
    "    states_data['tested_last_updated_state'] = sum_soup.findAll(\n",
    "        \"div\", {\"class\": \"test_title\"})[0].getText().strip().split(\"up to \")[-1]\n",
    "    \n",
    "    states_data['deltaTestedForState'] = int(\n",
    "        sum_soup.findAll(\"div\", {\"class\": \"testing_sample\"})[0].findAll(\"strong\")[0].getText().replace(\",\", \"\"))\n",
    "    \n",
    "    for vcount in sum_soup.findAll(\"div\", {\"class\": \"total-vcount\"}):\n",
    "        if 'yday' not in vcount.attrs['class']:\n",
    "            states_data['cumulativeVaccinatedNumberForState'] = int(vcount.findAll(\"strong\")[0].getText().replace(\",\", \"\"))\n",
    "\n",
    "    # states_data = states_data.reindex(columns=final_df_col)\n",
    "    return states_data"
   ]
  },
  {
   "cell_type": "code",
   "execution_count": 78,
   "id": "ec3ead84-9019-4ad5-a270-2d164119e202",
   "metadata": {},
   "outputs": [
    {
     "name": "stdout",
     "output_type": "stream",
     "text": [
      "2022-01-17\n",
      "2022-01-16\n"
     ]
    }
   ],
   "source": [
    "today = (datetime.datetime.now() - timedelta.Timedelta(days=0)).date()\n",
    "pDate = (datetime.datetime.now() - timedelta.Timedelta(days=1)).date()\n",
    "cowinDate = (datetime.datetime.now() - timedelta.Timedelta(days=2)).date()\n",
    "print(str(today))\n",
    "print(str(pDate))\n",
    "\n",
    "TT_df = india(\"TT\",str(today))\n",
    "\n",
    "# ASHA .. For Running previous dates\n",
    "# date_time_str = '2021/11/06'\n",
    "# date_time_obj = datetime.datetime.strptime(date_time_str, '%Y/%m/%d')\n",
    "# print(str(date_time_obj.date()))\n",
    "# today = (date_time_obj - timedelta.Timedelta(days=0)).date()\n",
    "# pDate = (date_time_obj - timedelta.Timedelta(days=1)).date()\n",
    "# print(str(today))\n",
    "# print(str(pDate))\n",
    "# TT_df = india(\"TT\",str(today))\n",
    "# ASHA .. For Running previous dates\n",
    "\n"
   ]
  },
  {
   "cell_type": "code",
   "execution_count": 4,
   "id": "985d6d21-2e61-4957-9a40-2cd84aa484fd",
   "metadata": {},
   "outputs": [
    {
     "name": "stdout",
     "output_type": "stream",
     "text": [
      "Created\n"
     ]
    }
   ],
   "source": [
    "if not os.path.isdir(os.path.join(\"..\",\"RAWCSV\",str(pDate),\"myGov\")):\n",
    "    os.mkdir(os.path.join(\"..\",\"RAWCSV\",str(pDate),\"myGov\"))\n",
    "    print(\"Created\")"
   ]
  },
  {
   "cell_type": "code",
   "execution_count": 79,
   "id": "2504c93a-f69e-47d7-8d88-5fea3d3d35a9",
   "metadata": {},
   "outputs": [
    {
     "name": "stdout",
     "output_type": "stream",
     "text": [
      "PB\n"
     ]
    },
    {
     "name": "stderr",
     "output_type": "stream",
     "text": [
      "/home/swiadmin/Incovid19/incovid19/src/ExtractStateMyGov.py:84: SettingWithCopyWarning: \n",
      "A value is trying to be set on a copy of a slice from a DataFrame\n",
      "\n",
      "See the caveats in the documentation: https://pandas.pydata.org/pandas-docs/stable/user_guide/indexing.html#returning-a-view-versus-a-copy\n",
      "  state_df[\"cumulativeConfirmedNumberForState\"] = state_df['cumulativeConfirmedNumberForDistrict'][state_df['District'] == 'Unknown'] = int(ind[\"cumulativeConfirmedNumberForDistrict\"][ind[\"District\"].str.contains(state_name)].values[0])\n",
      "/home/swiadmin/Incovid19/incovid19/src/ExtractStateMyGov.py:85: SettingWithCopyWarning: \n",
      "A value is trying to be set on a copy of a slice from a DataFrame\n",
      "\n",
      "See the caveats in the documentation: https://pandas.pydata.org/pandas-docs/stable/user_guide/indexing.html#returning-a-view-versus-a-copy\n",
      "  state_df[\"cumulativeDeceasedNumberForState\"] = state_df['cumulativeDeceasedNumberForDistrict'][state_df['District'] == 'Unknown'] = int(ind[\"cumulativeDeceasedNumberForDistrict\"][ind[\"District\"].str.contains(state_name)].values[0])\n",
      "/home/swiadmin/Incovid19/incovid19/src/ExtractStateMyGov.py:86: SettingWithCopyWarning: \n",
      "A value is trying to be set on a copy of a slice from a DataFrame\n",
      "\n",
      "See the caveats in the documentation: https://pandas.pydata.org/pandas-docs/stable/user_guide/indexing.html#returning-a-view-versus-a-copy\n",
      "  state_df[\"cumulativeRecoveredNumberForState\"] = state_df['cumulativeRecoveredNumberForDistrict'][state_df['District'] == 'Unknown'] = int(ind[\"cumulativeRecoveredNumberForDistrict\"][ind[\"District\"].str.contains(state_name)].values[0])\n",
      "/home/swiadmin/Incovid19/incovid19/src/ExtractStateMyGov.py:33: SettingWithCopyWarning: \n",
      "A value is trying to be set on a copy of a slice from a DataFrame\n",
      "\n",
      "See the caveats in the documentation: https://pandas.pydata.org/pandas-docs/stable/user_guide/indexing.html#returning-a-view-versus-a-copy\n",
      "  df[col][df['District'] == district] = int(state[col][state['District'] == district])\n",
      "/home/swiadmin/Incovid19/incovid19/src/ExtractStateMyGov.py:38: SettingWithCopyWarning: \n",
      "A value is trying to be set on a copy of a slice from a DataFrame\n",
      "\n",
      "See the caveats in the documentation: https://pandas.pydata.org/pandas-docs/stable/user_guide/indexing.html#returning-a-view-versus-a-copy\n",
      "  df[col][df['District'] == \"Unknown\"] -= state[col.replace(\"District\", \"State\")][0]\n"
     ]
    }
   ],
   "source": [
    "#mygov of prevDate\n",
    "from ExtractStateMyGov import ExtractStateMyGov\n",
    "source = pd.read_csv(r\"../sources.csv\")\n",
    "for idx in source.index:\n",
    "    if source[\"StateCode\"][idx] != \"TT\":\n",
    "        print(source[\"StateCode\"][idx])\n",
    "        if source[\"myGov\"][idx] == \"yes\":\n",
    "            temp_df = ExtractStateMyGov(source[\"StateCode\"][idx],str(today))\n",
    "        else:\n",
    "            temp_df = ExtractStateMyGov(source[\"StateCode\"][idx],str(today), no_source = True)\n",
    "        temp_df[\"Date\"] = pDate\n",
    "        temp_df.to_csv(os.path.join(\"..\",\"RAWCSV\",str(pDate),\"myGov\",source[\"StateCode\"][idx]+\"_raw.csv\"))"
   ]
  },
  {
   "cell_type": "code",
   "execution_count": 6,
   "id": "9b76c994-3bea-440d-8f0c-07b016d0789f",
   "metadata": {},
   "outputs": [],
   "source": [
    "# TT_df = pd.read_csv(\"../RAWCSV/2021-10-31/TT_raw.csv\")"
   ]
  },
  {
   "cell_type": "code",
   "execution_count": 7,
   "id": "5dbcb47b-064e-49e8-a78c-50d48fa1ab95",
   "metadata": {},
   "outputs": [],
   "source": [
    "TT_df = TT_df.dropna(1)"
   ]
  },
  {
   "cell_type": "code",
   "execution_count": 8,
   "id": "e4beadad-89f0-4487-b180-b3b7dcfe9fb1",
   "metadata": {},
   "outputs": [],
   "source": [
    "import urllib.request, json \n",
    "with urllib.request.urlopen(\"https://api.cowin.gov.in/api/v1/reports/v2/getPublicReports?date=\"+str(pDate)) as url:\n",
    "    data = json.loads(url.read().decode())"
   ]
  },
  {
   "cell_type": "code",
   "execution_count": 9,
   "id": "1b98a83a-7cd0-4764-b5e7-85aa40f85056",
   "metadata": {},
   "outputs": [],
   "source": [
    "#pDate\n",
    "#tot_pd\n",
    "#precaution_dose\n",
    "# data"
   ]
  },
  {
   "cell_type": "code",
   "execution_count": 10,
   "id": "64a42bff-6d2e-44bc-9f19-d34eb94835be",
   "metadata": {},
   "outputs": [],
   "source": [
    "TT_df[\"cumulativeVaccinated1NumberForState\"] = data[\"topBlock\"][\"vaccination\"][\"tot_dose_1\"]\n",
    "TT_df[\"cumulativeVaccinated2NumberForState\"] = data[\"topBlock\"][\"vaccination\"][\"tot_dose_2\"]\n",
    "TT_df[\"cumulativeVaccinated3NumberForState\"] = data[\"topBlock\"][\"vaccination\"][\"tot_pd\"]\n",
    "TT_df[\"cumulativeVaccinatedNumberForState\"] = data[\"topBlock\"][\"vaccination\"][\"total_doses\"]"
   ]
  },
  {
   "cell_type": "code",
   "execution_count": 11,
   "id": "da6997e8-c602-43c2-9919-3e8a6aaeda5f",
   "metadata": {},
   "outputs": [
    {
     "name": "stdout",
     "output_type": "stream",
     "text": [
      "941713021\n",
      "707091279\n",
      "11324800\n",
      "1660129100\n"
     ]
    }
   ],
   "source": [
    "print(TT_df[\"cumulativeVaccinated1NumberForState\"][0])\n",
    "print(TT_df[\"cumulativeVaccinated2NumberForState\"][0])\n",
    "print(TT_df[\"cumulativeVaccinated3NumberForState\"][0])\n",
    "print(TT_df[\"cumulativeVaccinatedNumberForState\"][0])"
   ]
  },
  {
   "cell_type": "code",
   "execution_count": 12,
   "id": "3ebd5932-8706-42d5-858d-2caf9affdd5a",
   "metadata": {},
   "outputs": [],
   "source": [
    "states = []\n",
    "vaccinated = []\n",
    "vaccinated1 = []\n",
    "vaccinated2 = []\n",
    "vaccinated3 = []\n",
    "for sta in data['getBeneficiariesGroupBy']:\n",
    "    if (sta['title'].lower() == \"dadra and nagar haveli\") or (sta['title'].lower() == \"daman and diu\"):\n",
    "        states.append('Dadra and Nagar Haveli and Daman and Diu')\n",
    "    else:\n",
    "        states.append(sta['title'])\n",
    "    vaccinated.append(sta['total'])\n",
    "    vaccinated1.append(sta['partial_vaccinated'])\n",
    "    vaccinated2.append(sta['totally_vaccinated'])\n",
    "    vaccinated3.append(sta['precaution_dose'])"
   ]
  },
  {
   "cell_type": "code",
   "execution_count": 13,
   "id": "818d3f38-2105-423c-a38e-9506dc3ef065",
   "metadata": {},
   "outputs": [],
   "source": [
    "VAC_df = pd.DataFrame(list(zip(states,vaccinated,vaccinated1,vaccinated2,vaccinated3))).groupby(0, as_index=False).sum()"
   ]
  },
  {
   "cell_type": "code",
   "execution_count": 14,
   "id": "060872a3-0bc5-4b56-bada-b577c235fd50",
   "metadata": {},
   "outputs": [],
   "source": [
    "VAC_df = VAC_df.rename(columns={0:\"District\",1:\"cumulativeVaccinatedNumberForDistrict\",2:\"cumulativeVaccinated1NumberForDistrict\",3:\"cumulativeVaccinated2NumberForDistrict\",4:\"cumulativeVaccinated3NumberForDistrict\"})"
   ]
  },
  {
   "cell_type": "code",
   "execution_count": 15,
   "id": "4548275c-85fe-4578-b16d-9c6ffcfa18c2",
   "metadata": {},
   "outputs": [],
   "source": [
    "TT_df = TT_df.merge(VAC_df,how=\"left\",on=\"District\")"
   ]
  },
  {
   "cell_type": "code",
   "execution_count": 16,
   "id": "91c77a7e-769d-417f-a542-be3a269c7539",
   "metadata": {},
   "outputs": [],
   "source": [
    "TT_df[\"tested_source_state\"] = \"https://www.icmr.gov.in/\""
   ]
  },
  {
   "cell_type": "code",
   "execution_count": 17,
   "id": "d9346907-5506-4be6-b741-838d2d9bf97a",
   "metadata": {},
   "outputs": [],
   "source": [
    "# TT_df.to_csv(\"TT_test.csv\")"
   ]
  },
  {
   "cell_type": "code",
   "execution_count": 18,
   "id": "95b24f03-1941-48c3-9349-bb6ee61d1e87",
   "metadata": {},
   "outputs": [],
   "source": [
    "TT_df[\"tested_last_updated_state\"] = str(datetime.datetime.strptime(TT_df[\"tested_last_updated_state\"][0] , '%b %d, %Y'))"
   ]
  },
  {
   "cell_type": "markdown",
   "id": "119c3a29-887d-4413-bb26-5b9ca44418d5",
   "metadata": {},
   "source": [
    "# Generate TT_final"
   ]
  },
  {
   "cell_type": "code",
   "execution_count": 19,
   "id": "83bc0414-a808-4626-8e23-88dedc1c638e",
   "metadata": {},
   "outputs": [],
   "source": [
    "# cs = pd.read_csv(\"case_time_series.csv\")"
   ]
  },
  {
   "cell_type": "code",
   "execution_count": 20,
   "id": "a6e33cc1-76aa-4f42-90f5-4b11866bf70f",
   "metadata": {},
   "outputs": [],
   "source": [
    "# cs.columns"
   ]
  },
  {
   "cell_type": "code",
   "execution_count": 21,
   "id": "85c36201-8d8a-4267-90af-68c0b3246709",
   "metadata": {},
   "outputs": [],
   "source": [
    "# cs.tail()"
   ]
  },
  {
   "cell_type": "code",
   "execution_count": 22,
   "id": "c618b502-aff9-4c7b-8d13-6eea15c2d837",
   "metadata": {},
   "outputs": [],
   "source": [
    "# import timedelta\n",
    "# delta_date = str((datetime.datetime.now() - timedelta.Timedelta(days=1)).date())"
   ]
  },
  {
   "cell_type": "code",
   "execution_count": 23,
   "id": "9689f9a3-7b53-48d9-b4c0-8748d131a1fa",
   "metadata": {},
   "outputs": [],
   "source": [
    "delta_date = str(pDate)"
   ]
  },
  {
   "cell_type": "code",
   "execution_count": 24,
   "id": "07322783-bb7d-4a05-a2af-b8b82966c272",
   "metadata": {},
   "outputs": [
    {
     "data": {
      "text/plain": [
       "'2022-01-30'"
      ]
     },
     "execution_count": 24,
     "metadata": {},
     "output_type": "execute_result"
    }
   ],
   "source": [
    "delta_date"
   ]
  },
  {
   "cell_type": "code",
   "execution_count": 25,
   "id": "6040efca-eca4-4289-ad53-f20c03f350b3",
   "metadata": {},
   "outputs": [],
   "source": [
    "# ind = cs[cs['Date_YMD']==delta_date].index[0]"
   ]
  },
  {
   "cell_type": "markdown",
   "id": "ed4cca8f-c723-428e-a5a4-8c369ed504b5",
   "metadata": {},
   "source": [
    "# Integrate is CS only"
   ]
  },
  {
   "cell_type": "code",
   "execution_count": 26,
   "id": "3a2e5111-c87f-49d4-9374-133af742de9b",
   "metadata": {},
   "outputs": [],
   "source": [
    "# states_df = pd.read_csv(\"states.csv\")"
   ]
  },
  {
   "cell_type": "code",
   "execution_count": 27,
   "id": "1ad21163-a991-43a1-b815-e9ca6b0a2b4d",
   "metadata": {},
   "outputs": [],
   "source": [
    "# cs = states_df"
   ]
  },
  {
   "cell_type": "code",
   "execution_count": 28,
   "id": "c3c12c0b-476d-4934-9db9-13a121f84f4b",
   "metadata": {},
   "outputs": [],
   "source": [
    "# ind = cs[(cs['Date']==delta_date) & (cs[\"State\"] == \"India\")].index[0]"
   ]
  },
  {
   "cell_type": "code",
   "execution_count": 29,
   "id": "6a42dddd-584a-4783-a5ac-b54e9e0af269",
   "metadata": {},
   "outputs": [],
   "source": [
    "# ind"
   ]
  },
  {
   "cell_type": "markdown",
   "id": "f6b3f8ec-243f-4d8c-8d60-e2d5f10294c6",
   "metadata": {},
   "source": [
    "# Reading from Raw"
   ]
  },
  {
   "cell_type": "code",
   "execution_count": 30,
   "id": "c2f24adb-ffb9-425a-a009-dfcca9d34181",
   "metadata": {},
   "outputs": [],
   "source": [
    "cs = pd.read_csv(\"../RAWCSV/\"+delta_date+\"/TT_final.csv\")"
   ]
  },
  {
   "cell_type": "code",
   "execution_count": 31,
   "id": "50de5363-0b74-4bff-907f-d9c6ce44d6ae",
   "metadata": {},
   "outputs": [],
   "source": [
    "# cs.columns"
   ]
  },
  {
   "cell_type": "code",
   "execution_count": 32,
   "id": "1b7b8b7c-fd72-4e6e-b780-832c1e547596",
   "metadata": {},
   "outputs": [],
   "source": [
    "# TT_df[\"deltaConfirmedForState\"] = TT_df[\"cumulativeConfirmedNumberForState\"] - cs[\"Confirmed\"][ind]\n",
    "# TT_df[\"deltaDeceasedForState\"] = TT_df[\"cumulativeDeceasedNumberForState\"] - cs[\"Deceased\"][ind]\n",
    "# TT_df[\"deltaRecoveredForState\"] = TT_df[\"cumulativeRecoveredNumberForState\"] - cs[\"Recovered\"][ind]\n",
    "TT_df[\"deltaConfirmedForState\"] = TT_df[\"cumulativeConfirmedNumberForState\"] - cs[\"cumulativeConfirmedNumberForState\"][0]\n",
    "TT_df[\"deltaDeceasedForState\"] = TT_df[\"cumulativeDeceasedNumberForState\"] - cs[\"cumulativeDeceasedNumberForState\"][0]\n",
    "TT_df[\"deltaRecoveredForState\"] = TT_df[\"cumulativeRecoveredNumberForState\"] - cs[\"cumulativeRecoveredNumberForState\"][0]\n",
    "TT_df[\"deltaTestedForState\"] = TT_df[\"cumulativeTestedNumberForState\"] - cs[\"cumulativeTestedNumberForState\"][0]"
   ]
  },
  {
   "cell_type": "code",
   "execution_count": 33,
   "id": "e50ee26a-0656-495d-b61a-486cd444bea4",
   "metadata": {},
   "outputs": [
    {
     "data": {
      "text/plain": [
       "'2022-01-30'"
      ]
     },
     "execution_count": 33,
     "metadata": {},
     "output_type": "execute_result"
    }
   ],
   "source": [
    "delta_date"
   ]
  },
  {
   "cell_type": "code",
   "execution_count": 34,
   "id": "2f6366ba-24c4-4d98-853c-52296544df12",
   "metadata": {},
   "outputs": [],
   "source": [
    "import urllib.request, json \n",
    "with urllib.request.urlopen(\"https://api.cowin.gov.in/api/v1/reports/v2/getPublicReports?date=\"+str(cowinDate)) as url:\n",
    "    data = json.loads(url.read().decode())"
   ]
  },
  {
   "cell_type": "code",
   "execution_count": 35,
   "id": "086ff5d2-0854-4c56-bd59-18a072d8cc12",
   "metadata": {},
   "outputs": [],
   "source": [
    "# TT_df[\"cumulativeVaccinated1NumberForState\"] = data[\"topBlock\"][\"vaccination\"][\"tot_dose_1\"]\n",
    "# TT_df[\"cumulativeVaccinated2NumberForState\"] = data[\"topBlock\"][\"vaccination\"][\"tot_dose_2\"]\n",
    "# TT_df[\"cumulativeVaccinatedNumberForState\"] = data[\"topBlock\"][\"vaccination\"][\"total_doses\"]"
   ]
  },
  {
   "cell_type": "code",
   "execution_count": 36,
   "id": "330971a4-5d46-4a96-87e6-0321905a168e",
   "metadata": {},
   "outputs": [
    {
     "name": "stdout",
     "output_type": "stream",
     "text": [
      "11158251\n",
      "705057431\n",
      "940577835\n",
      "1656793517\n"
     ]
    }
   ],
   "source": [
    "print(data[\"topBlock\"][\"vaccination\"][\"tot_pd\"])\n",
    "print(data[\"topBlock\"][\"vaccination\"][\"tot_dose_2\"])\n",
    "print(data[\"topBlock\"][\"vaccination\"][\"tot_dose_1\"])\n",
    "print(data[\"topBlock\"][\"vaccination\"][\"total_doses\"])"
   ]
  },
  {
   "cell_type": "code",
   "execution_count": 37,
   "id": "7b30260a-b121-4e0e-acf4-f6cd1f310386",
   "metadata": {},
   "outputs": [],
   "source": [
    "TT_df[\"deltaVaccinated3ForState\"] = TT_df[\"cumulativeVaccinated3NumberForState\"] - data[\"topBlock\"][\"vaccination\"][\"tot_pd\"]\n",
    "TT_df[\"deltaVaccinated2ForState\"] = TT_df[\"cumulativeVaccinated2NumberForState\"] - data[\"topBlock\"][\"vaccination\"][\"tot_dose_2\"]\n",
    "TT_df[\"deltaVaccinated1ForState\"] = TT_df[\"cumulativeVaccinated1NumberForState\"] - data[\"topBlock\"][\"vaccination\"][\"tot_dose_1\"]\n",
    "TT_df[\"deltaVaccinatedForState\"] = TT_df[\"cumulativeVaccinatedNumberForState\"] - data[\"topBlock\"][\"vaccination\"][\"total_doses\"]"
   ]
  },
  {
   "cell_type": "code",
   "execution_count": 38,
   "id": "31a7f180-375e-4091-96ba-cbb29b296d68",
   "metadata": {},
   "outputs": [
    {
     "name": "stdout",
     "output_type": "stream",
     "text": [
      "166549\n",
      "1135186\n",
      "2033848\n",
      "3335583\n"
     ]
    }
   ],
   "source": [
    "print(TT_df[\"deltaVaccinated3ForState\"][0])\n",
    "print(TT_df[\"deltaVaccinated1ForState\"][0])\n",
    "print(TT_df[\"deltaVaccinated2ForState\"][0])\n",
    "print(TT_df[\"deltaVaccinatedForState\"][0])"
   ]
  },
  {
   "cell_type": "code",
   "execution_count": 39,
   "id": "51bf31af-d67d-4bed-96fd-6ea771f15162",
   "metadata": {},
   "outputs": [],
   "source": [
    "# TT_df[\"deltaVaccinatedForState\"]"
   ]
  },
  {
   "cell_type": "code",
   "execution_count": 40,
   "id": "9b9bb496-ca6b-4c94-b5ac-2869131b32e5",
   "metadata": {},
   "outputs": [],
   "source": [
    "states = []\n",
    "vaccinated = []\n",
    "vaccinated1 = []\n",
    "vaccinated2 = []\n",
    "vaccinated3 = []\n",
    "for sta in data['getBeneficiariesGroupBy']:\n",
    "    if (sta['title'].lower() == \"dadra and nagar haveli\") or (sta['title'].lower() == \"daman and diu\"):\n",
    "        states.append('Dadra and Nagar Haveli and Daman and Diu')\n",
    "    else:\n",
    "        states.append(sta['title'])\n",
    "    vaccinated.append(sta['total'])\n",
    "    vaccinated1.append(sta['partial_vaccinated'])\n",
    "    vaccinated2.append(sta['totally_vaccinated'])\n",
    "    vaccinated3.append(sta['precaution_dose'])"
   ]
  },
  {
   "cell_type": "code",
   "execution_count": 41,
   "id": "e369db44-5a3b-44a0-8bb0-5854dcbd4613",
   "metadata": {},
   "outputs": [],
   "source": [
    "prevdayVACC_df = pd.DataFrame(list(zip(states,vaccinated,vaccinated1,vaccinated2,vaccinated3))).groupby(0, as_index=False).sum()"
   ]
  },
  {
   "cell_type": "code",
   "execution_count": 42,
   "id": "cccd4309-3395-4382-8ee9-367891b251ce",
   "metadata": {},
   "outputs": [],
   "source": [
    "prevdayVACC_df = prevdayVACC_df.rename(columns={0:\"District\",1:\"cumulativeVaccinatedNumberForDistrict\",2:\"cumulativeVaccinated1NumberForDistrict\",3:\"cumulativeVaccinated2NumberForDistrict\",4:\"cumulativeVaccinated3NumberForDistrict\"})"
   ]
  },
  {
   "cell_type": "code",
   "execution_count": 43,
   "id": "a8725760-80e8-4139-90b3-163dda394497",
   "metadata": {},
   "outputs": [
    {
     "name": "stderr",
     "output_type": "stream",
     "text": [
      "/home/swiadmin/Incovid19/incovid19/env/lib/python3.6/site-packages/ipykernel_launcher.py:5: SettingWithCopyWarning: \n",
      "A value is trying to be set on a copy of a slice from a DataFrame\n",
      "\n",
      "See the caveats in the documentation: https://pandas.pydata.org/pandas-docs/stable/user_guide/indexing.html#returning-a-view-versus-a-copy\n",
      "  \"\"\"\n"
     ]
    }
   ],
   "source": [
    "lst = [\"Vaccinated1\",\"Vaccinated2\",\"Vaccinated3\",\"Vaccinated\"]\n",
    "for val in lst:\n",
    "    TT_df[\"delta{}ForDistrict\".format(val)] = None\n",
    "    for idx in TT_df.index:\n",
    "        TT_df[\"delta{}ForDistrict\".format(val)][idx] = TT_df[\"cumulative{}NumberForDistrict\".format(val)][idx] - prevdayVACC_df[prevdayVACC_df[\"District\"] == TT_df[\"District\"][idx]][\"cumulative{}NumberForDistrict\".format(val)].item()"
   ]
  },
  {
   "cell_type": "code",
   "execution_count": 44,
   "id": "c51071da-cfa0-4b07-aea0-89f6595c4e02",
   "metadata": {},
   "outputs": [],
   "source": [
    "# states_df = pd.read_csv(\"states.csv\")"
   ]
  },
  {
   "cell_type": "markdown",
   "id": "80b55cd2-877b-4aac-b0ee-e3decf9e2863",
   "metadata": {},
   "source": [
    "# No reading states"
   ]
  },
  {
   "cell_type": "code",
   "execution_count": 45,
   "id": "08a15bc8-3c1c-4664-8d1e-e26c8c9c50ee",
   "metadata": {},
   "outputs": [],
   "source": [
    "states_df = cs[[\"Date\",\"District\",\"cumulativeConfirmedNumberForDistrict\",\"cumulativeRecoveredNumberForDistrict\",\"cumulativeDeceasedNumberForDistrict\"]]"
   ]
  },
  {
   "cell_type": "code",
   "execution_count": 46,
   "id": "d901e4e9-968b-4359-a844-b6b70872f078",
   "metadata": {},
   "outputs": [],
   "source": [
    "# states_df"
   ]
  },
  {
   "cell_type": "code",
   "execution_count": 47,
   "id": "77ee9041-1e02-437d-83c1-e805b81e4307",
   "metadata": {},
   "outputs": [
    {
     "name": "stderr",
     "output_type": "stream",
     "text": [
      "/home/swiadmin/Incovid19/incovid19/env/lib/python3.6/site-packages/ipykernel_launcher.py:8: SettingWithCopyWarning: \n",
      "A value is trying to be set on a copy of a slice from a DataFrame\n",
      "\n",
      "See the caveats in the documentation: https://pandas.pydata.org/pandas-docs/stable/user_guide/indexing.html#returning-a-view-versus-a-copy\n",
      "  \n"
     ]
    }
   ],
   "source": [
    "# deltaConfirmedForDistrict\",\n",
    "#                  \"deltaDeceasedForDistrict\",\n",
    "#                  \"deltaRecoveredForDistrict\",\n",
    "lst = [\"Confirmed\",\"Recovered\",\"Deceased\"]\n",
    "for val in lst:\n",
    "    TT_df[\"delta{}ForDistrict\".format(val)] = None\n",
    "    for idx in TT_df.index:\n",
    "        TT_df[\"delta{}ForDistrict\".format(val)][idx] = int(TT_df[\"cumulative{}NumberForDistrict\".format(val)][idx]) - int(states_df[(states_df[\"District\"] == TT_df[\"District\"][idx]) & (states_df[\"Date\"] == delta_date)][\"cumulative{}NumberForDistrict\".format(val)].item())"
   ]
  },
  {
   "cell_type": "code",
   "execution_count": 48,
   "id": "c3f630de-dab5-4e80-b5af-2213810f9bff",
   "metadata": {},
   "outputs": [
    {
     "data": {
      "text/plain": [
       "'2022-01-30'"
      ]
     },
     "execution_count": 48,
     "metadata": {},
     "output_type": "execute_result"
    }
   ],
   "source": [
    "delta_date"
   ]
  },
  {
   "cell_type": "code",
   "execution_count": 49,
   "id": "17d41187-1d6b-421b-aca3-0e555a0c1f27",
   "metadata": {},
   "outputs": [
    {
     "name": "stderr",
     "output_type": "stream",
     "text": [
      "/home/swiadmin/Incovid19/incovid19/env/lib/python3.6/site-packages/ipykernel_launcher.py:5: SettingWithCopyWarning: \n",
      "A value is trying to be set on a copy of a slice from a DataFrame\n",
      "\n",
      "See the caveats in the documentation: https://pandas.pydata.org/pandas-docs/stable/user_guide/indexing.html#returning-a-view-versus-a-copy\n",
      "  \"\"\"\n"
     ]
    }
   ],
   "source": [
    "lst = [\"Vaccinated1\",\"Vaccinated2\",\"Vaccinated3\",\"Vaccinated\"]\n",
    "for val in lst:\n",
    "    TT_df[\"delta{}ForDistrict\".format(val)] = None\n",
    "    for idx in TT_df.index:\n",
    "        TT_df[\"delta{}ForDistrict\".format(val)][idx] = TT_df[\"cumulative{}NumberForDistrict\".format(val)][idx] - prevdayVACC_df[prevdayVACC_df[\"District\"] == TT_df[\"District\"][idx]][\"cumulative{}NumberForDistrict\".format(val)].item()"
   ]
  },
  {
   "cell_type": "code",
   "execution_count": 50,
   "id": "bbb857a6-9436-4b4d-a921-ccb80e32732b",
   "metadata": {},
   "outputs": [],
   "source": [
    "# TT_df 7dma Cummulative"
   ]
  },
  {
   "cell_type": "code",
   "execution_count": 51,
   "id": "38199ceb-ffa2-4278-bce4-3e4b5329c723",
   "metadata": {},
   "outputs": [
    {
     "data": {
      "text/html": [
       "<div>\n",
       "<style scoped>\n",
       "    .dataframe tbody tr th:only-of-type {\n",
       "        vertical-align: middle;\n",
       "    }\n",
       "\n",
       "    .dataframe tbody tr th {\n",
       "        vertical-align: top;\n",
       "    }\n",
       "\n",
       "    .dataframe thead th {\n",
       "        text-align: right;\n",
       "    }\n",
       "</style>\n",
       "<table border=\"1\" class=\"dataframe\">\n",
       "  <thead>\n",
       "    <tr style=\"text-align: right;\">\n",
       "      <th></th>\n",
       "      <th>Unnamed: 0</th>\n",
       "      <th>District</th>\n",
       "      <th>cumulativeConfirmedNumberForDistrict</th>\n",
       "      <th>cumulativeRecoveredNumberForDistrict</th>\n",
       "      <th>cumulativeDeceasedNumberForDistrict</th>\n",
       "      <th>Date</th>\n",
       "      <th>State/UTCode</th>\n",
       "      <th>cumulativeConfirmedNumberForState</th>\n",
       "      <th>cumulativeDeceasedNumberForState</th>\n",
       "      <th>cumulativeRecoveredNumberForState</th>\n",
       "      <th>last_updated</th>\n",
       "      <th>cumulativeTestedNumberForState</th>\n",
       "      <th>tested_last_updated_state</th>\n",
       "      <th>deltaTestedForState</th>\n",
       "      <th>cumulativeVaccinatedNumberForState</th>\n",
       "      <th>cumulativeVaccinated1NumberForState</th>\n",
       "      <th>cumulativeVaccinated2NumberForState</th>\n",
       "      <th>cumulativeVaccinated3NumberForState</th>\n",
       "      <th>cumulativeVaccinatedNumberForDistrict</th>\n",
       "      <th>cumulativeVaccinated1NumberForDistrict</th>\n",
       "      <th>cumulativeVaccinated2NumberForDistrict</th>\n",
       "      <th>cumulativeVaccinated3NumberForDistrict</th>\n",
       "      <th>tested_source_state</th>\n",
       "      <th>deltaConfirmedForState</th>\n",
       "      <th>deltaDeceasedForState</th>\n",
       "      <th>deltaRecoveredForState</th>\n",
       "      <th>deltaVaccinated3ForState</th>\n",
       "      <th>deltaVaccinated2ForState</th>\n",
       "      <th>deltaVaccinated1ForState</th>\n",
       "      <th>deltaVaccinatedForState</th>\n",
       "      <th>deltaVaccinated1ForDistrict</th>\n",
       "      <th>deltaVaccinated2ForDistrict</th>\n",
       "      <th>deltaVaccinated3ForDistrict</th>\n",
       "      <th>deltaVaccinatedForDistrict</th>\n",
       "      <th>deltaConfirmedForDistrict</th>\n",
       "      <th>deltaRecoveredForDistrict</th>\n",
       "      <th>deltaDeceasedForDistrict</th>\n",
       "      <th>7DmaTestedForState</th>\n",
       "      <th>delta21_14confirmedForState</th>\n",
       "      <th>statePopulation</th>\n",
       "      <th>StateName</th>\n",
       "      <th>districtPopulation</th>\n",
       "    </tr>\n",
       "  </thead>\n",
       "  <tbody>\n",
       "    <tr>\n",
       "      <th>31</th>\n",
       "      <td>31</td>\n",
       "      <td>Telangana</td>\n",
       "      <td>758566</td>\n",
       "      <td>714034</td>\n",
       "      <td>4085</td>\n",
       "      <td>2022-01-30</td>\n",
       "      <td>TT</td>\n",
       "      <td>41092522</td>\n",
       "      <td>494091</td>\n",
       "      <td>38713494</td>\n",
       "      <td>2022-01-30 12:07:33.816988</td>\n",
       "      <td>727390698</td>\n",
       "      <td>2022-01-29 00:00:00</td>\n",
       "      <td>1615993</td>\n",
       "      <td>1656793517</td>\n",
       "      <td>940577835</td>\n",
       "      <td>705057431</td>\n",
       "      <td>11158251</td>\n",
       "      <td>53871289</td>\n",
       "      <td>30175592</td>\n",
       "      <td>23419637</td>\n",
       "      <td>276060</td>\n",
       "      <td>https://www.icmr.gov.in/</td>\n",
       "      <td>234281</td>\n",
       "      <td>893</td>\n",
       "      <td>352784</td>\n",
       "      <td>613984</td>\n",
       "      <td>3902774</td>\n",
       "      <td>1981147</td>\n",
       "      <td>6497905</td>\n",
       "      <td>48308</td>\n",
       "      <td>186701</td>\n",
       "      <td>9686</td>\n",
       "      <td>244695</td>\n",
       "      <td>3590</td>\n",
       "      <td>3555</td>\n",
       "      <td>2</td>\n",
       "      <td>NaN</td>\n",
       "      <td>NaN</td>\n",
       "      <td>1332900000</td>\n",
       "      <td>Telangana</td>\n",
       "      <td>37220000</td>\n",
       "    </tr>\n",
       "    <tr>\n",
       "      <th>32</th>\n",
       "      <td>32</td>\n",
       "      <td>Tripura</td>\n",
       "      <td>100142</td>\n",
       "      <td>94117</td>\n",
       "      <td>895</td>\n",
       "      <td>2022-01-30</td>\n",
       "      <td>TT</td>\n",
       "      <td>41092522</td>\n",
       "      <td>494091</td>\n",
       "      <td>38713494</td>\n",
       "      <td>2022-01-30 12:07:33.816988</td>\n",
       "      <td>727390698</td>\n",
       "      <td>2022-01-29 00:00:00</td>\n",
       "      <td>1615993</td>\n",
       "      <td>1656793517</td>\n",
       "      <td>940577835</td>\n",
       "      <td>705057431</td>\n",
       "      <td>11158251</td>\n",
       "      <td>4946449</td>\n",
       "      <td>2740482</td>\n",
       "      <td>2164410</td>\n",
       "      <td>41557</td>\n",
       "      <td>https://www.icmr.gov.in/</td>\n",
       "      <td>234281</td>\n",
       "      <td>893</td>\n",
       "      <td>352784</td>\n",
       "      <td>613984</td>\n",
       "      <td>3902774</td>\n",
       "      <td>1981147</td>\n",
       "      <td>6497905</td>\n",
       "      <td>1800</td>\n",
       "      <td>731</td>\n",
       "      <td>1999</td>\n",
       "      <td>4530</td>\n",
       "      <td>186</td>\n",
       "      <td>851</td>\n",
       "      <td>3</td>\n",
       "      <td>NaN</td>\n",
       "      <td>NaN</td>\n",
       "      <td>1332900000</td>\n",
       "      <td>Tripura</td>\n",
       "      <td>3992000</td>\n",
       "    </tr>\n",
       "    <tr>\n",
       "      <th>33</th>\n",
       "      <td>33</td>\n",
       "      <td>Uttar Pradesh</td>\n",
       "      <td>2005245</td>\n",
       "      <td>1922480</td>\n",
       "      <td>23164</td>\n",
       "      <td>2022-01-30</td>\n",
       "      <td>TT</td>\n",
       "      <td>41092522</td>\n",
       "      <td>494091</td>\n",
       "      <td>38713494</td>\n",
       "      <td>2022-01-30 12:07:33.816988</td>\n",
       "      <td>727390698</td>\n",
       "      <td>2022-01-29 00:00:00</td>\n",
       "      <td>1615993</td>\n",
       "      <td>1656793517</td>\n",
       "      <td>940577835</td>\n",
       "      <td>705057431</td>\n",
       "      <td>11158251</td>\n",
       "      <td>258494921</td>\n",
       "      <td>155767212</td>\n",
       "      <td>101474983</td>\n",
       "      <td>1252726</td>\n",
       "      <td>https://www.icmr.gov.in/</td>\n",
       "      <td>234281</td>\n",
       "      <td>893</td>\n",
       "      <td>352784</td>\n",
       "      <td>613984</td>\n",
       "      <td>3902774</td>\n",
       "      <td>1981147</td>\n",
       "      <td>6497905</td>\n",
       "      <td>643175</td>\n",
       "      <td>968490</td>\n",
       "      <td>100755</td>\n",
       "      <td>1712420</td>\n",
       "      <td>8273</td>\n",
       "      <td>13910</td>\n",
       "      <td>25</td>\n",
       "      <td>NaN</td>\n",
       "      <td>NaN</td>\n",
       "      <td>1332900000</td>\n",
       "      <td>Uttar Pradesh</td>\n",
       "      <td>224979000</td>\n",
       "    </tr>\n",
       "    <tr>\n",
       "      <th>34</th>\n",
       "      <td>34</td>\n",
       "      <td>Uttarakhand</td>\n",
       "      <td>418004</td>\n",
       "      <td>379227</td>\n",
       "      <td>7531</td>\n",
       "      <td>2022-01-30</td>\n",
       "      <td>TT</td>\n",
       "      <td>41092522</td>\n",
       "      <td>494091</td>\n",
       "      <td>38713494</td>\n",
       "      <td>2022-01-30 12:07:33.816988</td>\n",
       "      <td>727390698</td>\n",
       "      <td>2022-01-29 00:00:00</td>\n",
       "      <td>1615993</td>\n",
       "      <td>1656793517</td>\n",
       "      <td>940577835</td>\n",
       "      <td>705057431</td>\n",
       "      <td>11158251</td>\n",
       "      <td>15731618</td>\n",
       "      <td>8438122</td>\n",
       "      <td>7082496</td>\n",
       "      <td>211000</td>\n",
       "      <td>https://www.icmr.gov.in/</td>\n",
       "      <td>234281</td>\n",
       "      <td>893</td>\n",
       "      <td>352784</td>\n",
       "      <td>613984</td>\n",
       "      <td>3902774</td>\n",
       "      <td>1981147</td>\n",
       "      <td>6497905</td>\n",
       "      <td>9991</td>\n",
       "      <td>85902</td>\n",
       "      <td>15984</td>\n",
       "      <td>111877</td>\n",
       "      <td>2490</td>\n",
       "      <td>2320</td>\n",
       "      <td>10</td>\n",
       "      <td>NaN</td>\n",
       "      <td>NaN</td>\n",
       "      <td>1332900000</td>\n",
       "      <td>Uttarakhand</td>\n",
       "      <td>11141000</td>\n",
       "    </tr>\n",
       "    <tr>\n",
       "      <th>35</th>\n",
       "      <td>35</td>\n",
       "      <td>West Bengal</td>\n",
       "      <td>1990179</td>\n",
       "      <td>1931711</td>\n",
       "      <td>20550</td>\n",
       "      <td>2022-01-30</td>\n",
       "      <td>TT</td>\n",
       "      <td>41092522</td>\n",
       "      <td>494091</td>\n",
       "      <td>38713494</td>\n",
       "      <td>2022-01-30 12:07:33.816988</td>\n",
       "      <td>727390698</td>\n",
       "      <td>2022-01-29 00:00:00</td>\n",
       "      <td>1615993</td>\n",
       "      <td>1656793517</td>\n",
       "      <td>940577835</td>\n",
       "      <td>705057431</td>\n",
       "      <td>11158251</td>\n",
       "      <td>121305689</td>\n",
       "      <td>69285676</td>\n",
       "      <td>51155594</td>\n",
       "      <td>864419</td>\n",
       "      <td>https://www.icmr.gov.in/</td>\n",
       "      <td>234281</td>\n",
       "      <td>893</td>\n",
       "      <td>352784</td>\n",
       "      <td>613984</td>\n",
       "      <td>3902774</td>\n",
       "      <td>1981147</td>\n",
       "      <td>6497905</td>\n",
       "      <td>64327</td>\n",
       "      <td>391895</td>\n",
       "      <td>43260</td>\n",
       "      <td>499482</td>\n",
       "      <td>3512</td>\n",
       "      <td>11288</td>\n",
       "      <td>35</td>\n",
       "      <td>NaN</td>\n",
       "      <td>NaN</td>\n",
       "      <td>1332900000</td>\n",
       "      <td>West Bengal</td>\n",
       "      <td>96906000</td>\n",
       "    </tr>\n",
       "  </tbody>\n",
       "</table>\n",
       "</div>"
      ],
      "text/plain": [
       "    Unnamed: 0       District  cumulativeConfirmedNumberForDistrict  \\\n",
       "31          31      Telangana                                758566   \n",
       "32          32        Tripura                                100142   \n",
       "33          33  Uttar Pradesh                               2005245   \n",
       "34          34    Uttarakhand                                418004   \n",
       "35          35    West Bengal                               1990179   \n",
       "\n",
       "    cumulativeRecoveredNumberForDistrict  cumulativeDeceasedNumberForDistrict  \\\n",
       "31                                714034                                 4085   \n",
       "32                                 94117                                  895   \n",
       "33                               1922480                                23164   \n",
       "34                                379227                                 7531   \n",
       "35                               1931711                                20550   \n",
       "\n",
       "          Date State/UTCode  cumulativeConfirmedNumberForState  \\\n",
       "31  2022-01-30           TT                           41092522   \n",
       "32  2022-01-30           TT                           41092522   \n",
       "33  2022-01-30           TT                           41092522   \n",
       "34  2022-01-30           TT                           41092522   \n",
       "35  2022-01-30           TT                           41092522   \n",
       "\n",
       "    cumulativeDeceasedNumberForState  cumulativeRecoveredNumberForState  \\\n",
       "31                            494091                           38713494   \n",
       "32                            494091                           38713494   \n",
       "33                            494091                           38713494   \n",
       "34                            494091                           38713494   \n",
       "35                            494091                           38713494   \n",
       "\n",
       "                  last_updated  cumulativeTestedNumberForState  \\\n",
       "31  2022-01-30 12:07:33.816988                       727390698   \n",
       "32  2022-01-30 12:07:33.816988                       727390698   \n",
       "33  2022-01-30 12:07:33.816988                       727390698   \n",
       "34  2022-01-30 12:07:33.816988                       727390698   \n",
       "35  2022-01-30 12:07:33.816988                       727390698   \n",
       "\n",
       "   tested_last_updated_state  deltaTestedForState  \\\n",
       "31       2022-01-29 00:00:00              1615993   \n",
       "32       2022-01-29 00:00:00              1615993   \n",
       "33       2022-01-29 00:00:00              1615993   \n",
       "34       2022-01-29 00:00:00              1615993   \n",
       "35       2022-01-29 00:00:00              1615993   \n",
       "\n",
       "    cumulativeVaccinatedNumberForState  cumulativeVaccinated1NumberForState  \\\n",
       "31                          1656793517                            940577835   \n",
       "32                          1656793517                            940577835   \n",
       "33                          1656793517                            940577835   \n",
       "34                          1656793517                            940577835   \n",
       "35                          1656793517                            940577835   \n",
       "\n",
       "    cumulativeVaccinated2NumberForState  cumulativeVaccinated3NumberForState  \\\n",
       "31                            705057431                             11158251   \n",
       "32                            705057431                             11158251   \n",
       "33                            705057431                             11158251   \n",
       "34                            705057431                             11158251   \n",
       "35                            705057431                             11158251   \n",
       "\n",
       "    cumulativeVaccinatedNumberForDistrict  \\\n",
       "31                               53871289   \n",
       "32                                4946449   \n",
       "33                              258494921   \n",
       "34                               15731618   \n",
       "35                              121305689   \n",
       "\n",
       "    cumulativeVaccinated1NumberForDistrict  \\\n",
       "31                                30175592   \n",
       "32                                 2740482   \n",
       "33                               155767212   \n",
       "34                                 8438122   \n",
       "35                                69285676   \n",
       "\n",
       "    cumulativeVaccinated2NumberForDistrict  \\\n",
       "31                                23419637   \n",
       "32                                 2164410   \n",
       "33                               101474983   \n",
       "34                                 7082496   \n",
       "35                                51155594   \n",
       "\n",
       "    cumulativeVaccinated3NumberForDistrict       tested_source_state  \\\n",
       "31                                  276060  https://www.icmr.gov.in/   \n",
       "32                                   41557  https://www.icmr.gov.in/   \n",
       "33                                 1252726  https://www.icmr.gov.in/   \n",
       "34                                  211000  https://www.icmr.gov.in/   \n",
       "35                                  864419  https://www.icmr.gov.in/   \n",
       "\n",
       "    deltaConfirmedForState  deltaDeceasedForState  deltaRecoveredForState  \\\n",
       "31                  234281                    893                  352784   \n",
       "32                  234281                    893                  352784   \n",
       "33                  234281                    893                  352784   \n",
       "34                  234281                    893                  352784   \n",
       "35                  234281                    893                  352784   \n",
       "\n",
       "    deltaVaccinated3ForState  deltaVaccinated2ForState  \\\n",
       "31                    613984                   3902774   \n",
       "32                    613984                   3902774   \n",
       "33                    613984                   3902774   \n",
       "34                    613984                   3902774   \n",
       "35                    613984                   3902774   \n",
       "\n",
       "    deltaVaccinated1ForState  deltaVaccinatedForState  \\\n",
       "31                   1981147                  6497905   \n",
       "32                   1981147                  6497905   \n",
       "33                   1981147                  6497905   \n",
       "34                   1981147                  6497905   \n",
       "35                   1981147                  6497905   \n",
       "\n",
       "    deltaVaccinated1ForDistrict  deltaVaccinated2ForDistrict  \\\n",
       "31                        48308                       186701   \n",
       "32                         1800                          731   \n",
       "33                       643175                       968490   \n",
       "34                         9991                        85902   \n",
       "35                        64327                       391895   \n",
       "\n",
       "    deltaVaccinated3ForDistrict  deltaVaccinatedForDistrict  \\\n",
       "31                         9686                      244695   \n",
       "32                         1999                        4530   \n",
       "33                       100755                     1712420   \n",
       "34                        15984                      111877   \n",
       "35                        43260                      499482   \n",
       "\n",
       "    deltaConfirmedForDistrict  deltaRecoveredForDistrict  \\\n",
       "31                       3590                       3555   \n",
       "32                        186                        851   \n",
       "33                       8273                      13910   \n",
       "34                       2490                       2320   \n",
       "35                       3512                      11288   \n",
       "\n",
       "    deltaDeceasedForDistrict  7DmaTestedForState  delta21_14confirmedForState  \\\n",
       "31                         2                 NaN                          NaN   \n",
       "32                         3                 NaN                          NaN   \n",
       "33                        25                 NaN                          NaN   \n",
       "34                        10                 NaN                          NaN   \n",
       "35                        35                 NaN                          NaN   \n",
       "\n",
       "    statePopulation      StateName  districtPopulation  \n",
       "31       1332900000      Telangana            37220000  \n",
       "32       1332900000        Tripura             3992000  \n",
       "33       1332900000  Uttar Pradesh           224979000  \n",
       "34       1332900000    Uttarakhand            11141000  \n",
       "35       1332900000    West Bengal            96906000  "
      ]
     },
     "execution_count": 51,
     "metadata": {},
     "output_type": "execute_result"
    }
   ],
   "source": [
    "cs.tail()"
   ]
  },
  {
   "cell_type": "code",
   "execution_count": 231,
   "id": "83ccfc0f-72bb-4f46-a738-ba74dc1e0810",
   "metadata": {},
   "outputs": [],
   "source": [
    "# cs = pd.read_csv(\"case_time_series.csv\")"
   ]
  },
  {
   "cell_type": "code",
   "execution_count": 52,
   "id": "d3dc90fd-c1c0-4cbf-b2f2-e7dd1ca4accb",
   "metadata": {},
   "outputs": [],
   "source": [
    "# states_df = pd.read_csv(\"states.csv\")"
   ]
  },
  {
   "cell_type": "markdown",
   "id": "3d01a079-6eed-4840-9a88-6b1acc2c38ca",
   "metadata": {},
   "source": [
    "# Remenber to read CS and states"
   ]
  },
  {
   "cell_type": "code",
   "execution_count": 53,
   "id": "3b30ff9d-ad31-4369-a3aa-d125b2c4f777",
   "metadata": {},
   "outputs": [],
   "source": [
    "# from datetime import datetime, timedelta\n",
    "# lst = [\"Confirmed\",\"Recovered\",\"Deceased\"]\n",
    "# for val in lst:\n",
    "#     value = 0\n",
    "#     for i in range(7):\n",
    "#         if i == 0:\n",
    "#             value = TT_df[\"cumulative{}NumberForState\".format(val)]\n",
    "#         else:\n",
    "#             prev_date=datetime.strptime(\"2021-10-31\",\"%Y-%m-%d\")+timedelta(days=(-1*i))\n",
    "#             ind = cs[cs['Date_YMD']==str(prev_date.date())].index[0]\n",
    "#             value =+ cs[\"Total {}\".format(val)][ind]\n",
    "#     TT_df[\"7Dma{}ForState\".format(val)] = value/7"
   ]
  },
  {
   "cell_type": "code",
   "execution_count": 54,
   "id": "de163a63-3e3d-482b-b892-45cb08fc53df",
   "metadata": {},
   "outputs": [],
   "source": [
    "# import urllib.request, json \n",
    "# va1 = 0\n",
    "# va2 = 0\n",
    "# va = 0\n",
    "# for i in range(7):\n",
    "#     prev_date=datetime.strptime(\"2021-10-31\",\"%Y-%m-%d\")+timedelta(days=(-1*i))\n",
    "#     with urllib.request.urlopen(\"https://api.cowin.gov.in/api/v1/reports/v2/getPublicReports?date=\"+str(prev_date.date())) as url:\n",
    "#         data = json.loads(url.read().decode())\n",
    "#         va1 += data[\"topBlock\"][\"vaccination\"][\"tot_dose_1\"]\n",
    "#         va2 += data[\"topBlock\"][\"vaccination\"][\"tot_dose_2\"]\n",
    "#         va += data[\"topBlock\"][\"vaccination\"][\"total_doses\"]\n"
   ]
  },
  {
   "cell_type": "code",
   "execution_count": 55,
   "id": "b0fe59c2-e12f-4427-a6ea-7a4dfb8e45ff",
   "metadata": {},
   "outputs": [],
   "source": [
    "# TT_df[\"7DmaVaccinated1ForState\"] = va1\n",
    "# TT_df[\"7DmaVaccinated2ForState\"] = va2\n",
    "# TT_df[\"7DmaVaccinatedForState\"] = va"
   ]
  },
  {
   "cell_type": "code",
   "execution_count": 56,
   "id": "55144170-f1b3-40e2-b23e-91f6e13e0564",
   "metadata": {},
   "outputs": [],
   "source": [
    "# 7dma District"
   ]
  },
  {
   "cell_type": "code",
   "execution_count": 57,
   "id": "16557304-89e8-43a9-b805-d6a8e6ea3885",
   "metadata": {},
   "outputs": [],
   "source": [
    "# lst = [\"Confirmed\",\"Recovered\",\"Deceased\"]\n",
    "# for val in lst:\n",
    "#     value = 0\n",
    "#     for idx in TT_df.index:\n",
    "#         for i in range(7):\n",
    "#             if i == 0:\n",
    "#                 value = int(TT_df[\"cumulative{}NumberForDistrict\".format(val)][0])\n",
    "#             else:\n",
    "#                 prev_date=datetime.strptime(\"2021-10-31\",\"%Y-%m-%d\")+timedelta(days=(-1*i))\n",
    "#                 value += int(states_df[(states_df[\"State\"] == TT_df[\"District\"][idx]) & (states_df[\"Date\"] == str(prev_date.date()))]['{}'.format(val)].item())\n",
    "#     TT_df[\"7Dma{}ForDistrict\".format(val)] = value/7          "
   ]
  },
  {
   "cell_type": "code",
   "execution_count": 58,
   "id": "5d317871-5b50-4d9b-9fda-3641f802bd11",
   "metadata": {},
   "outputs": [],
   "source": [
    "# cowin = pd.read_csv(\"cowin_vaccine_data_statewise.csv\")"
   ]
  },
  {
   "cell_type": "code",
   "execution_count": 59,
   "id": "9dc5c3e8-6df7-4490-9f9a-1f35d0308410",
   "metadata": {},
   "outputs": [],
   "source": [
    "# va1 = 0\n",
    "# va2 = 0\n",
    "# va = 0\n",
    "# TT_df[\"7DmaVaccinatedForDistrict\"] = 0\n",
    "# TT_df[\"7DmaVaccinated1ForDistrict\"] = 0\n",
    "# TT_df[\"7DmaVaccinated2ForDistrict\"] = 0\n",
    "# for idx in TT_df.index:\n",
    "#     for i in range(7):\n",
    "#         if i == 0:\n",
    "#             va = int(TT_df[\"cumulativeVaccinatedNumberForDistrict\"][idx])\n",
    "#             va1 = int(TT_df[\"cumulativeVaccinated1NumberForDistrict\"][idx])\n",
    "#             va2 = int(TT_df[\"cumulativeVaccinated2NumberForDistrict\"][idx])\n",
    "#         else:\n",
    "#             prev_date=datetime.strptime(\"2021/10/31\",\"%Y/%m/%d\")+timedelta(days=(-1*i))\n",
    "#             va += int(cowin[(cowin[\"Updated On\"] ==  prev_date.strftime('%d/%m/%Y')) & (cowin[\"State\"] == TT_df[\"District\"][idx])][\"Total Doses Administered\"].item())\n",
    "#             va1 += int(cowin[(cowin[\"Updated On\"] ==  prev_date.strftime('%d/%m/%Y')) & (cowin[\"State\"] == TT_df[\"District\"][idx])][\"First Dose Administered\"].item())\n",
    "#             va2 += int(cowin[(cowin[\"Updated On\"] ==  prev_date.strftime('%d/%m/%Y')) & (cowin[\"State\"] == TT_df[\"District\"][idx])][\"Second Dose Administered\"].item())\n",
    "# TT_df[\"7DmaVaccinatedForDistrict\"][idx] = va/7\n",
    "# TT_df[\"7DmaVaccinated1ForDistrict\"][idx] = va1/7\n",
    "# TT_df[\"7DmaVaccinated2ForDistrict\"][idx] = va2/7"
   ]
  },
  {
   "cell_type": "code",
   "execution_count": 60,
   "id": "e5a38965-912f-437e-b807-6716f6ce2471",
   "metadata": {},
   "outputs": [],
   "source": [
    "TT_df[\"7DmaTestedForState\"] = None\n",
    "TT_df[\"delta21_14confirmedForState\"] = None"
   ]
  },
  {
   "cell_type": "code",
   "execution_count": 61,
   "id": "66a730c2-dcfa-419f-88ed-25ee8bcb8d88",
   "metadata": {},
   "outputs": [],
   "source": [
    "population = pd.read_csv(\"../CSV/StatePopulation.csv\")"
   ]
  },
  {
   "cell_type": "code",
   "execution_count": 62,
   "id": "035dc0bf-b0cd-484e-b019-553d99d0139e",
   "metadata": {},
   "outputs": [],
   "source": [
    "sources = pd.read_csv(\"../sources.csv\")"
   ]
  },
  {
   "cell_type": "code",
   "execution_count": 63,
   "id": "398aefc6-cceb-48b8-bf9e-28e8ddaa2c07",
   "metadata": {},
   "outputs": [],
   "source": [
    "population = population.merge(sources,how=\"left\",left_on = \"State\", right_on = \"StateCode\")"
   ]
  },
  {
   "cell_type": "code",
   "execution_count": 64,
   "id": "db6b6da7-0ddd-441a-bde3-79bb83e22de9",
   "metadata": {},
   "outputs": [],
   "source": [
    "# population"
   ]
  },
  {
   "cell_type": "code",
   "execution_count": 65,
   "id": "1c7668a8-946b-491f-91dd-a366247298af",
   "metadata": {},
   "outputs": [],
   "source": [
    "# population[[\"StateName\",\"StatePop\"]]"
   ]
  },
  {
   "cell_type": "code",
   "execution_count": 66,
   "id": "dfb73898-f154-4419-8715-91bac110bc1f",
   "metadata": {},
   "outputs": [],
   "source": [
    "TT_df[\"statePopulation\"] = population[population[\"StateName\"] == \"India\"][\"StatePop\"].item()"
   ]
  },
  {
   "cell_type": "code",
   "execution_count": 67,
   "id": "b574ca0d-025c-4789-bf75-2ebb8bc3a7e7",
   "metadata": {},
   "outputs": [],
   "source": [
    "# TT_df"
   ]
  },
  {
   "cell_type": "code",
   "execution_count": 68,
   "id": "2ac62a7a-010a-458a-bff8-c8fc93c6cf83",
   "metadata": {},
   "outputs": [],
   "source": [
    "TT_df = TT_df.merge(population[[\"StateName\",\"StatePop\"]],how=\"left\",left_on = \"District\", right_on = \"StateName\")"
   ]
  },
  {
   "cell_type": "code",
   "execution_count": 69,
   "id": "3ae9ae2e-2fd0-40f8-a580-8e6deef04710",
   "metadata": {},
   "outputs": [],
   "source": [
    "TT_df = TT_df.rename(columns={\"StatePop\":\"districtPopulation\"})"
   ]
  },
  {
   "cell_type": "code",
   "execution_count": 70,
   "id": "878458d3-55ff-4204-94fb-b6d192c728af",
   "metadata": {},
   "outputs": [
    {
     "data": {
      "text/plain": [
       "datetime.date(2022, 1, 31)"
      ]
     },
     "execution_count": 70,
     "metadata": {},
     "output_type": "execute_result"
    }
   ],
   "source": [
    "today"
   ]
  },
  {
   "cell_type": "code",
   "execution_count": 71,
   "id": "988362c5-cb1b-42ac-b177-cc30ad0515b6",
   "metadata": {},
   "outputs": [],
   "source": [
    "TT_df[\"Date\"] = str(today)"
   ]
  },
  {
   "cell_type": "code",
   "execution_count": 72,
   "id": "ae2da421-9f84-40ce-a822-a8b7ea2c8d1d",
   "metadata": {},
   "outputs": [],
   "source": [
    "TT_df.to_csv('../RAWCSV/'+str(today)+'/TT_final.csv')"
   ]
  },
  {
   "cell_type": "code",
   "execution_count": 73,
   "id": "91e33424-837a-43d2-8488-abd17ca7a545",
   "metadata": {},
   "outputs": [],
   "source": [
    "TT_df.to_csv('../RAWCSV/'+str(today)+'/TT_final-'+str(today)+'.csv')"
   ]
  },
  {
   "cell_type": "code",
   "execution_count": 74,
   "id": "79c67c36-d21a-4ee5-8958-efdae5295d66",
   "metadata": {},
   "outputs": [],
   "source": [
    "TT_df[\"Date\"] = str(pDate)"
   ]
  },
  {
   "cell_type": "code",
   "execution_count": 75,
   "id": "b63a00f2-8911-45b5-9613-bc910651337c",
   "metadata": {},
   "outputs": [],
   "source": [
    "TT_df.to_csv('../RAWCSV/'+str(pDate)+'/TT_final.csv')"
   ]
  },
  {
   "cell_type": "markdown",
   "id": "f9a4b699-ac65-49ad-a5a0-8f46287230c3",
   "metadata": {},
   "source": [
    "# Stop Here"
   ]
  }
 ],
 "metadata": {
  "kernelspec": {
   "display_name": "Python 3",
   "language": "python",
   "name": "python3"
  },
  "language_info": {
   "codemirror_mode": {
    "name": "ipython",
    "version": 3
   },
   "file_extension": ".py",
   "mimetype": "text/x-python",
   "name": "python",
   "nbconvert_exporter": "python",
   "pygments_lexer": "ipython3",
   "version": "3.6.9"
  }
 },
 "nbformat": 4,
 "nbformat_minor": 5
}
