{
 "cells": [
  {
   "cell_type": "code",
   "execution_count": 321,
   "id": "b36571fd-096d-4543-8e51-5e9690324fe2",
   "metadata": {},
   "outputs": [],
   "source": [
    "import pandas as pd\n",
    "from bs4 import BeautifulSoup\n",
    "import urllib.request\n",
    "from StatusMsg import StatusMsg\n",
    "import json\n",
    "import os\n",
    "import io\n",
    "import datetime"
   ]
  },
  {
   "cell_type": "code",
   "execution_count": 324,
   "id": "9a9b537b-eb58-45df-b7fa-665d550024a1",
   "metadata": {},
   "outputs": [],
   "source": [
    "def india(state):\n",
    "    URL = \"https://www.mygov.in/corona-data/covid19-statewise-status/\"\n",
    "    file_name, headers = urllib.request.urlretrieve(URL)\n",
    "    soup = BeautifulSoup(open(file_name, encoding=\"utf8\"), \"html.parser\")\n",
    "\n",
    "    sum_URL = \"https://www.mygov.in/covid-19\"\n",
    "    sum_file_name, sum_headers = urllib.request.urlretrieve(sum_URL)\n",
    "    sum_soup = BeautifulSoup(open(sum_file_name, encoding=\"utf8\"), \"html.parser\")\n",
    "\n",
    "    STATES = soup.find_all(\"div\", {\"class\": \"field field-name-field-select-state field-type-list-text field-label-above\"})\n",
    "    CONFIRMED = soup.find_all(\"div\", {\"class\": \"field field-name-field-total-confirmed-indians field-type-number-integer field-label-above\"})\n",
    "    CURED_DISCHARGED = soup.find_all(\"div\", {\"class\": \"field field-name-field-cured field-type-number-integer field-label-above\"})\n",
    "    DEATH = soup.find_all(\"div\", {\"class\": \"field field-name-field-deaths field-type-number-integer field-label-above\"})\n",
    "\n",
    "    states = []\n",
    "    for val in STATES:\n",
    "        states.append(str(val.getText()).split(\":\")[1].lstrip().replace(\"Telengana\", \"Telangana\").replace('Andaman And Nicobar', 'Andaman and Nicobar Islands').replace('Andaman and Nicobar','Andaman and Nicobar Islands'))\n",
    "\n",
    "    confirmed = []\n",
    "    for val in CONFIRMED:\n",
    "        confirmed.append(str(val.getText()).split(\":\")[1].lstrip())\n",
    "\n",
    "    cured = []\n",
    "    for val in CURED_DISCHARGED:\n",
    "        cured.append(str(val.getText()).split(\":\")[1].lstrip())\n",
    "\n",
    "    death = []\n",
    "    for val in DEATH:\n",
    "        death.append(str(val.getText()).split(\":\")[1].lstrip())\n",
    "\n",
    "    states_data = pd.DataFrame(list(zip(states, confirmed, cured, death)))\n",
    "\n",
    "    final_df_col = [\n",
    "        'Date', 'State/UTCode', 'District', 'tested_last_updated_district', 'tested_source_district',\n",
    "        'notesForDistrict', 'cumulativeConfirmedNumberForDistrict', 'cumulativeDeceasedNumberForDistrict',\n",
    "        'cumulativeRecoveredNumberForDistrict', 'cumulativeTestedNumberForDistrict',\n",
    "        'cumulativeVaccinatedNumberForDistrict', 'last_updated', 'tested_last_updated_state', 'tested_source_state',\n",
    "        'notesForState', 'cumulativeConfirmedNumberForState', 'cumulativeDeceasedNumberForState',\n",
    "        'cumulativeRecoveredNumberForState', 'cumulativeTestedNumberForState', 'cumulativeVaccinatedNumberForState'\n",
    "    ]\n",
    "\n",
    "    states_data = states_data.rename(\n",
    "        columns={0: \"District\", 1: \"cumulativeConfirmedNumberForDistrict\", 2: \"cumulativeRecoveredNumberForDistrict\",\n",
    "                 3: \"cumulativeDeceasedNumberForDistrict\"})\n",
    "\n",
    "    states_data[\"Date\"] = str(datetime.datetime.now().date())\n",
    "\n",
    "    states_data[\"State/UTCode\"] = state\n",
    "\n",
    "    states_data['cumulativeConfirmedNumberForState'] = int(\n",
    "        sum_soup.findAll(\"div\", {\"class\": \"t_case\"})[0].findAll(\"span\", {\"class\": \"icount\"})[0].getText().replace(\n",
    "            \",\", \"\"))\n",
    "\n",
    "    states_data['cumulativeDeceasedNumberForState'] = int(\n",
    "        sum_soup.findAll(\"div\", {\"class\": \"death_case\"})[0].findAll(\"span\", {\"class\": \"icount\"})[0].getText().replace(\n",
    "            \",\", \"\"))\n",
    "\n",
    "    states_data['cumulativeRecoveredNumberForState'] = int(\n",
    "        sum_soup.findAll(\"div\", {\"class\": \"discharge\"})[0].findAll(\"span\", {\"class\": \"icount\"})[0].getText().replace(\n",
    "            \",\", \"\"))\n",
    "\n",
    "    states_data[\"last_updated\"] = str(datetime.datetime.now())\n",
    "\n",
    "    states_data['cumulativeTestedNumberForState'] = int(\n",
    "        sum_soup.findAll(\"div\", {\"class\": \"testing_result\"})[0].findAll(\"strong\")[0].getText().replace(\",\", \"\"))\n",
    "    \n",
    "    \n",
    "    states_data['tested_last_updated_state'] = sum_soup.findAll(\n",
    "        \"div\", {\"class\": \"test_title\"})[0].getText().strip().split(\"up to \")[-1]\n",
    "    \n",
    "    states_data['deltaTestedForState'] = int(\n",
    "        sum_soup.findAll(\"div\", {\"class\": \"testing_sample\"})[0].findAll(\"strong\")[0].getText().replace(\",\", \"\"))\n",
    "    \n",
    "    for vcount in sum_soup.findAll(\"div\", {\"class\": \"total-vcount\"}):\n",
    "        if 'yday' not in vcount.attrs['class']:\n",
    "            states_data['cumulativeVaccinatedNumberForState'] = int(vcount.findAll(\"strong\")[0].getText().replace(\",\", \"\"))\n",
    "\n",
    "    # states_data = states_data.reindex(columns=final_df_col)\n",
    "    return states_data"
   ]
  },
  {
   "cell_type": "code",
   "execution_count": 325,
   "id": "ec3ead84-9019-4ad5-a270-2d164119e202",
   "metadata": {},
   "outputs": [],
   "source": [
    "TT_df = india(\"TT\")"
   ]
  },
  {
   "cell_type": "code",
   "execution_count": 326,
   "id": "e4beadad-89f0-4487-b180-b3b7dcfe9fb1",
   "metadata": {},
   "outputs": [],
   "source": [
    "import urllib.request, json \n",
    "with urllib.request.urlopen(\"https://api.cowin.gov.in/api/v1/reports/v2/getPublicReports?\") as url:\n",
    "    data = json.loads(url.read().decode())"
   ]
  },
  {
   "cell_type": "code",
   "execution_count": 327,
   "id": "64a42bff-6d2e-44bc-9f19-d34eb94835be",
   "metadata": {},
   "outputs": [],
   "source": [
    "TT_df[\"cumulativeVaccinated1NumberForState\"] = data[\"topBlock\"][\"vaccination\"][\"tot_dose_1\"]\n",
    "TT_df[\"cumulativeVaccinated2NumberForState\"] = data[\"topBlock\"][\"vaccination\"][\"tot_dose_2\"]\n",
    "TT_df[\"cumulativeVaccinatedNumberForState\"] = data[\"topBlock\"][\"vaccination\"][\"total_doses\"]"
   ]
  },
  {
   "cell_type": "code",
   "execution_count": 328,
   "id": "3ebd5932-8706-42d5-858d-2caf9affdd5a",
   "metadata": {},
   "outputs": [],
   "source": [
    "states = []\n",
    "vaccinated = []\n",
    "vaccinated1 = []\n",
    "vaccinated2 = []\n",
    "for sta in data['getBeneficiariesGroupBy']:\n",
    "    if (sta['title'].lower() == \"dadra and nagar haveli\") or (sta['title'].lower() == \"daman and diu\"):\n",
    "        states.append('Dadra and Nagar Haveli and Daman and Diu')\n",
    "    else:\n",
    "        states.append(sta['title'])\n",
    "    vaccinated.append(sta['total'])\n",
    "    vaccinated1.append(sta['partial_vaccinated'])\n",
    "    vaccinated2.append(sta['totally_vaccinated'])"
   ]
  },
  {
   "cell_type": "code",
   "execution_count": 329,
   "id": "818d3f38-2105-423c-a38e-9506dc3ef065",
   "metadata": {},
   "outputs": [],
   "source": [
    "VAC_df = pd.DataFrame(list(zip(states,vaccinated,vaccinated1,vaccinated2))).groupby(0, as_index=False).sum()"
   ]
  },
  {
   "cell_type": "code",
   "execution_count": 330,
   "id": "060872a3-0bc5-4b56-bada-b577c235fd50",
   "metadata": {},
   "outputs": [],
   "source": [
    "VAC_df = VAC_df.rename(columns={0:\"District\",1:\"cumulativeVaccinatedNumberForDistrict\",2:\"cumulativeVaccinated1NumberForDistrict\",3:\"cumulativeVaccinated2NumberForDistrict\",})"
   ]
  },
  {
   "cell_type": "code",
   "execution_count": 331,
   "id": "4548275c-85fe-4578-b16d-9c6ffcfa18c2",
   "metadata": {},
   "outputs": [],
   "source": [
    "TT_df = TT_df.merge(VAC_df,how=\"left\",on=\"District\")"
   ]
  },
  {
   "cell_type": "code",
   "execution_count": 332,
   "id": "91c77a7e-769d-417f-a542-be3a269c7539",
   "metadata": {},
   "outputs": [],
   "source": [
    "TT_df[\"tested_source_state\"] = \"https://www.icmr.gov.in/\""
   ]
  },
  {
   "cell_type": "code",
   "execution_count": 303,
   "id": "d9346907-5506-4be6-b741-838d2d9bf97a",
   "metadata": {},
   "outputs": [],
   "source": [
    "TT_df.to_csv(\"TT_test.csv\")"
   ]
  },
  {
   "cell_type": "code",
   "execution_count": 333,
   "id": "95b24f03-1941-48c3-9349-bb6ee61d1e87",
   "metadata": {},
   "outputs": [],
   "source": [
    "TT_df[\"tested_last_updated_state\"] = str(datetime.datetime.strptime(TT_df[\"tested_last_updated_state\"][0] , '%b %d, %Y'))"
   ]
  },
  {
   "cell_type": "markdown",
   "id": "119c3a29-887d-4413-bb26-5b9ca44418d5",
   "metadata": {},
   "source": [
    "# Generate TT_final"
   ]
  },
  {
   "cell_type": "code",
   "execution_count": 334,
   "id": "83bc0414-a808-4626-8e23-88dedc1c638e",
   "metadata": {},
   "outputs": [],
   "source": [
    "cs = pd.read_csv(\"case_time_series.csv\")"
   ]
  },
  {
   "cell_type": "code",
   "execution_count": 335,
   "id": "a6e33cc1-76aa-4f42-90f5-4b11866bf70f",
   "metadata": {},
   "outputs": [
    {
     "data": {
      "text/plain": [
       "Index(['Date', 'Date_YMD', 'Daily Confirmed', 'Total Confirmed',\n",
       "       'Daily Recovered', 'Total Recovered', 'Daily Deceased',\n",
       "       'Total Deceased'],\n",
       "      dtype='object')"
      ]
     },
     "execution_count": 335,
     "metadata": {},
     "output_type": "execute_result"
    }
   ],
   "source": [
    "cs.columns"
   ]
  },
  {
   "cell_type": "code",
   "execution_count": 336,
   "id": "85c36201-8d8a-4267-90af-68c0b3246709",
   "metadata": {},
   "outputs": [
    {
     "data": {
      "text/html": [
       "<div>\n",
       "<style scoped>\n",
       "    .dataframe tbody tr th:only-of-type {\n",
       "        vertical-align: middle;\n",
       "    }\n",
       "\n",
       "    .dataframe tbody tr th {\n",
       "        vertical-align: top;\n",
       "    }\n",
       "\n",
       "    .dataframe thead th {\n",
       "        text-align: right;\n",
       "    }\n",
       "</style>\n",
       "<table border=\"1\" class=\"dataframe\">\n",
       "  <thead>\n",
       "    <tr style=\"text-align: right;\">\n",
       "      <th></th>\n",
       "      <th>Date</th>\n",
       "      <th>Date_YMD</th>\n",
       "      <th>Daily Confirmed</th>\n",
       "      <th>Total Confirmed</th>\n",
       "      <th>Daily Recovered</th>\n",
       "      <th>Total Recovered</th>\n",
       "      <th>Daily Deceased</th>\n",
       "      <th>Total Deceased</th>\n",
       "    </tr>\n",
       "  </thead>\n",
       "  <tbody>\n",
       "    <tr>\n",
       "      <th>636</th>\n",
       "      <td>27 October 2021</td>\n",
       "      <td>2021-10-27</td>\n",
       "      <td>16351</td>\n",
       "      <td>34231030</td>\n",
       "      <td>17077</td>\n",
       "      <td>33606620</td>\n",
       "      <td>734</td>\n",
       "      <td>455828</td>\n",
       "    </tr>\n",
       "    <tr>\n",
       "      <th>637</th>\n",
       "      <td>28 October 2021</td>\n",
       "      <td>2021-10-28</td>\n",
       "      <td>14307</td>\n",
       "      <td>34245337</td>\n",
       "      <td>13189</td>\n",
       "      <td>33619809</td>\n",
       "      <td>805</td>\n",
       "      <td>456633</td>\n",
       "    </tr>\n",
       "    <tr>\n",
       "      <th>638</th>\n",
       "      <td>29 October 2021</td>\n",
       "      <td>2021-10-29</td>\n",
       "      <td>14215</td>\n",
       "      <td>34259552</td>\n",
       "      <td>13549</td>\n",
       "      <td>33633358</td>\n",
       "      <td>551</td>\n",
       "      <td>457184</td>\n",
       "    </tr>\n",
       "    <tr>\n",
       "      <th>639</th>\n",
       "      <td>30 October 2021</td>\n",
       "      <td>2021-10-30</td>\n",
       "      <td>12940</td>\n",
       "      <td>34272492</td>\n",
       "      <td>14672</td>\n",
       "      <td>33648030</td>\n",
       "      <td>445</td>\n",
       "      <td>457629</td>\n",
       "    </tr>\n",
       "    <tr>\n",
       "      <th>640</th>\n",
       "      <td>31 October 2021</td>\n",
       "      <td>2021-10-31</td>\n",
       "      <td>12907</td>\n",
       "      <td>34285399</td>\n",
       "      <td>13152</td>\n",
       "      <td>33661182</td>\n",
       "      <td>251</td>\n",
       "      <td>457880</td>\n",
       "    </tr>\n",
       "  </tbody>\n",
       "</table>\n",
       "</div>"
      ],
      "text/plain": [
       "                Date    Date_YMD  Daily Confirmed  Total Confirmed  \\\n",
       "636  27 October 2021  2021-10-27            16351         34231030   \n",
       "637  28 October 2021  2021-10-28            14307         34245337   \n",
       "638  29 October 2021  2021-10-29            14215         34259552   \n",
       "639  30 October 2021  2021-10-30            12940         34272492   \n",
       "640  31 October 2021  2021-10-31            12907         34285399   \n",
       "\n",
       "     Daily Recovered  Total Recovered  Daily Deceased  Total Deceased  \n",
       "636            17077         33606620             734          455828  \n",
       "637            13189         33619809             805          456633  \n",
       "638            13549         33633358             551          457184  \n",
       "639            14672         33648030             445          457629  \n",
       "640            13152         33661182             251          457880  "
      ]
     },
     "execution_count": 336,
     "metadata": {},
     "output_type": "execute_result"
    }
   ],
   "source": [
    "cs.tail()"
   ]
  },
  {
   "cell_type": "code",
   "execution_count": 337,
   "id": "c618b502-aff9-4c7b-8d13-6eea15c2d837",
   "metadata": {},
   "outputs": [],
   "source": [
    "import timedelta\n",
    "delta_date = str((datetime.datetime.now() - timedelta.Timedelta(days=1)).date())"
   ]
  },
  {
   "cell_type": "code",
   "execution_count": 338,
   "id": "6040efca-eca4-4289-ad53-f20c03f350b3",
   "metadata": {},
   "outputs": [],
   "source": [
    "ind = cs[cs['Date_YMD']==delta_date].index[0]"
   ]
  },
  {
   "cell_type": "code",
   "execution_count": 339,
   "id": "1b7b8b7c-fd72-4e6e-b780-832c1e547596",
   "metadata": {},
   "outputs": [],
   "source": [
    "TT_df[\"deltaConfirmedForState\"] = TT_df[\"cumulativeConfirmedNumberForState\"] - cs[\"Total Confirmed\"][ind]\n",
    "TT_df[\"deltaDeceasedForState\"] = TT_df[\"cumulativeDeceasedNumberForState\"] - cs[\"Total Deceased\"][ind]\n",
    "TT_df[\"deltaRecoveredForState\"] = TT_df[\"cumulativeRecoveredNumberForState\"] - cs[\"Total Recovered\"][ind]"
   ]
  },
  {
   "cell_type": "code",
   "execution_count": 340,
   "id": "2f6366ba-24c4-4d98-853c-52296544df12",
   "metadata": {},
   "outputs": [],
   "source": [
    "import urllib.request, json \n",
    "with urllib.request.urlopen(\"https://api.cowin.gov.in/api/v1/reports/v2/getPublicReports?date=\"+delta_date) as url:\n",
    "    data = json.loads(url.read().decode())"
   ]
  },
  {
   "cell_type": "code",
   "execution_count": 341,
   "id": "086ff5d2-0854-4c56-bd59-18a072d8cc12",
   "metadata": {},
   "outputs": [],
   "source": [
    "# TT_df[\"cumulativeVaccinated1NumberForState\"] = data[\"topBlock\"][\"vaccination\"][\"tot_dose_1\"]\n",
    "# TT_df[\"cumulativeVaccinated2NumberForState\"] = data[\"topBlock\"][\"vaccination\"][\"tot_dose_2\"]\n",
    "# TT_df[\"cumulativeVaccinatedNumberForState\"] = data[\"topBlock\"][\"vaccination\"][\"total_doses\"]"
   ]
  },
  {
   "cell_type": "code",
   "execution_count": 342,
   "id": "7b30260a-b121-4e0e-acf4-f6cd1f310386",
   "metadata": {},
   "outputs": [],
   "source": [
    "TT_df[\"deltaVaccinated2ForState\"] = TT_df[\"cumulativeVaccinated2NumberForState\"] - data[\"topBlock\"][\"vaccination\"][\"tot_dose_2\"]\n",
    "TT_df[\"deltaVaccinated1ForState\"] = TT_df[\"cumulativeVaccinatedNumberForState\"] - data[\"topBlock\"][\"vaccination\"][\"tot_dose_1\"]\n",
    "TT_df[\"deltaVaccinatedForState\"] = TT_df[\"cumulativeVaccinatedNumberForState\"] - data[\"topBlock\"][\"vaccination\"][\"total_doses\"]"
   ]
  },
  {
   "cell_type": "code",
   "execution_count": 343,
   "id": "9b9bb496-ca6b-4c94-b5ac-2869131b32e5",
   "metadata": {},
   "outputs": [],
   "source": [
    "states = []\n",
    "vaccinated = []\n",
    "vaccinated1 = []\n",
    "vaccinated2 = []\n",
    "for sta in data['getBeneficiariesGroupBy']:\n",
    "    if (sta['title'].lower() == \"dadra and nagar haveli\") or (sta['title'].lower() == \"daman and diu\"):\n",
    "        states.append('Dadra and Nagar Haveli and Daman and Diu')\n",
    "    else:\n",
    "        states.append(sta['title'])\n",
    "    vaccinated.append(sta['total'])\n",
    "    vaccinated1.append(sta['partial_vaccinated'])\n",
    "    vaccinated2.append(sta['totally_vaccinated'])"
   ]
  },
  {
   "cell_type": "code",
   "execution_count": 344,
   "id": "e369db44-5a3b-44a0-8bb0-5854dcbd4613",
   "metadata": {},
   "outputs": [],
   "source": [
    "prevdayVACC_df = pd.DataFrame(list(zip(states,vaccinated,vaccinated1,vaccinated2))).groupby(0, as_index=False).sum()"
   ]
  },
  {
   "cell_type": "code",
   "execution_count": 345,
   "id": "cccd4309-3395-4382-8ee9-367891b251ce",
   "metadata": {},
   "outputs": [],
   "source": [
    "prevdayVACC_df = prevdayVACC_df.rename(columns={0:\"District\",1:\"cumulativeVaccinatedNumberForDistrict\",2:\"cumulativeVaccinated1NumberForDistrict\",3:\"cumulativeVaccinated2NumberForDistrict\",})"
   ]
  },
  {
   "cell_type": "code",
   "execution_count": 346,
   "id": "a8725760-80e8-4139-90b3-163dda394497",
   "metadata": {},
   "outputs": [
    {
     "name": "stderr",
     "output_type": "stream",
     "text": [
      "/home/swiadmin/Incovid19/incovid19/env/lib/python3.6/site-packages/ipykernel_launcher.py:5: SettingWithCopyWarning: \n",
      "A value is trying to be set on a copy of a slice from a DataFrame\n",
      "\n",
      "See the caveats in the documentation: https://pandas.pydata.org/pandas-docs/stable/user_guide/indexing.html#returning-a-view-versus-a-copy\n",
      "  \"\"\"\n"
     ]
    }
   ],
   "source": [
    "lst = [\"Vaccinated1\",\"Vaccinated2\",\"Vaccinated\"]\n",
    "for val in lst:\n",
    "    TT_df[\"delta{}ForDistrict\".format(val)] = None\n",
    "    for idx in TT_df.index:\n",
    "        TT_df[\"delta{}ForDistrict\".format(val)][idx] = TT_df[\"cumulative{}NumberForDistrict\".format(val)][idx] - prevdayVACC_df[prevdayVACC_df[\"District\"] == TT_df[\"District\"][idx]][\"cumulative{}NumberForDistrict\".format(val)].item()"
   ]
  },
  {
   "cell_type": "code",
   "execution_count": 347,
   "id": "c51071da-cfa0-4b07-aea0-89f6595c4e02",
   "metadata": {},
   "outputs": [],
   "source": [
    "states_df = pd.read_csv(\"states.csv\")"
   ]
  },
  {
   "cell_type": "code",
   "execution_count": 348,
   "id": "77ee9041-1e02-437d-83c1-e805b81e4307",
   "metadata": {},
   "outputs": [
    {
     "name": "stderr",
     "output_type": "stream",
     "text": [
      "/home/swiadmin/Incovid19/incovid19/env/lib/python3.6/site-packages/ipykernel_launcher.py:8: SettingWithCopyWarning: \n",
      "A value is trying to be set on a copy of a slice from a DataFrame\n",
      "\n",
      "See the caveats in the documentation: https://pandas.pydata.org/pandas-docs/stable/user_guide/indexing.html#returning-a-view-versus-a-copy\n",
      "  \n"
     ]
    }
   ],
   "source": [
    "# deltaConfirmedForDistrict\",\n",
    "#                  \"deltaDeceasedForDistrict\",\n",
    "#                  \"deltaRecoveredForDistrict\",\n",
    "lst = [\"Confirmed\",\"Recovered\",\"Deceased\"]\n",
    "for val in lst:\n",
    "    TT_df[\"delta{}ForDistrict\".format(val)] = None\n",
    "    for idx in TT_df.index:\n",
    "        TT_df[\"delta{}ForDistrict\".format(val)][idx] = int(TT_df[\"cumulative{}NumberForDistrict\".format(val)][idx]) - int(states_df[(states_df[\"State\"] == TT_df[\"District\"][idx]) & (states_df[\"Date\"] == delta_date)][\"{}\".format(val)].item())"
   ]
  },
  {
   "cell_type": "code",
   "execution_count": 349,
   "id": "17d41187-1d6b-421b-aca3-0e555a0c1f27",
   "metadata": {},
   "outputs": [
    {
     "name": "stderr",
     "output_type": "stream",
     "text": [
      "/home/swiadmin/Incovid19/incovid19/env/lib/python3.6/site-packages/ipykernel_launcher.py:5: SettingWithCopyWarning: \n",
      "A value is trying to be set on a copy of a slice from a DataFrame\n",
      "\n",
      "See the caveats in the documentation: https://pandas.pydata.org/pandas-docs/stable/user_guide/indexing.html#returning-a-view-versus-a-copy\n",
      "  \"\"\"\n"
     ]
    }
   ],
   "source": [
    "lst = [\"Vaccinated1\",\"Vaccinated2\",\"Vaccinated\"]\n",
    "for val in lst:\n",
    "    TT_df[\"delta{}ForDistrict\".format(val)] = None\n",
    "    for idx in TT_df.index:\n",
    "        TT_df[\"delta{}ForDistrict\".format(val)][idx] = TT_df[\"cumulative{}NumberForDistrict\".format(val)][idx] - prevdayVACC_df[prevdayVACC_df[\"District\"] == TT_df[\"District\"][idx]][\"cumulative{}NumberForDistrict\".format(val)].item()"
   ]
  },
  {
   "cell_type": "code",
   "execution_count": 350,
   "id": "bbb857a6-9436-4b4d-a921-ccb80e32732b",
   "metadata": {},
   "outputs": [],
   "source": [
    "# TT_df 7dma Cummulative"
   ]
  },
  {
   "cell_type": "code",
   "execution_count": 351,
   "id": "3b30ff9d-ad31-4369-a3aa-d125b2c4f777",
   "metadata": {},
   "outputs": [],
   "source": [
    "from datetime import datetime, timedelta\n",
    "lst = [\"Confirmed\",\"Recovered\",\"Deceased\"]\n",
    "for val in lst:\n",
    "    value = 0\n",
    "    for i in range(7):\n",
    "        if i == 0:\n",
    "            value = TT_df[\"cumulative{}NumberForState\".format(val)]\n",
    "        else:\n",
    "            prev_date=datetime.strptime(\"2021-11-01\",\"%Y-%m-%d\")+timedelta(days=(-1*i))\n",
    "            ind = cs[cs['Date_YMD']==str(prev_date.date())].index[0]\n",
    "            value =+ cs[\"Total {}\".format(val)][ind]\n",
    "    TT_df[\"7Dma{}ForState\".format(val)] = value/7"
   ]
  },
  {
   "cell_type": "code",
   "execution_count": 352,
   "id": "de163a63-3e3d-482b-b892-45cb08fc53df",
   "metadata": {},
   "outputs": [],
   "source": [
    "import urllib.request, json \n",
    "va1 = 0\n",
    "va2 = 0\n",
    "va = 0\n",
    "for i in range(7):\n",
    "    prev_date=datetime.strptime(\"2021-11-01\",\"%Y-%m-%d\")+timedelta(days=(-1*i))\n",
    "    with urllib.request.urlopen(\"https://api.cowin.gov.in/api/v1/reports/v2/getPublicReports?date=\"+str(prev_date.date())) as url:\n",
    "        data = json.loads(url.read().decode())\n",
    "        va1 += data[\"topBlock\"][\"vaccination\"][\"tot_dose_1\"]\n",
    "        va2 += data[\"topBlock\"][\"vaccination\"][\"tot_dose_2\"]\n",
    "        va += data[\"topBlock\"][\"vaccination\"][\"total_doses\"]\n"
   ]
  },
  {
   "cell_type": "code",
   "execution_count": 353,
   "id": "b0fe59c2-e12f-4427-a6ea-7a4dfb8e45ff",
   "metadata": {},
   "outputs": [],
   "source": [
    "TT_df[\"7DmaVaccinated1ForState\"] = va1\n",
    "TT_df[\"7DmaVaccinated2ForState\"] = va2\n",
    "TT_df[\"7DmaVaccinatedForState\"] = va"
   ]
  },
  {
   "cell_type": "code",
   "execution_count": 354,
   "id": "55144170-f1b3-40e2-b23e-91f6e13e0564",
   "metadata": {},
   "outputs": [],
   "source": [
    "# 7dma District"
   ]
  },
  {
   "cell_type": "code",
   "execution_count": 355,
   "id": "16557304-89e8-43a9-b805-d6a8e6ea3885",
   "metadata": {},
   "outputs": [],
   "source": [
    "lst = [\"Confirmed\",\"Recovered\",\"Deceased\"]\n",
    "for val in lst:\n",
    "    value = 0\n",
    "    for idx in TT_df.index:\n",
    "        for i in range(7):\n",
    "            if i == 0:\n",
    "                value = int(TT_df[\"cumulative{}NumberForDistrict\".format(val)][0])\n",
    "            else:\n",
    "                prev_date=datetime.strptime(\"2021-11-01\",\"%Y-%m-%d\")+timedelta(days=(-1*i))\n",
    "                value += int(states_df[(states_df[\"State\"] == TT_df[\"District\"][idx]) & (states_df[\"Date\"] == str(prev_date.date()))]['{}'.format(val)].item())\n",
    "    TT_df[\"7Dma{}ForDistrict\".format(val)] = value/7          "
   ]
  },
  {
   "cell_type": "code",
   "execution_count": 356,
   "id": "5d317871-5b50-4d9b-9fda-3641f802bd11",
   "metadata": {},
   "outputs": [],
   "source": [
    "cowin = pd.read_csv(\"cowin_vaccine_data_statewise.csv\")"
   ]
  },
  {
   "cell_type": "code",
   "execution_count": 357,
   "id": "9dc5c3e8-6df7-4490-9f9a-1f35d0308410",
   "metadata": {},
   "outputs": [
    {
     "name": "stderr",
     "output_type": "stream",
     "text": [
      "/home/swiadmin/Incovid19/incovid19/env/lib/python3.6/site-packages/ipykernel_launcher.py:18: SettingWithCopyWarning: \n",
      "A value is trying to be set on a copy of a slice from a DataFrame\n",
      "\n",
      "See the caveats in the documentation: https://pandas.pydata.org/pandas-docs/stable/user_guide/indexing.html#returning-a-view-versus-a-copy\n",
      "/home/swiadmin/Incovid19/incovid19/env/lib/python3.6/site-packages/ipykernel_launcher.py:19: SettingWithCopyWarning: \n",
      "A value is trying to be set on a copy of a slice from a DataFrame\n",
      "\n",
      "See the caveats in the documentation: https://pandas.pydata.org/pandas-docs/stable/user_guide/indexing.html#returning-a-view-versus-a-copy\n",
      "/home/swiadmin/Incovid19/incovid19/env/lib/python3.6/site-packages/ipykernel_launcher.py:20: SettingWithCopyWarning: \n",
      "A value is trying to be set on a copy of a slice from a DataFrame\n",
      "\n",
      "See the caveats in the documentation: https://pandas.pydata.org/pandas-docs/stable/user_guide/indexing.html#returning-a-view-versus-a-copy\n"
     ]
    }
   ],
   "source": [
    "va1 = 0\n",
    "va2 = 0\n",
    "va = 0\n",
    "TT_df[\"7DmaVaccinatedForDistrict\"] = 0\n",
    "TT_df[\"7DmaVaccinated1ForDistrict\"] = 0\n",
    "TT_df[\"7DmaVaccinated2ForDistrict\"] = 0\n",
    "for idx in TT_df.index:\n",
    "    for i in range(7):\n",
    "        if i == 0:\n",
    "            va = int(TT_df[\"cumulativeVaccinatedNumberForDistrict\"][idx])\n",
    "            va1 = int(TT_df[\"cumulativeVaccinated1NumberForDistrict\"][idx])\n",
    "            va2 = int(TT_df[\"cumulativeVaccinated2NumberForDistrict\"][idx])\n",
    "        else:\n",
    "            prev_date=datetime.strptime(\"2021/11/01\",\"%Y/%m/%d\")+timedelta(days=(-1*i))\n",
    "            va += int(cowin[(cowin[\"Updated On\"] ==  prev_date.strftime('%d/%m/%Y')) & (cowin[\"State\"] == TT_df[\"District\"][idx])][\"Total Doses Administered\"].item())\n",
    "            va1 += int(cowin[(cowin[\"Updated On\"] ==  prev_date.strftime('%d/%m/%Y')) & (cowin[\"State\"] == TT_df[\"District\"][idx])][\"First Dose Administered\"].item())\n",
    "            va2 += int(cowin[(cowin[\"Updated On\"] ==  prev_date.strftime('%d/%m/%Y')) & (cowin[\"State\"] == TT_df[\"District\"][idx])][\"Second Dose Administered\"].item())\n",
    "TT_df[\"7DmaVaccinatedForDistrict\"][idx] = va/7\n",
    "TT_df[\"7DmaVaccinated1ForDistrict\"][idx] = va1/7\n",
    "TT_df[\"7DmaVaccinated2ForDistrict\"][idx] = va2/7"
   ]
  },
  {
   "cell_type": "code",
   "execution_count": 358,
   "id": "8710545d-1d68-4f09-94d3-1c59b2b99613",
   "metadata": {},
   "outputs": [],
   "source": [
    "TT_df.to_csv('TT_final.csv')"
   ]
  },
  {
   "cell_type": "code",
   "execution_count": 274,
   "id": "ddaa7094-7fa7-4d73-8abb-69d90ad6ea80",
   "metadata": {},
   "outputs": [],
   "source": [
    "# 7dma delta"
   ]
  },
  {
   "cell_type": "code",
   "execution_count": 297,
   "id": "f62394dd-3eb4-4a2e-a192-6f43bc8f6218",
   "metadata": {},
   "outputs": [
    {
     "data": {
      "text/html": [
       "<div>\n",
       "<style scoped>\n",
       "    .dataframe tbody tr th:only-of-type {\n",
       "        vertical-align: middle;\n",
       "    }\n",
       "\n",
       "    .dataframe tbody tr th {\n",
       "        vertical-align: top;\n",
       "    }\n",
       "\n",
       "    .dataframe thead th {\n",
       "        text-align: right;\n",
       "    }\n",
       "</style>\n",
       "<table border=\"1\" class=\"dataframe\">\n",
       "  <thead>\n",
       "    <tr style=\"text-align: right;\">\n",
       "      <th></th>\n",
       "      <th>Date</th>\n",
       "      <th>State</th>\n",
       "      <th>Confirmed</th>\n",
       "      <th>Recovered</th>\n",
       "      <th>Deceased</th>\n",
       "      <th>Other</th>\n",
       "      <th>Tested</th>\n",
       "    </tr>\n",
       "  </thead>\n",
       "  <tbody>\n",
       "    <tr>\n",
       "      <th>1</th>\n",
       "      <td>2020-01-30</td>\n",
       "      <td>India</td>\n",
       "      <td>1</td>\n",
       "      <td>0</td>\n",
       "      <td>0</td>\n",
       "      <td>0</td>\n",
       "      <td>NaN</td>\n",
       "    </tr>\n",
       "    <tr>\n",
       "      <th>3</th>\n",
       "      <td>2020-02-02</td>\n",
       "      <td>India</td>\n",
       "      <td>2</td>\n",
       "      <td>0</td>\n",
       "      <td>0</td>\n",
       "      <td>0</td>\n",
       "      <td>NaN</td>\n",
       "    </tr>\n",
       "    <tr>\n",
       "      <th>5</th>\n",
       "      <td>2020-02-03</td>\n",
       "      <td>India</td>\n",
       "      <td>3</td>\n",
       "      <td>0</td>\n",
       "      <td>0</td>\n",
       "      <td>0</td>\n",
       "      <td>NaN</td>\n",
       "    </tr>\n",
       "    <tr>\n",
       "      <th>7</th>\n",
       "      <td>2020-02-14</td>\n",
       "      <td>India</td>\n",
       "      <td>3</td>\n",
       "      <td>3</td>\n",
       "      <td>0</td>\n",
       "      <td>0</td>\n",
       "      <td>NaN</td>\n",
       "    </tr>\n",
       "    <tr>\n",
       "      <th>11</th>\n",
       "      <td>2020-03-02</td>\n",
       "      <td>India</td>\n",
       "      <td>5</td>\n",
       "      <td>3</td>\n",
       "      <td>0</td>\n",
       "      <td>0</td>\n",
       "      <td>NaN</td>\n",
       "    </tr>\n",
       "    <tr>\n",
       "      <th>...</th>\n",
       "      <td>...</td>\n",
       "      <td>...</td>\n",
       "      <td>...</td>\n",
       "      <td>...</td>\n",
       "      <td>...</td>\n",
       "      <td>...</td>\n",
       "      <td>...</td>\n",
       "    </tr>\n",
       "    <tr>\n",
       "      <th>21523</th>\n",
       "      <td>2021-10-27</td>\n",
       "      <td>India</td>\n",
       "      <td>34231243</td>\n",
       "      <td>33606777</td>\n",
       "      <td>456418</td>\n",
       "      <td>13182</td>\n",
       "      <td>604498405.0</td>\n",
       "    </tr>\n",
       "    <tr>\n",
       "      <th>21560</th>\n",
       "      <td>2021-10-28</td>\n",
       "      <td>India</td>\n",
       "      <td>34245550</td>\n",
       "      <td>33619966</td>\n",
       "      <td>457223</td>\n",
       "      <td>13187</td>\n",
       "      <td>605885769.0</td>\n",
       "    </tr>\n",
       "    <tr>\n",
       "      <th>21597</th>\n",
       "      <td>2021-10-29</td>\n",
       "      <td>India</td>\n",
       "      <td>34259765</td>\n",
       "      <td>33633515</td>\n",
       "      <td>457774</td>\n",
       "      <td>13195</td>\n",
       "      <td>607062619.0</td>\n",
       "    </tr>\n",
       "    <tr>\n",
       "      <th>21634</th>\n",
       "      <td>2021-10-30</td>\n",
       "      <td>India</td>\n",
       "      <td>34272705</td>\n",
       "      <td>33648187</td>\n",
       "      <td>458219</td>\n",
       "      <td>13196</td>\n",
       "      <td>608319915.0</td>\n",
       "    </tr>\n",
       "    <tr>\n",
       "      <th>21671</th>\n",
       "      <td>2021-10-31</td>\n",
       "      <td>India</td>\n",
       "      <td>34285612</td>\n",
       "      <td>33661339</td>\n",
       "      <td>458470</td>\n",
       "      <td>13197</td>\n",
       "      <td>609201294.0</td>\n",
       "    </tr>\n",
       "  </tbody>\n",
       "</table>\n",
       "<p>613 rows × 7 columns</p>\n",
       "</div>"
      ],
      "text/plain": [
       "             Date  State  Confirmed  Recovered  Deceased  Other       Tested\n",
       "1      2020-01-30  India          1          0         0      0          NaN\n",
       "3      2020-02-02  India          2          0         0      0          NaN\n",
       "5      2020-02-03  India          3          0         0      0          NaN\n",
       "7      2020-02-14  India          3          3         0      0          NaN\n",
       "11     2020-03-02  India          5          3         0      0          NaN\n",
       "...           ...    ...        ...        ...       ...    ...          ...\n",
       "21523  2021-10-27  India   34231243   33606777    456418  13182  604498405.0\n",
       "21560  2021-10-28  India   34245550   33619966    457223  13187  605885769.0\n",
       "21597  2021-10-29  India   34259765   33633515    457774  13195  607062619.0\n",
       "21634  2021-10-30  India   34272705   33648187    458219  13196  608319915.0\n",
       "21671  2021-10-31  India   34285612   33661339    458470  13197  609201294.0\n",
       "\n",
       "[613 rows x 7 columns]"
      ]
     },
     "execution_count": 297,
     "metadata": {},
     "output_type": "execute_result"
    }
   ],
   "source": [
    "states_df[states_df[\"State\"] == \"India\"]"
   ]
  },
  {
   "cell_type": "code",
   "execution_count": 298,
   "id": "39d15693-28c2-4b60-9561-d7a9a548a6fd",
   "metadata": {},
   "outputs": [],
   "source": [
    "lst = [\"Confirmed\",\"Recovered\",\"Deceased\"]\n",
    "for val in lst:\n",
    "    value = []\n",
    "    for i in range(7):\n",
    "        if i == 0:\n",
    "            value.append(TT_df[\"cumulative{}NumberForState\".format(val)][0])\n",
    "        else:\n",
    "            prev_date=datetime.strptime(\"2021-11-01\",\"%Y-%m-%d\")+timedelta(days=(-1*i))\n",
    "            value.append(states_df[(states_df[\"State\"] == \"India\") & (states_df[\"Date\"] == str(prev_date.date()))]['{}'.format(val)].item())"
   ]
  },
  {
   "cell_type": "code",
   "execution_count": 299,
   "id": "757881e5-6bc8-4b77-b001-d529d0429529",
   "metadata": {},
   "outputs": [
    {
     "data": {
      "text/plain": [
       "[458437, 458470, 458219, 457774, 457223, 456418, 455684]"
      ]
     },
     "execution_count": 299,
     "metadata": {},
     "output_type": "execute_result"
    }
   ],
   "source": [
    "value"
   ]
  },
  {
   "cell_type": "code",
   "execution_count": null,
   "id": "df35f213-fba6-47be-8abd-eb3d615bc503",
   "metadata": {},
   "outputs": [],
   "source": []
  }
 ],
 "metadata": {
  "kernelspec": {
   "display_name": "Python 3",
   "language": "python",
   "name": "python3"
  },
  "language_info": {
   "codemirror_mode": {
    "name": "ipython",
    "version": 3
   },
   "file_extension": ".py",
   "mimetype": "text/x-python",
   "name": "python",
   "nbconvert_exporter": "python",
   "pygments_lexer": "ipython3",
   "version": "3.6.9"
  }
 },
 "nbformat": 4,
 "nbformat_minor": 5
}
