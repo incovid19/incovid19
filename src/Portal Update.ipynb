{
 "cells": [
  {
   "cell_type": "code",
   "execution_count": 1,
   "id": "7e1d6612-0294-4827-b861-0cd6bd9398fe",
   "metadata": {},
   "outputs": [
    {
     "name": "stderr",
     "output_type": "stream",
     "text": [
      "/home/swiadmin/Incovid19/incovid19/env/lib/python3.6/site-packages/fuzzywuzzy/fuzz.py:11: UserWarning: Using slow pure-python SequenceMatcher. Install python-Levenshtein to remove this warning\n",
      "  warnings.warn('Using slow pure-python SequenceMatcher. Install python-Levenshtein to remove this warning')\n"
     ]
    }
   ],
   "source": [
    "from datetime import datetime, timedelta\n",
    "import os\n",
    "import pandas as pd \n",
    "from util import date_range, GetFileStatus, ExtractData, DownloadData\n",
    "from getTT import getTT\n",
    "from tqdm import tqdm\n",
    "from UpdateDerivedValues import STATE_NAMES,updateDerivedValues,removeLogging\n",
    "from StatusMsg import PortalStatusMsg\n",
    "from getjson import createDataMin,updateAll\n",
    "import warnings\n",
    "warnings.filterwarnings('ignore')"
   ]
  },
  {
   "cell_type": "code",
   "execution_count": 2,
   "id": "abd873d3-cc3e-4491-abec-a8cf508f0ac7",
   "metadata": {},
   "outputs": [],
   "source": [
    "\n",
    "# PortalStatusMsg(StateCode: str, date: str, StatusCode: str, statusMessage: str, program: str = \"GetSource\")"
   ]
  },
  {
   "cell_type": "code",
   "execution_count": 3,
   "id": "7ef7fea7-ca21-44e3-b01a-7e4b023d4e23",
   "metadata": {},
   "outputs": [],
   "source": [
    "# from util import date_range, GetFileStatus, ExtractData, DownloadData\n",
    "# from UpdateDerivedValues import STATE_NAMES,updateDerivedValues,removeLogging\n",
    "# import warnings\n",
    "# warnings.filterwarnings('ignore')\n",
    "\n",
    "# dateList = date_range(\"2021-12-28\",True)\n",
    "# ExtractData(\"KL\",dateList)\n",
    "# for date in dateList:\n",
    "#     runDate = str(date.date())\n",
    "#     updateDerivedValues(\"KL\",runDate)"
   ]
  },
  {
   "cell_type": "code",
   "execution_count": 4,
   "id": "d83c2b51-d6a1-4ae3-acca-46ad57592d15",
   "metadata": {},
   "outputs": [],
   "source": [
    "source = pd.read_csv(\"../sources.csv\")"
   ]
  },
  {
   "cell_type": "markdown",
   "id": "bbc46f05-1f6a-48d6-8f34-51fe4e4187f0",
   "metadata": {
    "tags": []
   },
   "source": [
    "## Work Date\n",
    "***\n",
    "Run for one day\n",
    "> date_range(Date,True)\n",
    ">> Ex: date_range(\"2022-01-20\",True)\n",
    "***\n",
    "Run for Multiple days\n",
    "> date_range(StartDate,EndDate)\n",
    ">> Ex: date_range(\"2021-11-20\",\"2021-01-20\")\n",
    "***"
   ]
  },
  {
   "cell_type": "code",
   "execution_count": 5,
   "id": "775bd708-aba1-42db-9c4b-3dddc472a865",
   "metadata": {},
   "outputs": [],
   "source": [
    "dateList = date_range(\"2022-02-22\",True)"
   ]
  },
  {
   "cell_type": "code",
   "execution_count": 6,
   "id": "3f415885-248d-4a36-85cb-707e5124d9e4",
   "metadata": {},
   "outputs": [],
   "source": [
    "# GetFileStatus(dateList,True)"
   ]
  },
  {
   "cell_type": "markdown",
   "id": "ffa8edc7-c02f-47e7-8b27-249ab1d7fef1",
   "metadata": {},
   "source": [
    "### Get File Status of Both Input & Raw File"
   ]
  },
  {
   "cell_type": "code",
   "execution_count": 9,
   "id": "624ffb3d-5fb5-41e5-a04a-8ae355801319",
   "metadata": {},
   "outputs": [
    {
     "data": {
      "text/html": [
       "<div>\n",
       "<style scoped>\n",
       "    .dataframe tbody tr th:only-of-type {\n",
       "        vertical-align: middle;\n",
       "    }\n",
       "\n",
       "    .dataframe tbody tr th {\n",
       "        vertical-align: top;\n",
       "    }\n",
       "\n",
       "    .dataframe thead th {\n",
       "        text-align: right;\n",
       "    }\n",
       "</style>\n",
       "<table border=\"1\" class=\"dataframe\">\n",
       "  <thead>\n",
       "    <tr style=\"text-align: right;\">\n",
       "      <th></th>\n",
       "      <th>Date</th>\n",
       "      <th>State</th>\n",
       "      <th>Input</th>\n",
       "      <th>Raw</th>\n",
       "      <th>Final</th>\n",
       "      <th>Filetype</th>\n",
       "      <th>myGovFlag</th>\n",
       "    </tr>\n",
       "  </thead>\n",
       "  <tbody>\n",
       "    <tr>\n",
       "      <th>15</th>\n",
       "      <td>2022-02-22</td>\n",
       "      <td>PB</td>\n",
       "      <td>No</td>\n",
       "      <td>No</td>\n",
       "      <td>No</td>\n",
       "      <td>pdf</td>\n",
       "      <td>Yes</td>\n",
       "    </tr>\n",
       "    <tr>\n",
       "      <th>21</th>\n",
       "      <td>2022-02-22</td>\n",
       "      <td>LA</td>\n",
       "      <td>No</td>\n",
       "      <td>No</td>\n",
       "      <td>No</td>\n",
       "      <td>pdf</td>\n",
       "      <td>Yes</td>\n",
       "    </tr>\n",
       "  </tbody>\n",
       "</table>\n",
       "</div>"
      ],
      "text/plain": [
       "          Date State Input Raw Final Filetype myGovFlag\n",
       "15  2022-02-22    PB    No  No    No      pdf       Yes\n",
       "21  2022-02-22    LA    No  No    No      pdf       Yes"
      ]
     },
     "execution_count": 9,
     "metadata": {},
     "output_type": "execute_result"
    }
   ],
   "source": [
    "df_fileStatus = GetFileStatus(dateList,False)[GetFileStatus(dateList,False)[\"Raw\"] == \"No\"]\n",
    "df_fileStatus"
   ]
  },
  {
   "cell_type": "markdown",
   "id": "8d5a239a-6467-442a-be3c-3a4706fb8fd1",
   "metadata": {},
   "source": [
    "## Extract Raw Files"
   ]
  },
  {
   "cell_type": "code",
   "execution_count": 10,
   "id": "3a1c0520-b942-4cb9-a691-51dcdd620fa1",
   "metadata": {},
   "outputs": [
    {
     "name": "stdout",
     "output_type": "stream",
     "text": [
      "PB\n",
      "https://nhm.punjab.gov.in/advertisements/Media_Bulletin/Media%20Bulletin%20COVID-19%2022-02-2022.pdf\n",
      "Error\n",
      "LA\n",
      "HTTPSConnectionPool(host='covid.ladakh.gov.in', port=443): Max retries exceeded with url: /Upload/getfileN/98186d1e-facb-4040-b278-eca69fced115_Media%20Bulletin%2021.02.2022.pdf (Caused by SSLError(SSLError(1, '[SSL: CERTIFICATE_VERIFY_FAILED] certificate verify failed (_ssl.c:852)'),))\n"
     ]
    }
   ],
   "source": [
    "for idx in df_fileStatus.index:\n",
    "    if df_fileStatus[\"Input\"][idx] == \"No\":\n",
    "        DownloadData(df_fileStatus[\"State\"][idx],date_range(df_fileStatus[\"Date\"][idx],True))\n",
    "    if df_fileStatus[\"Input\"][idx] == \"Yes\" and df_fileStatus[\"Raw\"][idx] == \"No\":\n",
    "        ExtractData(df_fileStatus[\"State\"][idx],date_range(df_fileStatus[\"Date\"][idx],True))\n",
    "        # updateDerivedValues(df_fileStatus[\"State\"][idx],df_fileStatus[\"Date\"][idx])"
   ]
  },
  {
   "cell_type": "markdown",
   "id": "980154c3-a936-42cf-b728-3703e7a5d2b3",
   "metadata": {},
   "source": [
    "## Get TT"
   ]
  },
  {
   "cell_type": "code",
   "execution_count": 11,
   "id": "c2caa702-7bdb-4aad-a3a0-a720d28f89f6",
   "metadata": {},
   "outputs": [
    {
     "name": "stdout",
     "output_type": "stream",
     "text": [
      "Created\n"
     ]
    }
   ],
   "source": [
    "today = (datetime.now() - timedelta(days=0)).date()\n",
    "if \"TT_final.csv\" not in os.listdir(\"../RAWCSV/\"+str(today)+\"/\"):\n",
    "    getTT()"
   ]
  },
  {
   "cell_type": "markdown",
   "id": "2e90c6b7-5786-4db2-b072-3312e9b258c9",
   "metadata": {},
   "source": [
    "## Update Derived Values"
   ]
  },
  {
   "cell_type": "code",
   "execution_count": 18,
   "id": "41e05a9d-e73a-455e-bd94-dbf39796c1bc",
   "metadata": {},
   "outputs": [
    {
     "name": "stderr",
     "output_type": "stream",
     "text": [
      "100%|██████████| 36/36 [01:08<00:00,  1.89s/it]\n"
     ]
    }
   ],
   "source": [
    "for date in dateList:\n",
    "    runDate = str(date.date())\n",
    "    removeLogging(runDate)\n",
    "    for key,val in tqdm(STATE_NAMES.items()):\n",
    "        # print(key)\n",
    "        updateDerivedValues(key,runDate)"
   ]
  },
  {
   "cell_type": "code",
   "execution_count": 13,
   "id": "66465a22-e5eb-4dbc-aa43-cafc82d741cf",
   "metadata": {},
   "outputs": [],
   "source": [
    "# updateDerivedValues(\"PB\",\"2022-02-14\")"
   ]
  },
  {
   "cell_type": "code",
   "execution_count": 19,
   "id": "3f1ea5a1-e0ef-4b5f-9406-a660eacd4984",
   "metadata": {},
   "outputs": [
    {
     "name": "stdout",
     "output_type": "stream",
     "text": [
      "Renaming....\n",
      "Renaming Complete!\n",
      "GJ\n",
      "State:1221114\n",
      "TT   :1221276\n",
      "TR\n",
      "State:100849\n",
      "TT   :100852\n",
      "UT\n",
      "State:435796\n",
      "TT   :435494\n"
     ]
    }
   ],
   "source": [
    "for date in dateList:\n",
    "    updateAll(date,log=True,OverWrite=False)"
   ]
  },
  {
   "cell_type": "code",
   "execution_count": 26,
   "id": "bc0b9fec-6759-4801-9fee-b5d186e279ad",
   "metadata": {},
   "outputs": [
    {
     "name": "stdout",
     "output_type": "stream",
     "text": [
      "Index(['Date', 'State', 'District', 'Confirmed', 'Recovered', 'Deceased',\n",
      "       'Other', 'Tested'],\n",
      "      dtype='object')\n",
      "Index(['Date', 'Date_YMD', 'Status', 'TT', 'AN', 'AP', 'AR', 'AS', 'BR', 'CH',\n",
      "       'CT', 'DN', 'DL', 'GA', 'GJ', 'HR', 'HP', 'JK', 'JH', 'KA', 'KL', 'LA',\n",
      "       'LD', 'MP', 'MH', 'MN', 'ML', 'MZ', 'NL', 'OR', 'PY', 'PB', 'RJ', 'SK',\n",
      "       'TN', 'TG', 'TR', 'UP', 'UT', 'WB'],\n",
      "      dtype='object', name='District')\n",
      "2022-02-22\n",
      "2022-02-22\n",
      "1 Andhra Pradesh\n",
      "2 Arunachal Pradesh\n",
      "3 Assam\n",
      "4 Bihar\n",
      "5 Chhattisgarh\n",
      "6 Goa\n",
      "7 Gujarat\n",
      "8 Haryana\n",
      "9 Himachal Pradesh\n",
      "10 Jharkhand\n",
      "11 Karnataka\n",
      "12 Kerala\n",
      "13 Madhya Pradesh\n",
      "14 Maharashtra\n",
      "15 Manipur\n",
      "16 Meghalaya\n",
      "17 Mizoram\n",
      "18 Nagaland\n",
      "19 Odisha\n",
      "20 Punjab\n",
      "21 Rajasthan\n",
      "22 Sikkim\n",
      "23 Tamil Nadu\n",
      "24 Telangana\n",
      "25 Tripura\n",
      "26 Uttarakhand\n",
      "27 Uttar Pradesh\n",
      "28 West Bengal\n",
      "29 Andaman and Nicobar Islands\n",
      "30 Chandigarh\n",
      "31 Dadra and Nagar Haveli and Daman and Diu\n",
      "32 Delhi\n",
      "33 Jammu and Kashmir\n",
      "34 Ladakh\n",
      "35 Lakshadweep\n",
      "36 Puducherry\n",
      "37 India\n"
     ]
    }
   ],
   "source": [
    "!python ../CSV_APIs_Code/main_csv.py "
   ]
  },
  {
   "cell_type": "code",
   "execution_count": 17,
   "id": "fb781a3c-a246-4715-b17f-2216301bacdc",
   "metadata": {},
   "outputs": [
    {
     "name": "stdout",
     "output_type": "stream",
     "text": [
      "df districts data is              District  Confirmed  Recovered  Active Cases in the District  \\\n",
      "0              Almora       4392       3990                            24   \n",
      "1           Bageshwar       2067       1971                            11   \n",
      "2             Chamoli       3131       2922                           102   \n",
      "3           Champawat       1841       1594                           226   \n",
      "4            Dehradun      32292      31639                           129   \n",
      "5            Haridwar      12786      12326                           204   \n",
      "6            Nainital      11207      11059                            82   \n",
      "7       Pauri Garhwal       5170       4120                            65   \n",
      "8         Pithoragarh       2509       2299                            73   \n",
      "9         Rudraprayag       2654       2487                            43   \n",
      "10      Tehri Garhwal       2323       1943                            60   \n",
      "11  Udham Singh Nagar       8745       8429                            46   \n",
      "12         Uttarkashi       1592       1415                            14   \n",
      "13              Total      90709      86194                          1079   \n",
      "\n",
      "    Deceased  Other  Samples Sent to Labs Today Negative Unnamed: 3 Positive  \\\n",
      "0          4    374                       460.0     1134      50661       10   \n",
      "1          0     85                       323.0      204      27380        3   \n",
      "2          3    104                       630.0      439      34257        0   \n",
      "3          1     20                       463.0     1078      42127        7   \n",
      "4        162    362                      1918.0     1916     306024       76   \n",
      "5         22    234                       796.0      982     279852       18   \n",
      "6         29     37                       776.0      882      55975       11   \n",
      "7         16    969                      1537.0     1318      62585       13   \n",
      "8          4    133                       380.0      746      30432        8   \n",
      "9          2    122                       257.0      146      20091       10   \n",
      "10         5    315                       277.0      283      22481        3   \n",
      "11         5    265                      1361.0      972     100859        6   \n",
      "12         4    159                       444.0      332      24462        6   \n",
      "13       257   3179                      9622.0    10432    1057186      171   \n",
      "\n",
      "   Unnamed: 5     Tested  \\\n",
      "0        4392    55047.0   \n",
      "1        2067    29443.0   \n",
      "2        3131    37386.0   \n",
      "3        1841    43965.0   \n",
      "4       32292   338181.0   \n",
      "5       12786   292608.0   \n",
      "6       11207    67112.0   \n",
      "7        5170    67748.0   \n",
      "8        2509    32929.0   \n",
      "9        2654    22745.0   \n",
      "10       2323    24797.0   \n",
      "11       8745   109580.0   \n",
      "12       1592    26052.0   \n",
      "13     90709*  1147593.0   \n",
      "\n",
      "    Results Awaited (including sample sent to labs today)  \n",
      "0                                                83.0      \n",
      "1                                               502.0      \n",
      "2                                               494.0      \n",
      "3                                               361.0      \n",
      "4                                               285.0      \n",
      "5                                                92.0      \n",
      "6                                                73.0      \n",
      "7                                               823.0      \n",
      "8                                               604.0      \n",
      "9                                               375.0      \n",
      "10                                              481.0      \n",
      "11                                              831.0      \n",
      "12                                              409.0      \n",
      "13                                             5413.0      \n",
      "index of total 13\n",
      "updated data frame is              District  Confirmed  Recovered  Active Cases in the District  \\\n",
      "0              Almora      16639      15414                            24   \n",
      "1           Bageshwar       7838       7652                            11   \n",
      "2             Chamoli      15385      14905                           102   \n",
      "3           Champawat       9523       9031                           226   \n",
      "4            Dehradun     145159     140241                           129   \n",
      "5            Haridwar      64401      61489                           204   \n",
      "6            Nainital      50619      49312                            82   \n",
      "7       Pauri Garhwal      22919      20840                            65   \n",
      "8         Pithoragarh      12812      12300                            73   \n",
      "9         Rudraprayag      11460      11027                            43   \n",
      "10      Tehri Garhwal      18170      16774                            60   \n",
      "11  Udham Singh Nagar      46715      44801                            46   \n",
      "12         Uttarkashi      14156      13558                            14   \n",
      "13              Total     435796     417344                          1079   \n",
      "\n",
      "    Deceased  Other     Tested  \n",
      "0        200    995   306280.0  \n",
      "1         61    110   249024.0  \n",
      "2         65    311   342363.0  \n",
      "3         54    209   317389.0  \n",
      "4       3689    965  2373117.0  \n",
      "5       1046   1632  2556650.0  \n",
      "6        976    179   681560.0  \n",
      "7        331   1676   496366.0  \n",
      "8        186    241   275276.0  \n",
      "9        108    282   232483.0  \n",
      "10       115   1214   346829.0  \n",
      "11       766   1078  1109044.0  \n",
      "12        78    504   382052.0  \n",
      "13      7675   9396  9668433.0  \n"
     ]
    }
   ],
   "source": [
    "# ExtractData(\"UT\",date_range(\"2022-02-22\",True))"
   ]
  },
  {
   "cell_type": "code",
   "execution_count": null,
   "id": "b5d88e8e-557b-4551-820b-26c25a5fdd51",
   "metadata": {},
   "outputs": [],
   "source": []
  }
 ],
 "metadata": {
  "kernelspec": {
   "display_name": "Python 3",
   "language": "python",
   "name": "python3"
  },
  "language_info": {
   "codemirror_mode": {
    "name": "ipython",
    "version": 3
   },
   "file_extension": ".py",
   "mimetype": "text/x-python",
   "name": "python",
   "nbconvert_exporter": "python",
   "pygments_lexer": "ipython3",
   "version": "3.6.9"
  }
 },
 "nbformat": 4,
 "nbformat_minor": 5
}
