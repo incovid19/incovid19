{
 "cells": [
  {
   "cell_type": "code",
   "execution_count": 2,
   "id": "7e1d6612-0294-4827-b861-0cd6bd9398fe",
   "metadata": {},
   "outputs": [],
   "source": [
    "from datetime import datetime, timedelta\n",
    "import os\n",
    "import pandas as pd \n",
    "from util import date_range, GetFileStatus, ExtractData, DownloadData, portalUpdate_second,portalUpdate_first\n",
    "from getTT import getTT\n",
    "from tqdm import tqdm\n",
    "from UpdateDerivedValues import STATE_NAMES,updateDerivedValues,removeLogging\n",
    "# from StatusMsg import PortalStatusMsg\n",
    "from getjson import createDataMin,updateAll\n",
    "import warnings\n",
    "warnings.filterwarnings('ignore')"
   ]
  },
  {
   "cell_type": "code",
   "execution_count": 2,
   "id": "abd873d3-cc3e-4491-abec-a8cf508f0ac7",
   "metadata": {},
   "outputs": [],
   "source": [
    "# ExtractData(\"PB\",date_range(\"2022-07-21\",True))\n",
    "# ExtractData(\"PB\",date_range(\"2022-07-22\",True))\n",
    "# ExtractData(\"PB\",date_range(\"2022-07-23\",True))\n",
    "# ExtractData(\"PB\",date_range(\"2022-07-24\",True))\n",
    "# ExtractData(\"RJ\",date_range(\"2022-06-18\",True))\n",
    "# ExtractData(\"KL\",date_range(\"2022-05-16\",True))\n",
    "# ExtractData(\"PB\",date_range(\"2022-06-29\",True))\n",
    "# ExtractData(\"ML\",date_range(\"2022-07-12\",True))\n",
    "# ExtractData(\"UT\",date_range(\"2022-07-13\",True))\n",
    "# ExtractData(\"HR\",date_range(\"2022-07-01\",True))\n",
    "# ExtractData(\"MH\",date_range(\"2022-07-17\",True))\n",
    "\n",
    "\n",
    "# PortalStatusMsg(StateCode: str, date: str, StatusCode: str, statusMessage: str, program: str = \"GetSource\")"
   ]
  },
  {
   "cell_type": "code",
   "execution_count": 11,
   "id": "7ef7fea7-ca21-44e3-b01a-7e4b023d4e23",
   "metadata": {},
   "outputs": [],
   "source": [
    "# from util import date_range, GetFileStatus, ExtractData, DownloadData\n",
    "# from UpdateDerivedValues import STATE_NAMES,updateDerivedValues,removeLogging\n",
    "# import warnings\n",
    "# warnings.filterwarnings('ignore')\n",
    "\n",
    "# dateList = date_range(\"2021-12-28\",True)\n",
    "# ExtractData(\"KL\",dateList)\n",
    "# for date in dateList:\n",
    "#     runDate = str(date.date())\n",
    "#     updateDerivedValues(\"KL\",runDate)"
   ]
  },
  {
   "cell_type": "code",
   "execution_count": 3,
   "id": "d83c2b51-d6a1-4ae3-acca-46ad57592d15",
   "metadata": {},
   "outputs": [],
   "source": [
    "source = pd.read_csv(\"../sources.csv\")"
   ]
  },
  {
   "cell_type": "markdown",
   "id": "bbc46f05-1f6a-48d6-8f34-51fe4e4187f0",
   "metadata": {
    "tags": []
   },
   "source": [
    "## Work Date\n",
    "***\n",
    "Run for one day\n",
    "> date_range(Date,True)\n",
    ">> Ex: date_range(\"2022-01-20\",True)\n",
    "***\n",
    "Run for Multiple days\n",
    "> date_range(StartDate,EndDate)\n",
    ">> Ex: date_range(\"2021-11-20\",\"2021-01-20\")\n",
    "***"
   ]
  },
  {
   "cell_type": "code",
   "execution_count": 10,
   "id": "775bd708-aba1-42db-9c4b-3dddc472a865",
   "metadata": {},
   "outputs": [],
   "source": [
    "# dateList = date_range(\"2022-07-05\",\"2022-07-15\")\n",
    "# dateList = date_range(\"2022-06-20\",True)"
   ]
  },
  {
   "cell_type": "code",
   "execution_count": 11,
   "id": "3f415885-248d-4a36-85cb-707e5124d9e4",
   "metadata": {},
   "outputs": [],
   "source": [
    "# # df_fileStatus.to_csv(\"ref.csv\")\n",
    "# GetFileStatus(dateList,False)\n",
    "# GetFileStatus(dateList,True)"
   ]
  },
  {
   "cell_type": "markdown",
   "id": "ffa8edc7-c02f-47e7-8b27-249ab1d7fef1",
   "metadata": {},
   "source": [
    "### Get File Status of Both Input & Raw File"
   ]
  },
  {
   "cell_type": "code",
   "execution_count": 3,
   "id": "624ffb3d-5fb5-41e5-a04a-8ae355801319",
   "metadata": {},
   "outputs": [],
   "source": [
    "# df_fileStatus = GetFileStatus(dateList,False)[GetFileStatus(dateList,False)[\"Raw\"] == \"No\"]\n",
    "# df_fileStatus[df_fileStatus[\"State\"] == \"HR\"]"
   ]
  },
  {
   "cell_type": "code",
   "execution_count": 20,
   "id": "6540c466-4a54-4ce2-a00a-3d4144aa5be7",
   "metadata": {},
   "outputs": [
    {
     "data": {
      "text/plain": [
       "'2022-03-28'"
      ]
     },
     "execution_count": 20,
     "metadata": {},
     "output_type": "execute_result"
    }
   ],
   "source": [
    "df_fileStatus[\"Date\"][19]\n",
    "str((datetime.strptime(df_fileStatus[\"Date\"][19],\"%Y-%m-%d\")+timedelta(1)).date())"
   ]
  },
  {
   "cell_type": "code",
   "execution_count": 11,
   "id": "b9160822-fe3a-4f9e-92d3-11ad019ac0fa",
   "metadata": {},
   "outputs": [
    {
     "data": {
      "text/plain": [
       "True"
      ]
     },
     "execution_count": 11,
     "metadata": {},
     "output_type": "execute_result"
    }
   ],
   "source": [
    "df_fileStatus[\"Input\"].any() == \"Yes\""
   ]
  },
  {
   "cell_type": "markdown",
   "id": "8d5a239a-6467-442a-be3c-3a4706fb8fd1",
   "metadata": {},
   "source": [
    "## Extract Raw Files"
   ]
  },
  {
   "cell_type": "code",
   "execution_count": 3,
   "id": "3a1c0520-b942-4cb9-a691-51dcdd620fa1",
   "metadata": {
    "scrolled": true,
    "tags": []
   },
   "outputs": [],
   "source": [
    "# for idx in df_fileStatus.index:\n",
    "#     if df_fileStatus[\"Input\"][idx] == \"No\":\n",
    "#         DownloadData(df_fileStatus[\"State\"][idx],date_range(df_fileStatus[\"Date\"][idx],True))\n",
    "#     if df_fileStatus[\"Input\"][idx] == \"Yes\" and df_fileStatus[\"Raw\"][idx] == \"No\":\n",
    "#         ExtractData(df_fileStatus[\"State\"][idx],date_range(df_fileStatus[\"Date\"][idx],True))\n",
    "#         updateDerivedValues(df_fileStatus[\"State\"][idx],df_fileStatus[\"Date\"][idx])"
   ]
  },
  {
   "cell_type": "code",
   "execution_count": null,
   "id": "177ee148-143f-4efb-961e-4b1d4223ff56",
   "metadata": {},
   "outputs": [],
   "source": [
    "portalUpdate_first(dateList,prevUpdate = False)"
   ]
  },
  {
   "cell_type": "markdown",
   "id": "980154c3-a936-42cf-b728-3703e7a5d2b3",
   "metadata": {},
   "source": [
    "## Get TT"
   ]
  },
  {
   "cell_type": "code",
   "execution_count": null,
   "id": "d4c7c99c-d8e3-4a81-b8f9-c4c777ad666b",
   "metadata": {},
   "outputs": [],
   "source": [
    "portalUpdateFrom_TT(datelist,prevUpdate = False)"
   ]
  },
  {
   "cell_type": "code",
   "execution_count": 42,
   "id": "c2caa702-7bdb-4aad-a3a0-a720d28f89f6",
   "metadata": {},
   "outputs": [],
   "source": [
    "# today = (datetime.now() - timedelta(days=0)).date()\n",
    "# if \"TT_final.csv\" not in os.listdir(\"../RAWCSV/\"+str(today)+\"/\"):\n",
    "#     getTT()"
   ]
  },
  {
   "cell_type": "markdown",
   "id": "2e90c6b7-5786-4db2-b072-3312e9b258c9",
   "metadata": {},
   "source": [
    "## Update Derived Values"
   ]
  },
  {
   "cell_type": "code",
   "execution_count": 29,
   "id": "41e05a9d-e73a-455e-bd94-dbf39796c1bc",
   "metadata": {},
   "outputs": [
    {
     "name": "stderr",
     "output_type": "stream",
     "text": [
      "100%|██████████| 36/36 [01:08<00:00,  1.91s/it]\n"
     ]
    }
   ],
   "source": [
    "# def portalUpdateFrom_TT(dateList):\n",
    "#     today = (datetime.now() - timedelta(days=0)).date()\n",
    "#     if \"TT_final.csv\" not in os.listdir(\"../RAWCSV/\"+str(today)+\"/\"):\n",
    "#         getTT()\n",
    "\n",
    "#     for date in dateList:\n",
    "#         runDate = str(date.date())\n",
    "#         removeLogging(runDate)\n",
    "#         for key,val in tqdm(STATE_NAMES.items()):\n",
    "#             updateDerivedValues(key,runDate)\n",
    "\n",
    "#         updateAll(date,log=True,OverWrite=False)"
   ]
  },
  {
   "cell_type": "code",
   "execution_count": 2,
   "id": "66465a22-e5eb-4dbc-aa43-cafc82d741cf",
   "metadata": {},
   "outputs": [],
   "source": [
    "# for date in dateList:\n",
    "#     runDate = str(date.date())\n",
    "#     print(runDate)\n",
    "#     updateDerivedValues(\"NL\",runDate)\n",
    "#     updateDerivedValues(\"TR\",runDate)"
   ]
  },
  {
   "cell_type": "code",
   "execution_count": 16,
   "id": "79fca02d-3540-4e30-9d55-18c47d5561de",
   "metadata": {},
   "outputs": [],
   "source": [
    "# updateDerivedValues(\"HR\",\"2022-06-30\")\n",
    "# updateDerivedValues(\"AR\",\"2022-07-27\")\n",
    "# updateDerivedValues(\"PB\",\"2022-07-20\")\n",
    "# updateDerivedValues(\"JK\",\"2022-07-18\")\n",
    "# updateDerivedValues(\"PY\",\"2022-07-26\")\n",
    "# updateDerivedValues(\"PB\",\"2022-08-04\")\n",
    "# updateDerivedValues(\"KL\",\"2022-08-01\")\n",
    "# updateDerivedValues(\"DL\",\"2022-08-01\")\n",
    "# updateDerivedValues(\"ML\",\"2022-08-06\")\n",
    "# updateDerivedValues(\"KL\",\"2022-08-06\")\n",
    "# updateDerivedValues(\"MH\",\"2022-08-05\")"
   ]
  },
  {
   "cell_type": "code",
   "execution_count": 4,
   "id": "88e895fc-3833-43ba-9ca5-732702ad7e66",
   "metadata": {},
   "outputs": [],
   "source": [
    "# dateList"
   ]
  },
  {
   "cell_type": "markdown",
   "id": "fbc37604-07ed-46a5-8a60-9dc961fa0929",
   "metadata": {},
   "source": [
    "# Generation of Json and timseries"
   ]
  },
  {
   "cell_type": "code",
   "execution_count": 19,
   "id": "3f1ea5a1-e0ef-4b5f-9406-a660eacd4984",
   "metadata": {},
   "outputs": [
    {
     "name": "stdout",
     "output_type": "stream",
     "text": [
      "2022-06-02 00:00:00\n",
      "Renaming....\n",
      "Renaming Complete!\n",
      "GJ\n",
      "State:1225130\n",
      "TT   :1225292\n",
      "KL\n",
      "State:6560901\n",
      "TT   :6559623\n",
      "2022-06-03 00:00:00\n",
      "Renaming....\n",
      "Renaming Complete!\n",
      "GJ\n",
      "State:1225176\n",
      "TT   :1225338\n"
     ]
    }
   ],
   "source": [
    "for date in dateList:\n",
    "    print(date)\n",
    "    updateAll(date,log=False,OverWrite=False)"
   ]
  },
  {
   "cell_type": "code",
   "execution_count": 38,
   "id": "bc0b9fec-6759-4801-9fee-b5d186e279ad",
   "metadata": {},
   "outputs": [],
   "source": [
    "!python ../CSV_APIs_Code/main_csv.py"
   ]
  },
  {
   "cell_type": "code",
   "execution_count": 17,
   "id": "fb781a3c-a246-4715-b17f-2216301bacdc",
   "metadata": {},
   "outputs": [],
   "source": [
    "# ExtractData(\"AP\",date_range(\"2022-03-11\",True))"
   ]
  },
  {
   "cell_type": "code",
   "execution_count": 11,
   "id": "b5d88e8e-557b-4551-820b-26c25a5fdd51",
   "metadata": {},
   "outputs": [
    {
     "name": "stdout",
     "output_type": "stream",
     "text": [
      "KL 2022-03-10\n",
      "Extracting PDF\n",
      "Data Extracted Sucessfully\n"
     ]
    }
   ],
   "source": [
    "# ExtractData(\"KL\",date_range(\"2022-03-10\",True))"
   ]
  },
  {
   "cell_type": "code",
   "execution_count": 43,
   "id": "3ccede70-26f8-4a2c-a2e5-3670bbd35361",
   "metadata": {},
   "outputs": [
    {
     "name": "stdout",
     "output_type": "stream",
     "text": [
      "On branch gh-pages\n",
      "Your branch is up to date with 'origin/gh-pages'.\n",
      "\n",
      "nothing to commit, working tree clean\n"
     ]
    }
   ],
   "source": [
    "!cd /home/swiadmin/test && git status"
   ]
  },
  {
   "cell_type": "code",
   "execution_count": 44,
   "id": "f68b0b97-f4c3-4f77-af1d-a9e09bec43bf",
   "metadata": {},
   "outputs": [
    {
     "name": "stdout",
     "output_type": "stream",
     "text": [
      " DL_Tested.csv\t\t   Test\t\t\t\t      getTT.ipynb\n",
      " DL_Tested.xlsx\t\t   Untitled.ipynb\t\t      getTT.py\n",
      " ExtractDataFromImage.py   UpdateDerivedValues.py\t      getjson.py\n",
      " ExtractDataFromPDF.py\t   __pycache__\t\t\t      main.py\n",
      " ExtractStateMyGov.py\t   case_time_series.csv\t\t      ref.csv\n",
      " Interim_update\t\t   cowin_vaccine_data_statewise.csv   states.csv\n",
      "'Portal Update.ipynb'\t   fileStatus.csv\t\t      test.csv\n",
      " README.md\t\t   get7DMA.py\t\t\t      timesseries.py\n",
      " StatusMsg.py\t\t   getHTMLData.py\t\t      util.py\n",
      " TT_VaccCorrection.ipynb   getHTMLSources.py\n"
     ]
    }
   ],
   "source": [
    "!cd /home/swiadmin/test && git add ."
   ]
  },
  {
   "cell_type": "code",
   "execution_count": null,
   "id": "5c014c93-4aae-408f-8863-3ce0bfae6e9a",
   "metadata": {},
   "outputs": [],
   "source": [
    "!cd /home/swiadmin/test && git commit -m \"Portal Update for 2022-03-12 without _,_\""
   ]
  },
  {
   "cell_type": "code",
   "execution_count": 16,
   "id": "af7b1e8d-ca6f-411c-95f2-3cd929ddcf00",
   "metadata": {},
   "outputs": [
    {
     "name": "stdout",
     "output_type": "stream",
     "text": [
      ".\t\t\t deaths_recoveries2.json     state_test_data.json\n",
      "..\t\t\t district_testing_data.json  state_wise_raw.json\n",
      ".git\t\t\t district_wise.json\t     states_daily.json\n",
      "CNAME\t\t\t locales\t\t     travel_history.json\n",
      "README.md\t\t locales.json\t\t     twitter_queries.json\n",
      "csv\t\t\t locales_progress.json\t     updatelog\n",
      "data.json\t\t misc.json\t\t     v4\n",
      "deaths_recoveries.json\t resources\t\t     website_data.json\n",
      "deaths_recoveries1.json  state_district_wise.json    zones.json\n"
     ]
    }
   ],
   "source": [
    "!ls -a /home/swiadmin/test"
   ]
  },
  {
   "cell_type": "code",
   "execution_count": 17,
   "id": "fe18f7c5-de81-4979-9e89-1b1b28c0098f",
   "metadata": {},
   "outputs": [
    {
     "name": "stdout",
     "output_type": "stream",
     "text": [
      "cat: /home/swiadmin/test/.git: Is a directory\n"
     ]
    }
   ],
   "source": [
    "!cat /home/swiadmin/test/.git"
   ]
  },
  {
   "cell_type": "code",
   "execution_count": 36,
   "id": "6f4b082b-0580-480d-9cb4-964f2e6e0f97",
   "metadata": {},
   "outputs": [
    {
     "data": {
      "text/plain": [
       "1     AP\n",
       "7     HP\n",
       "9     KL\n",
       "15    PB\n",
       "19    UT\n",
       "20    WB\n",
       "21    LA\n",
       "Name: State, dtype: object"
      ]
     },
     "execution_count": 36,
     "metadata": {},
     "output_type": "execute_result"
    }
   ],
   "source": [
    "df_fileStatus[\"State\"]"
   ]
  },
  {
   "cell_type": "code",
   "execution_count": 35,
   "id": "1a356235-09ae-4174-9284-44e49ac5ed0d",
   "metadata": {},
   "outputs": [
    {
     "data": {
      "text/plain": [
       "'Portal Update for  Without AP,HP,KL,PB,UT,WB,LA'"
      ]
     },
     "execution_count": 35,
     "metadata": {},
     "output_type": "execute_result"
    }
   ],
   "source": [
    "\"Portal Update for  Without \"+\",\".join(df_fileStatus[\"State\"].to_list())"
   ]
  },
  {
   "cell_type": "code",
   "execution_count": 21,
   "id": "86df2abb-0e4c-4465-a65d-d18ec19aae76",
   "metadata": {},
   "outputs": [
    {
     "name": "stdout",
     "output_type": "stream",
     "text": [
      "origin\n"
     ]
    }
   ],
   "source": [
    "from git import Repo\n",
    "\n",
    "PATH_OF_GIT_REPO = r'/home/swiadmin/test/.git'  # make sure .git folder is properly configured\n",
    "COMMIT_MESSAGE = \"Portal Update for \"+ +\" Without +\"str(df_fileStatus[\"State\"].to_list())\n",
    "\n",
    "def git_push():\n",
    "    try:\n",
    "        repo = Repo(PATH_OF_GIT_REPO)\n",
    "        repo.git.add(update=True)\n",
    "        repo.index.commit(COMMIT_MESSAGE)\n",
    "        origin = repo.remote()\n",
    "        origin.push()\n",
    "    except:\n",
    "        print('Some error occured while pushing the code')    \n",
    "\n",
    "git_push()"
   ]
  },
  {
   "cell_type": "code",
   "execution_count": 22,
   "id": "ea878315-704b-4303-ad61-85c8fb7026ff",
   "metadata": {},
   "outputs": [
    {
     "name": "stdout",
     "output_type": "stream",
     "text": [
      "Requirement already satisfied: gitpython in /home/swiadmin/Incovid19/incovid19/env/lib/python3.6/site-packages (3.1.18)\n",
      "Requirement already satisfied: typing-extensions>=3.7.4.0 in /home/swiadmin/Incovid19/incovid19/env/lib/python3.6/site-packages (from gitpython) (3.10.0.2)\n",
      "Requirement already satisfied: gitdb<5,>=4.0.1 in /home/swiadmin/Incovid19/incovid19/env/lib/python3.6/site-packages (from gitpython) (4.0.9)\n",
      "Requirement already satisfied: smmap<6,>=3.0.1 in /home/swiadmin/Incovid19/incovid19/env/lib/python3.6/site-packages (from gitdb<5,>=4.0.1->gitpython) (5.0.0)\n"
     ]
    }
   ],
   "source": [
    "!pip install gitpython"
   ]
  },
  {
   "cell_type": "code",
   "execution_count": null,
   "id": "c9d3e4d1-a54a-4698-96f4-bee52bfb89f9",
   "metadata": {},
   "outputs": [],
   "source": [
    "def getLastDate(df, state, date):\n",
    "    date = date - timedelta(1)\n",
    "    try:\n",
    "        state = pd.read_csv(\"../RAWCSV/\" + date.strftime(\"%Y-%m-%d\") + \"/\" + state + \"_raw.csv\")\n",
    "    except FileNotFoundError:\n",
    "        df = ExtractNoSource(df, state, date)\n",
    "    return date"
   ]
  }
 ],
 "metadata": {
  "kernelspec": {
   "display_name": "Python 3",
   "language": "python",
   "name": "python3"
  },
  "language_info": {
   "codemirror_mode": {
    "name": "ipython",
    "version": 3
   },
   "file_extension": ".py",
   "mimetype": "text/x-python",
   "name": "python",
   "nbconvert_exporter": "python",
   "pygments_lexer": "ipython3",
   "version": "3.6.9"
  }
 },
 "nbformat": 4,
 "nbformat_minor": 5
}
