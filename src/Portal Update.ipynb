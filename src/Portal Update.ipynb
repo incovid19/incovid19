{
 "cells": [
  {
   "cell_type": "code",
   "execution_count": 1,
   "id": "7e1d6612-0294-4827-b861-0cd6bd9398fe",
   "metadata": {},
   "outputs": [
    {
     "name": "stderr",
     "output_type": "stream",
     "text": [
      "/home/swiadmin/Incovid19/incovid19/env/lib/python3.6/site-packages/fuzzywuzzy/fuzz.py:11: UserWarning: Using slow pure-python SequenceMatcher. Install python-Levenshtein to remove this warning\n",
      "  warnings.warn('Using slow pure-python SequenceMatcher. Install python-Levenshtein to remove this warning')\n"
     ]
    }
   ],
   "source": [
    "from datetime import datetime, timedelta\n",
    "import os\n",
    "import pandas as pd \n",
    "from util import date_range, GetFileStatus, ExtractData, DownloadData\n",
    "from getTT import getTT\n",
    "from tqdm import tqdm\n",
    "from UpdateDerivedValues import STATE_NAMES,updateDerivedValues,removeLogging\n",
    "from StatusMsg import PortalStatusMsg\n",
    "from getjson import createDataMin,updateAll\n",
    "import warnings\n",
    "warnings.filterwarnings('ignore')"
   ]
  },
  {
   "cell_type": "code",
   "execution_count": 2,
   "id": "abd873d3-cc3e-4491-abec-a8cf508f0ac7",
   "metadata": {},
   "outputs": [],
   "source": [
    "# PortalStatusMsg(StateCode: str, date: str, StatusCode: str, statusMessage: str, program: str = \"GetSource\")"
   ]
  },
  {
   "cell_type": "code",
   "execution_count": 1,
   "id": "7ef7fea7-ca21-44e3-b01a-7e4b023d4e23",
   "metadata": {},
   "outputs": [
    {
     "name": "stderr",
     "output_type": "stream",
     "text": [
      "/home/swiadmin/Incovid19/incovid19/env/lib/python3.6/site-packages/fuzzywuzzy/fuzz.py:11: UserWarning: Using slow pure-python SequenceMatcher. Install python-Levenshtein to remove this warning\n",
      "  warnings.warn('Using slow pure-python SequenceMatcher. Install python-Levenshtein to remove this warning')\n"
     ]
    },
    {
     "name": "stdout",
     "output_type": "stream",
     "text": [
      "KL 2022-02-04\n"
     ]
    }
   ],
   "source": [
    "# from util import date_range, GetFileStatus, ExtractData, DownloadData\n",
    "# from UpdateDerivedValues import STATE_NAMES,updateDerivedValues,removeLogging\n",
    "# import warnings\n",
    "# warnings.filterwarnings('ignore')\n",
    "\n",
    "# dateList = date_range(\"2022-02-04\",True)\n",
    "# ExtractData(\"KL\",dateList)\n",
    "# for date in dateList:\n",
    "#     runDate = str(date.date())\n",
    "#     updateDerivedValues(\"KL\",runDate)"
   ]
  },
  {
   "cell_type": "code",
   "execution_count": 3,
   "id": "d83c2b51-d6a1-4ae3-acca-46ad57592d15",
   "metadata": {},
   "outputs": [],
   "source": [
    "source = pd.read_csv(\"../sources.csv\")"
   ]
  },
  {
   "cell_type": "markdown",
   "id": "bbc46f05-1f6a-48d6-8f34-51fe4e4187f0",
   "metadata": {
    "tags": []
   },
   "source": [
    "## Work Date\n",
    "***\n",
    "Run for one day\n",
    "> date_range(Date,True)\n",
    ">> Ex: date_range(\"2022-01-20\",True)\n",
    "***\n",
    "Run for Multiple days\n",
    "> date_range(StartDate,EndDate)\n",
    ">> Ex: date_range(\"2021-11-20\",\"2021-01-20\")\n",
    "***"
   ]
  },
  {
   "cell_type": "code",
   "execution_count": 4,
   "id": "775bd708-aba1-42db-9c4b-3dddc472a865",
   "metadata": {},
   "outputs": [],
   "source": [
    "dateList = date_range(\"2022-02-12\",True)"
   ]
  },
  {
   "cell_type": "markdown",
   "id": "ffa8edc7-c02f-47e7-8b27-249ab1d7fef1",
   "metadata": {},
   "source": [
    "### Get File Status of Both Input & Raw File"
   ]
  },
  {
   "cell_type": "code",
   "execution_count": 5,
   "id": "624ffb3d-5fb5-41e5-a04a-8ae355801319",
   "metadata": {},
   "outputs": [
    {
     "data": {
      "text/html": [
       "<div>\n",
       "<style scoped>\n",
       "    .dataframe tbody tr th:only-of-type {\n",
       "        vertical-align: middle;\n",
       "    }\n",
       "\n",
       "    .dataframe tbody tr th {\n",
       "        vertical-align: top;\n",
       "    }\n",
       "\n",
       "    .dataframe thead th {\n",
       "        text-align: right;\n",
       "    }\n",
       "</style>\n",
       "<table border=\"1\" class=\"dataframe\">\n",
       "  <thead>\n",
       "    <tr style=\"text-align: right;\">\n",
       "      <th></th>\n",
       "      <th>Date</th>\n",
       "      <th>State</th>\n",
       "      <th>Input</th>\n",
       "      <th>Raw</th>\n",
       "      <th>Final</th>\n",
       "      <th>Filetype</th>\n",
       "      <th>myGovFlag</th>\n",
       "    </tr>\n",
       "  </thead>\n",
       "  <tbody>\n",
       "    <tr>\n",
       "      <th>9</th>\n",
       "      <td>2022-02-12</td>\n",
       "      <td>KL</td>\n",
       "      <td>No</td>\n",
       "      <td>No</td>\n",
       "      <td>Yes</td>\n",
       "      <td>html</td>\n",
       "      <td>Yes</td>\n",
       "    </tr>\n",
       "    <tr>\n",
       "      <th>15</th>\n",
       "      <td>2022-02-12</td>\n",
       "      <td>PB</td>\n",
       "      <td>No</td>\n",
       "      <td>No</td>\n",
       "      <td>Yes</td>\n",
       "      <td>pdf</td>\n",
       "      <td>Yes</td>\n",
       "    </tr>\n",
       "    <tr>\n",
       "      <th>19</th>\n",
       "      <td>2022-02-12</td>\n",
       "      <td>UT</td>\n",
       "      <td>No</td>\n",
       "      <td>No</td>\n",
       "      <td>Yes</td>\n",
       "      <td>pdf</td>\n",
       "      <td>Yes</td>\n",
       "    </tr>\n",
       "    <tr>\n",
       "      <th>21</th>\n",
       "      <td>2022-02-12</td>\n",
       "      <td>LA</td>\n",
       "      <td>No</td>\n",
       "      <td>No</td>\n",
       "      <td>Yes</td>\n",
       "      <td>pdf</td>\n",
       "      <td>Yes</td>\n",
       "    </tr>\n",
       "  </tbody>\n",
       "</table>\n",
       "</div>"
      ],
      "text/plain": [
       "          Date State Input Raw Final Filetype myGovFlag\n",
       "9   2022-02-12    KL    No  No   Yes     html       Yes\n",
       "15  2022-02-12    PB    No  No   Yes      pdf       Yes\n",
       "19  2022-02-12    UT    No  No   Yes      pdf       Yes\n",
       "21  2022-02-12    LA    No  No   Yes      pdf       Yes"
      ]
     },
     "execution_count": 5,
     "metadata": {},
     "output_type": "execute_result"
    }
   ],
   "source": [
    "df_fileStatus = GetFileStatus(dateList,False)[GetFileStatus(dateList,False)[\"Raw\"] == \"No\"]\n",
    "df_fileStatus"
   ]
  },
  {
   "cell_type": "markdown",
   "id": "8d5a239a-6467-442a-be3c-3a4706fb8fd1",
   "metadata": {},
   "source": [
    "## Extract Raw Files"
   ]
  },
  {
   "cell_type": "code",
   "execution_count": 6,
   "id": "3a1c0520-b942-4cb9-a691-51dcdd620fa1",
   "metadata": {},
   "outputs": [
    {
     "name": "stdout",
     "output_type": "stream",
     "text": [
      "KL\n",
      "2022-02-11\n",
      "KL 2022-02-12\n",
      "PB\n",
      "https://nhm.punjab.gov.in/advertisements/Media_Bulletin/Media%20Bulletin%20COVID-19%2012-02-2022.pdf\n",
      "Error\n",
      "UT\n",
      "https://health.uk.gov.in/files/2022.02.12_Health_Bulletin.pdf\n",
      "Error\n",
      "LA\n",
      "HTTPSConnectionPool(host='covid.ladakh.gov.in', port=443): Max retries exceeded with url: /Upload/getfileN/52b793b8-a675-4a96-b5b8-386130853923_Media%20Bulletin%2010.02.2022.pdf (Caused by SSLError(SSLError(1, '[SSL: CERTIFICATE_VERIFY_FAILED] certificate verify failed (_ssl.c:852)'),))\n"
     ]
    }
   ],
   "source": [
    "for idx in df_fileStatus.index:\n",
    "    if df_fileStatus[\"Input\"][idx] == \"No\":\n",
    "        DownloadData(df_fileStatus[\"State\"][idx],dateList)\n",
    "    if df_fileStatus[\"Raw\"][idx] == \"No\":\n",
    "        ExtractData(df_fileStatus[\"State\"][idx],dateList)"
   ]
  },
  {
   "cell_type": "markdown",
   "id": "980154c3-a936-42cf-b728-3703e7a5d2b3",
   "metadata": {},
   "source": [
    "## Get TT"
   ]
  },
  {
   "cell_type": "code",
   "execution_count": 7,
   "id": "c2caa702-7bdb-4aad-a3a0-a720d28f89f6",
   "metadata": {},
   "outputs": [],
   "source": [
    "today = (datetime.now() - timedelta(days=0)).date()\n",
    "if \"TT_final.csv\" not in os.listdir(\"../RAWCSV/\"+str(today)+\"/\"):\n",
    "    getTT()"
   ]
  },
  {
   "cell_type": "markdown",
   "id": "2e90c6b7-5786-4db2-b072-3312e9b258c9",
   "metadata": {},
   "source": [
    "## Update Derived Values"
   ]
  },
  {
   "cell_type": "code",
   "execution_count": 8,
   "id": "41e05a9d-e73a-455e-bd94-dbf39796c1bc",
   "metadata": {},
   "outputs": [
    {
     "name": "stderr",
     "output_type": "stream",
     "text": [
      "100%|██████████| 36/36 [01:14<00:00,  2.07s/it]\n"
     ]
    }
   ],
   "source": [
    "for date in dateList:\n",
    "    runDate = str(date.date())\n",
    "    removeLogging(runDate)\n",
    "    for key,val in tqdm(STATE_NAMES.items()):\n",
    "        updateDerivedValues(key,runDate)"
   ]
  },
  {
   "cell_type": "code",
   "execution_count": 9,
   "id": "3f1ea5a1-e0ef-4b5f-9406-a660eacd4984",
   "metadata": {},
   "outputs": [
    {
     "name": "stdout",
     "output_type": "stream",
     "text": [
      "Renaming....\n",
      "Renaming Complete!\n",
      "GJ\n",
      "State:1213854\n",
      "TT   :1214016\n",
      "TR\n",
      "State:100787\n",
      "TT   :100790\n"
     ]
    }
   ],
   "source": [
    "for date in dateList:\n",
    "    updateAll(date,log=True,OverWrite=False)"
   ]
  },
  {
   "cell_type": "code",
   "execution_count": 10,
   "id": "bc0b9fec-6759-4801-9fee-b5d186e279ad",
   "metadata": {},
   "outputs": [
    {
     "name": "stdout",
     "output_type": "stream",
     "text": [
      "2022-02-12\n",
      "2022-02-12\n",
      "1 Andhra Pradesh\n",
      "2 Arunachal Pradesh\n",
      "3 Assam\n",
      "4 Bihar\n",
      "5 Chhattisgarh\n",
      "6 Goa\n",
      "7 Gujarat\n",
      "8 Haryana\n",
      "9 Himachal Pradesh\n",
      "10 Jharkhand\n",
      "11 Karnataka\n",
      "12 Kerala\n",
      "13 Madhya Pradesh\n",
      "14 Maharashtra\n",
      "15 Manipur\n",
      "16 Meghalaya\n",
      "17 Mizoram\n",
      "18 Nagaland\n",
      "19 Odisha\n",
      "20 Punjab\n",
      "21 Rajasthan\n",
      "22 Sikkim\n",
      "23 Tamil Nadu\n",
      "24 Telangana\n",
      "25 Tripura\n",
      "26 Uttarakhand\n",
      "27 Uttar Pradesh\n",
      "28 West Bengal\n",
      "29 Andaman and Nicobar Islands\n",
      "30 Chandigarh\n",
      "31 Dadra and Nagar Haveli and Daman and Diu\n",
      "32 Delhi\n",
      "33 Jammu and Kashmir\n",
      "34 Ladakh\n",
      "35 Lakshadweep\n",
      "36 Puducherry\n",
      "37 India\n"
     ]
    }
   ],
   "source": [
    "!python ../CSV_APIs_Code/main_csv.py"
   ]
  },
  {
   "cell_type": "code",
   "execution_count": null,
   "id": "fb781a3c-a246-4715-b17f-2216301bacdc",
   "metadata": {},
   "outputs": [],
   "source": []
  }
 ],
 "metadata": {
  "kernelspec": {
   "display_name": "Python 3",
   "language": "python",
   "name": "python3"
  },
  "language_info": {
   "codemirror_mode": {
    "name": "ipython",
    "version": 3
   },
   "file_extension": ".py",
   "mimetype": "text/x-python",
   "name": "python",
   "nbconvert_exporter": "python",
   "pygments_lexer": "ipython3",
   "version": "3.6.9"
  }
 },
 "nbformat": 4,
 "nbformat_minor": 5
}
